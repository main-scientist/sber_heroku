{
 "cells": [
  {
   "cell_type": "code",
   "execution_count": 1,
   "metadata": {
    "ExecuteTime": {
     "end_time": "2023-12-04T06:09:19.427372Z",
     "start_time": "2023-12-04T06:09:19.404622Z"
    },
    "slideshow": {
     "slide_type": "slide"
    }
   },
   "outputs": [],
   "source": [
    "import numpy as np\n",
    "import pandas as pd\n",
    "from datetime import datetime\n",
    "import matplotlib.pyplot as plt\n",
    "import seaborn as sns\n",
    "import plotly.express as px\n",
    "import plotly.graph_objects as go\n",
    "from plotly.subplots import make_subplots\n",
    "from sklearn.model_selection import train_test_split\n",
    "from sklearn.metrics import mean_squared_error, r2_score, median_absolute_error, roc_curve, auc\n",
    "from sklearn.model_selection import train_test_split\n",
    "import catboost\n",
    "from bayes_opt import BayesianOptimization\n",
    "from sklearn.model_selection import cross_val_score\n",
    "sns.set(style=\"darkgrid\")\n",
    "pd.set_option('display.max_columns', None)\n",
    "pd.set_option('display.max_rows', None)\n",
    "import warnings\n",
    "warnings.filterwarnings(\"ignore\")"
   ]
  },
  {
   "cell_type": "markdown",
   "metadata": {},
   "source": [
    "### Download Data"
   ]
  },
  {
   "cell_type": "code",
   "execution_count": 2,
   "metadata": {},
   "outputs": [],
   "source": [
    "df_public = pd.read_csv(\"data/public_listings_case.csv\")\n",
    "df_privat = pd.read_csv(\"data/private_listings_case.csv\")\n",
    "df_usd_rub = pd.read_excel(\"data/USDRUB.xlsx\")\n",
    "df_eur_rub = pd.read_excel(\"data/EURRUB.xlsx\")\n",
    "df_eur_rub[\"data\"] = pd.to_datetime(df_eur_rub[\"data\"])\n",
    "df_usd_rub[\"data\"] = pd.to_datetime(df_usd_rub[\"data\"])\n",
    "df_geo_city = pd.DataFrame({\n",
    "    \"region\": [\"Bergamo\", \"Bologna\", \"Firenze\", \"Milano\", \"Napoli\", \"Puglia\", \"Roma\", \"Sicilia\", \"Trentino\", \"Venezia\"],\n",
    "    \"latitude_city\": [45.696, 44.4938, 43.7793, 45.4643, 40.8522, 41.1175800, 41.8919, 37.50788 , 46.0679, 45.4371],\n",
    "    \"longitude_city\": [9.66721, 11.3387, 11.2463, 9.18951, 14.2681, 16.4842100, 12.5113, 15.08303, 11.1211, 12.3327]\n",
    "})"
   ]
  },
  {
   "cell_type": "markdown",
   "metadata": {},
   "source": [
    "### Data Preparation"
   ]
  },
  {
   "cell_type": "code",
   "execution_count": 17,
   "metadata": {},
   "outputs": [
    {
     "name": "stdout",
     "output_type": "stream",
     "text": [
      "df_public start preparation - done\n",
      "df_privat start preparation - done\n",
      "df_train start preparation - done\n",
      "df_test start preparation - done\n",
      "X_public_prepared start encoding - done\n",
      "X_privat_prepared start encoding - done\n",
      "X_train_prepared start encoding - done\n",
      "X_test_prepared start encoding - done\n"
     ]
    }
   ],
   "source": [
    "from main import Airbnb\n",
    "airbnb = Airbnb(df_public, df_privat, df_usd_rub, df_eur_rub, df_geo_city)\n",
    "X_public_prepared, X_privat_prepared, X_train_prepared, X_test_prepared = airbnb.get_preparation_date()\n",
    "X_public_encoded, X_privat_encoded, X_train_encoded, X_test_encoded = airbnb.get_encoded_data()"
   ]
  },
  {
   "cell_type": "code",
   "execution_count": 25,
   "metadata": {},
   "outputs": [
    {
     "data": {
      "text/html": [
       "<div>\n",
       "<style scoped>\n",
       "    .dataframe tbody tr th:only-of-type {\n",
       "        vertical-align: middle;\n",
       "    }\n",
       "\n",
       "    .dataframe tbody tr th {\n",
       "        vertical-align: top;\n",
       "    }\n",
       "\n",
       "    .dataframe thead th {\n",
       "        text-align: right;\n",
       "    }\n",
       "</style>\n",
       "<table border=\"1\" class=\"dataframe\">\n",
       "  <thead>\n",
       "    <tr style=\"text-align: right;\">\n",
       "      <th></th>\n",
       "      <th>id</th>\n",
       "      <th>listing_url</th>\n",
       "      <th>source</th>\n",
       "      <th>name</th>\n",
       "      <th>description</th>\n",
       "      <th>neighborhood_overview</th>\n",
       "      <th>host_name</th>\n",
       "      <th>host_since</th>\n",
       "      <th>host_location</th>\n",
       "      <th>host_about</th>\n",
       "      <th>host_response_time</th>\n",
       "      <th>host_response_rate</th>\n",
       "      <th>host_acceptance_rate</th>\n",
       "      <th>host_is_superhost</th>\n",
       "      <th>host_neighbourhood</th>\n",
       "      <th>host_listings_count</th>\n",
       "      <th>host_total_listings_count</th>\n",
       "      <th>host_verifications</th>\n",
       "      <th>host_has_profile_pic</th>\n",
       "      <th>host_identity_verified</th>\n",
       "      <th>neighbourhood</th>\n",
       "      <th>city</th>\n",
       "      <th>neighbourhood_group_cleansed</th>\n",
       "      <th>latitude</th>\n",
       "      <th>longitude</th>\n",
       "      <th>property_type</th>\n",
       "      <th>room_type</th>\n",
       "      <th>accommodates</th>\n",
       "      <th>bathrooms</th>\n",
       "      <th>bathrooms_text</th>\n",
       "      <th>bedrooms</th>\n",
       "      <th>beds</th>\n",
       "      <th>amenities</th>\n",
       "      <th>price</th>\n",
       "      <th>minimum_nights</th>\n",
       "      <th>maximum_nights</th>\n",
       "      <th>minimum_minimum_nights</th>\n",
       "      <th>maximum_minimum_nights</th>\n",
       "      <th>minimum_maximum_nights</th>\n",
       "      <th>maximum_maximum_nights</th>\n",
       "      <th>minimum_nights_avg_ntm</th>\n",
       "      <th>maximum_nights_avg_ntm</th>\n",
       "      <th>calendar_updated</th>\n",
       "      <th>has_availability</th>\n",
       "      <th>availability_30</th>\n",
       "      <th>availability_60</th>\n",
       "      <th>availability_90</th>\n",
       "      <th>availability_365</th>\n",
       "      <th>calendar_last_scraped</th>\n",
       "      <th>number_of_reviews</th>\n",
       "      <th>number_of_reviews_ltm</th>\n",
       "      <th>number_of_reviews_l30d</th>\n",
       "      <th>first_review</th>\n",
       "      <th>last_review</th>\n",
       "      <th>review_scores_rating</th>\n",
       "      <th>review_scores_accuracy</th>\n",
       "      <th>review_scores_cleanliness</th>\n",
       "      <th>review_scores_checkin</th>\n",
       "      <th>review_scores_communication</th>\n",
       "      <th>review_scores_location</th>\n",
       "      <th>review_scores_value</th>\n",
       "      <th>license</th>\n",
       "      <th>instant_bookable</th>\n",
       "      <th>calculated_host_listings_count</th>\n",
       "      <th>calculated_host_listings_count_entire_homes</th>\n",
       "      <th>calculated_host_listings_count_private_rooms</th>\n",
       "      <th>calculated_host_listings_count_shared_rooms</th>\n",
       "      <th>reviews_per_month</th>\n",
       "      <th>region</th>\n",
       "      <th>type</th>\n",
       "      <th>price_usd</th>\n",
       "      <th>difference_review</th>\n",
       "      <th>distance_to_centre_city</th>\n",
       "      <th>cat_distance</th>\n",
       "      <th>len_description</th>\n",
       "      <th>bathrooms_num</th>\n",
       "      <th>bedrooms_num</th>\n",
       "      <th>beds_num</th>\n",
       "      <th>bathrooms_num2</th>\n",
       "      <th>bedrooms_num2</th>\n",
       "      <th>beds_num2</th>\n",
       "      <th>person_per_bathrooms</th>\n",
       "      <th>person_per_bedrooms</th>\n",
       "      <th>person_per_beds</th>\n",
       "      <th>person_per_bathrooms2</th>\n",
       "      <th>person_per_bedrooms2</th>\n",
       "      <th>person_per_beds2</th>\n",
       "    </tr>\n",
       "  </thead>\n",
       "  <tbody>\n",
       "    <tr>\n",
       "      <th>0</th>\n",
       "      <td>p</td>\n",
       "      <td>p</td>\n",
       "      <td>previous scrape</td>\n",
       "      <td>p</td>\n",
       "      <td>p</td>\n",
       "      <td>p</td>\n",
       "      <td>p</td>\n",
       "      <td>2009-12-07</td>\n",
       "      <td>Solto Collina, Italy</td>\n",
       "      <td>p</td>\n",
       "      <td>within an hour</td>\n",
       "      <td>100.0</td>\n",
       "      <td>100.0</td>\n",
       "      <td>f</td>\n",
       "      <td>NaN</td>\n",
       "      <td>5.0</td>\n",
       "      <td>5.0</td>\n",
       "      <td>['email', 'phone']</td>\n",
       "      <td>t</td>\n",
       "      <td>t</td>\n",
       "      <td>Solto Collina, Lombardy, Italy</td>\n",
       "      <td>Solto Collina</td>\n",
       "      <td>NaN</td>\n",
       "      <td>45.78354</td>\n",
       "      <td>10.02471</td>\n",
       "      <td>Entire villa</td>\n",
       "      <td>Entire home/apt</td>\n",
       "      <td>3</td>\n",
       "      <td>NaN</td>\n",
       "      <td>1 bath</td>\n",
       "      <td>1.0</td>\n",
       "      <td>2.0</td>\n",
       "      <td>p</td>\n",
       "      <td>$70.00</td>\n",
       "      <td>3</td>\n",
       "      <td>28</td>\n",
       "      <td>3.0</td>\n",
       "      <td>4.0</td>\n",
       "      <td>1125.0</td>\n",
       "      <td>1125.0</td>\n",
       "      <td>3.0</td>\n",
       "      <td>1125.0</td>\n",
       "      <td>NaN</td>\n",
       "      <td>t</td>\n",
       "      <td>2</td>\n",
       "      <td>2</td>\n",
       "      <td>2</td>\n",
       "      <td>2</td>\n",
       "      <td>2022-09-26</td>\n",
       "      <td>43</td>\n",
       "      <td>1</td>\n",
       "      <td>1</td>\n",
       "      <td>2012-05-23</td>\n",
       "      <td>2022-09-02</td>\n",
       "      <td>4.91</td>\n",
       "      <td>5.00</td>\n",
       "      <td>4.83</td>\n",
       "      <td>5.00</td>\n",
       "      <td>4.95</td>\n",
       "      <td>4.90</td>\n",
       "      <td>4.88</td>\n",
       "      <td>NaN</td>\n",
       "      <td>t</td>\n",
       "      <td>5</td>\n",
       "      <td>5</td>\n",
       "      <td>0</td>\n",
       "      <td>0</td>\n",
       "      <td>0.34</td>\n",
       "      <td>Bergamo</td>\n",
       "      <td>public</td>\n",
       "      <td>70.0</td>\n",
       "      <td>3754</td>\n",
       "      <td>29.401807</td>\n",
       "      <td>from 3 to 100</td>\n",
       "      <td>1000</td>\n",
       "      <td>1.0</td>\n",
       "      <td>1.0</td>\n",
       "      <td>2.0</td>\n",
       "      <td>1.0</td>\n",
       "      <td>1.0</td>\n",
       "      <td>4.0</td>\n",
       "      <td>0.333333</td>\n",
       "      <td>0.333333</td>\n",
       "      <td>0.666667</td>\n",
       "      <td>0.111111</td>\n",
       "      <td>0.111111</td>\n",
       "      <td>0.444444</td>\n",
       "    </tr>\n",
       "    <tr>\n",
       "      <th>1</th>\n",
       "      <td>p</td>\n",
       "      <td>p</td>\n",
       "      <td>city scrape</td>\n",
       "      <td>p</td>\n",
       "      <td>p</td>\n",
       "      <td>NaN</td>\n",
       "      <td>p</td>\n",
       "      <td>2010-05-30</td>\n",
       "      <td>Bergamo, Italy</td>\n",
       "      <td>p</td>\n",
       "      <td>within an hour</td>\n",
       "      <td>96.0</td>\n",
       "      <td>99.0</td>\n",
       "      <td>f</td>\n",
       "      <td>NaN</td>\n",
       "      <td>12.0</td>\n",
       "      <td>13.0</td>\n",
       "      <td>['email', 'phone']</td>\n",
       "      <td>t</td>\n",
       "      <td>t</td>\n",
       "      <td>NaN</td>\n",
       "      <td>Bergamo</td>\n",
       "      <td>NaN</td>\n",
       "      <td>45.69052</td>\n",
       "      <td>9.67099</td>\n",
       "      <td>Entire rental unit</td>\n",
       "      <td>Entire home/apt</td>\n",
       "      <td>4</td>\n",
       "      <td>NaN</td>\n",
       "      <td>NaN</td>\n",
       "      <td>1.0</td>\n",
       "      <td>2.0</td>\n",
       "      <td>p</td>\n",
       "      <td>$69.00</td>\n",
       "      <td>1</td>\n",
       "      <td>31</td>\n",
       "      <td>1.0</td>\n",
       "      <td>1.0</td>\n",
       "      <td>1125.0</td>\n",
       "      <td>1125.0</td>\n",
       "      <td>1.0</td>\n",
       "      <td>1125.0</td>\n",
       "      <td>NaN</td>\n",
       "      <td>t</td>\n",
       "      <td>0</td>\n",
       "      <td>0</td>\n",
       "      <td>0</td>\n",
       "      <td>148</td>\n",
       "      <td>2022-09-26</td>\n",
       "      <td>93</td>\n",
       "      <td>2</td>\n",
       "      <td>0</td>\n",
       "      <td>2012-03-05</td>\n",
       "      <td>2021-10-05</td>\n",
       "      <td>4.82</td>\n",
       "      <td>4.82</td>\n",
       "      <td>4.86</td>\n",
       "      <td>4.75</td>\n",
       "      <td>4.82</td>\n",
       "      <td>4.70</td>\n",
       "      <td>4.70</td>\n",
       "      <td>NaN</td>\n",
       "      <td>f</td>\n",
       "      <td>11</td>\n",
       "      <td>6</td>\n",
       "      <td>5</td>\n",
       "      <td>0</td>\n",
       "      <td>0.72</td>\n",
       "      <td>Bergamo</td>\n",
       "      <td>public</td>\n",
       "      <td>69.0</td>\n",
       "      <td>3501</td>\n",
       "      <td>0.676388</td>\n",
       "      <td>from 0 to 3</td>\n",
       "      <td>1000</td>\n",
       "      <td>1.0</td>\n",
       "      <td>1.0</td>\n",
       "      <td>2.0</td>\n",
       "      <td>1.0</td>\n",
       "      <td>1.0</td>\n",
       "      <td>4.0</td>\n",
       "      <td>0.250000</td>\n",
       "      <td>0.250000</td>\n",
       "      <td>0.500000</td>\n",
       "      <td>0.062500</td>\n",
       "      <td>0.062500</td>\n",
       "      <td>0.250000</td>\n",
       "    </tr>\n",
       "    <tr>\n",
       "      <th>2</th>\n",
       "      <td>p</td>\n",
       "      <td>p</td>\n",
       "      <td>city scrape</td>\n",
       "      <td>p</td>\n",
       "      <td>p</td>\n",
       "      <td>p</td>\n",
       "      <td>p</td>\n",
       "      <td>2011-05-14</td>\n",
       "      <td>Bossico, Italy</td>\n",
       "      <td>p</td>\n",
       "      <td>within an hour</td>\n",
       "      <td>100.0</td>\n",
       "      <td>100.0</td>\n",
       "      <td>t</td>\n",
       "      <td>NaN</td>\n",
       "      <td>3.0</td>\n",
       "      <td>3.0</td>\n",
       "      <td>['email', 'phone']</td>\n",
       "      <td>t</td>\n",
       "      <td>t</td>\n",
       "      <td>Bossico, Lombardy, Italy</td>\n",
       "      <td>Bossico</td>\n",
       "      <td>NaN</td>\n",
       "      <td>45.82723</td>\n",
       "      <td>10.04484</td>\n",
       "      <td>Entire rental unit</td>\n",
       "      <td>Entire home/apt</td>\n",
       "      <td>4</td>\n",
       "      <td>NaN</td>\n",
       "      <td>1 bath</td>\n",
       "      <td>1.0</td>\n",
       "      <td>4.0</td>\n",
       "      <td>p</td>\n",
       "      <td>$30.00</td>\n",
       "      <td>7</td>\n",
       "      <td>1125</td>\n",
       "      <td>7.0</td>\n",
       "      <td>7.0</td>\n",
       "      <td>1125.0</td>\n",
       "      <td>1125.0</td>\n",
       "      <td>7.0</td>\n",
       "      <td>1125.0</td>\n",
       "      <td>NaN</td>\n",
       "      <td>t</td>\n",
       "      <td>29</td>\n",
       "      <td>59</td>\n",
       "      <td>89</td>\n",
       "      <td>277</td>\n",
       "      <td>2022-09-26</td>\n",
       "      <td>14</td>\n",
       "      <td>4</td>\n",
       "      <td>0</td>\n",
       "      <td>2018-05-23</td>\n",
       "      <td>2022-06-26</td>\n",
       "      <td>4.71</td>\n",
       "      <td>4.79</td>\n",
       "      <td>4.93</td>\n",
       "      <td>4.71</td>\n",
       "      <td>4.50</td>\n",
       "      <td>4.71</td>\n",
       "      <td>4.86</td>\n",
       "      <td>p</td>\n",
       "      <td>t</td>\n",
       "      <td>3</td>\n",
       "      <td>3</td>\n",
       "      <td>0</td>\n",
       "      <td>0</td>\n",
       "      <td>0.26</td>\n",
       "      <td>Bergamo</td>\n",
       "      <td>public</td>\n",
       "      <td>30.0</td>\n",
       "      <td>1495</td>\n",
       "      <td>32.727577</td>\n",
       "      <td>from 3 to 100</td>\n",
       "      <td>951</td>\n",
       "      <td>1.0</td>\n",
       "      <td>1.0</td>\n",
       "      <td>4.0</td>\n",
       "      <td>1.0</td>\n",
       "      <td>1.0</td>\n",
       "      <td>16.0</td>\n",
       "      <td>0.250000</td>\n",
       "      <td>0.250000</td>\n",
       "      <td>1.000000</td>\n",
       "      <td>0.062500</td>\n",
       "      <td>0.062500</td>\n",
       "      <td>1.000000</td>\n",
       "    </tr>\n",
       "    <tr>\n",
       "      <th>3</th>\n",
       "      <td>p</td>\n",
       "      <td>p</td>\n",
       "      <td>city scrape</td>\n",
       "      <td>p</td>\n",
       "      <td>p</td>\n",
       "      <td>p</td>\n",
       "      <td>p</td>\n",
       "      <td>2011-07-13</td>\n",
       "      <td>Bergamo, Italy</td>\n",
       "      <td>NaN</td>\n",
       "      <td>within an hour</td>\n",
       "      <td>100.0</td>\n",
       "      <td>90.0</td>\n",
       "      <td>t</td>\n",
       "      <td>NaN</td>\n",
       "      <td>14.0</td>\n",
       "      <td>17.0</td>\n",
       "      <td>['email', 'phone']</td>\n",
       "      <td>t</td>\n",
       "      <td>t</td>\n",
       "      <td>Bergamo, Lombardy, Italy</td>\n",
       "      <td>Bergamo</td>\n",
       "      <td>NaN</td>\n",
       "      <td>45.69884</td>\n",
       "      <td>9.67598</td>\n",
       "      <td>Private room in loft</td>\n",
       "      <td>Private room</td>\n",
       "      <td>3</td>\n",
       "      <td>NaN</td>\n",
       "      <td>1 private bath</td>\n",
       "      <td>1.0</td>\n",
       "      <td>2.0</td>\n",
       "      <td>p</td>\n",
       "      <td>$109.00</td>\n",
       "      <td>1</td>\n",
       "      <td>365</td>\n",
       "      <td>1.0</td>\n",
       "      <td>3.0</td>\n",
       "      <td>365.0</td>\n",
       "      <td>365.0</td>\n",
       "      <td>3.0</td>\n",
       "      <td>365.0</td>\n",
       "      <td>NaN</td>\n",
       "      <td>t</td>\n",
       "      <td>14</td>\n",
       "      <td>44</td>\n",
       "      <td>74</td>\n",
       "      <td>347</td>\n",
       "      <td>2022-09-26</td>\n",
       "      <td>39</td>\n",
       "      <td>3</td>\n",
       "      <td>0</td>\n",
       "      <td>2013-04-07</td>\n",
       "      <td>2022-02-10</td>\n",
       "      <td>4.92</td>\n",
       "      <td>4.90</td>\n",
       "      <td>4.97</td>\n",
       "      <td>5.00</td>\n",
       "      <td>4.97</td>\n",
       "      <td>4.90</td>\n",
       "      <td>4.69</td>\n",
       "      <td>NaN</td>\n",
       "      <td>t</td>\n",
       "      <td>14</td>\n",
       "      <td>11</td>\n",
       "      <td>3</td>\n",
       "      <td>0</td>\n",
       "      <td>0.34</td>\n",
       "      <td>Bergamo</td>\n",
       "      <td>public</td>\n",
       "      <td>109.0</td>\n",
       "      <td>3231</td>\n",
       "      <td>0.750759</td>\n",
       "      <td>from 0 to 3</td>\n",
       "      <td>1000</td>\n",
       "      <td>1.0</td>\n",
       "      <td>1.0</td>\n",
       "      <td>2.0</td>\n",
       "      <td>1.0</td>\n",
       "      <td>1.0</td>\n",
       "      <td>4.0</td>\n",
       "      <td>0.333333</td>\n",
       "      <td>0.333333</td>\n",
       "      <td>0.666667</td>\n",
       "      <td>0.111111</td>\n",
       "      <td>0.111111</td>\n",
       "      <td>0.444444</td>\n",
       "    </tr>\n",
       "    <tr>\n",
       "      <th>4</th>\n",
       "      <td>p</td>\n",
       "      <td>p</td>\n",
       "      <td>city scrape</td>\n",
       "      <td>p</td>\n",
       "      <td>p</td>\n",
       "      <td>p</td>\n",
       "      <td>p</td>\n",
       "      <td>2011-07-13</td>\n",
       "      <td>Bergamo, Italy</td>\n",
       "      <td>NaN</td>\n",
       "      <td>within an hour</td>\n",
       "      <td>100.0</td>\n",
       "      <td>90.0</td>\n",
       "      <td>t</td>\n",
       "      <td>NaN</td>\n",
       "      <td>14.0</td>\n",
       "      <td>17.0</td>\n",
       "      <td>['email', 'phone']</td>\n",
       "      <td>t</td>\n",
       "      <td>t</td>\n",
       "      <td>Bergamo, Lombardy, Italy</td>\n",
       "      <td>Bergamo</td>\n",
       "      <td>NaN</td>\n",
       "      <td>45.69769</td>\n",
       "      <td>9.67485</td>\n",
       "      <td>Private room in rental unit</td>\n",
       "      <td>Private room</td>\n",
       "      <td>2</td>\n",
       "      <td>NaN</td>\n",
       "      <td>1 bath</td>\n",
       "      <td>1.0</td>\n",
       "      <td>1.0</td>\n",
       "      <td>p</td>\n",
       "      <td>$72.00</td>\n",
       "      <td>1</td>\n",
       "      <td>365</td>\n",
       "      <td>1.0</td>\n",
       "      <td>3.0</td>\n",
       "      <td>365.0</td>\n",
       "      <td>365.0</td>\n",
       "      <td>3.0</td>\n",
       "      <td>365.0</td>\n",
       "      <td>NaN</td>\n",
       "      <td>t</td>\n",
       "      <td>3</td>\n",
       "      <td>24</td>\n",
       "      <td>51</td>\n",
       "      <td>319</td>\n",
       "      <td>2022-09-26</td>\n",
       "      <td>160</td>\n",
       "      <td>20</td>\n",
       "      <td>1</td>\n",
       "      <td>2012-05-17</td>\n",
       "      <td>2022-09-21</td>\n",
       "      <td>4.80</td>\n",
       "      <td>4.84</td>\n",
       "      <td>4.89</td>\n",
       "      <td>4.86</td>\n",
       "      <td>4.89</td>\n",
       "      <td>4.83</td>\n",
       "      <td>4.75</td>\n",
       "      <td>NaN</td>\n",
       "      <td>t</td>\n",
       "      <td>14</td>\n",
       "      <td>11</td>\n",
       "      <td>3</td>\n",
       "      <td>0</td>\n",
       "      <td>1.27</td>\n",
       "      <td>Bergamo</td>\n",
       "      <td>public</td>\n",
       "      <td>72.0</td>\n",
       "      <td>3779</td>\n",
       "      <td>0.622404</td>\n",
       "      <td>from 0 to 3</td>\n",
       "      <td>1000</td>\n",
       "      <td>1.0</td>\n",
       "      <td>1.0</td>\n",
       "      <td>1.0</td>\n",
       "      <td>1.0</td>\n",
       "      <td>1.0</td>\n",
       "      <td>1.0</td>\n",
       "      <td>0.500000</td>\n",
       "      <td>0.500000</td>\n",
       "      <td>0.500000</td>\n",
       "      <td>0.250000</td>\n",
       "      <td>0.250000</td>\n",
       "      <td>0.250000</td>\n",
       "    </tr>\n",
       "  </tbody>\n",
       "</table>\n",
       "</div>"
      ],
      "text/plain": [
       "  id listing_url           source name description neighborhood_overview  \\\n",
       "0  p           p  previous scrape    p           p                     p   \n",
       "1  p           p      city scrape    p           p                   NaN   \n",
       "2  p           p      city scrape    p           p                     p   \n",
       "3  p           p      city scrape    p           p                     p   \n",
       "4  p           p      city scrape    p           p                     p   \n",
       "\n",
       "  host_name host_since         host_location host_about host_response_time  \\\n",
       "0         p 2009-12-07  Solto Collina, Italy          p     within an hour   \n",
       "1         p 2010-05-30        Bergamo, Italy          p     within an hour   \n",
       "2         p 2011-05-14        Bossico, Italy          p     within an hour   \n",
       "3         p 2011-07-13        Bergamo, Italy        NaN     within an hour   \n",
       "4         p 2011-07-13        Bergamo, Italy        NaN     within an hour   \n",
       "\n",
       "   host_response_rate  host_acceptance_rate host_is_superhost  \\\n",
       "0               100.0                 100.0                 f   \n",
       "1                96.0                  99.0                 f   \n",
       "2               100.0                 100.0                 t   \n",
       "3               100.0                  90.0                 t   \n",
       "4               100.0                  90.0                 t   \n",
       "\n",
       "  host_neighbourhood  host_listings_count  host_total_listings_count  \\\n",
       "0                NaN                  5.0                        5.0   \n",
       "1                NaN                 12.0                       13.0   \n",
       "2                NaN                  3.0                        3.0   \n",
       "3                NaN                 14.0                       17.0   \n",
       "4                NaN                 14.0                       17.0   \n",
       "\n",
       "   host_verifications host_has_profile_pic host_identity_verified  \\\n",
       "0  ['email', 'phone']                    t                      t   \n",
       "1  ['email', 'phone']                    t                      t   \n",
       "2  ['email', 'phone']                    t                      t   \n",
       "3  ['email', 'phone']                    t                      t   \n",
       "4  ['email', 'phone']                    t                      t   \n",
       "\n",
       "                    neighbourhood           city neighbourhood_group_cleansed  \\\n",
       "0  Solto Collina, Lombardy, Italy  Solto Collina                          NaN   \n",
       "1                             NaN        Bergamo                          NaN   \n",
       "2        Bossico, Lombardy, Italy        Bossico                          NaN   \n",
       "3        Bergamo, Lombardy, Italy        Bergamo                          NaN   \n",
       "4        Bergamo, Lombardy, Italy        Bergamo                          NaN   \n",
       "\n",
       "   latitude  longitude                property_type        room_type  \\\n",
       "0  45.78354   10.02471                 Entire villa  Entire home/apt   \n",
       "1  45.69052    9.67099           Entire rental unit  Entire home/apt   \n",
       "2  45.82723   10.04484           Entire rental unit  Entire home/apt   \n",
       "3  45.69884    9.67598         Private room in loft     Private room   \n",
       "4  45.69769    9.67485  Private room in rental unit     Private room   \n",
       "\n",
       "   accommodates  bathrooms  bathrooms_text bedrooms  beds amenities    price  \\\n",
       "0             3        NaN          1 bath      1.0   2.0         p   $70.00   \n",
       "1             4        NaN             NaN      1.0   2.0         p   $69.00   \n",
       "2             4        NaN          1 bath      1.0   4.0         p   $30.00   \n",
       "3             3        NaN  1 private bath      1.0   2.0         p  $109.00   \n",
       "4             2        NaN          1 bath      1.0   1.0         p   $72.00   \n",
       "\n",
       "   minimum_nights  maximum_nights  minimum_minimum_nights  \\\n",
       "0               3              28                     3.0   \n",
       "1               1              31                     1.0   \n",
       "2               7            1125                     7.0   \n",
       "3               1             365                     1.0   \n",
       "4               1             365                     1.0   \n",
       "\n",
       "   maximum_minimum_nights  minimum_maximum_nights  maximum_maximum_nights  \\\n",
       "0                     4.0                  1125.0                  1125.0   \n",
       "1                     1.0                  1125.0                  1125.0   \n",
       "2                     7.0                  1125.0                  1125.0   \n",
       "3                     3.0                   365.0                   365.0   \n",
       "4                     3.0                   365.0                   365.0   \n",
       "\n",
       "   minimum_nights_avg_ntm  maximum_nights_avg_ntm  calendar_updated  \\\n",
       "0                     3.0                  1125.0               NaN   \n",
       "1                     1.0                  1125.0               NaN   \n",
       "2                     7.0                  1125.0               NaN   \n",
       "3                     3.0                   365.0               NaN   \n",
       "4                     3.0                   365.0               NaN   \n",
       "\n",
       "  has_availability  availability_30  availability_60  availability_90  \\\n",
       "0                t                2                2                2   \n",
       "1                t                0                0                0   \n",
       "2                t               29               59               89   \n",
       "3                t               14               44               74   \n",
       "4                t                3               24               51   \n",
       "\n",
       "   availability_365 calendar_last_scraped  number_of_reviews  \\\n",
       "0                 2            2022-09-26                 43   \n",
       "1               148            2022-09-26                 93   \n",
       "2               277            2022-09-26                 14   \n",
       "3               347            2022-09-26                 39   \n",
       "4               319            2022-09-26                160   \n",
       "\n",
       "   number_of_reviews_ltm  number_of_reviews_l30d first_review last_review  \\\n",
       "0                      1                       1   2012-05-23  2022-09-02   \n",
       "1                      2                       0   2012-03-05  2021-10-05   \n",
       "2                      4                       0   2018-05-23  2022-06-26   \n",
       "3                      3                       0   2013-04-07  2022-02-10   \n",
       "4                     20                       1   2012-05-17  2022-09-21   \n",
       "\n",
       "   review_scores_rating  review_scores_accuracy  review_scores_cleanliness  \\\n",
       "0                  4.91                    5.00                       4.83   \n",
       "1                  4.82                    4.82                       4.86   \n",
       "2                  4.71                    4.79                       4.93   \n",
       "3                  4.92                    4.90                       4.97   \n",
       "4                  4.80                    4.84                       4.89   \n",
       "\n",
       "   review_scores_checkin  review_scores_communication  review_scores_location  \\\n",
       "0                   5.00                         4.95                    4.90   \n",
       "1                   4.75                         4.82                    4.70   \n",
       "2                   4.71                         4.50                    4.71   \n",
       "3                   5.00                         4.97                    4.90   \n",
       "4                   4.86                         4.89                    4.83   \n",
       "\n",
       "   review_scores_value license instant_bookable  \\\n",
       "0                 4.88     NaN                t   \n",
       "1                 4.70     NaN                f   \n",
       "2                 4.86       p                t   \n",
       "3                 4.69     NaN                t   \n",
       "4                 4.75     NaN                t   \n",
       "\n",
       "   calculated_host_listings_count  \\\n",
       "0                               5   \n",
       "1                              11   \n",
       "2                               3   \n",
       "3                              14   \n",
       "4                              14   \n",
       "\n",
       "   calculated_host_listings_count_entire_homes  \\\n",
       "0                                            5   \n",
       "1                                            6   \n",
       "2                                            3   \n",
       "3                                           11   \n",
       "4                                           11   \n",
       "\n",
       "   calculated_host_listings_count_private_rooms  \\\n",
       "0                                             0   \n",
       "1                                             5   \n",
       "2                                             0   \n",
       "3                                             3   \n",
       "4                                             3   \n",
       "\n",
       "   calculated_host_listings_count_shared_rooms  reviews_per_month   region  \\\n",
       "0                                            0               0.34  Bergamo   \n",
       "1                                            0               0.72  Bergamo   \n",
       "2                                            0               0.26  Bergamo   \n",
       "3                                            0               0.34  Bergamo   \n",
       "4                                            0               1.27  Bergamo   \n",
       "\n",
       "     type  price_usd  difference_review  distance_to_centre_city  \\\n",
       "0  public       70.0               3754                29.401807   \n",
       "1  public       69.0               3501                 0.676388   \n",
       "2  public       30.0               1495                32.727577   \n",
       "3  public      109.0               3231                 0.750759   \n",
       "4  public       72.0               3779                 0.622404   \n",
       "\n",
       "    cat_distance  len_description  bathrooms_num  bedrooms_num  beds_num  \\\n",
       "0  from 3 to 100             1000            1.0           1.0       2.0   \n",
       "1    from 0 to 3             1000            1.0           1.0       2.0   \n",
       "2  from 3 to 100              951            1.0           1.0       4.0   \n",
       "3    from 0 to 3             1000            1.0           1.0       2.0   \n",
       "4    from 0 to 3             1000            1.0           1.0       1.0   \n",
       "\n",
       "   bathrooms_num2  bedrooms_num2  beds_num2  person_per_bathrooms  \\\n",
       "0             1.0            1.0        4.0              0.333333   \n",
       "1             1.0            1.0        4.0              0.250000   \n",
       "2             1.0            1.0       16.0              0.250000   \n",
       "3             1.0            1.0        4.0              0.333333   \n",
       "4             1.0            1.0        1.0              0.500000   \n",
       "\n",
       "   person_per_bedrooms  person_per_beds  person_per_bathrooms2  \\\n",
       "0             0.333333         0.666667               0.111111   \n",
       "1             0.250000         0.500000               0.062500   \n",
       "2             0.250000         1.000000               0.062500   \n",
       "3             0.333333         0.666667               0.111111   \n",
       "4             0.500000         0.500000               0.250000   \n",
       "\n",
       "   person_per_bedrooms2  person_per_beds2  \n",
       "0              0.111111          0.444444  \n",
       "1              0.062500          0.250000  \n",
       "2              0.062500          1.000000  \n",
       "3              0.111111          0.444444  \n",
       "4              0.250000          0.250000  "
      ]
     },
     "execution_count": 25,
     "metadata": {},
     "output_type": "execute_result"
    }
   ],
   "source": [
    "X_public_prepared.loc[X_public_prepared[\"listing_url\"].notnull(), \"listing_url\"] = \"p\"\n",
    "X_public_prepared.loc[X_public_prepared[\"name\"].notnull(), \"name\"] = \"p\"\n",
    "X_public_prepared.loc[X_public_prepared[\"description\"].notnull(), \"description\"] = \"p\"\n",
    "X_public_prepared.loc[X_public_prepared[\"neighborhood_overview\"].notnull(), \"neighborhood_overview\"] = \"p\"\n",
    "X_public_prepared.loc[X_public_prepared[\"host_name\"].notnull(), \"host_name\"] = \"p\"\n",
    "X_public_prepared.loc[X_public_prepared[\"host_about\"].notnull(), \"host_about\"] = \"p\"\n",
    "X_public_prepared.loc[X_public_prepared[\"amenities\"].notnull(), \"amenities\"] = \"p\"\n",
    "X_public_prepared.loc[X_public_prepared[\"license\"].notnull(), \"license\"] = \"p\"\n",
    "X_public_prepared.loc[X_public_prepared[\"id\"].notnull(), \"id\"] = \"p\"\n",
    "X_public_prepared.head()"
   ]
  },
  {
   "cell_type": "code",
   "execution_count": 26,
   "metadata": {},
   "outputs": [
    {
     "data": {
      "text/plain": [
       "(90717, 87)"
      ]
     },
     "execution_count": 26,
     "metadata": {},
     "output_type": "execute_result"
    }
   ],
   "source": [
    "X_public_prepared.shape"
   ]
  },
  {
   "cell_type": "code",
   "execution_count": 27,
   "metadata": {},
   "outputs": [
    {
     "data": {
      "text/plain": [
       "92686.00206146036"
      ]
     },
     "execution_count": 27,
     "metadata": {},
     "output_type": "execute_result"
    }
   ],
   "source": [
    "X_public_prepared[\"price_usd\"].max()"
   ]
  },
  {
   "cell_type": "code",
   "execution_count": 28,
   "metadata": {},
   "outputs": [],
   "source": [
    "X_public_prepared.to_csv(\"x3.csv\", index=False)"
   ]
  },
  {
   "cell_type": "markdown",
   "metadata": {},
   "source": [
    "### EDA"
   ]
  },
  {
   "cell_type": "code",
   "execution_count": 54,
   "metadata": {},
   "outputs": [
    {
     "name": "stdout",
     "output_type": "stream",
     "text": [
      "70\n",
      "(90757, 70)\n"
     ]
    },
    {
     "data": {
      "text/html": [
       "<div>\n",
       "<style scoped>\n",
       "    .dataframe tbody tr th:only-of-type {\n",
       "        vertical-align: middle;\n",
       "    }\n",
       "\n",
       "    .dataframe tbody tr th {\n",
       "        vertical-align: top;\n",
       "    }\n",
       "\n",
       "    .dataframe thead th {\n",
       "        text-align: right;\n",
       "    }\n",
       "</style>\n",
       "<table border=\"1\" class=\"dataframe\">\n",
       "  <thead>\n",
       "    <tr style=\"text-align: right;\">\n",
       "      <th></th>\n",
       "      <th>id</th>\n",
       "      <th>listing_url</th>\n",
       "      <th>source</th>\n",
       "      <th>name</th>\n",
       "      <th>description</th>\n",
       "      <th>neighborhood_overview</th>\n",
       "      <th>host_name</th>\n",
       "      <th>host_since</th>\n",
       "      <th>host_location</th>\n",
       "      <th>host_about</th>\n",
       "      <th>host_response_time</th>\n",
       "      <th>host_response_rate</th>\n",
       "      <th>host_acceptance_rate</th>\n",
       "      <th>host_is_superhost</th>\n",
       "      <th>host_neighbourhood</th>\n",
       "      <th>host_listings_count</th>\n",
       "      <th>host_total_listings_count</th>\n",
       "      <th>host_verifications</th>\n",
       "      <th>host_has_profile_pic</th>\n",
       "      <th>host_identity_verified</th>\n",
       "      <th>neighbourhood</th>\n",
       "      <th>neighbourhood_cleansed</th>\n",
       "      <th>neighbourhood_group_cleansed</th>\n",
       "      <th>latitude</th>\n",
       "      <th>longitude</th>\n",
       "      <th>property_type</th>\n",
       "      <th>room_type</th>\n",
       "      <th>accommodates</th>\n",
       "      <th>bathrooms</th>\n",
       "      <th>bathrooms_text</th>\n",
       "      <th>bedrooms</th>\n",
       "      <th>beds</th>\n",
       "      <th>amenities</th>\n",
       "      <th>price</th>\n",
       "      <th>minimum_nights</th>\n",
       "      <th>maximum_nights</th>\n",
       "      <th>minimum_minimum_nights</th>\n",
       "      <th>maximum_minimum_nights</th>\n",
       "      <th>minimum_maximum_nights</th>\n",
       "      <th>maximum_maximum_nights</th>\n",
       "      <th>minimum_nights_avg_ntm</th>\n",
       "      <th>maximum_nights_avg_ntm</th>\n",
       "      <th>calendar_updated</th>\n",
       "      <th>has_availability</th>\n",
       "      <th>availability_30</th>\n",
       "      <th>availability_60</th>\n",
       "      <th>availability_90</th>\n",
       "      <th>availability_365</th>\n",
       "      <th>calendar_last_scraped</th>\n",
       "      <th>number_of_reviews</th>\n",
       "      <th>number_of_reviews_ltm</th>\n",
       "      <th>number_of_reviews_l30d</th>\n",
       "      <th>first_review</th>\n",
       "      <th>last_review</th>\n",
       "      <th>review_scores_rating</th>\n",
       "      <th>review_scores_accuracy</th>\n",
       "      <th>review_scores_cleanliness</th>\n",
       "      <th>review_scores_checkin</th>\n",
       "      <th>review_scores_communication</th>\n",
       "      <th>review_scores_location</th>\n",
       "      <th>review_scores_value</th>\n",
       "      <th>license</th>\n",
       "      <th>instant_bookable</th>\n",
       "      <th>calculated_host_listings_count</th>\n",
       "      <th>calculated_host_listings_count_entire_homes</th>\n",
       "      <th>calculated_host_listings_count_private_rooms</th>\n",
       "      <th>calculated_host_listings_count_shared_rooms</th>\n",
       "      <th>reviews_per_month</th>\n",
       "      <th>city</th>\n",
       "      <th>type</th>\n",
       "    </tr>\n",
       "  </thead>\n",
       "  <tbody>\n",
       "    <tr>\n",
       "      <th>0</th>\n",
       "      <td>958545013809</td>\n",
       "      <td>https://www.airbnb.com/rooms/15542</td>\n",
       "      <td>previous scrape</td>\n",
       "      <td>Suite PANORAMA facing the lake</td>\n",
       "      <td>Ideally located on the middle ridge of a panor...</td>\n",
       "      <td>One of the highlights of lake Iseo is Montisol...</td>\n",
       "      <td>Andrea, Maurizio, And Tina</td>\n",
       "      <td>2009-12-07</td>\n",
       "      <td>Solto Collina, Italy</td>\n",
       "      <td>Hi, I am Andrea and since 2016, I co-manage th...</td>\n",
       "      <td>within an hour</td>\n",
       "      <td>100%</td>\n",
       "      <td>100%</td>\n",
       "      <td>f</td>\n",
       "      <td>NaN</td>\n",
       "      <td>5.0</td>\n",
       "      <td>5.0</td>\n",
       "      <td>['email', 'phone']</td>\n",
       "      <td>t</td>\n",
       "      <td>t</td>\n",
       "      <td>Solto Collina, Lombardy, Italy</td>\n",
       "      <td>Solto Collina</td>\n",
       "      <td>NaN</td>\n",
       "      <td>45.78354</td>\n",
       "      <td>10.02471</td>\n",
       "      <td>Entire villa</td>\n",
       "      <td>Entire home/apt</td>\n",
       "      <td>3</td>\n",
       "      <td>NaN</td>\n",
       "      <td>1 bath</td>\n",
       "      <td>1.0</td>\n",
       "      <td>2.0</td>\n",
       "      <td>[\"Free parking on premises\", \"Children\\u2019s ...</td>\n",
       "      <td>$70.00</td>\n",
       "      <td>3</td>\n",
       "      <td>28</td>\n",
       "      <td>3.0</td>\n",
       "      <td>4.0</td>\n",
       "      <td>1125.0</td>\n",
       "      <td>1125.0</td>\n",
       "      <td>3.0</td>\n",
       "      <td>1125.0</td>\n",
       "      <td>NaN</td>\n",
       "      <td>t</td>\n",
       "      <td>2</td>\n",
       "      <td>2</td>\n",
       "      <td>2</td>\n",
       "      <td>2</td>\n",
       "      <td>2022-09-26</td>\n",
       "      <td>43</td>\n",
       "      <td>1</td>\n",
       "      <td>1</td>\n",
       "      <td>2012-05-23</td>\n",
       "      <td>2022-09-02</td>\n",
       "      <td>4.91</td>\n",
       "      <td>5.00</td>\n",
       "      <td>4.83</td>\n",
       "      <td>5.00</td>\n",
       "      <td>4.95</td>\n",
       "      <td>4.90</td>\n",
       "      <td>4.88</td>\n",
       "      <td>NaN</td>\n",
       "      <td>t</td>\n",
       "      <td>5</td>\n",
       "      <td>5</td>\n",
       "      <td>0</td>\n",
       "      <td>0</td>\n",
       "      <td>0.34</td>\n",
       "      <td>Bergamo</td>\n",
       "      <td>public</td>\n",
       "    </tr>\n",
       "    <tr>\n",
       "      <th>1</th>\n",
       "      <td>25957984113</td>\n",
       "      <td>https://www.airbnb.com/rooms/31412</td>\n",
       "      <td>city scrape</td>\n",
       "      <td>Cute and Cosy Terrace</td>\n",
       "      <td>Grazioso ed accogliente appartamento con terra...</td>\n",
       "      <td>NaN</td>\n",
       "      <td>Elena</td>\n",
       "      <td>2010-05-30</td>\n",
       "      <td>Bergamo, Italy</td>\n",
       "      <td>Ciao I am Elena. \\r\\nAfter my kids moved out I...</td>\n",
       "      <td>within an hour</td>\n",
       "      <td>96%</td>\n",
       "      <td>99%</td>\n",
       "      <td>f</td>\n",
       "      <td>NaN</td>\n",
       "      <td>12.0</td>\n",
       "      <td>13.0</td>\n",
       "      <td>['email', 'phone']</td>\n",
       "      <td>t</td>\n",
       "      <td>t</td>\n",
       "      <td>NaN</td>\n",
       "      <td>Bergamo</td>\n",
       "      <td>NaN</td>\n",
       "      <td>45.69052</td>\n",
       "      <td>9.67099</td>\n",
       "      <td>Entire rental unit</td>\n",
       "      <td>Entire home/apt</td>\n",
       "      <td>4</td>\n",
       "      <td>NaN</td>\n",
       "      <td>NaN</td>\n",
       "      <td>1.0</td>\n",
       "      <td>2.0</td>\n",
       "      <td>[\"TV\", \"Heating\", \"Dishes and silverware\", \"Ki...</td>\n",
       "      <td>$69.00</td>\n",
       "      <td>1</td>\n",
       "      <td>31</td>\n",
       "      <td>1.0</td>\n",
       "      <td>1.0</td>\n",
       "      <td>1125.0</td>\n",
       "      <td>1125.0</td>\n",
       "      <td>1.0</td>\n",
       "      <td>1125.0</td>\n",
       "      <td>NaN</td>\n",
       "      <td>t</td>\n",
       "      <td>0</td>\n",
       "      <td>0</td>\n",
       "      <td>0</td>\n",
       "      <td>148</td>\n",
       "      <td>2022-09-26</td>\n",
       "      <td>93</td>\n",
       "      <td>2</td>\n",
       "      <td>0</td>\n",
       "      <td>2012-03-05</td>\n",
       "      <td>2021-10-05</td>\n",
       "      <td>4.82</td>\n",
       "      <td>4.82</td>\n",
       "      <td>4.86</td>\n",
       "      <td>4.75</td>\n",
       "      <td>4.82</td>\n",
       "      <td>4.70</td>\n",
       "      <td>4.70</td>\n",
       "      <td>NaN</td>\n",
       "      <td>f</td>\n",
       "      <td>11</td>\n",
       "      <td>6</td>\n",
       "      <td>5</td>\n",
       "      <td>0</td>\n",
       "      <td>0.72</td>\n",
       "      <td>Bergamo</td>\n",
       "      <td>public</td>\n",
       "    </tr>\n",
       "    <tr>\n",
       "      <th>2</th>\n",
       "      <td>406575409089</td>\n",
       "      <td>https://www.airbnb.com/rooms/179345</td>\n",
       "      <td>city scrape</td>\n",
       "      <td>Bossico Vicino a Montisola  e lago D'iseo</td>\n",
       "      <td>CIR 016033-CNI-00002T00146&lt;br /&gt;Bossico vicino...</td>\n",
       "      <td>Il mio paese (Bossico (BG) è unico perchè è un...</td>\n",
       "      <td>Angela</td>\n",
       "      <td>2011-05-14</td>\n",
       "      <td>Bossico, Italy</td>\n",
       "      <td>Ciao sono Angela,\\nfaccio  il parrucchiere uom...</td>\n",
       "      <td>within an hour</td>\n",
       "      <td>100%</td>\n",
       "      <td>100%</td>\n",
       "      <td>t</td>\n",
       "      <td>NaN</td>\n",
       "      <td>3.0</td>\n",
       "      <td>3.0</td>\n",
       "      <td>['email', 'phone']</td>\n",
       "      <td>t</td>\n",
       "      <td>t</td>\n",
       "      <td>Bossico, Lombardy, Italy</td>\n",
       "      <td>Bossico</td>\n",
       "      <td>NaN</td>\n",
       "      <td>45.82723</td>\n",
       "      <td>10.04484</td>\n",
       "      <td>Entire rental unit</td>\n",
       "      <td>Entire home/apt</td>\n",
       "      <td>4</td>\n",
       "      <td>NaN</td>\n",
       "      <td>1 bath</td>\n",
       "      <td>1.0</td>\n",
       "      <td>4.0</td>\n",
       "      <td>[\"Free parking on premises\", \"Children\\u2019s ...</td>\n",
       "      <td>$30.00</td>\n",
       "      <td>7</td>\n",
       "      <td>1125</td>\n",
       "      <td>7.0</td>\n",
       "      <td>7.0</td>\n",
       "      <td>1125.0</td>\n",
       "      <td>1125.0</td>\n",
       "      <td>7.0</td>\n",
       "      <td>1125.0</td>\n",
       "      <td>NaN</td>\n",
       "      <td>t</td>\n",
       "      <td>29</td>\n",
       "      <td>59</td>\n",
       "      <td>89</td>\n",
       "      <td>277</td>\n",
       "      <td>2022-09-26</td>\n",
       "      <td>14</td>\n",
       "      <td>4</td>\n",
       "      <td>0</td>\n",
       "      <td>2018-05-23</td>\n",
       "      <td>2022-06-26</td>\n",
       "      <td>4.71</td>\n",
       "      <td>4.79</td>\n",
       "      <td>4.93</td>\n",
       "      <td>4.71</td>\n",
       "      <td>4.50</td>\n",
       "      <td>4.71</td>\n",
       "      <td>4.86</td>\n",
       "      <td>CIR 016033-CNI-00002T00146</td>\n",
       "      <td>t</td>\n",
       "      <td>3</td>\n",
       "      <td>3</td>\n",
       "      <td>0</td>\n",
       "      <td>0</td>\n",
       "      <td>0.26</td>\n",
       "      <td>Bergamo</td>\n",
       "      <td>public</td>\n",
       "    </tr>\n",
       "    <tr>\n",
       "      <th>3</th>\n",
       "      <td>185070664003</td>\n",
       "      <td>https://www.airbnb.com/rooms/215933</td>\n",
       "      <td>city scrape</td>\n",
       "      <td>Donizetti Royal suite private toilet</td>\n",
       "      <td>our elegant apartment is in the Lower city cen...</td>\n",
       "      <td>many restaurants nearby, 50 metres from superm...</td>\n",
       "      <td>Marcella</td>\n",
       "      <td>2011-07-13</td>\n",
       "      <td>Bergamo, Italy</td>\n",
       "      <td>NaN</td>\n",
       "      <td>within an hour</td>\n",
       "      <td>100%</td>\n",
       "      <td>90%</td>\n",
       "      <td>t</td>\n",
       "      <td>NaN</td>\n",
       "      <td>14.0</td>\n",
       "      <td>17.0</td>\n",
       "      <td>['email', 'phone']</td>\n",
       "      <td>t</td>\n",
       "      <td>t</td>\n",
       "      <td>Bergamo, Lombardy, Italy</td>\n",
       "      <td>Bergamo</td>\n",
       "      <td>NaN</td>\n",
       "      <td>45.69884</td>\n",
       "      <td>9.67598</td>\n",
       "      <td>Private room in loft</td>\n",
       "      <td>Private room</td>\n",
       "      <td>3</td>\n",
       "      <td>NaN</td>\n",
       "      <td>1 private bath</td>\n",
       "      <td>1.0</td>\n",
       "      <td>2.0</td>\n",
       "      <td>[\"Heating\", \"Cooking basics\", \"Kitchen\", \"Paid...</td>\n",
       "      <td>$109.00</td>\n",
       "      <td>1</td>\n",
       "      <td>365</td>\n",
       "      <td>1.0</td>\n",
       "      <td>3.0</td>\n",
       "      <td>365.0</td>\n",
       "      <td>365.0</td>\n",
       "      <td>3.0</td>\n",
       "      <td>365.0</td>\n",
       "      <td>NaN</td>\n",
       "      <td>t</td>\n",
       "      <td>14</td>\n",
       "      <td>44</td>\n",
       "      <td>74</td>\n",
       "      <td>347</td>\n",
       "      <td>2022-09-26</td>\n",
       "      <td>39</td>\n",
       "      <td>3</td>\n",
       "      <td>0</td>\n",
       "      <td>2013-04-07</td>\n",
       "      <td>2022-02-10</td>\n",
       "      <td>4.92</td>\n",
       "      <td>4.90</td>\n",
       "      <td>4.97</td>\n",
       "      <td>5.00</td>\n",
       "      <td>4.97</td>\n",
       "      <td>4.90</td>\n",
       "      <td>4.69</td>\n",
       "      <td>NaN</td>\n",
       "      <td>t</td>\n",
       "      <td>14</td>\n",
       "      <td>11</td>\n",
       "      <td>3</td>\n",
       "      <td>0</td>\n",
       "      <td>0.34</td>\n",
       "      <td>Bergamo</td>\n",
       "      <td>public</td>\n",
       "    </tr>\n",
       "  </tbody>\n",
       "</table>\n",
       "</div>"
      ],
      "text/plain": [
       "             id                          listing_url           source  \\\n",
       "0  958545013809   https://www.airbnb.com/rooms/15542  previous scrape   \n",
       "1   25957984113   https://www.airbnb.com/rooms/31412      city scrape   \n",
       "2  406575409089  https://www.airbnb.com/rooms/179345      city scrape   \n",
       "3  185070664003  https://www.airbnb.com/rooms/215933      city scrape   \n",
       "\n",
       "                                        name  \\\n",
       "0             Suite PANORAMA facing the lake   \n",
       "1                      Cute and Cosy Terrace   \n",
       "2  Bossico Vicino a Montisola  e lago D'iseo   \n",
       "3       Donizetti Royal suite private toilet   \n",
       "\n",
       "                                         description  \\\n",
       "0  Ideally located on the middle ridge of a panor...   \n",
       "1  Grazioso ed accogliente appartamento con terra...   \n",
       "2  CIR 016033-CNI-00002T00146<br />Bossico vicino...   \n",
       "3  our elegant apartment is in the Lower city cen...   \n",
       "\n",
       "                               neighborhood_overview  \\\n",
       "0  One of the highlights of lake Iseo is Montisol...   \n",
       "1                                                NaN   \n",
       "2  Il mio paese (Bossico (BG) è unico perchè è un...   \n",
       "3  many restaurants nearby, 50 metres from superm...   \n",
       "\n",
       "                    host_name  host_since         host_location  \\\n",
       "0  Andrea, Maurizio, And Tina  2009-12-07  Solto Collina, Italy   \n",
       "1                       Elena  2010-05-30        Bergamo, Italy   \n",
       "2                      Angela  2011-05-14        Bossico, Italy   \n",
       "3                    Marcella  2011-07-13        Bergamo, Italy   \n",
       "\n",
       "                                          host_about host_response_time  \\\n",
       "0  Hi, I am Andrea and since 2016, I co-manage th...     within an hour   \n",
       "1  Ciao I am Elena. \\r\\nAfter my kids moved out I...     within an hour   \n",
       "2  Ciao sono Angela,\\nfaccio  il parrucchiere uom...     within an hour   \n",
       "3                                                NaN     within an hour   \n",
       "\n",
       "  host_response_rate host_acceptance_rate host_is_superhost  \\\n",
       "0               100%                 100%                 f   \n",
       "1                96%                  99%                 f   \n",
       "2               100%                 100%                 t   \n",
       "3               100%                  90%                 t   \n",
       "\n",
       "  host_neighbourhood  host_listings_count  host_total_listings_count  \\\n",
       "0                NaN                  5.0                        5.0   \n",
       "1                NaN                 12.0                       13.0   \n",
       "2                NaN                  3.0                        3.0   \n",
       "3                NaN                 14.0                       17.0   \n",
       "\n",
       "   host_verifications host_has_profile_pic host_identity_verified  \\\n",
       "0  ['email', 'phone']                    t                      t   \n",
       "1  ['email', 'phone']                    t                      t   \n",
       "2  ['email', 'phone']                    t                      t   \n",
       "3  ['email', 'phone']                    t                      t   \n",
       "\n",
       "                    neighbourhood neighbourhood_cleansed  \\\n",
       "0  Solto Collina, Lombardy, Italy          Solto Collina   \n",
       "1                             NaN                Bergamo   \n",
       "2        Bossico, Lombardy, Italy                Bossico   \n",
       "3        Bergamo, Lombardy, Italy                Bergamo   \n",
       "\n",
       "  neighbourhood_group_cleansed  latitude  longitude         property_type  \\\n",
       "0                          NaN  45.78354   10.02471          Entire villa   \n",
       "1                          NaN  45.69052    9.67099    Entire rental unit   \n",
       "2                          NaN  45.82723   10.04484    Entire rental unit   \n",
       "3                          NaN  45.69884    9.67598  Private room in loft   \n",
       "\n",
       "         room_type  accommodates  bathrooms  bathrooms_text bedrooms  beds  \\\n",
       "0  Entire home/apt             3        NaN          1 bath      1.0   2.0   \n",
       "1  Entire home/apt             4        NaN             NaN      1.0   2.0   \n",
       "2  Entire home/apt             4        NaN          1 bath      1.0   4.0   \n",
       "3     Private room             3        NaN  1 private bath      1.0   2.0   \n",
       "\n",
       "                                           amenities    price  minimum_nights  \\\n",
       "0  [\"Free parking on premises\", \"Children\\u2019s ...   $70.00               3   \n",
       "1  [\"TV\", \"Heating\", \"Dishes and silverware\", \"Ki...   $69.00               1   \n",
       "2  [\"Free parking on premises\", \"Children\\u2019s ...   $30.00               7   \n",
       "3  [\"Heating\", \"Cooking basics\", \"Kitchen\", \"Paid...  $109.00               1   \n",
       "\n",
       "   maximum_nights  minimum_minimum_nights  maximum_minimum_nights  \\\n",
       "0              28                     3.0                     4.0   \n",
       "1              31                     1.0                     1.0   \n",
       "2            1125                     7.0                     7.0   \n",
       "3             365                     1.0                     3.0   \n",
       "\n",
       "   minimum_maximum_nights  maximum_maximum_nights  minimum_nights_avg_ntm  \\\n",
       "0                  1125.0                  1125.0                     3.0   \n",
       "1                  1125.0                  1125.0                     1.0   \n",
       "2                  1125.0                  1125.0                     7.0   \n",
       "3                   365.0                   365.0                     3.0   \n",
       "\n",
       "   maximum_nights_avg_ntm  calendar_updated has_availability  availability_30  \\\n",
       "0                  1125.0               NaN                t                2   \n",
       "1                  1125.0               NaN                t                0   \n",
       "2                  1125.0               NaN                t               29   \n",
       "3                   365.0               NaN                t               14   \n",
       "\n",
       "   availability_60  availability_90  availability_365 calendar_last_scraped  \\\n",
       "0                2                2                 2            2022-09-26   \n",
       "1                0                0               148            2022-09-26   \n",
       "2               59               89               277            2022-09-26   \n",
       "3               44               74               347            2022-09-26   \n",
       "\n",
       "   number_of_reviews  number_of_reviews_ltm  number_of_reviews_l30d  \\\n",
       "0                 43                      1                       1   \n",
       "1                 93                      2                       0   \n",
       "2                 14                      4                       0   \n",
       "3                 39                      3                       0   \n",
       "\n",
       "  first_review last_review  review_scores_rating  review_scores_accuracy  \\\n",
       "0   2012-05-23  2022-09-02                  4.91                    5.00   \n",
       "1   2012-03-05  2021-10-05                  4.82                    4.82   \n",
       "2   2018-05-23  2022-06-26                  4.71                    4.79   \n",
       "3   2013-04-07  2022-02-10                  4.92                    4.90   \n",
       "\n",
       "   review_scores_cleanliness  review_scores_checkin  \\\n",
       "0                       4.83                   5.00   \n",
       "1                       4.86                   4.75   \n",
       "2                       4.93                   4.71   \n",
       "3                       4.97                   5.00   \n",
       "\n",
       "   review_scores_communication  review_scores_location  review_scores_value  \\\n",
       "0                         4.95                    4.90                 4.88   \n",
       "1                         4.82                    4.70                 4.70   \n",
       "2                         4.50                    4.71                 4.86   \n",
       "3                         4.97                    4.90                 4.69   \n",
       "\n",
       "                      license instant_bookable  \\\n",
       "0                         NaN                t   \n",
       "1                         NaN                f   \n",
       "2  CIR 016033-CNI-00002T00146                t   \n",
       "3                         NaN                t   \n",
       "\n",
       "   calculated_host_listings_count  \\\n",
       "0                               5   \n",
       "1                              11   \n",
       "2                               3   \n",
       "3                              14   \n",
       "\n",
       "   calculated_host_listings_count_entire_homes  \\\n",
       "0                                            5   \n",
       "1                                            6   \n",
       "2                                            3   \n",
       "3                                           11   \n",
       "\n",
       "   calculated_host_listings_count_private_rooms  \\\n",
       "0                                             0   \n",
       "1                                             5   \n",
       "2                                             0   \n",
       "3                                             3   \n",
       "\n",
       "   calculated_host_listings_count_shared_rooms  reviews_per_month     city  \\\n",
       "0                                            0               0.34  Bergamo   \n",
       "1                                            0               0.72  Bergamo   \n",
       "2                                            0               0.26  Bergamo   \n",
       "3                                            0               0.34  Bergamo   \n",
       "\n",
       "     type  \n",
       "0  public  \n",
       "1  public  \n",
       "2  public  \n",
       "3  public  "
      ]
     },
     "execution_count": 54,
     "metadata": {},
     "output_type": "execute_result"
    }
   ],
   "source": [
    "print(len(df_public.columns))\n",
    "print(df_public.shape)\n",
    "df_public.head(4)"
   ]
  },
  {
   "cell_type": "code",
   "execution_count": 2,
   "metadata": {},
   "outputs": [
    {
     "name": "stdout",
     "output_type": "stream",
     "text": [
      "Number of duplicate rows: 0\n"
     ]
    }
   ],
   "source": [
    "duplicate_count = df_public.duplicated().sum()\n",
    "print(\"Number of duplicate rows:\", duplicate_count)"
   ]
  },
  {
   "cell_type": "code",
   "execution_count": null,
   "metadata": {},
   "outputs": [],
   "source": [
    "a = df_public.isna().sum()\n",
    "a"
   ]
  },
  {
   "cell_type": "markdown",
   "metadata": {},
   "source": [
    "#### Exploring price"
   ]
  },
  {
   "cell_type": "code",
   "execution_count": 3,
   "metadata": {},
   "outputs": [
    {
     "name": "stdout",
     "output_type": "stream",
     "text": [
      "['$' '€' '₽']\n",
      "Amount of null value: 0\n",
      "Standard deviation (σ): 615.8920476470549\n"
     ]
    }
   ],
   "source": [
    "def extract_first_character(text):\n",
    "    return text[0]\n",
    "\n",
    "print(df_public[\"price\"].apply(extract_first_character).unique())\n",
    "print(f\"Amount of null value: {df_public['price'].isna().sum()}\")\n",
    "sigma = np.std(X_public_prepared[\"price_usd\"])\n",
    "print(f\"Standard deviation (σ): {sigma}\")"
   ]
  },
  {
   "cell_type": "markdown",
   "metadata": {},
   "source": [
    "Заметим, что денежные значения у целового признака представлены в разных ['$' '€' '₽'] валютах.\n",
    "В наборе данных присутсвует столбец \"calendar_last_scraped\" - \"последние обновление данных\". Эти даты я собираюсь использовать для конвертации валют по корректному курсу. "
   ]
  },
  {
   "cell_type": "code",
   "execution_count": 237,
   "metadata": {},
   "outputs": [
    {
     "name": "stdout",
     "output_type": "stream",
     "text": [
      "count                            72605\n",
      "mean     2022-09-20 16:52:42.625163520\n",
      "min                2022-09-07 00:00:00\n",
      "25%                2022-09-15 00:00:00\n",
      "50%                2022-09-25 00:00:00\n",
      "75%                2022-09-27 00:00:00\n",
      "max                2022-09-29 00:00:00\n",
      "Name: calendar_last_scraped, dtype: object\n",
      "Amount of null value: 0\n"
     ]
    }
   ],
   "source": [
    "print(pd.to_datetime(X_public_prepared[\"calendar_last_scraped\"]).describe())\n",
    "print(f\"Amount of null value: {X_public_prepared['calendar_last_scraped'].isna().sum()}\")"
   ]
  },
  {
   "cell_type": "code",
   "execution_count": null,
   "metadata": {},
   "outputs": [],
   "source": [
    "median_price = X_public_prepared[\"price_usd\"].median()\n",
    "fig = px.histogram(X_public_prepared, x=\"price_usd\", marginal=\"box\", title=\"Price (USD) with Median\")\n",
    "fig.update_layout(bargap=0.1)\n",
    "\n",
    "\n",
    "fig.add_shape(\n",
    "    go.layout.Shape(\n",
    "        type='line',\n",
    "        x0=median_price,\n",
    "        x1=median_price,\n",
    "        y0=0,\n",
    "        y1=1,\n",
    "        xref='x',\n",
    "        yref='paper',\n",
    "        line=dict(color='red', width=2)\n",
    "    )\n",
    ")\n",
    "\n",
    "fig.update_layout(xaxis_title_text='Price (USD)')\n",
    "fig.show()"
   ]
  },
  {
   "cell_type": "code",
   "execution_count": 30,
   "metadata": {},
   "outputs": [
    {
     "data": {
      "text/plain": [
       "price_cat\n",
       "0    127\n",
       "Name: count, dtype: int64"
      ]
     },
     "execution_count": 30,
     "metadata": {},
     "output_type": "execute_result"
    }
   ],
   "source": [
    "df_tmp[\"price_cat\"].value_counts()"
   ]
  },
  {
   "cell_type": "code",
   "execution_count": 28,
   "metadata": {},
   "outputs": [],
   "source": [
    "def cat_price(row):\n",
    "    if row['price_usd'] >= 5_000:\n",
    "        return 0\n",
    "    else:\n",
    "        return 1\n",
    "X_public_prepared[\"price_cat\"] = X_public_prepared.apply(lambda row: cat_price(row), axis=1)"
   ]
  },
  {
   "cell_type": "markdown",
   "metadata": {},
   "source": [
    "#### Exploring source"
   ]
  },
  {
   "cell_type": "code",
   "execution_count": null,
   "metadata": {},
   "outputs": [],
   "source": [
    "# fig = px.histogram(df_train, x=\"source\")\n",
    "\n",
    "\n",
    "fig = make_subplots(rows=2, cols=1, subplot_titles=[\"Histogram\", \"Scatter Plot\"])\n",
    "\n",
    "fig.add_trace(px.histogram(df_train, x=\"source\").data[0], row=1, col=1)\n",
    "\n",
    "fig.add_trace(px.scatter(df_train, x=\"source\", y=\"price_usd\").data[0], row=2, col=1)\n",
    "fig.update_yaxes(title_text=\"Price USD\", row=2, col=1)\n",
    "\n",
    "fig.show()"
   ]
  },
  {
   "cell_type": "markdown",
   "metadata": {},
   "source": [
    "Закодируем признак `Source` при помощи One-Hot encoding"
   ]
  },
  {
   "cell_type": "markdown",
   "metadata": {},
   "source": [
    "#### Exploring description"
   ]
  },
  {
   "cell_type": "code",
   "execution_count": 6,
   "metadata": {},
   "outputs": [],
   "source": [
    "X_train_prepared_t = X_train_prepared[\"description\"].fillna(\"null\")"
   ]
  },
  {
   "cell_type": "code",
   "execution_count": 9,
   "metadata": {},
   "outputs": [
    {
     "name": "stdout",
     "output_type": "stream",
     "text": [
      "Amount of null value: 1316\n"
     ]
    },
    {
     "data": {
      "text/plain": [
       "count                                                 70598\n",
       "unique                                                68274\n",
       "top       Rilassati in questo spazio tranquillo in posiz...\n",
       "freq                                                    142\n",
       "Name: description, dtype: object"
      ]
     },
     "execution_count": 9,
     "metadata": {},
     "output_type": "execute_result"
    }
   ],
   "source": [
    "print(f\"Amount of null value: {X_train_prepared_t['description'].isna().sum()}\")\n",
    "X_train_prepared_t[\"description\"].describe()"
   ]
  },
  {
   "cell_type": "code",
   "execution_count": 12,
   "metadata": {},
   "outputs": [
    {
     "name": "stdout",
     "output_type": "stream",
     "text": [
      "Amount of null value: 0\n"
     ]
    },
    {
     "data": {
      "text/plain": [
       "count                           71914\n",
       "unique                          68432\n",
       "top       [\"Long term stays allowed\"]\n",
       "freq                              177\n",
       "Name: amenities, dtype: object"
      ]
     },
     "execution_count": 12,
     "metadata": {},
     "output_type": "execute_result"
    }
   ],
   "source": [
    "print(f\"Amount of null value: {X_train_prepared['amenities'].isna().sum()}\")\n",
    "X_train_prepared[\"amenities\"].describe()"
   ]
  },
  {
   "cell_type": "markdown",
   "metadata": {},
   "source": [
    "#### Exploring host_since"
   ]
  },
  {
   "cell_type": "code",
   "execution_count": 404,
   "metadata": {},
   "outputs": [
    {
     "name": "stdout",
     "output_type": "stream",
     "text": [
      "Amount of null value: 0\n"
     ]
    },
    {
     "data": {
      "text/plain": [
       "count                            72441\n",
       "mean     2017-01-01 08:55:41.930674688\n",
       "min                2008-08-12 00:00:00\n",
       "25%                2014-11-02 00:00:00\n",
       "50%                2016-09-02 00:00:00\n",
       "75%                2019-02-16 00:00:00\n",
       "max                2022-09-25 00:00:00\n",
       "Name: host_since, dtype: object"
      ]
     },
     "execution_count": 404,
     "metadata": {},
     "output_type": "execute_result"
    }
   ],
   "source": [
    "print(f\"Amount of null value: {df_train['host_since'].isna().sum()}\")\n",
    "df_train[\"host_since\"].describe()"
   ]
  },
  {
   "cell_type": "markdown",
   "metadata": {},
   "source": [
    "Закодируем признак `host_since` при помощи One-Hot encoding по годам"
   ]
  },
  {
   "cell_type": "markdown",
   "metadata": {},
   "source": [
    "#### Exploring host_location"
   ]
  },
  {
   "cell_type": "code",
   "execution_count": null,
   "metadata": {},
   "outputs": [],
   "source": [
    "print(f\"Number of null value: {X_train_prepared['host_location'].isna().sum()}\")\n",
    "print(f\"Number of unique value: {len(X_train_prepared['host_location'].unique())}\")\n",
    "# corr = np.corrcoef(X_train_prepared[\"price_usd\"], X_train_prepared[\"host_verifications\"])[0, 1]\n",
    "# print(f\"Corr coef between price_usd and host_listings_count: {corr}\")\n",
    "print(X_train_prepared[\"host_location\"].describe())\n",
    "\n",
    "fig = make_subplots(rows=2, cols=1, subplot_titles=[\"Histogram of Host location\", \"Scatter Plot\"], vertical_spacing=0.5)\n",
    "\n",
    "histogram_trace = px.histogram(X_train_prepared, x=\"host_location\").data[0]\n",
    "fig.add_trace(histogram_trace, row=1, col=1)\n",
    "\n",
    "scatter_trace = px.scatter(X_train_prepared, x=\"host_location\", y=\"price_usd\").data[0]\n",
    "fig.add_trace(scatter_trace, row=2, col=1)\n",
    "\n",
    "fig.update_yaxes(title_text=\"Price USD\", row=2, col=1)\n",
    "fig.update_xaxes(title_text=\"Host location\", row=2, col=1)\n",
    "\n",
    "fig.update_layout(height=700)\n",
    "\n",
    "fig.show()"
   ]
  },
  {
   "cell_type": "markdown",
   "metadata": {},
   "source": [
    "#### Exploring host_response_time"
   ]
  },
  {
   "cell_type": "code",
   "execution_count": null,
   "metadata": {},
   "outputs": [],
   "source": [
    "print(f\"Number of null value: {X_train_prepared['host_response_time'].isna().sum()}\")\n",
    "print(f\"Number of unique values: {len(X_train_prepared['host_response_time'].unique())}\")\n",
    "print(f\"Unique values: {X_train_prepared['host_response_time'].unique()}\")\n",
    "print(X_train_prepared[\"host_response_time\"].describe())\n",
    "\n",
    "\n",
    "fig = make_subplots(rows=2, cols=1, subplot_titles=[\"Histogram\", \"Scatter Plot\"])\n",
    "fig.add_trace(px.histogram(X_train_prepared, x=\"host_response_time\").data[0], row=1, col=1)\n",
    "fig.add_trace(px.scatter(X_train_prepared, x=\"host_response_time\", y=\"price_usd\").data[0], row=2, col=1)\n",
    "fig.update_yaxes(title_text=\"Price USD\", row=2, col=1)\n",
    "fig.show()"
   ]
  },
  {
   "cell_type": "markdown",
   "metadata": {},
   "source": [
    "Закодируем признак `host_response_time` при помощи One-Hot encoding"
   ]
  },
  {
   "cell_type": "markdown",
   "metadata": {},
   "source": [
    "#### Exploring host_response_rate"
   ]
  },
  {
   "cell_type": "code",
   "execution_count": null,
   "metadata": {},
   "outputs": [],
   "source": [
    "print(f\"Number of null value: {X_train_prepared['host_response_rate'].isna().sum()}\")\n",
    "print(X_train_prepared[\"host_response_rate\"].describe())\n",
    "\n",
    "fig = make_subplots(rows=2, cols=1, subplot_titles=[\"Histogram\", \"Scatter Plot\"])\n",
    "fig.add_trace(px.histogram(X_train_prepared, x=\"host_response_rate\").data[0], row=1, col=1)\n",
    "fig.add_trace(px.scatter(X_train_prepared, x=\"host_response_rate\", y=\"price_usd\").data[0], row=2, col=1)\n",
    "fig.update_yaxes(title_text=\"Price USD\", row=2, col=1)\n",
    "fig.show()"
   ]
  },
  {
   "cell_type": "markdown",
   "metadata": {},
   "source": [
    "#### Exploning host_acceptance_rate"
   ]
  },
  {
   "cell_type": "code",
   "execution_count": null,
   "metadata": {},
   "outputs": [],
   "source": [
    "print(f\"Number of null value: {X_train_prepared['host_acceptance_rate'].isna().sum()}\")\n",
    "corr = np.corrcoef(X_train_prepared[\"price_usd\"], X_train_prepared[\"host_acceptance_rate\"])[0, 1]\n",
    "print(f\"Corr coef between price_usd and host_acceptance_rate: {corr}\")\n",
    "print(X_train_prepared[\"host_acceptance_rate\"].describe())\n",
    "\n",
    "fig = make_subplots(rows=2, cols=1, subplot_titles=[\"Histogram of Host acceptance rate\", \"Scatter Plot\"])\n",
    "fig.add_trace(px.histogram(X_train_prepared, x=\"host_acceptance_rate\").data[0], row=1, col=1)\n",
    "fig.add_trace(px.scatter(X_train_prepared, x=\"host_acceptance_rate\", y=\"price_usd\").data[0], row=2, col=1)\n",
    "fig.update_yaxes(title_text=\"Price USD\", row=2, col=1)\n",
    "fig.update_xaxes(title_text=\"Host acceptance rate\", row=2, col=1)\n",
    "fig.show()"
   ]
  },
  {
   "cell_type": "markdown",
   "metadata": {},
   "source": [
    "#### Exploring host_is_superhost"
   ]
  },
  {
   "cell_type": "code",
   "execution_count": null,
   "metadata": {},
   "outputs": [],
   "source": [
    "print(f\"Number of null value: {X_train_prepared['host_is_superhost'].isna().sum()}\")\n",
    "# corr = np.corrcoef(df_train[\"price_usd\"], df_train[\"host_is_superhost\"])[0, 1]\n",
    "# print(f\"Corr coef between price_usd and host_is_superhost: {corr}\")\n",
    "print(X_train_prepared[\"host_is_superhost\"].describe())\n",
    "\n",
    "fig = make_subplots(rows=2, cols=1, subplot_titles=[\"Histogram of Host is superhost\", \"Scatter Plot\"])\n",
    "fig.add_trace(px.histogram(X_train_prepared, x=\"host_is_superhost\").data[0], row=1, col=1)\n",
    "fig.add_trace(px.scatter(X_train_prepared, x=\"host_is_superhost\", y=\"price_usd\").data[0], row=2, col=1)\n",
    "fig.update_yaxes(title_text=\"Price USD\", row=2, col=1)\n",
    "fig.update_xaxes(title_text=\"Host is superhost\", row=2, col=1)\n",
    "fig.show()"
   ]
  },
  {
   "cell_type": "markdown",
   "metadata": {},
   "source": [
    "#### Exploring host_neighbourhood"
   ]
  },
  {
   "cell_type": "code",
   "execution_count": null,
   "metadata": {},
   "outputs": [],
   "source": [
    "print(f\"Number of null value: {df_train['host_neighbourhood'].isna().sum()}\")\n",
    "print(f\"Number of unique value: {len(df_train['host_neighbourhood'].unique())}\")\n",
    "# corr = np.corrcoef(df_train[\"price_usd\"], df_train[\"host_is_superhost\"])[0, 1]\n",
    "# print(f\"Corr coef between price_usd and host_is_superhost: {corr}\")\n",
    "print(df_train[\"host_neighbourhood\"].describe())\n",
    "\n",
    "fig = make_subplots(rows=2, cols=1, subplot_titles=[\"Histogram of host neighbourhood\", \"Scatter Plot\"])\n",
    "\n",
    "histogram_trace = px.histogram(df_train, x=\"host_neighbourhood\").data[0]\n",
    "fig.add_trace(histogram_trace, row=1, col=1)\n",
    "\n",
    "scatter_trace = px.scatter(df_train, x=\"host_neighbourhood\", y=\"price_usd\").data[0]\n",
    "fig.add_trace(scatter_trace, row=2, col=1)\n",
    "\n",
    "fig.update_layout(height=1000)\n",
    "\n",
    "fig.update_yaxes(title_text=\"Price USD\", row=2, col=1)\n",
    "fig.update_xaxes(title_text=\"Host Neighbourhood\", row=2, col=1)\n",
    "\n",
    "fig.show()"
   ]
  },
  {
   "cell_type": "markdown",
   "metadata": {},
   "source": [
    "#### Exploring host_listings_count"
   ]
  },
  {
   "cell_type": "code",
   "execution_count": null,
   "metadata": {},
   "outputs": [],
   "source": [
    "print(f\"Number of null value: {X_train_prepared['host_listings_count'].isna().sum()}\")\n",
    "corr = np.corrcoef(X_train_prepared[\"price_usd\"], X_train_prepared[\"host_listings_count\"])[0, 1]\n",
    "print(f\"Corr coef between price_usd and host_listings_count: {corr}\")\n",
    "print(X_train_prepared[\"host_listings_count\"].describe())\n",
    "\n",
    "fig = make_subplots(rows=2, cols=1, subplot_titles=[\"Histogram of host listings count\", \"Scatter Plot\"])\n",
    "\n",
    "histogram_trace = px.histogram(X_train_prepared, x=\"host_listings_count\").data[0]\n",
    "fig.add_trace(histogram_trace, row=1, col=1)\n",
    "\n",
    "scatter_trace = px.scatter(X_train_prepared, x=\"host_listings_count\", y=\"price_usd\").data[0]\n",
    "fig.add_trace(scatter_trace, row=2, col=1)\n",
    "\n",
    "fig.update_yaxes(title_text=\"Price USD\", row=2, col=1)\n",
    "fig.update_xaxes(title_text=\"Host listings count\", row=2, col=1)\n",
    "\n",
    "fig.show()"
   ]
  },
  {
   "cell_type": "markdown",
   "metadata": {},
   "source": [
    "#### Exploring host_total_listings_count"
   ]
  },
  {
   "cell_type": "code",
   "execution_count": null,
   "metadata": {},
   "outputs": [],
   "source": [
    "print(f\"Number of null value: {X_train_prepared['host_total_listings_count'].isna().sum()}\")\n",
    "corr = np.corrcoef(X_train_prepared[\"price_usd\"], X_train_prepared[\"host_listings_count\"])[0, 1]\n",
    "print(f\"Corr coef between price_usd and host_listings_count: {corr}\")\n",
    "print(X_train_prepared[\"host_total_listings_count\"].describe())\n",
    "\n",
    "fig = make_subplots(rows=2, cols=1, subplot_titles=[\"Histogram of Host total listings count\", \"Scatter Plot\"])\n",
    "\n",
    "histogram_trace = px.histogram(X_train_prepared, x=\"host_total_listings_count\").data[0]\n",
    "fig.add_trace(histogram_trace, row=1, col=1)\n",
    "\n",
    "scatter_trace = px.scatter(X_train_prepared, x=\"host_total_listings_count\", y=\"price_usd\").data[0]\n",
    "fig.add_trace(scatter_trace, row=2, col=1)\n",
    "\n",
    "fig.update_yaxes(title_text=\"Price USD\", row=2, col=1)\n",
    "fig.update_xaxes(title_text=\"Host total listings count\", row=2, col=1)\n",
    "\n",
    "fig.show()"
   ]
  },
  {
   "cell_type": "markdown",
   "metadata": {},
   "source": [
    "#### Exploring host_verifications"
   ]
  },
  {
   "cell_type": "code",
   "execution_count": null,
   "metadata": {},
   "outputs": [],
   "source": [
    "print(f\"Number of null value: {X_train_prepared['host_verifications'].isna().sum()}\")\n",
    "print(f\"Number of unique value: {X_train_prepared['host_verifications'].unique()}\")\n",
    "# corr = np.corrcoef(X_train_prepared[\"price_usd\"], X_train_prepared[\"host_verifications\"])[0, 1]\n",
    "# print(f\"Corr coef between price_usd and host_listings_count: {corr}\")\n",
    "print(X_train_prepared[\"host_verifications\"].describe())\n",
    "\n",
    "fig = make_subplots(rows=2, cols=1, subplot_titles=[\"Histogram of Host verifications\", \"Scatter Plot\"])\n",
    "\n",
    "histogram_trace = px.histogram(X_train_prepared, x=\"host_verifications\").data[0]\n",
    "fig.add_trace(histogram_trace, row=1, col=1)\n",
    "\n",
    "scatter_trace = px.scatter(X_train_prepared, x=\"host_verifications\", y=\"price_usd\").data[0]\n",
    "fig.add_trace(scatter_trace, row=2, col=1)\n",
    "\n",
    "fig.update_yaxes(title_text=\"Price USD\", row=2, col=1)\n",
    "fig.update_xaxes(title_text=\"Host verifications\", row=2, col=1)\n",
    "\n",
    "fig.show()"
   ]
  },
  {
   "cell_type": "markdown",
   "metadata": {},
   "source": [
    "#### Exploring host_has_profile_pic"
   ]
  },
  {
   "cell_type": "code",
   "execution_count": null,
   "metadata": {},
   "outputs": [],
   "source": [
    "print(f\"Number of null value: {X_train_prepared['host_has_profile_pic'].isna().sum()}\")\n",
    "print(f\"Number of unique value: {X_train_prepared['host_has_profile_pic'].unique()}\")\n",
    "# corr = np.corrcoef(X_train_prepared[\"price_usd\"], X_train_prepared[\"host_verifications\"])[0, 1]\n",
    "# print(f\"Corr coef between price_usd and host_listings_count: {corr}\")\n",
    "print(X_train_prepared[\"host_has_profile_pic\"].describe())\n",
    "\n",
    "fig = make_subplots(rows=2, cols=1, subplot_titles=[\"Histogram of Host has profile pic\", \"Scatter Plot\"])\n",
    "\n",
    "histogram_trace = px.histogram(X_train_prepared, x=\"host_has_profile_pic\").data[0]\n",
    "fig.add_trace(histogram_trace, row=1, col=1)\n",
    "\n",
    "scatter_trace = px.scatter(X_train_prepared, x=\"host_has_profile_pic\", y=\"price_usd\").data[0]\n",
    "fig.add_trace(scatter_trace, row=2, col=1)\n",
    "\n",
    "fig.update_yaxes(title_text=\"Price USD\", row=2, col=1)\n",
    "fig.update_xaxes(title_text=\"Host has profile pic\", row=2, col=1)\n",
    "\n",
    "fig.show()"
   ]
  },
  {
   "cell_type": "markdown",
   "metadata": {},
   "source": [
    "#### Exploring host_identity_verified"
   ]
  },
  {
   "cell_type": "code",
   "execution_count": null,
   "metadata": {},
   "outputs": [],
   "source": [
    "print(f\"Number of null value: {X_train_prepared['host_identity_verified'].isna().sum()}\")\n",
    "print(f\"Number of unique value: {X_train_prepared['host_identity_verified'].unique()}\")\n",
    "# corr = np.corrcoef(X_train_prepared[\"price_usd\"], X_train_prepared[\"host_verifications\"])[0, 1]\n",
    "# print(f\"Corr coef between price_usd and host_listings_count: {corr}\")\n",
    "print(X_train_prepared[\"host_identity_verified\"].describe())\n",
    "\n",
    "fig = make_subplots(rows=2, cols=1, subplot_titles=[\"Histogram of Host identity verified\", \"Scatter Plot\"])\n",
    "\n",
    "histogram_trace = px.histogram(X_train_prepared, x=\"host_identity_verified\").data[0]\n",
    "fig.add_trace(histogram_trace, row=1, col=1)\n",
    "\n",
    "scatter_trace = px.scatter(X_train_prepared, x=\"host_identity_verified\", y=\"price_usd\").data[0]\n",
    "fig.add_trace(scatter_trace, row=2, col=1)\n",
    "\n",
    "fig.update_yaxes(title_text=\"Price USD\", row=2, col=1)\n",
    "fig.update_xaxes(title_text=\"Host identity verified\", row=2, col=1)\n",
    "\n",
    "fig.show()"
   ]
  },
  {
   "cell_type": "markdown",
   "metadata": {},
   "source": [
    "#### Exploring neighbourhood"
   ]
  },
  {
   "cell_type": "code",
   "execution_count": null,
   "metadata": {},
   "outputs": [],
   "source": [
    "print(f\"Number of null value: {X_train_prepared['neighbourhood'].isna().sum()}\")\n",
    "print(f\"Number of unique value: {len(X_train_prepared['neighbourhood'].unique())}\")\n",
    "# corr = np.corrcoef(X_train_prepared[\"price_usd\"], X_train_prepared[\"host_verifications\"])[0, 1]\n",
    "# print(f\"Corr coef between price_usd and host_listings_count: {corr}\")\n",
    "print(X_train_prepared[\"neighbourhood\"].describe())\n",
    "\n",
    "fig = make_subplots(rows=2, cols=1, subplot_titles=[\"Histogram of Neighbourhood\", \"Scatter Plot\"], vertical_spacing=0.3)\n",
    "\n",
    "histogram_trace = px.histogram(X_train_prepared, x=\"neighbourhood\").data[0]\n",
    "fig.add_trace(histogram_trace, row=1, col=1)\n",
    "\n",
    "scatter_trace = px.scatter(X_train_prepared, x=\"neighbourhood\", y=\"price_usd\").data[0]\n",
    "fig.add_trace(scatter_trace, row=2, col=1)\n",
    "\n",
    "fig.update_yaxes(title_text=\"Price USD\", row=2, col=1)\n",
    "fig.update_xaxes(title_text=\"Neighbourhood\", row=2, col=1, tickangle=45)\n",
    "fig.update_xaxes(row=1, col=1, tickangle=45)\n",
    "\n",
    "fig.update_layout(height=1000)\n",
    "\n",
    "fig.show()"
   ]
  },
  {
   "cell_type": "markdown",
   "metadata": {},
   "source": [
    "#### Exploring neighbourhood_cleansed"
   ]
  },
  {
   "cell_type": "code",
   "execution_count": null,
   "metadata": {},
   "outputs": [],
   "source": [
    "print(f\"Number of null value: {X_train_prepared['neighbourhood_cleansed'].isna().sum()}\")\n",
    "print(f\"Number of unique value: {len(X_train_prepared['neighbourhood_cleansed'].unique())}\")\n",
    "# corr = np.corrcoef(X_train_prepared[\"price_usd\"], X_train_prepared[\"host_verifications\"])[0, 1]\n",
    "# print(f\"Corr coef between price_usd and host_listings_count: {corr}\")\n",
    "print(X_train_prepared[\"neighbourhood_cleansed\"].describe())\n",
    "\n",
    "fig = make_subplots(rows=2, cols=1, subplot_titles=[\"Histogram of Neighbourhood cleansed\", \"Scatter Plot\"], vertical_spacing=0.3)\n",
    "\n",
    "histogram_trace = px.histogram(X_train_prepared, x=\"neighbourhood_cleansed\").data[0]\n",
    "fig.add_trace(histogram_trace, row=1, col=1)\n",
    "\n",
    "scatter_trace = px.scatter(X_train_prepared, x=\"neighbourhood_cleansed\", y=\"price_usd\").data[0]\n",
    "fig.add_trace(scatter_trace, row=2, col=1)\n",
    "\n",
    "fig.update_yaxes(title_text=\"Price USD\", row=2, col=1)\n",
    "fig.update_xaxes(title_text=\"Neighbourhood cleansed\", row=2, col=1)\n",
    "\n",
    "fig.update_layout(height=900)\n",
    "\n",
    "fig.show()"
   ]
  },
  {
   "cell_type": "markdown",
   "metadata": {},
   "source": [
    "#### Exploring neighbourhood_group_cleansed"
   ]
  },
  {
   "cell_type": "code",
   "execution_count": null,
   "metadata": {},
   "outputs": [],
   "source": [
    "print(f\"Number of null value: {X_train_prepared['neighbourhood_group_cleansed'].isna().sum()}\")\n",
    "print(f\"Number of unique value: {len(X_train_prepared['neighbourhood_group_cleansed'].unique())}\")\n",
    "# corr = np.corrcoef(X_train_prepared[\"price_usd\"], X_train_prepared[\"host_verifications\"])[0, 1]\n",
    "# print(f\"Corr coef between price_usd and host_listings_count: {corr}\")\n",
    "print(X_train_prepared[\"neighbourhood_group_cleansed\"].describe())\n",
    "\n",
    "fig = make_subplots(rows=2, cols=1, subplot_titles=[\"Histogram of Neighbourhood group cleansed\", \"Scatter Plot\"], vertical_spacing=0.3)\n",
    "\n",
    "histogram_trace = px.histogram(X_train_prepared, x=\"neighbourhood_group_cleansed\").data[0]\n",
    "fig.add_trace(histogram_trace, row=1, col=1)\n",
    "\n",
    "scatter_trace = px.scatter(X_train_prepared, x=\"neighbourhood_group_cleansed\", y=\"price_usd\").data[0]\n",
    "fig.add_trace(scatter_trace, row=2, col=1)\n",
    "\n",
    "fig.update_yaxes(title_text=\"Price USD\", row=2, col=1)\n",
    "fig.update_xaxes(title_text=\"Neighbourhood group cleansed\", row=2, col=1)\n",
    "\n",
    "# fig.update_layout(height=900)\n",
    "\n",
    "fig.show()"
   ]
  },
  {
   "cell_type": "markdown",
   "metadata": {},
   "source": [
    "#### Exploring latitude & longitude"
   ]
  },
  {
   "cell_type": "code",
   "execution_count": null,
   "metadata": {},
   "outputs": [],
   "source": [
    "print(f\"Number of null latitude value: {X_train_prepared['latitude'].isna().sum()}\")\n",
    "print(f\"Number of null longitude value: {X_train_prepared['longitude'].isna().sum()}\")\n",
    "\n",
    "fig = go.Figure(go.Densitymapbox(\n",
    "    lat=X_train_prepared['latitude'],\n",
    "    lon=X_train_prepared['longitude'],\n",
    "    z=X_train_prepared['price_usd'],\n",
    "    radius=10,\n",
    "    colorbar=dict(\n",
    "        title='Price (USD)',\n",
    "        tickvals=[X_train_prepared['price_usd'].min(), X_train_prepared['price_usd'].max()],\n",
    "    ),\n",
    "))\n",
    "\n",
    "fig.update_layout(\n",
    "    mapbox=dict(\n",
    "        center=dict(lat=X_train_prepared['latitude'].mean(), lon=X_train_prepared['longitude'].mean()),\n",
    "        style='open-street-map',\n",
    "        zoom=10,\n",
    "    ),\n",
    "    showlegend=False,\n",
    "    margin=dict(l=15, r=15, t=15, b=15),\n",
    ")\n",
    "\n",
    "fig.show()"
   ]
  },
  {
   "cell_type": "markdown",
   "metadata": {},
   "source": [
    "#### Exploring property_type"
   ]
  },
  {
   "cell_type": "code",
   "execution_count": null,
   "metadata": {},
   "outputs": [],
   "source": [
    "print(f\"Number of null value: {X_train_prepared['property_type'].isna().sum()}\")\n",
    "print(f\"Number of unique value: {len(X_train_prepared['property_type'].unique())}\")\n",
    "# corr = np.corrcoef(X_train_prepared[\"price_usd\"], X_train_prepared[\"host_verifications\"])[0, 1]\n",
    "# print(f\"Corr coef between price_usd and host_listings_count: {corr}\")\n",
    "print(X_train_prepared[\"property_type\"].describe())\n",
    "\n",
    "fig = make_subplots(rows=2, cols=1, subplot_titles=[\"Histogram of Property type\", \"Scatter Plot\"], vertical_spacing=0.4)\n",
    "\n",
    "histogram_trace = px.histogram(X_train_prepared, x=\"property_type\").data[0]\n",
    "fig.add_trace(histogram_trace, row=1, col=1)\n",
    "\n",
    "scatter_trace = px.scatter(X_train_prepared, x=\"property_type\", y=\"price_usd\").data[0]\n",
    "fig.add_trace(scatter_trace, row=2, col=1)\n",
    "\n",
    "fig.update_yaxes(title_text=\"Price USD\", row=2, col=1)\n",
    "fig.update_xaxes(title_text=\"Property type\", row=2, col=1)\n",
    "\n",
    "fig.update_layout(height=900)\n",
    "\n",
    "fig.show()"
   ]
  },
  {
   "cell_type": "markdown",
   "metadata": {},
   "source": [
    "#### Exploring room_type"
   ]
  },
  {
   "cell_type": "code",
   "execution_count": null,
   "metadata": {},
   "outputs": [],
   "source": [
    "print(f\"Number of null value: {X_train_prepared['room_type'].isna().sum()}\")\n",
    "# corr = np.corrcoef(X_train_prepared[\"price_usd\"], X_train_prepared[\"host_verifications\"])[0, 1]\n",
    "# print(f\"Corr coef between price_usd and host_listings_count: {corr}\")\n",
    "print(X_train_prepared[\"room_type\"].describe())\n",
    "\n",
    "fig = make_subplots(rows=2, cols=1, subplot_titles=[\"Histogram of Room type\", \"Scatter Plot\"], vertical_spacing=0.3)\n",
    "\n",
    "histogram_trace = px.histogram(X_train_prepared, x=\"room_type\").data[0]\n",
    "fig.add_trace(histogram_trace, row=1, col=1)\n",
    "\n",
    "scatter_trace = px.scatter(X_train_prepared, x=\"room_type\", y=\"price_usd\").data[0]\n",
    "fig.add_trace(scatter_trace, row=2, col=1)\n",
    "\n",
    "fig.update_yaxes(title_text=\"Price USD\", row=2, col=1)\n",
    "fig.update_xaxes(title_text=\"Room type\", row=2, col=1)\n",
    "\n",
    "fig.show()"
   ]
  },
  {
   "cell_type": "markdown",
   "metadata": {},
   "source": [
    "#### Exploring accommodates"
   ]
  },
  {
   "cell_type": "code",
   "execution_count": null,
   "metadata": {},
   "outputs": [],
   "source": [
    "print(f\"Number of null value: {X_train_prepared['accommodates'].isna().sum()}\")\n",
    "# corr = np.corrcoef(X_train_prepared[\"price_usd\"], X_train_prepared[\"host_verifications\"])[0, 1]\n",
    "# print(f\"Corr coef between price_usd and host_listings_count: {corr}\")\n",
    "print(X_train_prepared[\"accommodates\"].describe())\n",
    "\n",
    "fig = make_subplots(rows=2, cols=1, subplot_titles=[\"Histogram of Accommodates\", \"Scatter Plot\"], vertical_spacing=0.3)\n",
    "\n",
    "histogram_trace = px.histogram(X_train_prepared, x=\"accommodates\").data[0]\n",
    "fig.add_trace(histogram_trace, row=1, col=1)\n",
    "\n",
    "scatter_trace = px.scatter(X_train_prepared, x=\"accommodates\", y=\"price_usd\").data[0]\n",
    "fig.add_trace(scatter_trace, row=2, col=1)\n",
    "\n",
    "fig.update_yaxes(title_text=\"Price USD\", row=2, col=1)\n",
    "fig.update_xaxes(title_text=\"Accommodates\", row=2, col=1)\n",
    "\n",
    "fig.show()"
   ]
  },
  {
   "cell_type": "markdown",
   "metadata": {},
   "source": [
    "#### Exploring bathrooms"
   ]
  },
  {
   "cell_type": "code",
   "execution_count": null,
   "metadata": {},
   "outputs": [],
   "source": [
    "print(f\"Number of null value: {X_train_prepared['bathrooms'].isna().sum()}\")\n",
    "# corr = np.corrcoef(X_train_prepared[\"price_usd\"], X_train_prepared[\"host_verifications\"])[0, 1]\n",
    "# print(f\"Corr coef between price_usd and host_listings_count: {corr}\")\n",
    "print(X_train_prepared[\"bathrooms\"].describe())\n",
    "\n",
    "fig = make_subplots(rows=2, cols=1, subplot_titles=[\"Histogram of Bathrooms\", \"Scatter Plot\"], vertical_spacing=0.3)\n",
    "\n",
    "histogram_trace = px.histogram(X_train_prepared, x=\"bathrooms\").data[0]\n",
    "fig.add_trace(histogram_trace, row=1, col=1)\n",
    "\n",
    "scatter_trace = px.scatter(X_train_prepared, x=\"bathrooms\", y=\"price_usd\").data[0]\n",
    "fig.add_trace(scatter_trace, row=2, col=1)\n",
    "\n",
    "fig.update_yaxes(title_text=\"Price USD\", row=2, col=1)\n",
    "fig.update_xaxes(title_text=\"Bathrooms\", row=2, col=1)\n",
    "\n",
    "fig.show()"
   ]
  },
  {
   "cell_type": "markdown",
   "metadata": {},
   "source": [
    "#### Exploring bathrooms_text"
   ]
  },
  {
   "cell_type": "code",
   "execution_count": null,
   "metadata": {},
   "outputs": [],
   "source": [
    "print(f\"Number of null value: {X_train_prepared['bathrooms_text'].isna().sum()}\")\n",
    "# corr = np.corrcoef(X_train_prepared[\"price_usd\"], X_train_prepared[\"host_verifications\"])[0, 1]\n",
    "# print(f\"Corr coef between price_usd and host_listings_count: {corr}\")\n",
    "print(X_train_prepared[\"bathrooms_text\"].describe())\n",
    "\n",
    "fig = make_subplots(rows=2, cols=1, subplot_titles=[\"Histogram of Bathrooms text\", \"Scatter Plot\"], vertical_spacing=0.3)\n",
    "\n",
    "histogram_trace = px.histogram(X_train_prepared, x=\"bathrooms_text\").data[0]\n",
    "fig.add_trace(histogram_trace, row=1, col=1)\n",
    "\n",
    "scatter_trace = px.scatter(X_train_prepared, x=\"bathrooms_text\", y=\"price_usd\").data[0]\n",
    "fig.add_trace(scatter_trace, row=2, col=1)\n",
    "\n",
    "fig.update_yaxes(title_text=\"Price USD\", row=2, col=1)\n",
    "fig.update_xaxes(title_text=\"Bathrooms text\", row=2, col=1)\n",
    "\n",
    "fig.update_layout(height=800)\n",
    "\n",
    "fig.show()"
   ]
  },
  {
   "cell_type": "markdown",
   "metadata": {},
   "source": [
    "#### Exploring bedrooms"
   ]
  },
  {
   "cell_type": "code",
   "execution_count": null,
   "metadata": {},
   "outputs": [],
   "source": [
    "print(f\"Number of null value: {X_train_prepared['bedrooms'].isna().sum()}\")\n",
    "# corr = np.corrcoef(X_train_prepared[\"price_usd\"], X_train_prepared[\"host_verifications\"])[0, 1]\n",
    "# print(f\"Corr coef between price_usd and host_listings_count: {corr}\")\n",
    "print(X_train_prepared[\"bedrooms\"].describe())\n",
    "\n",
    "fig = make_subplots(rows=2, cols=1, subplot_titles=[\"Histogram of Bedrooms\", \"Scatter Plot\"], vertical_spacing=0.3)\n",
    "\n",
    "histogram_trace = px.histogram(X_train_prepared, x=\"bedrooms\").data[0]\n",
    "fig.add_trace(histogram_trace, row=1, col=1)\n",
    "\n",
    "scatter_trace = px.scatter(X_train_prepared, x=\"bedrooms\", y=\"price_usd\").data[0]\n",
    "fig.add_trace(scatter_trace, row=2, col=1)\n",
    "\n",
    "fig.update_yaxes(title_text=\"Price USD\", row=2, col=1)\n",
    "fig.update_xaxes(title_text=\"Bedrooms\", row=2, col=1)\n",
    "\n",
    "fig.show()"
   ]
  },
  {
   "cell_type": "markdown",
   "metadata": {},
   "source": [
    "#### Exploring beds"
   ]
  },
  {
   "cell_type": "code",
   "execution_count": null,
   "metadata": {},
   "outputs": [],
   "source": [
    "print(f\"Number of null value: {X_train_prepared['beds'].isna().sum()}\")\n",
    "# corr = np.corrcoef(X_train_prepared[\"price_usd\"], X_train_prepared[\"host_verifications\"])[0, 1]\n",
    "# print(f\"Corr coef between price_usd and host_listings_count: {corr}\")\n",
    "print(X_train_prepared[\"beds\"].describe())\n",
    "\n",
    "fig = make_subplots(rows=2, cols=1, subplot_titles=[\"Histogram of Beds\", \"Scatter Plot\"], vertical_spacing=0.3)\n",
    "\n",
    "histogram_trace = px.histogram(X_train_prepared, x=\"beds\").data[0]\n",
    "fig.add_trace(histogram_trace, row=1, col=1)\n",
    "\n",
    "scatter_trace = px.scatter(X_train_prepared, x=\"beds\", y=\"price_usd\").data[0]\n",
    "fig.add_trace(scatter_trace, row=2, col=1)\n",
    "\n",
    "fig.update_yaxes(title_text=\"Price USD\", row=2, col=1)\n",
    "fig.update_xaxes(title_text=\"Beds\", row=2, col=1)\n",
    "\n",
    "fig.show()"
   ]
  },
  {
   "cell_type": "markdown",
   "metadata": {},
   "source": [
    "#### Exploring amenities"
   ]
  },
  {
   "cell_type": "code",
   "execution_count": 2,
   "metadata": {},
   "outputs": [
    {
     "name": "stdout",
     "output_type": "stream",
     "text": [
      "Number of null value: 0\n",
      "count                           71372\n",
      "unique                          68082\n",
      "top       [\"Long term stays allowed\"]\n",
      "freq                              177\n",
      "Name: amenities, dtype: object\n"
     ]
    }
   ],
   "source": [
    "print(f\"Number of null value: {X_train_prepared['amenities'].isna().sum()}\")\n",
    "# corr = np.corrcoef(X_train_prepared[\"price_usd\"], X_train_prepared[\"host_verifications\"])[0, 1]\n",
    "# print(f\"Corr coef between price_usd and host_listings_count: {corr}\")\n",
    "print(X_train_prepared[\"amenities\"].describe())"
   ]
  },
  {
   "cell_type": "code",
   "execution_count": 27,
   "metadata": {},
   "outputs": [],
   "source": [
    "def remove_sumbol(s):\n",
    "    translation_table = str.maketrans(\"\", \"\", '[]\"')\n",
    "    return s.translate(translation_table)\n",
    "\n",
    "X_train_prepared[\"amenities\"] = X_train_prepared[\"amenities\"].apply(remove_sumbol)\n"
   ]
  },
  {
   "cell_type": "code",
   "execution_count": 28,
   "metadata": {},
   "outputs": [
    {
     "name": "stdout",
     "output_type": "stream",
     "text": [
      "Free parking on premises, Children\\u2019s books and toys, Heating, Host greets you, Cooking basics, Kitchen, Coffee maker, Iron, Long term stays allowed, Essentials, First aid kit, Hangers, Washer, Hair dryer, Wifi, Microwave, Free street parking, Hot water, Luggage dropoff allowed, Backyard, TV, Dishes and silverware, Smoke alarm, Lake access, Fire extinguisher, Crib, Refrigerator, Stove\n",
      "TV, Heating, Dishes and silverware, Kitchen, Dryer, Smart lock, Elevator, Washer, Air conditioning, Refrigerator, Long term stays allowed, Wifi\n",
      "Free parking on premises, Children\\u2019s books and toys, High chair, Heating, Cooking basics, Kitchen, Coffee maker, 32\\ TV, Iron, Dedicated workspace, Long term stays allowed, Private entrance, Essentials, First aid kit, Ski-in/Ski-out, Extra pillows and blankets, Hangers, Single level home, Shampoo, Hair dryer, Private fenced garden or backyard, Wifi, Microwave, Free street parking, Clothing storage, Air conditioning, Carbon monoxide alarm, Bed linens, Hot water, Luggage dropoff allowed, Dishes and silverware, Smoke alarm, Lake access, Crib, Refrigerator, Stove, Drying rack for clothing, Building staff\n",
      "Heating, Cooking basics, Kitchen, Paid parking off premises, Coffee maker, Iron, Long term stays allowed, Bathtub, Essentials, First aid kit, Elevator, Extra pillows and blankets, Hangers, Shampoo, Hair dryer, Wifi, Microwave, Free street parking, Air conditioning, Bed linens, Oven, Hot water, TV, Refrigerator, Stove\n",
      "Free parking on premises, Heating, Cooking basics, Kitchen, Body soap, TV with standard cable, Cleaning products, Bidet, Conditioner, Essentials, Elevator, Breakfast, Shampoo, Hair dryer, Wifi, Smart lock, Shower gel, Cable TV, Bed linens, Hot water, Dishes and silverware, Indoor fireplace\n"
     ]
    }
   ],
   "source": [
    "s_0 = X_train_prepared[\"amenities\"][0]\n",
    "s_1 = X_train_prepared[\"amenities\"][1]\n",
    "s_2 = X_train_prepared[\"amenities\"][2]\n",
    "s_3 = X_train_prepared[\"amenities\"][4]\n",
    "s_4 = X_train_prepared[\"amenities\"][5]\n",
    "\n",
    "\n",
    "print(s_0)\n",
    "print(s_1)\n",
    "print(s_2)\n",
    "print(s_3)\n",
    "print(s_4)"
   ]
  },
  {
   "cell_type": "code",
   "execution_count": 30,
   "metadata": {},
   "outputs": [
    {
     "name": "stdout",
     "output_type": "stream",
     "text": [
      "5246\n",
      "{'Eco friendly shampoo shampoo', 'FRANKE stainless steel oven', 'Whirpool refrigerator', 'Indesit  stainless steel stove', 'General 120 litri refrigerator', 'Premium brands conditioner', 'Private outdoor pool - infinity, lap pool, saltwater', '55\" HDTV with Apple TV, Netflix, standard cable', 'Prodotti locali conditioner', 'Rex stainless steel induction stove', 'Shared outdoor pool - heated, infinity, rooftop', 'L’Occitane Verveine body soap', 'Non specificato body soap', 'Waterfront', 'SHAMPOO conditioner', 'TV with Amazon Prime Video', 'Fast wifi – 362 Mbps', 'Mondoconvenienza refrigerator', 'Daikin refrigerator', 'Fast wifi – 88 Mbps', 'FRANKE stainless steel gas stove', 'Fast wifi – 112 Mbps', '65\" HDTV with DVD player', 'Shared outdoor pool - available seasonally, open specific hours, olympic-sized, sun loungers', 'WHIRPOOL induction stove', 'Alpesinox stainless steel gas stove', 'Coop shampoo', '52\" HDTV with Netflix, standard cable, Amazon Prime Video', '44\" HDTV with Netflix', '75\" HDTV with Amazon Prime Video', 'Fast wifi – 448 Mbps', 'Private outdoor pool - available seasonally, open 24 hours, lap pool, sun loungers', 'Prija conditioner', 'Refrigerator without freezer refrigerator', 'Benko refrigerator', 'Wirpool oven', 'Sapone liquido mani/corpo  neutro body soap', 'Integrati in mini cucina a scomparsa in armadio, stile cucina da ufficio. Non adatta per cucinare pasti completi. electric stove', 'Badedas  body soap', 'Paid parking lot on premises', 'Candy refrigerator', 'A gas e microonde oven', '. body soap', 'HDTV with Amazon Prime Video, Apple TV, Chromecast, Netflix, premium cable, standard cable', 'Foster oven', 'Franke electric stove', 'Elvise  conditioner', 'Yves Rocher , Sali di Ischia, Hydrami ProBioma, La Corvette savon de  Marsille body soap', '75\" HDTV with Netflix, premium cable', 'TV with Amazon Prime Video, Apple TV', 'Ikea induction stove', '40\" HDTV with Amazon Prime Video, Chromecast, Netflix', 'Fast wifi – 312 Mbps', 'Bio Honey shampoo', '33\" HDTV with standard cable, premium cable, Chromecast, HBO Max, Netflix, Amazon Prime Video', 'Fast wifi – 682 Mbps', 'Forno elettrico stainless steel oven', 'Amon body soap', '70\" HDTV with Netflix', 'HDTV with Amazon Prime Video, Apple TV, Netflix, premium cable, standard cable', 'Fast wifi – 255 Mbps', 'Fast wifi – 444 Mbps', 'Unisex body soap', 'Forno ventilato hotpoint Ariston  oven', '35\" HDTV with standard cable', 'Fast wifi – 337 Mbps', 'Monuskin shampoo', 'PICCOLO FORNO ELETTRICO PER SCALDARE  oven', '50\" TV with standard cable', '40\" HDTV with Amazon Prime Video, Netflix, premium cable', '43\" HDTV with Netflix, standard cable, Chromecast, Amazon Prime Video', 'Amo Essere Eco shampoo', 'Wifi – 17 Mbps', 'Fast wifi – 109 Mbps', 'London Fine Soaps shampoo', 'Set cortesia monouso body soap', 'Paid crib', '42\" HDTV with Chromecast, Netflix, standard cable, Amazon Prime Video, Apple TV', 'Non specificato conditioner', 'Bio - vegan body soap', 'Vida body soap', 'Euphidra conditioner', 'Siemens stove', 'Fast wifi – 302 Mbps', 'Muji sound system', 'Dining area for 8 people', 'Clothing storage: wardrobe, dresser, walk-in closet, and closet', 'DOVE shampoo', '55\" HDTV with Netflix, Apple TV, standard cable, Amazon Prime Video', 'HDTV with Netflix, standard cable', 'Elvive  conditioner', 'Paid parking on premises – 100 spaces', '40\" HDTV with Amazon Prime Video, Chromecast, Netflix, Roku', '32\" HDTV with Amazon Prime Video, Netflix, DVD player', '17\" HDTV with standard cable', 'Hotpoint ARISTON Classe A+ refrigerator', 'Whirpool Grill/Microonde stainless steel oven', 'Fornetto elettrico oven', '32\" HDTV with premium cable, standard cable', 'Vari marchi in base alla disponibilità body soap', 'Clothing storage: dresser, closet, and walk-in closet', 'Fast wifi – 104 Mbps', 'Game console: Nintendo Wii', 'Private outdoor pool - open 24 hours', 'Shared indoor pool', 'LA GERMANIA stainless steel oven', '50\" HDTV with Chromecast, Amazon Prime Video, Netflix', '48\" HDTV with Chromecast, Netflix', 'Lycia body soap', '31\" HDTV with Amazon Prime Video, Netflix, standard cable', 'Shared outdoor pool - infinity, lap pool', 'Personalizzato conditioner', 'Resorge shampoo', 'FORNELLI gas stove', 'Karisma shampoo', 'Alexa  Bluetooth sound system', 'Fast wifi – 562 Mbps', 'Fast wifi – 602 Mbps', 'Comfort Zone shampoo', 'Fast wifi – 385 Mbps', '17\" HDTV', 'Private outdoor pool - available all year, lap pool', '42\" TV with standard cable, Amazon Prime Video, Netflix', '23\" HDTV with premium cable', 'Green Power shampoo', '42\" HDTV with Netflix, Amazon Prime Video', 'Palmolive body soap', 'Electrolux rex piccolo refrigerator', 'NEUTRO ROBERT body soap', 'No body soap', 'Beko stove', 'Bang & Olufsen sound system', '32\" HDTV with premium cable', 'Bosch oven', 'Pour-over coffee', 'Private pool - available seasonally, open specific hours', 'Free parking garage on premises – 3 spaces', \"Yves Rocher, L'OREAL ELVIVE shampoo\", '30\" HDTV with Netflix', 'HDTV with Netflix, Apple TV, Amazon Prime Video, premium cable, standard cable', 'Present more body soap', 'L’Oreal  body soap', '50\" HDTV with Amazon Prime Video, Apple TV, Netflix, premium cable', 'Senza marca body soap', 'Anyah Ecolabel shampoo', 'Pioneer and Bowers and Wilkins sound system with Bluetooth and aux', 'Trevi  sound system with Bluetooth and aux', 'Fast wifi – 128 Mbps', '24\" HDTV with Amazon Prime Video, Chromecast, standard cable', 'HDTV with Amazon Prime Video, Netflix, Roku, Apple TV, standard cable', '- oven', '50\" HDTV with Chromecast, Netflix', 'Sharp refrigerator', 'Private outdoor pool - available seasonally, open specific hours, lap pool', '55\" HDTV with Amazon Prime Video, Apple TV, Netflix, premium cable', 'Wifi – 36 Mbps', 'Infasil delicato body soap', 'Private outdoor pool - lap pool, rooftop', 'DELONGHI oven', 'Private outdoor pool - available seasonally, open 24 hours, saltwater', \"Neutri Terre d'Oriente  body soap\", '32\" TV with Apple TV, standard cable', 'Private outdoor pool - available all year, open 24 hours, rooftop', 'TV with standard cable, premium cable', '50\" HDTV with Apple TV', 'Forno stainless steel oven', 'Cucina ad induzione stove', 'Fast wifi – 188 Mbps', 'H shampoo', 'Fornello a induzione  induction stove', 'Electrolux stainless steel stove', 'Fast wifi – 154 Mbps', 'Marchi commerciali largo consumo body soap', 'Just the little booster, which can be connected to the display or phones etc. sound system with Bluetooth and aux', \"Winnie's Natural or il Provenzale body soap\", 'Clothing storage: walk-in closet and closet', 'Schaub Lorenz refrigerator', 'Sapone per il corpo a ph neutro body soap', 'Piooner sound system', 'CAndy stainless steel induction stove', 'Fast wifi – 482 Mbps', 'Biologico body soap', 'Fast wifi – 387 Mbps', '49\" HDTV with Netflix, standard cable', 'Hisense refrigerator', '55\" HDTV with Amazon Prime Video, Apple TV, Netflix, DVD player', 'Scavolini stove', 'Amazon Alexa  Bluetooth sound system', 'CIEFFEDERMA acquistabili in Farmacia o presso la struttura in promo 40% body soap', 'PRIJA body soap', 'Monouso Karisma doccia Shampoo 10ml body soap', 'TV with Amazon Prime Video, standard cable, DVD player', 'LA MAISON Assortimento body soap', 'Vari marchi shampoo', 'Delonghi\\n\\n gas stove', 'CON  FRIZER refrigerator', '53\" HDTV', 'Loreal  conditioner', 'Eco friendly conditioner', 'Schneider refrigerator', 'TV with Netflix, Amazon Prime Video, HBO Max', 'Fast wifi – 541 Mbps', 'REX stainless steel gas stove', 'Piccolo Frigorifero marchio IKEA refrigerator', 'Private outdoor pool - available seasonally, open 24 hours, lap pool', 'Private outdoor pool - available seasonally', 'Fornello a INDUZIONE  induction stove', 'Eletrolux di Rex refrigerator', '32\" TV with DVD player, standard cable', \"Acqua dell'Elba shampoo\", 'Bosh oven', 'LG refrigerator', '4 - Flammenherd mit Backofen gas stove', 'Fast wifi – 563 Mbps', 'Mini fridge refrigerator', '50\" HDTV with Amazon Prime Video, Chromecast, standard cable, Netflix', 'Fast wifi – 368 Mbps', 'Conditioning Shampoo shampoo', 'Fast wifi – 345 Mbps', 'Electrolux rex refrigerator', 'Vari  shampoo', 'Private pool - infinity, saltwater', 'Crema di Sapone Dove body soap', 'Ignis stainless steel stove', 'Hotpoint - Ariston stainless steel oven', 'Flower body soap', 'Depends body soap', 'Atlantis refrigerator', 'Sapone generico body soap', 'Perle body soap', 'Casa cucine refrigerator', 'Standard gas stove', 'Frigobar condiviso refrigerator', \"De'Longhi gas stove\", 'Toaster', 'Private pool - heated', 'Vegan. Cruelty free. Organic and Made in Italy shampoo', '140\" TV', 'Wifi – 21 Mbps', '42\" HDTV with Apple TV, Netflix, standard cable', 'SHAMPOO DOCCIA shampoo', 'Ariston stainless steel gas stove', 'DOSS Soundbox Bluetooth sound system', 'IKEA  electric stove', 'Alexa sound system', 'Balcony', 'Johnson & Johnson shampoo', '32\" HDTV with Netflix, Chromecast', '38\" HDTV with Netflix, standard cable, premium cable, Amazon Prime Video', '23\" TV with standard cable', 'Fast wifi – 119 Mbps', 'DC shampoo', 'Fast wifi – 547 Mbps', 'Guest Hotel Line conditioner', 'Fast wifi – 127 Mbps', 'Leone body soap', 'Private outdoor pool - open 24 hours, pool toys, rooftop, saltwater, sun loungers', '16\" TV', '60\" HDTV with Netflix, Amazon Prime Video, standard cable', 'General brand body soap', 'Fornetto Delonghi stainless steel oven', 'Fast wifi – 252 Mbps', 'A ventilazione stainless steel oven', '30\" HDTV with premium cable, standard cable', 'Game console: Xbox 360', 'Columbus body soap', 'Paid standalone high chair - available upon request', 'Hotpoint Ariston oven', 'Hitachi  refrigerator', 'Sonos Bluetooth sound system', 'Althaea body soap', 'Bauchnekt refrigerator', 'Igni stainless steel oven', 'Fast wifi – 152 Mbps', 'Fast wifi – 256 Mbps', '55\" HDTV with Netflix, Amazon Prime Video', 'Vegan. Cruelty free. Organic and Made in Italy body soap', 'Fresch Scent body soap', 'CHiQ refrigerator', 'Essential shampoo', 'SMEG refrigerator', 'Fast wifi – 275 Mbps', 'Paid parking lot on premises – 8 spaces', 'Whirlpol  stainless steel oven', '43\" HDTV with Amazon Prime Video, Chromecast, Netflix', 'General Electric refrigerator', 'Guess conditioner', 'Jbl Bluetooth sound system', 'Driveway parking', '45\" HDTV with standard cable, Amazon Prime Video', 'Saponificio Zimmitti_artisanal sicilian soap body soap', \"All'olio di oliva conditioner\", 'Fast wifi – 148 Mbps', 'Forno a microonde Whirpool stainless steel oven', 'Private indoor pool - available all year, open 24 hours, heated', 'Aura luxury collection  body soap', 'Hisense  refrigerator', '30\" HDTV with Amazon Prime Video, Apple TV, Netflix, standard cable', 'HDTV with Amazon Prime Video, Netflix, Apple TV, standard cable', 'Bosh stainless steel oven', '20\" HDTV with standard cable', 'Frigo e freezer refrigerator', 'TV with Amazon Prime Video, Apple TV, Netflix', 'Piccolo forno elettrico  oven', 'Sony sound system with aux', 'HDTV with Chromecast', 'Hadseife body soap', 'Nuxe body soap', 'Congelatore refrigerator', 'Olive oil soap body soap', '7RE shampoo', 'TV with ', '35\" HDTV with Netflix', 'Universale conditioner', 'Linq Bluetooth sound system', 'Forno oven', 'Seife  body soap', 'Clothing storage: wardrobe and dresser', 'Smeg  induction stove', 'Sound ore Bluetooth sound system', 'Children’s books and toys for ages 0-2 years old, 5-10 years old, and 10+ years old', 'HDTV with premium cable, DVD player', 'Private outdoor pool - available all year, open 24 hours, rooftop, sun loungers', 'Bilboa conditioner', 'Extra pillows and blankets', '40\" TV with standard cable, Netflix', 'Biogico body soap', 'Hotpoint  refrigerator', 'Nivea, Felce Azzurra, Borotalco body soap', 'Free driveway parking on premises – 1 space', 'Color a Pagamento conditioner', 'Cassa Bluethoot Bluetooth sound system', '16\" HDTV with Amazon Prime Video, Netflix, premium cable, Roku, standard cable', 'Neutro Roberts shampoo', 'Ignis 178 L  refrigerator', 'Paid parking lot on premises – 15 spaces', 'Vari marchi conditioner', \"L'oreal - sunsilk shampoo\", 'Ii stove', 'Wifi – 46 Mbps', 'Scavolini refrigerator', 'HiSense  refrigerator', '32\" HDTV with Chromecast, Netflix', 'Fast wifi – 108 Mbps', 'TOSHIBA conditioner', 'Genérico  conditioner', 'Anya body soap', '... shampoo', 'Free driveway parking on premises – 10 spaces', 'KARISMA shampoo', 'HDTV with Chromecast, standard cable', 'Garnier  -  Bioscalin  shampoo', 'Small 2 tray oven stainless steel oven', 'Ott body soap', 'La Germania stainless steel oven', '45\" HDTV with Amazon Prime Video, Netflix, standard cable', '30\" HDTV with Netflix, standard cable', 'TV with Amazon Prime Video, Chromecast, Netflix, standard cable', 'Clothing storage: wardrobe, closet, dresser, and walk-in closet', 'Pioneer sound system with aux', 'Idea Tocana conditioner', 'Acqua di Parma conditioner', 'Qualsiasi  conditioner', '22\" HDTV with standard cable', 'Nardi refrigerator', 'Outdoor kitchen', 'Paid parking garage on premises – 4 spaces', 'I migliori marchi body soap', 'Zanussi oven', 'HDTV with standard cable, premium cable', 'Kit Cortesia monouso shampoo', 'Paid parking lot on premises – 18 spaces', 'Vari marchi body soap', ' vari marchi di shampoo di buona qualità shampoo', 'Fast wifi – 261 Mbps', '65\" HDTV with Amazon Prime Video, Apple TV, Chromecast, Netflix, premium cable', 'IKEA stainless steel oven', '49\" TV', 'NON SCADENTE shampoo', 'De Longhi oven', 'Fast wifi – 156 Mbps', 'Bosch stainless steel gas stove', 'Argan  body soap', 'Genrico shampoo', 'Private outdoor pool - available seasonally, infinity', 'Italian conditioner', '34\" HDTV with Amazon Prime Video, Netflix, standard cable, DVD player', 'Il frigorifero è in condivisione con tutti gli ospiti del B&B refrigerator', 'Samsung Bluetooth sound system', 'Naturale body soap', '43\" TV with standard cable', 'Marchi comuni shampoo', 'Oliva body soap', 'Mit kleinem Gefrierfach, für Eis, Eiswürfel oä. refrigerator', 'Paid parking garage on premises – 25 spaces', 'Body Soap body soap', 'Children’s books and toys for ages 2-5 years old', 'Best brands refrigerator', 'Private outdoor pool - available seasonally, open specific hours, rooftop', 'WI-FI sound system with Bluetooth and aux', 'Fast wifi – 398 Mbps', 'Mini size shampoo', 'Inox stove', 'Natural  conditioner', 'Nivea conditioner', 'Marchio comune body soap', 'Ski-in/Ski-out', '50\" HDTV with Amazon Prime Video, Apple TV, Netflix, standard cable, premium cable', '24\" HDTV with Amazon Prime Video, Apple TV, Chromecast, HBO Max, Netflix, premium cable, standard cable', '54\" HDTV with Netflix, Amazon Prime Video', \"Chef's kitchen\", 'Fast wifi – 118 Mbps', 'HDTV with Amazon Prime Video, Netflix, DVD player', 'Garnier  body soap', ' fornita dalla struttura stainless steel electric stove', 'Bagnoschiuma gel body soap', 'HotPoint stainless steel oven', 'No allergic body soap', 'Private outdoor pool - available seasonally, open specific hours, rooftop, sun loungers', 'Stark sound system with Bluetooth and aux', 'Lock on bedroom door', 'HDTV with standard cable, Apple TV', 'Bedroom comforts', 'Fast wifi – 415 Mbps', 'Wifi – 23 Mbps', 'Cucine Veneto induction stove', 'Conforme alle vigenti normative body soap', 'HDTV with standard cable, Netflix, Amazon Prime Video, Apple TV', 'Elettrozeta refrigerator', 'Amazon Echo Bluetooth sound system', 'Bosch induction stove', 'Leroy Merlin gas stove', 'Library', 'Fast wifi – 353 Mbps', 'SONOS sound system', 'Edifier Bluetooth sound system', '48\" HDTV with Netflix, standard cable', '42\" HDTV with standard cable, Amazon Prime Video, Netflix, premium cable', 'Outdoor pool', 'Cavallo shampoo', 'Paid parking garage on premises – 2 spaces', 'Paid high chair - available upon request', 'Fridge refrigerator', '48\" HDTV with standard cable, Amazon Prime Video, Netflix', 'Fornetto oven', 'MIELE induction stove', 'Game console: Nintendo Wii U', 'Cable TV', 'Pioneer DJ boot su richiesta sound system with aux', 'Osme shampoo', 'Outdoor pool - available seasonally', '32\" HDTV with Netflix, Amazon Prime Video, standard cable', 'Kit cortesia shampoo', 'Allegro Nature body soap', 'Shared pool - available seasonally, open specific hours', 'Indesit stainless steel stove', '52\" TV', 'Candi stove', 'Private garden or backyard', 'Vetroceramica stove', 'Free dryer – In building', \"NEUTRO ROBERTS 1 CONFEZIONE 200 ML ALL'ARRIVO body soap\", 'Franck Provost shampoo', 'Fast wifi – 512 Mbps', 'Fast wifi – 53 Mbps', 'Nidra body soap', 'Felce Azzurra or Nivea body soap', 'Garnie shampoo', 'TV with Amazon Prime Video, Netflix, Roku', \"De'Longhi stainless steel oven\", '45\" HDTV with Amazon Prime Video, Netflix, premium cable, standard cable', 'Natural shampoo shampoo', '20\" TV with standard cable', 'Fast wifi – 394 Mbps', '50\" HDTV with Apple TV, Amazon Prime Video, premium cable, Netflix', 'Fast wifi – 557 Mbps', 'Generico stainless steel gas stove', 'TV with DVD player', 'Si conditioner', 'Biologico shampoo', \"Neutro Robert's  shampoo\", 'Fast wifi – 192 Mbps', 'Home shampoo', '32\" HDTV with Amazon Prime Video, Chromecast, Netflix, premium cable, standard cable', 'Creative shampoo', 'Elettrolx refrigerator', 'Stainless steel oven', '50\" HDTV with standard cable, Amazon Prime Video, Netflix', 'Fratelli Onofri  stainless steel oven', 'Forno da cucina stainless steel oven', '35\" HDTV with Amazon Prime Video, Netflix, standard cable', 'Un fuoco ad induzione induction stove', 'Shared outdoor pool - available all year, open 24 hours, infinity', 'Oo refrigerator', 'Piano ad induzione stove', 'Allegrini Ecolabel shampoo', 'Zoppas stove', '20\" HDTV with Amazon Prime Video, standard cable', '24\" HDTV with premium cable, standard cable', 'Mini frigo refrigerator', 'Leone  shampoo', 'Shared outdoor pool - available seasonally, lap pool', '55\" HDTV with Amazon Prime Video, Apple TV, Netflix, standard cable', '34\" HDTV', 'Alpes stove', 'Clothing storage: walk-in closet, wardrobe, dresser, and closet', 'Ombia shampoo', 'Linea cortesia Vitaminica conditioner', '40\" HDTV with Amazon Prime Video, Chromecast, Netflix, premium cable, Roku, standard cable', 'Ariston Hotpoint refrigerator', 'Smeg die in de guestlounge staat is tevens honesty bar refrigerator', 'Deco refrigerator', 'Trash compactor', 'Beka refrigerator', 'Prodotti da Farmacia shampoo', '1K_HOME conditioner', \"Bose' Bluetooth sound system\", 'HDTV with Amazon Prime Video, Netflix, premium cable, Roku, standard cable', '52\" HDTV with premium cable', 'Small Electric Ariete stainless steel oven', 'Fast wifi – 383 Mbps', 'Una linea di fragranze siciliane che facilita lo smaltimento e promuove il riciclo nel rispetto della cura del corpo body soap', 'HDTV with Amazon Prime Video, Netflix, premium cable, standard cable', '46\" HDTV with Netflix', 'Sapone mani body soap', 'Private sauna', 'Fast wifi – 379 Mbps', 'LG  big family con ghiaccio automatico refrigerator', 'HDTV with premium cable, Amazon Prime Video, standard cable, DVD player, Netflix', 'Pantene  conditioner', 'Hotpoint electric stove', 'Generico body soap', 'HDTV with Amazon Prime Video, Chromecast, Netflix, premium cable, standard cable', 'Mya Collection shampoo', 'Wifi – 30 Mbps', 'Shared outdoor pool - available seasonally, infinity, rooftop', 'UÈ Boom Bluetooth sound system', 'Akai refrigerator', 'Panten conditioner', 'Security system', 'Breakfast', 'Smart TV', '49\" HDTV with Amazon Prime Video, standard cable', '55\" HDTV with Amazon Prime Video, Apple TV, Chromecast, HBO Max, Netflix, premium cable', 'HDTV with Amazon Prime Video, Netflix, Apple TV, Chromecast, HBO Max', 'In omaggio prima fornitura body soap', 'HDTV with Apple TV', 'Ariston oven', 'Chogan shampoo', 'Indifferente  conditioner', 'Folding or convertible high chair', 'Biologici o naturali body soap', 'Shampoo e balsamo conditioner', 'Sapone artigianale, biologico body soap', 'Bio shower gel and shampoo shampoo', 'Fast wifi – 404 Mbps', '65\" HDTV with Netflix, Amazon Prime Video', 'Shared outdoor pool', 'Head Shoulders shampoo', 'Stove', 'Tedesco induction stove', 'HDTV with Chromecast, DVD player', 'General body soap', 'MINIFRIGO refrigerator', '50\" HDTV with DVD player', 'Samsung sound system with aux', 'Shared outdoor pool - lap pool', 'Binova refrigerator', 'TV with Netflix, premium cable, standard cable', '40\" HDTV with Netflix', 'Nessuna marca in particolare  body soap', 'Host greets you', 'Satellite TV', 'Hayer refrigerator', 'Haier refrigerator', 'Varie marche  conditioner', 'Private outdoor pool - available all year, open specific hours', 'Hotel  body soap', '36\" HDTV with Amazon Prime Video, Netflix, standard cable', 'Clothing storage: walk-in closet, dresser, and wardrobe', '37\" HDTV with Netflix, Amazon Prime Video', '55\" HDTV with Apple TV, standard cable', '32\" TV with standard cable, Amazon Prime Video', 'Ecologico  body soap', 'Philips  sound system', 'Fast wifi – 498 Mbps', 'Palmaolive shampoo', 'Fast wifi – 584 Mbps', 'Private outdoor pool - available all year, open 24 hours, heated', 'INDESIT oven', 'DM conditioner', 'Elettrolux  refrigerator', '42\" HDTV with Amazon Prime Video', 'Go4sea body soap', 'Salvarani stainless steel oven', '28\" HDTV with ', 'Private fenced garden or backyard', 'Eletrolux gas stove', 'CIEFFEDERMA. Prodotti acquistabili in farmacia presso di noi con sconto del 40% body soap', 'De longhi stainless steel gas stove', 'Fast wifi – 580 Mbps', '32\" HDTV with Netflix, standard cable', 'Private outdoor pool - available seasonally, open 24 hours, heated, rooftop', '50\" HDTV with Amazon Prime Video, standard cable', 'Handzeep body soap', 'Non saprei stainless steel gas stove', 'Fast wifi – 164 Mbps', 'Jacklon shampoo', 'Intesa body soap', 'Fas Italia body soap', 'Any refrigerator', 'Philips stainless steel gas stove', 'Generico  conditioner', 'Wifi – 4 Mbps', 'Outdoor pool - ', 'Neutral body soap', '4-Plattenherd stainless steel gas stove', '32\" HDTV with standard cable, Amazon Prime Video, Chromecast, Netflix, premium cable', 'Fast wifi – 515 Mbps', '? stove', '1K_HOME body soap', '32\" HDTV with Netflix, DVD player', 'Private outdoor pool', 'Fast wifi – 306 Mbps', '2 fuochi stainless steel induction stove', '32\" TV with standard cable, Chromecast', 'Lofra stainless steel gas stove', 'Prodotti più comuni in commercio nella comunità europea body soap', 'Lovrèn shampoo', 'Varie Marche shampoo', 'LLG refrigerator', '18\" TV with premium cable', 'Prodotto biologico conditioner', '60\" HDTV with Apple TV', 'Private hot tub - available seasonally, open 24 hours', 'Fast wifi – 326 Mbps', '18\" HDTV with Amazon Prime Video, Netflix', 'AEG refrigerator', 'Wifi – 25 Mbps', 'Private pool - open specific hours', 'Private outdoor pool - heated, infinity, saltwater', 'Indesit stainless steel gas stove', 'Frank oven', 'Shared indoor pool - available all year, open specific hours, heated, lap pool, rooftop', 'Fast wifi – 558 Mbps', 'Paid parking lot on premises – 3 spaces', 'Vario (dove principalmente) body soap', 'OFFICINA NATURAE shampoo', 'Franke stove', 'GLEMGAS stainless steel gas stove', 'Many brands  shampoo', 'L Angelica o altro shampoo', 'Nivea shampoo', 'Fast wifi – 370 Mbps', 'Baby shampo Johnson  shampoo', 'Fast wifi – 832 Mbps', 'AKAI refrigerator', 'CIEFFEDERMA acquistabili in Farmacia o presso la struttura in promo 40% shampoo', 'Testanera shampoo', 'Ferrari oven', 'Bosh stainless steel gas stove', 'Bosh gas stove', '32\" HDTV with Amazon Prime Video, Netflix, premium cable, Roku, standard cable', 'Full Size Frig/Freezer refrigerator', 'SHAMPOO DOCCIA body soap', 'Culti body soap', 'Moulinex stainless steel oven', 'Shared outdoor pool - available seasonally, open specific hours, rooftop, sun loungers', 'Fast wifi – 664 Mbps', 'Hot plate/No oven electric stove', 'Alfresco shower', 'Devialette Bluetooth sound system', 'Clothing storage: closet, wardrobe, dresser, and walk-in closet', 'Fast wifi – 318 Mbps', 'Shared pool - open specific hours', '32\" HDTV with standard cable, Amazon Prime Video, Chromecast, Apple TV, HBO Max, Netflix, premium cable', 'Elextrolux  oven', 'Elseve conditioner', 'Monodose Dolce e Vita body soap', 'Paid valet parking on premises – 2 spaces', 'Cien body soap', 'Anyah body soap', 'Erbolario body soap', 'Shared pool - available all year', 'ERBORISTICO body soap', 'Garnier  conditioner', 'Fast wifi – 519 Mbps', 'ELECTROLUX stainless steel induction stove', '232\" HDTV', 'Majestic sound system', 'Clothing storage: walk-in closet, wardrobe, and dresser', 'Hi Sense  refrigerator', 'Samsung refrigerator', 'N&B - Natural is better body soap', 'Fast wifi – 529 Mbps', 'Doccia shampoo Apulia body soap', 'Biodegradabili shampoo', 'N.d. stainless steel oven', 'Whirlpool 6th sense stainless steel oven', 'Private outdoor pool - available seasonally, open specific hours, pool toys, rooftop, sun loungers', 'Free parking on premises – 4 spaces', 'Frigobar refrigerator', 'Clothing storage: walk-in closet', 'Vari shampoo', '47\" HDTV with Apple TV, Amazon Prime Video, standard cable, Netflix', 'Marshall refrigerator', 'Paid parking lot on premises – 30 spaces', 'Balea, fragrance free shampoo', '54\" HDTV with Chromecast, Netflix', 'Piastre stainless steel stove', 'Paid dryer', 'Private gym nearby', '32\" HDTV with Chromecast', 'Franke stainless steel oven', 'CANDY stainless steel oven', 'Bionsen body soap', 'Garnier body soap', 'Indesit 4 fuochi con accensione elettrica e valvola di sicurezza stainless steel gas stove', 'Aqua body soap', 'Fast wifi – 567 Mbps', 'Palmolive or dove  body soap', 'Shampo shampoo', 'Mediterraneo conditioner', 'La germania stainless steel oven', 'Lg stainless steel oven', '32\" TV with Netflix', '55\" HDTV with Apple TV, standard cable, Chromecast, Netflix, Amazon Prime Video', '45\" HDTV', 'Fast wifi – 643 Mbps', '55\" HDTV with Netflix, premium cable', 'Fast wifi – 925 Mbps', 'HK AUREA Bluetooth sound system', '55\" HDTV with standard cable, Netflix, Amazon Prime Video', '32\" HDTV with Roku, Amazon Prime Video, premium cable, Netflix', 'Fruttil shampoo', 'TV', 'Private outdoor pool - available seasonally, open 24 hours, rooftop', 'Comfeè refrigerator', 'John Richmond body soap', 'Hotel body soap/jel pack body soap', 'ARGAN body soap', 'Fast wifi – 508 Mbps', 'Shampoo lavaggi frequenti TEA Natura  shampoo', 'Cucina a induzione con forno stove', 'IKEA refrigerator', '45\" HDTV with standard cable', 'Outdoor shower', 'Marshall sound system with Bluetooth and aux', '46\" TV with Chromecast', 'Geneva green shampoo', 'Shared indoor pool - heated, infinity', 'Universale  shampoo', 'Fast wifi – 688 Mbps', 'Marrocanoil conditioner', 'Fast wifi – 70 Mbps', 'Delonghi stainless steel gas stove', 'Fast wifi – 214 Mbps', 'Generic shampoo', 'Fast wifi – 189 Mbps', '32\" HDTV with standard cable, Amazon Prime Video, Netflix', 'Kit cortesia conditioner', '43\" TV with Amazon Prime Video, Netflix', 'Heeley  body soap', 'Shampo doccia bio - sapone mani body soap', 'Roma body soap', 'TV with Netflix, Amazon Prime Video', 'Electrolux oven', 'Linea Vitaminica shampoo', 'Kelon conditioner', 'Paid folding or convertible high chair - available upon request', 'Fast wifi – 594 Mbps', 'Asprey body soap', 'Custom shampoo', 'Giostyle stainless steel oven', 'Private pool', 'Fast wifi – 424 Mbps', '27\" HDTV with Netflix, Amazon Prime Video', 'ENEBI Bluetooth sound system', 'Guest body soap', 'Yves Rocher conditioner', '50\" HDTV with Netflix, premium cable, standard cable', 'SMEG oven', 'Linea bio prodotta nel nord italia a base di olio di oliva body soap', 'Bio Honey body soap', 'Private outdoor pool - available all year, open 24 hours, infinity', '- gas stove', 'Oreal conditioner', '40\" HDTV with Netflix, premium cable', '43\" HDTV with Apple TV', 'Fast wifi – 552 Mbps', 'Washer', 'Bose + Teufel Bluetooth sound system', '43\" HDTV with Netflix, Amazon Prime Video, Apple TV', 'Building staff', 'Free parking on premises', 'Note marche italiane shampoo', '43\" HDTV with Chromecast', 'Lots of brands  body soap', 'IGNIS stainless steel electric stove', 'Best brands body soap', 'Fabita induction stove', 'Bio Lavera body soap', 'Shared sauna', 'Davines shampoo', '.  body soap', 'Alpeinox industriale stainless steel gas stove', 'Ekos bio body soap', 'O way  shampoo', 'Fast wifi – 782 Mbps', 'Fast wifi – 205 Mbps', 'Argania body soap', 'Fast wifi – 327 Mbps', 'Marantz  bobbine tape giradischi grunding sound monitor 2 sound system with aux', '39\" HDTV with standard cable, Amazon Prime Video, Netflix', 'Deko refrigerator', 'Indesit ventilato stainless steel oven', 'Jetted tub', 'Per maschio e femmina conditioner', 'Elvive shampoo', 'Bose Mini Bluetooth sound system', 'Diptyque shampoo', '50\" HDTV with premium cable, Amazon Prime Video', '49\" HDTV with standard cable, Chromecast', 'SET CORTESIA shampoo', 'Private outdoor pool - infinity, lap pool, rooftop, saltwater', 'MALIN+GOETZ  body soap', 'Wirpool stainless steel oven', 'AEG stainless steel electric stove', '64\" HDTV', 'LG Inverter refrigerator', 'Fast wifi – 173 Mbps', 'Paid parking garage on premises – 10 spaces', '38\" TV with standard cable', 'Sapone per il corpo e bagnoschiuma body soap', 'Fructis conditioner', 'Laundromat nearby', 'Fast wifi – 468 Mbps', 'Fast wifi – 322 Mbps', 'Chiseloricorda refrigerator', 'Zerowatt refrigerator', 'Private outdoor pool - available seasonally, open specific hours, heated, saltwater', 'Internet', '18\" TV', 'Cand refrigerator', 'CUCINA A PAGAMENTO Kitchen Additional charge  oven', 'Whirlpool gas stove', '38\" HDTV with Amazon Prime Video, Netflix', '85\" HDTV', '72\" HDTV with Amazon Prime Video, Apple TV, Netflix, standard cable', 'BOSCH refrigerator', 'Jhonsob body soap', 'Anker - Mod. A3143 Bluetooth sound system', 'Gym', 'Elettrico ventilato oven', 'Infinity pool', '40\" TV with Chromecast, Netflix', '58\" HDTV with Netflix, Chromecast, Amazon Prime Video', 'Acqua di Parma  body soap', 'Diptyque conditioner', 'Hotpoint refrigerator', 'Wifi – 2 Mbps', 'Wifi – 11 Mbps', 'Sapone neutro body soap', 'Fast wifi – 442 Mbps', 'Può variare la marca dello shampoo shampoo', ' Beko  refrigerator', 'Private outdoor pool - lap pool', 'Fast wifi – 314 Mbps', 'Selezione Sea Tower conditioner', '32\" HDTV with Netflix, Amazon Prime Video', 'Respekta  stainless steel electric stove', 'Etro shampoo', 'Samsung  sound system with Bluetooth and aux', 'Prodotti locali body soap', 'Shared outdoor pool - available all year, open 24 hours', 'TV with Apple TV, Amazon Prime Video, Netflix, standard cable', 'De Longhi stainless steel oven', 'HDTV with Amazon Prime Video, Netflix, standard cable, Chromecast, Apple TV, HBO Max, Roku', '20\" TV with DVD player', 'Saponificio veneziano (veg) body soap', 'Wirphool refrigerator', 'MEDITERRANEATTITUDINE body soap', 'Fast wifi – 132 Mbps', '1\" HDTV with standard cable', '32\" HDTV with Amazon Prime Video', 'Sony dolbie home theater  sound system with Bluetooth and aux', 'Hotpoint gas stove', 'Whirpool  refrigerator', 'Vidal  body soap', 'Classico body soap', 'Atlantic stainless steel gas stove', 'Ignis stainless steel gas stove', 'Fast wifi – 418 Mbps', 'Paid pack ’n play/travel crib - always at the listing', 'Felce Azzurra, Panthene, Johnson body soap', '50\" HDTV with Netflix, premium cable', 'Fast wifi – 410 Mbps', '49\" HDTV with Amazon Prime Video', 'Fast wifi – 254 Mbps', 'Shared pool - rooftop', 'HDTV with Chromecast, Netflix, premium cable', 'De longhi oven', 'Professionale alla mandorla conditioner', 'Paid parking on premises – 3 spaces', 'Several types available on site shampoo', 'Fast wifi – 228 Mbps', 'ANYAH eco spa treatment shampoo', 'Hinsen  refrigerator', 'Changing table', '42\" HDTV with Netflix, standard cable', 'Fast wifi – 311 Mbps', 'Fast wifi – 484 Mbps', '50\" HDTV with Amazon Prime Video, Netflix', 'Saponetta monouso body soap', 'Fast wifi – 454 Mbps', 'Geneva Green conditioner', 'Garnier conditioner', 'Private entrance', 'Fast wifi – 207 Mbps', 'Free driveway parking on premises – 2 spaces', '39\" HDTV', 'Fast wifi – 700 Mbps', '27\" HDTV with Chromecast', 'Fast wifi – 163 Mbps', 'Richmond conditioner', '49\" HDTV with Netflix, Amazon Prime Video, premium cable', 'Philips gas stove', 'Fast wifi – 115 Mbps', '40\" HDTV with Amazon Prime Video, Apple TV, Netflix, premium cable, standard cable', 'Bosch electric stove', 'Parrot Philip Starck Bluetooth sound system', '. oven', 'Nivea o altre marche conditioner', '43\" HDTV with Amazon Prime Video, Apple TV, Chromecast, HBO Max, Netflix, premium cable, Roku, standard cable', 'Qualsiasi  gas stove', 'Fast wifi – 274 Mbps', 'Di buona qualità body soap', 'Fast wifi – 494 Mbps', '150\" HDTV with Amazon Prime Video, Netflix, Apple TV', '43\" HDTV with DVD player', 'Smeg  stainless steel oven', 'Ecologico body soap', 'Framesi  conditioner', 'BIO ENERGY bathgel&shampoo body soap', 'Piano cottura a induzione con 2 fuochi induction stove', 'Loreal, camomilla e miele  shampoo', 'Paid washer – In building', '24\" HDTV with ', 'Fast wifi – 329 Mbps', 'Fast wifi – 348 Mbps', 'Sonos sound system', 'Bagno doccia liquido body soap', '- refrigerator', 'Aqua Flor body soap', 'Fast wifi – 815 Mbps', 'Davines body soap', 'Hotpoin Aristion refrigerator', '32\" HDTV with Amazon Prime Video, Netflix, standard cable, DVD player', 'Disponibili bagno schiuma shampoo e crema corpo body soap', 'Standard body soap', 'Fast wifi – 221 Mbps', 'Varia body soap', '42\" TV with premium cable, standard cable', 'A59 body soap', '30\" HDTV with premium cable', 'Tutti i prodotti forniti sono rigorosamente ecologici,senza parabeni e senza conservanti  body soap', 'Denon Bluetooth sound system', 'Whirpool  stainless steel gas stove', 'MIELE refrigerator', 'IGNIS refrigerator', 'Rizzoli stainless steel gas stove', 'Clothing storage: closet, dresser, and walk-in closet', 'Fast wifi – 217 Mbps', 'Bio per capelli lisci, per capelli ricci, per lavaggi frequenti  shampoo', 'Fast wifi – 211 Mbps', 'Fast wifi – 191 Mbps', 'Shared fenced garden or backyard', 'Fast wifi – 288 Mbps', 'Bluetooth sound system', 'Clear shampoo', 'Geneve body soap', '27\" HDTV with Chromecast, standard cable', 'Neutro conditioner', 'Any  body soap', 'Office', 'Fast wifi – 204 Mbps', 'Aura body soap', '33\" HDTV with Amazon Prime Video', 'KARLSTEIN induction stove', '44\" HDTV', 'Provence  conditioner', 'Splendor conditioner', 'Sapone liquido body soap', 'MALIN+GOETZ body soap', 'Oliva shampoo', '32\" HDTV with Chromecast, standard cable', '55\" HDTV with Chromecast, standard cable', '46\" HDTV with Amazon Prime Video, Netflix', 'Fast wifi – 62 Mbps', 'Garnier, l’oreal, sunsilk conditioner', 'Fast wifi – 472 Mbps', 'Portable air conditioning', 'Prodotto ecologico shampoo', 'Fast wifi – 304 Mbps', '15\" TV', 'Fast wifi – 344 Mbps', '32\" HDTV with standard cable, Chromecast', 'Fast wifi – 126 Mbps', 'BREEZE body soap', 'Le Petit Marsellais body soap', 'Con cucina snaidero refrigerator', '27\" HDTV', 'Guest line Hotel shampoo', 'Electrolux Rex stainless steel oven', '45\" HDTV with Amazon Prime Video, Chromecast, Netflix, premium cable, Roku, standard cable', 'AEG induction stove', '43\" HDTV with Amazon Prime Video, Netflix, standard cable', 'Biologico alla spina body soap', 'Fast wifi – 253 Mbps', '40\" HDTV with Amazon Prime Video, Apple TV, Netflix', 'Generale refrigerator', '!!! stove', 'Shared hot tub - available all year, open specific hours', 'Fas Italia shampoo', 'Mini bar !! Not refrigerator  refrigerator', 'Monodose  shampoo', '55\" HDTV with Amazon Prime Video, Netflix, Chromecast', 'Lariol body soap', 'Due ripiani  refrigerator', 'Metro shampoo', 'Unisex  stainless steel gas stove', 'Whirlpool stainless steel oven', '43\" HDTV with Amazon Prime Video', 'Ariete refrigerator', 'Barazza gas stove', 'Private outdoor pool - available all year, open 24 hours, lap pool, rooftop, sun loungers', '42\" TV with standard cable, premium cable', 'Pikenz  conditioner', 'CULTI MILANO shampoo', 'TV with Amazon Prime Video, Chromecast, Netflix, standard cable, DVD player', 'HDTV with Amazon Prime Video, Apple TV, Netflix, premium cable', '32\" HDTV', 'Zoppas Clima4 refrigerator', 'Fast wifi – 83 Mbps', 'Ok oven', 'Erboristeria shampoo', '55\" HDTV with Apple TV', 'Bio conditioner', 'Shared outdoor pool - available seasonally, open 24 hours, infinity, rooftop', 'Head&shoulders shampoo', 'Commerciale body soap', 'Whirpool  induction stove', '39\" HDTV with Amazon Prime Video, Netflix, DVD player', 'Sapone naturale \"la bottega di Atena\" body soap', 'Fornetto elettrico per massimo 2 persone stainless steel oven', 'Cassa acustica APPLE e GOOGLE assistant  sound system with Bluetooth and aux', 'Delonghi induction stove', 'IKEA. one ring induction stove', 'TV with Amazon Prime Video, Apple TV, Netflix, Roku, standard cable', '45\" TV', '26\" HDTV', 'Sun loungers', 'Personalizzato body soap', 'Piano induzione stove', '40\" HDTV with Amazon Prime Video', 'Candid gas stove', 'Paid clamp on table seat high chair - available upon request', \"Tesori d'oriente body soap\", 'Ariete stainless steel oven', 'Vari nichel free body soap', 'Mitsubisi conditioner', '42\" HDTV with Amazon Prime Video, HBO Max, Chromecast, Netflix, standard cable', 'Linee di cortesia a disposizione body soap', 'Balsamo conditioner', 'TV with Apple TV, Amazon Prime Video', 'Shared outdoor pool - available seasonally, open specific hours, infinity, rooftop', 'Hand & Body Soap body soap', 'ELECTROLUX stainless steel gas stove', 'Shared outdoor pool - open specific hours', 'Fructis body soap', 'AURA (made in Italy) body soap', 'Vari marchi.  body soap', 'Hotel body soap', '42\" HDTV with Amazon Prime Video, Apple TV, Chromecast, HBO Max, Netflix, premium cable, Roku, standard cable', '30\" TV with premium cable', 'Fast wifi – 549 Mbps', 'Private outdoor pool - available seasonally, open specific hours, heated, infinity', 'Sound system with aux', '40\" TV with DVD player', 'Fast wifi – 57 Mbps', 'Miele stainless steel oven', 'Usiamo prodotti alla spina shampoo', 'Shampoo e balsamo bio conditioner', 'Hoover oven', 'Elettrolux  oven', 'Sansung refrigerator', 'Amazon alexa sound system with Bluetooth and aux', 'Fast wifi – 59 Mbps', 'Fast wifi – 75 Mbps', 'Wifi – 6 Mbps', 'Refrigeratore senza freezer refrigerator', 'Dimmension shampoo e balsamo. conditioner', 'Central air conditioning', 'Free parking on premises – 1 space', 'Fast wifi – 65 Mbps', 'Fast wifi – 168 Mbps', '32\" HDTV with Amazon Prime Video, Apple TV, Chromecast, HBO Max, Netflix, premium cable, Roku, standard cable', 'Torq body soap', '1K_HOME shampoo', 'Aveda conditioner', 'Fast wifi – 330 Mbps', 'Parker stainless steel stove', 'Mugello body soap', 'SAPONE LIQUIDO body soap', 'Generic body soap', 'INDESIT stainless steel stove', '43\" HDTV with ', 'Frigobar privato in camera refrigerator', 'Feel Wellness ECO body soap', 'Wifi – 33 Mbps', 'Soap body soap', 'Samsung no frost integrale refrigerator', 'Il Giardino del Sole body soap', 'Fast wifi – 480 Mbps', 'Paid crib - always at the listing', 'HOTPOINT stainless steel oven', 'Wifi – 31 Mbps', 'Elettrico  oven', 'Fornetto Elettrico completo di istruzioni e dotato di carta forno sul vassoietto refrigerator', 'Elettrico electric stove', 'Variabile  body soap', 'Nardi  Fra 409  stainless steel oven', 'Fast wifi – 565 Mbps', 'VIVALDI AUTOPARLANTI DOCCIA-BAGNO E IN TUTTO IL LOFT sound system with Bluetooth and aux', 'Fast wifi – 226 Mbps', 'Neutr shampoo', 'ARIETE stainless steel oven', 'ERRETI conditioner', 'Marchio locale  body soap', 'Mg refrigerator', 'De longhi gas stove', 'Candy  gas stove', 'Shower gel', '32\" TV with Amazon Prime Video, standard cable', 'Sapone naturale artigianale body soap', '38\" TV', 'Pikenz shampoo', 'Winnis body soap', 'Indesit stove', 'Philips sound system with Bluetooth and aux', '32\" HDTV with Amazon Prime Video, Chromecast, Netflix', 'Cucina stainless steel induction stove', 'Fondonatura shampoo', 'Fornelli a induzione stove', '46\" HDTV', 'Fast wifi – 141 Mbps', 'Fast wifi – 658 Mbps', '22\" TV with Amazon Prime Video, Netflix', 'Booo gas stove', 'Complimentary courtesy set. body soap', 'Wifi – 3 Mbps', 'FRIGORIFERO GRANDE refrigerator', '40\" HDTV with Apple TV, Netflix, Amazon Prime Video', '24\" HDTV with Amazon Prime Video, standard cable', 'Bosh  induction stove', 'Shared outdoor pool - available seasonally, open specific hours, rooftop', 'Fast wifi – 286 Mbps', 'Delicato body soap', 'Game room', 'Ariston stainless steel electric stove', 'Near, altri su richiesta shampoo', 'Fast wifi – 276 Mbps', '55\" HDTV with Amazon Prime Video, Netflix', 'Le migliori marche conditioner', 'Energy green tea bio shampoo', 'FRANKE refrigerator', 'Johnson body soap', 'Candy  stove', 'Private outdoor pool - available seasonally, open specific hours, heated, pool cover, sun loungers', 'Bathtub', 'Geberit body soap', \"L'OREAL shampoo\", 'DAVA refrigerator', 'Beko  refrigerator', 'Free driveway parking on premises – 20 spaces', 'Eco Brand shampoo', 'Borotalco body soap', '49\" HDTV with standard cable', 'Pantene 2 in 1 Conditioning Shampoo shampoo', 'Fast wifi – 521 Mbps', '4\" HDTV with Amazon Prime Video, Netflix', 'Amazon Alexa Bluetooth sound system', 'Naturkosmetik shampoo', 'Shared outdoor pool - open specific hours, infinity', 'Yves Rocher  shampoo', 'Fragrance d’Orient  body soap', 'TV with Netflix', 'VG7 Soundcast Bluetooth sound system', 'Fast wifi – 539 Mbps', 'Antica erboristeria shampoo', '35\" HDTV', '47\" HDTV with Chromecast, premium cable, standard cable', 'Mya Argan shampoo', 'Alexa in ogni stanza può diffonere la musica con una qualità soddisfacente  sound system', 'Game console: Nintendo Switch and Xbox One', 'Free driveway parking on premises – 50 spaces', 'Frogorifero sotto top refrigerator', '46\" HDTV with DVD player', '130\" HDTV with Netflix, Chromecast, Amazon Prime Video, Apple TV', 'B&B SHAMPOO shampoo', 'Free parking garage on premises', '41\" HDTV with Chromecast', 'HDTV with Amazon Prime Video, Apple TV, Chromecast, Netflix, standard cable', 'Fast wifi – 331 Mbps', \"Shampoo Biologico all'olio d'oliva by Present-More shampoo\", '25\" TV with standard cable', 'Fast wifi – 573 Mbps', 'Conditioning Shampoo conditioner', 'Microonde oven', '44\" HDTV with Amazon Prime Video, Netflix', 'XXX refrigerator', '32\" HDTV with premium cable, DVD player', 'Marchi commerciali  body soap', 'Fast wifi – 158 Mbps', 'INTESA gel doccia shampoo shampoo', 'Althaea  shampoo', 'Proshop body soap', 'Set doccia, crema corpo, saponetta, ciabatte.  body soap', 'SVR body soap', '43\" HDTV with Netflix, Roku, standard cable', 'Eos conditioner', '260\" TV', 'TV with standard cable, Amazon Prime Video', 'Paid parking garage on premises – 50 spaces', '32\" TV with standard cable', 'ARISTON stainless steel oven', 'Filodiffusione in camera e bagno Bluetooth sound system', '56\" HDTV with Amazon Prime Video, Chromecast, Netflix, premium cable', 'Clothing storage: walk-in closet and dresser', 'Game console: Xbox One and Xbox Series X', 'Private outdoor pool - available seasonally, open specific hours, saltwater', 'Delonghi  oven', 'Prodotto Bio body soap', 'Fast wifi – 896 Mbps', 'Fast wifi – 153 Mbps', '19\" HDTV', 'Misto  shampoo', 'X refrigerator', 'Vitaminica shampoo', '48\" HDTV with standard cable', 'Shared outdoor pool - available seasonally, open 24 hours, infinity, olympic-sized', 'Indesit  stainless steel gas stove', 'Not refrigerator', 'SAMSUNG refrigerator', '50\" HDTV with Chromecast, premium cable, standard cable', 'You and Me shampoo', '42\" HDTV with Chromecast, standard cable', 'Una shampoo', 'Samsung, Alexa Bluetooth sound system', 'Fire extinguisher', 'Indesit gas stove', 'Sapone di marsiglia body soap', 'NOTTE-MADE IN ITALY conditioner', 'Ikea electric stove', '60\" HDTV with Amazon Prime Video, standard cable', 'Fast wifi – 478 Mbps', '32\" HDTV with Apple TV', 'ECOLABEL shampoo', 'Not specific shampoo', 'Nespresso machine', 'HDTV with Netflix, premium cable, standard cable', 'Fast wifi – 137 Mbps', 'O way  body soap', 'Multiuso (hair, hands & body) shampoo', 'A seconda della disponibilità  body soap', 'Shared hot tub - available seasonally, open specific hours', 'Pool - saltwater', 'Ortigia body soap', 'Commerce body soap', 'MALIN+GOETZ shampoo', '1\" HDTV', 'Premium brands body soap', 'Non definito body soap', '46\" HDTV with premium cable', 'Eco friendly shampoo', 'Gas fireplace', 'Gfl Italia body soap', 'Fast wifi – 644 Mbps', 'Kit conditioner', 'No frost refrigerator', '42\" HDTV with Netflix, Chromecast', '60\" HDTV with Amazon Prime Video, Netflix', '40\" HDTV with Amazon Prime Video, Netflix', '58\" HDTV', '39\" HDTV with Amazon Prime Video, Apple TV', \"Nell'alloggio refrigerator\", 'Neutral refrigerator', '40\" HDTV with Chromecast', 'Base shampoo', 'Elettrolux ad induzione stainless steel stove', '45\" HDTV with Chromecast, standard cable', 'Normal Shampoo shampoo', 'Linea di saponi di cortesia body soap', 'Sono a disposizione degli ospiti più marche di balsami e shampoo conditioner', 'Dyson stainless steel oven', 'Italiano body soap', '14\" TV', '49\" HDTV with Amazon Prime Video, Netflix, standard cable', 'HDTV with Roku, Apple TV, Netflix, HBO Max, DVD player, Amazon Prime Video, standard cable, Chromecast, premium cable', 'Malin & Goetz body soap', 'De Longhi stainless steel gas stove', '32\" HDTV with HBO Max', 'Pack ’n play/Travel crib - available upon request', 'Frigo  refrigerator', 'Herbalogica body soap', '55\" HDTV with Amazon Prime Video, Chromecast, Netflix, standard cable', 'Kit cortesia monouso body soap', '50\" HDTV with Amazon Prime Video, Apple TV, Netflix', '44 Suite shampoo', 'Jonson body soap', 'Shared hot tub - available all year, open 24 hours', 'Universale body soap', 'Casa Sbrizza stainless steel gas stove', 'Linea bio prodotta nel nord Italia a base di olio di oliva conditioner', 'Bagnoschiuma body soap', 'Duschgel body soap', '40\" HDTV with standard cable, Amazon Prime Video, Netflix', 'Fenced garden or backyard', 'Bioscalin shampoo', '34\" HDTV with standard cable', '40\" HDTV with Apple TV', 'Zanussi refrigerator', 'HDTV with standard cable, Netflix', 'Dolce vita conditioner', 'Spuma di sciampagna body soap', '42\" HDTV with premium cable', '35\" TV with standard cable', 'Paid valet parking on premises – 5 spaces', 'Free parking on premises – 15 spaces', 'TV with Amazon Prime Video, Netflix', 'Samsung  stainless steel oven', 'Paid parking lot on premises – 2 spaces', 'Liquid soap body soap', '43\" HDTV with Amazon Prime Video, Apple TV, Netflix', 'Shared outdoor pool - available all year, infinity, rooftop', 'Doccia shampoo body soap', 'Candy  induzione stove', 'Clothing storage: wardrobe, closet, walk-in closet, and dresser', 'Malin + Goetz conditioner', 'Mill body soap', 'Alpes stainless steel gas stove', 'TV with Apple TV', 'Hangers', 'Dictrolux induction stove', 'Senza mcchie e incrostazioni  stainless steel gas stove', 'Cassa Bose Bluetooth sound system', '27\" HDTV with Amazon Prime Video, Netflix', 'Fast wifi – 607 Mbps', 'Anyah shampoo', 'NESSUNO conditioner', 'Hotpoint Ariston  induction stove', 'Mini fridge', 'Biodegradabili body soap', 'Hotpoint Ariston induction stove', 'Igs stove', 'Fast wifi – 169 Mbps', '32\" HDTV with Amazon Prime Video, Chromecast, Netflix, standard cable', 'Mandorla&Karitè  sf Project shampoo', 'FOLKLIG 50291619 set with power limitation for safety purposes induction stove', 'Fast wifi – 747 Mbps', 'Atlantic  refrigerator', 'Balabomba Bluetooth sound system', 'Dryer', '42\" HDTV with Netflix, premium cable', 'Philips  stainless steel oven', '24\" HDTV with Amazon Prime Video', 'SMEG 90 cm stainless steel oven', 'Fast wifi – 511 Mbps', 'Aster refrigerator', 'Sapone di Aleppo body soap', '35\" HDTV with Chromecast', 'Stengel stainless steel electric stove', 'Paid high chair', 'GFERRARI  - INDUCTION ELETRIC stainless steel stove', 'Whirpool  gas stove', 'Raymond refrigerator', 'Olivone body soap', 'Fast wifi – 561 Mbps', '32\" TV with Chromecast, standard cable', '13\" TV with standard cable', 'Fast wifi – 79 Mbps', 'Mil shampoo', 'Fast wifi – 850 Mbps', 'MilMil body soap', 'Idea Toscana body soap', 'Frigo ad incasso con 4 ripiani  refrigerator', 'WHIRLPOOL stainless steel oven', '32\" HDTV with Amazon Prime Video, Netflix, premium cable', 'Generico refrigerator', 'Fast wifi – 76 Mbps', 'Awei Bluetooth sound system', 'Paid valet parking on premises – 7 spaces', 'Beco refrigerator', 'Ariston hotpoint refrigerator', 'Candy induction stove', '49\" HDTV with Netflix', 'Benko stainless steel gas stove', 'Marshall  sound system with Bluetooth and aux', 'Free dryer – In unit', 'TV with Apple TV, Netflix', 'Kit cortesia con prodotti biologici body soap', 'Bagnoschiuma mini size body soap', '17\" TV with Amazon Prime Video, Netflix, standard cable', 'Game console: PS3', '40\" HDTV with premium cable', 'MAJOLICA NOIR SOAP shampoo', '29\" HDTV with premium cable, standard cable', 'A richiesta conditioner', 'Beko stainless steel oven', '42\" TV with standard cable', 'Game console: Nintendo Switch and PS4', 'Baby safety gates', 'Fast wifi – 106 Mbps', '100\" HDTV with Netflix', 'Villoresi body soap', 'Fast wifi – 258 Mbps', 'Luggage dropoff allowed', 'Panasonic sound system', \"Profumi D'Oriente body soap\", 'Google Bluetooth sound system', '24\" TV with standard cable', 'Fast wifi – 375 Mbps', 'BOMPANI refrigerator', 'Philips Bluetooth sound system', 'Essentia Puglia conditioner', 'Private outdoor pool - available seasonally, open specific hours', 'Ferrari Mini Forno oven', 'Free parking garage on premises – 2 spaces', 'Charcoal barbeque', \"L'erbolario  body soap\", 'Melchioni Frigo in camera refrigerator', 'Beko gas stove', 'Fast wifi – 338 Mbps', 'Fast wifi – 97 Mbps', '65\" HDTV with Netflix, premium cable, standard cable', 'BOSCH AD INDUZIONE stainless steel stove', 'Fast wifi – 390 Mbps', 'Alexa Amazon sound system', 'LG 150 Lt. + 70 Lt. refrigerator', 'Delonghi gas stove', 'Fast wifi – 470 Mbps', 'Shared outdoor pool - infinity', 'Private outdoor pool - heated, infinity, lap pool, saltwater', 'ELECTROLUX refrigerator', 'Smeg induction stove', 'Linea cortesia body soap', 'Fast wifi – 203 Mbps', 'SMEG stainless steel gas stove', '43\" HDTV with standard cable, Apple TV, Chromecast, Amazon Prime Video', 'Fast wifi – 546 Mbps', 'Whirpool induction stove', 'Linea cosmetica Prija per corpo e capelli. conditioner', 'Filodiffusione sound system with Bluetooth and aux', '24\" HDTV with Netflix, Amazon Prime Video', 'Bosh induction stove', 'Equilibra conditioner', 'Fast wifi – 620 Mbps', 'Smeg stainless steel oven', \"Winni's conditioner\", 'LG sound system with aux', 'We provide shower gel, shampoo and body lotion body soap', 'Pantene/Garnier shampoo', '48\" HDTV with Chromecast, standard cable', 'Roberts shampoo', 'Anker  Bluetooth sound system', 'Radio vintage con bluetooth sound system with Bluetooth and aux', 'HDTV with Netflix, standard cable, Amazon Prime Video, premium cable', 'Ortigia, Italy conditioner', 'Vari body soap', 'Shared outdoor pool - available seasonally, open 24 hours, infinity, rooftop, saltwater', 'TV with premium cable, standard cable', 'Xxx stove', 'Ilve oven', 'Set di cortesia body soap', 'Fast wifi – 574 Mbps', 'Mediterranea conditioner', 'Children’s books and toys', 'Shared pool - available seasonally, open specific hours, saltwater', 'Bompiani refrigerator', 'Samsung sound system', 'Hobo shampoo', 'Diverse body soap', 'I migliori in commercio body soap', 'Allegrini Ecolabel body soap', \"L'ORÉAL shampoo\", 'Franke oven', 'GOOGLE sound system', 'A induzione stove', '43\" HDTV with Amazon Prime Video, Apple TV, Chromecast, Netflix, standard cable', 'Jhonson shampoo', 'Pool', 'Vari sound system', 'Fast wifi – 216 Mbps', 'Kaloderma body soap', 'Lettore dvdcd sound system', 'Fast wifi – 604 Mbps', 'TEA NATURA body soap', 'Le migliori marche body soap', 'Paid parking lot on premises – 50 spaces', 'Ikea stove', 'Aqua Flor shampoo', 'Villoresi shampoo', 'Varie marche  body soap', 'Cucina ad induzione 4 piastre stove', 'Bose  Bluetooth sound system', '48\" HDTV with Amazon Prime Video, standard cable', 'Freezer', '60\" HDTV with Amazon Prime Video, Apple TV, Chromecast, Netflix, premium cable', 'Samsung 5.1 sound system', '28\" HDTV with premium cable, standard cable', 'Candy stainless steel oven', '28\" HDTV with standard cable', 'Shampo bio aloe shampoo', '42\" HDTV with Amazon Prime Video, Netflix, Roku', 'Altro refrigerator', 'Outdoor pool - available all year, open specific hours', 'Bio italiano  body soap', 'General stainless steel stove', 'HDTV with Amazon Prime Video, Chromecast, HBO Max, Netflix, premium cable, Roku, standard cable', '2 electric plates stove', 'KIT DI CORTESIA EVERGREEN, CREMA CORPO, CUFFIA DOCCIA E VANITY SET INCLUSI body soap', 'A legna oven', 'Piastra a induzione stove', 'CHECKIN body soap', 'Lg sound system', 'Shared hot tub - available all year', 'HDTV with Amazon Prime Video, Netflix, standard cable, DVD player', 'Private outdoor pool - available seasonally, sun loungers', 'De longhi  oven', 'Pool - open specific hours', 'Fast wifi – 716 Mbps', '55\" HDTV with standard cable', 'Ortigia shampoo', 'Hotel Bio body soap', 'Smart shampoo', 'Standard liquid soap in dispensers made by \"Near\" . Other type available on site. body soap', 'Neutrmed body soap', 'Sumsumg  refrigerator', 'Zoppas stainless steel oven', 'TILLREDA induction stove', 'Liquido body soap', 'Cambridge Audio Bluetooth sound system', 'TV with Netflix, standard cable, Amazon Prime Video', 'Jonson&Jonson shampoo', 'Whirlpool stainless steel gas stove', 'Ciaurusi - essenze di Sicilia conditioner', \"Dove, L'angelica, Omia, Mantovani, Felce Azzurra body soap\", 'VIDAL body soap', 'Heeley shampoo', '50\" HDTV with Netflix, standard cable', 'Set di cortesia: saponette, shampoo, bagno doccia body soap', 'Electrolux stainless steel gas stove', 'Induzione Ikea stove', 'Combinato microonde oven', '40\" HDTV with standard cable, Apple TV', 'Personalizzato shampoo', 'Private outdoor pool - available all year, open specific hours, heated, saltwater', '42\" HDTV with Chromecast, premium cable', 'Confezione mono dose shampoo', 'Crib', 'Elettrolux refrigerator', 'Intesa Ginseng shampoo', 'Fast wifi – 159 Mbps', 'Impianto stereo con altoparlanti interni ed esterni sound system with aux', '17\" TV', 'Smeg gas stove', 'Ikea stainless steel stove', 'Monster Rave Box Bluetooth sound system', '60\" HDTV', 'Private outdoor pool - infinity, sun loungers', 'BOSH oven', 'Testanera conditioner', 'Indesit  stainless steel oven', 'HDTV with Amazon Prime Video, Netflix, premium cable', '24\" HDTV with DVD player', 'Paid parking lot on premises – 20 spaces', 'FELCE AZZURRA/CLEO body soap', 'New Dimension  shampoo', 'Pikenz body soap', 'Frigorifero in camera refrigerator', 'Normale Marken  body soap', \"L'Erbolario ginepro nero shampoo\", 'Color \"su richiesta\" shampoo', 'GAGGENAU stainless steel stove', 'BOSH stainless steel oven', ',,, stainless steel oven', '65\" HDTV with Apple TV, Amazon Prime Video, standard cable, Netflix, Chromecast', 'Neutro roberts  body soap', 'Classico stainless steel oven', 'Monodose  conditioner', 'Diffusore body soap', 'Compreso nel Kit di benvenuto shampoo', 'Keurig coffee machine', 'HDTV with Amazon Prime Video, Apple TV, standard cable', 'Fast wifi – 257 Mbps', 'Fast wifi – 371 Mbps', 'Dm body soap', 'Fast wifi – 765 Mbps', 'Fast wifi – 107 Mbps', 'Megaboom  Bluetooth sound system', 'Sapone universale per donna e uomo  body soap', 'Wifi', 'Shared indoor pool - available all year, open specific hours, heated, infinity, lap pool, rooftop, saltwater', 'Nivea  body soap', 'Bosch induzione induction stove', 'Ombia conditioner', '35\" HDTV with Amazon Prime Video, Apple TV, Chromecast, HBO Max, Netflix, Roku, standard cable', '65\" HDTV with standard cable', 'Neff oven', \"L'Oreal shampoo\", 'Fast wifi – 72 Mbps', '45\" HDTV with DVD player', 'Classico electric stove', 'Dryer –\\xa0In unit', 'Geneva Green shampoo', 'Fast wifi – 184 Mbps', '29\" HDTV with Amazon Prime Video', '32\" TV', 'Fast wifi – 84 Mbps', '14\" TV with standard cable', 'ROBERTS shampoo', '42\" TV', 'Professionale alla mandorla shampoo', 'Frigo medio  refrigerator', 'Keratin Hair Therapy professional conditioner', 'IKEA Bluetooth sound system', '27\" TV', 'Sony home theatre 5.1 sound system', '36\" HDTV with Amazon Prime Video, Chromecast, Netflix, standard cable', 'Sono a disposizione degli ospiti numerose marche di shampoo shampoo', '55\" HDTV with Amazon Prime Video, Netflix, standard cable', 'Samsung soundbar sound system with Bluetooth and aux', 'Bio shampoo', 'YAMAHA Bluetooth sound system', 'Non specifié body soap', 'Lusini hotellerie  shampoo', 'Avana body soap', '34\" HDTV with Amazon Prime Video, premium cable, standard cable', 'Ecological shampoo', 'Outdoor pool - available all year, infinity', 'Shared outdoor pool - available seasonally, open 24 hours, heated, rooftop, saltwater', 'Nivea etc body soap', 'Breeze body soap', '35\" TV with Netflix, standard cable', 'Piastra 1000w electric stove', 'Private hot tub - open 24 hours', '55\" HDTV with Apple TV, premium cable, standard cable, Amazon Prime Video, Netflix', 'Marantz sound system with Bluetooth and aux', 'Fast wifi – 378 Mbps', 'Shared outdoor pool - available seasonally, open 24 hours, saltwater, sun loungers', 'PinoSilvestre body soap', 'Herbalogica shampoo', 'Private outdoor pool - rooftop', 'Ok refrigerator', 'Fast wifi – 80 Mbps', 'Fast wifi – 634 Mbps', 'Induction stove', 'Room-darkening shades', 'Delonghi stainless steel oven', 'Philips stainless steel oven', '28\" HDTV', '42\" HDTV with standard cable', 'Miele oven', 'Dove  shampoo', '55\" HDTV with Netflix, standard cable, Apple TV, Amazon Prime Video, premium cable', 'Su richiesta  conditioner', '26\" TV with standard cable', 'Palmolive shampoo', 'Garnier shampoo', '40\" HDTV with standard cable', 'Ariston  refrigerator', 'Fast wifi – 633 Mbps', 'Shared pool', '40\" HDTV', 'Columbus shampoo', 'ARISTON refrigerator', 'Fast wifi – 555 Mbps', 'Fast wifi – 95 Mbps', 'Pino Silvestre body soap', 'Fast wifi – 86 Mbps', '65\" HDTV with standard cable, Amazon Prime Video, Chromecast, Netflix, premium cable', 'Bompani refrigerator', 'Nar stove', 'Clothing storage: dresser, wardrobe, walk-in closet, and closet', '50\" HDTV with premium cable', 'Erbolario linea luxury  body soap', 'Meraviglie di Rio Terà (Ve) body soap', 'Fast wifi – 239 Mbps', 'Serafin refrigerator', 'Monouso karisma Doccia Shampoo 10ml  shampoo', '65\" HDTV with Amazon Prime Video', 'Biodegradabile shampoo', 'ANTICA SAPONERIA TOSCANA shampoo', 'Fast wifi – 100 Mbps', 'Private outdoor pool - available seasonally, open specific hours, lap pool, rooftop', '60\" HDTV with Amazon Prime Video, Apple TV, HBO Max, Netflix', 'Clothing storage: wardrobe, closet, and walk-in closet', 'Samung refrigerator', 'Bompiani  refrigerator', 'Fast wifi – 582 Mbps', 'Confezioni monouso shampoo', '43\" HDTV with Netflix, Amazon Prime Video, standard cable', 'Fast wifi – 133 Mbps', '40\" HDTV with Netflix, Amazon Prime Video', 'Sabaj Bluetooth sound system', 'Miele/Franke induction stove', 'Coco conditioner', 'Neutro Roberts  body soap', 'Fast wifi – 131 Mbps', '60\" HDTV with Amazon Prime Video, HBO Max, Netflix, standard cable', 'Smeg stainless steel gas stove', 'SVR Topialyse Huile lavante body soap', 'Idesit refrigerator', 'Induzione stove', 'Children’s books and toys for ages 0-2 years old and 5-10 years old', 'Beko induction stove', 'Doccia & Shampoo Natù Cosmesi Naturale Biologico shampoo', '39\" HDTV with Amazon Prime Video', '48\" HDTV', 'Fast wifi – 236 Mbps', 'Vari  body soap', 'Welcome kit shampoo', '48\" HDTV with Netflix, Amazon Prime Video', 'Private outdoor pool - available all year, open 24 hours, saltwater', 'Color body soap', 'Energy green tea bio conditioner', 'Di marca nota body soap', '32\" HDTV with standard cable', 'HiSense refrigerator', 'Via TV Bluetooth sound system', 'M.Ster refrigerator', 'We provide different brands. shampoo', 'Pantene  body soap', 'SANGIORGIO refrigerator', '42\" HDTV with Amazon Prime Video, standard cable', '65\" HDTV', 'Fast wifi – 477 Mbps', 'Neutromed  body soap', 'ELETROLUX refrigerator', 'Rex stainless steel stove', '43\" HDTV with Netflix', '24\" HDTV with standard cable, Netflix, Amazon Prime Video', 'Guest conditioner', 'Wifi – 14 Mbps', \"Sapone Biologico all'olio d'oliva by Present-More body soap\", 'Private outdoor pool - saltwater', 'Sekom  refrigerator', 'Sunday suite  body soap', 'Non specifico  conditioner', 'Doccia schiuma, shampoo, soap per le mani e il viso. body soap', 'Keratin Hair Therapy Professional shampoo', 'De longhi refrigerator', 'Borsh refrigerator', 'OA or Aqua shampoo', 'Marshall Bluetooth sound system', 'HDTV with Amazon Prime Video, Apple TV, Chromecast, Netflix', 'Custom body soap', 'Nardi oven', 'HDTV with Amazon Prime Video, Netflix, HBO Max', 'Free carport on premises – 4 spaces', 'Pantene o similari conditioner', 'LoReal conditioner', 'Comune body soap', 'Compact refrigerator with no freezer refrigerator', 'Comfort Zone conditioner', '55\" HDTV with Amazon Prime Video, Chromecast, HBO Max, Netflix, premium cable, Roku', 'TV with Amazon Prime Video, Netflix, standard cable', 'TV with Netflix, Amazon Prime Video, Apple TV', 'IKEA stainless steel stove', 'Hotpoint Ariaston stainless steel oven', 'Shared outdoor pool - available seasonally, open specific hours, infinity', 'Ariston stove', 'Professionale  conditioner', 'Babysitter recommendations', '41\" HDTV with premium cable', '36\" HDTV with Amazon Prime Video, standard cable', 'Italian body soap', 'AEG stainless steel gas stove', 'Candy  stainless steel oven', 'Fast wifi – 219 Mbps', '50\" TV with Netflix, Amazon Prime Video, standard cable', 'Shared outdoor pool - available seasonally, open specific hours, heated, infinity', 'Sapone liquido neutro in flacone  body soap', \"Acqua dell'Elba body soap\", '37\" HDTV with Chromecast', 'Fornito dalla struttura induction stove', 'Bagnoschiuma  body soap', 'Germanica stove', 'Vari stainless steel oven', 'Prodotto naturale  body soap', 'Nd body soap', 'Logitec sound system with aux', 'Neff refrigerator', 'ORCHIDEA LINO body soap', 'Shared gym nearby', 'Saponi monodose body soap', '43\" HDTV with premium cable', 'You and Me body soap', 'Majestic sound system with aux', '25\" TV with Amazon Prime Video, Netflix', 'HDTV with Amazon Prime Video, premium cable, Netflix', 'JBL sound system', 'Hot Point Ariston stainless steel oven', 'Vari tipi conditioner', 'Geneva green body soap', 'Fast wifi – 414 Mbps', 'Zoppas - non Frost refrigerator', 'Indesit  stove', 'Fast wifi – 1038 Mbps', 'Fast wifi – 71 Mbps', 'JBL Bluetooth sound system', 'Ivo Bluetooth sound system', '46\" HDTV with Amazon Prime Video, Chromecast', 'Fast wifi – 772 Mbps', 'Ecologico  conditioner', 'Shared outdoor pool - available seasonally, open specific hours, lap pool, sun loungers', 'Kendo refrigerator', 'Fast wifi – 99 Mbps', 'Stengel refrigerator', 'Fast wifi – 295 Mbps', 'DM body soap', 'Fast wifi – 111 Mbps', 'Piccolo forno elettrico oven', 'Non lo ricordo stove', '59\" HDTV with Amazon Prime Video, Netflix', '- Bluetooth sound system', '43\" HDTV with Amazon Prime Video, Chromecast, Netflix, premium cable, standard cable', '55\" HDTV with DVD player', \"Tutti i nostri prodotti sono all'olio d'oliva biologico body soap\", 'L’oreal shampoo', 'Bloomberg refrigerator', 'MALIN+GOETZ  shampoo', 'Shared outdoor pool - available seasonally, open specific hours, infinity, rooftop, saltwater', 'Vidal shampoo', 'Etna verde  shampoo', 'Proton - Bose - Amazon Echo sound system with Bluetooth and aux', 'Per maschi e femmina  body soap', 'Easyhomes body soap', 'Laptop-friendly workspace', 'Nardo refrigerator', 'Fast wifi – 101 Mbps', 'Palmolive conditioner', 'Custom conditioner', 'Barazza  stainless steel gas stove', 'Fondonatura conditioner', '37\" TV', 'Fast wifi – 264 Mbps', 'Wifi – 22 Mbps', 'Dining table', 'Fast wifi – 90 Mbps', 'Siemens stainless steel gas stove', 'Beko refrigerator', 'HDTV with Apple TV, standard cable', 'Piano a induzione Ikea stove', 'Stainless steel gas stove', 'Conad conditioner', 'Fast wifi – 749 Mbps', 'Kenwood induction stove', 'Essence body soap', 'Sapone liquido  body soap', 'Felce azzurra, mantovani body soap', '45\" HDTV with Amazon Prime Video, Netflix, Roku', 'Fast wifi – 400 Mbps', 'Frigorifero  refrigerator', 'SMEG stove', 'JBL sound system with Bluetooth and aux', 'Fast wifi – 612 Mbps', '32\" HDTV with ', 'Tiger shampoo', 'Rokit sound system with aux', 'Elettrolux induction stove', 'Yeves rocher body soap', 'Dimmenasion shampoo', 'ANTICA SAPONERIA TOSCANA body soap', 'Qualsiasi  shampoo', 'Garden or backyard', '30\" HDTV with Chromecast', 'Ecological body soap', '4\" TV', '65\" HDTV with Amazon Prime Video, Netflix, standard cable', 'Fast wifi – 242 Mbps', 'SMEG electric stove', 'Varie oven', 'Casuale body soap', 'Neutre body soap', 'IKEA gas stove', 'Paid parking on premises', 'Smog stainless steel oven', 'Fast wifi – 267 Mbps', 'HDTV with Amazon Prime Video, Chromecast, Netflix, standard cable', 'HDTV with Netflix, Apple TV, premium cable, Chromecast', 'Geneva green conditioner', '60\" HDTV with Amazon Prime Video, Apple TV, Netflix', 'Elettolux stainless steel induction stove', 'Private label body soap', '32\" HDTV with standard cable, Amazon Prime Video, Apple TV, Chromecast, HBO Max, Netflix, premium cable', '43\" HDTV with Netflix, Amazon Prime Video', 'Indesit stainless steel induction stove', 'Neutro igienizzante  body soap', 'DVD player', 'Fast wifi – 134 Mbps', 'Clothing storage', 'Paid parking lot on premises – 9 spaces', '26\" TV with Chromecast', 'Piccolo kit di benvenuto body soap', 'Shared patio or balcony', 'Rex stainless steel gas stove', 'Bagnoschiuma Dove o marca similare body soap', 'Clothing storage: dresser', 'Ortigia, Italy shampoo', 'Panthene conditioner', 'TV with Netflix, Amazon Prime Video, standard cable', 'Lake access', 'Fructis shampoo', '33\" TV', 'Non specificato gas stove', 'Samsung americano refrigerator', 'Nd  refrigerator', 'Bosch  gas stove', 'Private outdoor pool - available seasonally, open specific hours, sun loungers', 'Badedas shampoo', 'De longhi stainless steel oven', 'Private outdoor pool - available seasonally, saltwater', 'Shared outdoor pool - available seasonally, open 24 hours, infinity, lap pool, rooftop', 'Balea shampoo', 'Fast wifi – 270 Mbps', 'Salvarani stainless steel stove', 'Near, altri su richiesta conditioner', 'Diviso in scompartimenti per numero di camera refrigerator', 'ILVE gas stove', 'O way  conditioner', 'Pantene, sunsil,  conditioner', 'ARGANIA body soap', 'Private outdoor pool - available all year, open 24 hours, lap pool', 'Refrigerator + Freezer refrigerator', 'IKEA stainless steel induction stove', '54\" HDTV', 'Altro body soap', 'Per il primo giorno body soap', 'Fast wifi – 599 Mbps', 'Fast wifi – 536 Mbps', '. shampoo', '46\" HDTV with Amazon Prime Video', 'Phanten conditioner', 'Aura luxury collection shampoo', 'Commerciale  body soap', 'Varie  conditioner', 'Jensijen oven', 'Paid parking garage on premises – 1 space', 'HDTV with Amazon Prime Video, Apple TV, Netflix, Roku', '49\" HDTV', '56\" HDTV with Netflix', 'CASSE STEREO KRAUN Bluetooth sound system', 'Patio or balcony', '45\" HDTV with premium cable', '28\" HDTV with Chromecast', 'Baby monitor', '40\" HDTV with ', 'Bosch stove', 'Paid parking on premises – 1 space', '40\" TV with standard cable', 'Tanti marchi conditioner', 'Mil conditioner', 'Fast wifi – 469 Mbps', 'Clothing storage: wardrobe and walk-in closet', '45\" HDTV with Chromecast', 'Full kitchen', '55\" HDTV with Chromecast, DVD player', 'Kaloderma, Felce Azzurra, Sapone del Mugello,varie marche body soap', 'Variabile body soap', \"Neutro Robert's shampoo\", 'Fast wifi – 449 Mbps', 'Vidal neutrorobert body soap', \"L'Oréal  shampoo\", 'Shared outdoor pool - infinity, saltwater', 'Varie body soap', 'Free residential garage on premises – 3 spaces', 'Prija body soap', 'Outdoor pool - available all year, olympic-sized, rooftop', 'Private patio or balcony', 'Piastra ad induzione stove', '50\" HDTV with Amazon Prime Video, Netflix, Roku, standard cable', 'Complimentary courtesy set. shampoo', 'Ariston  stove', 'Private outdoor pool - available all year, open 24 hours, lap pool, rooftop, saltwater', 'Garnir body soap', '42\" HDTV with Amazon Prime Video, Netflix, premium cable', 'Erbolario shampoo', 'Xx refrigerator', 'Private outdoor pool - available all year, open 24 hours, rooftop, saltwater', 'Security cameras on property', 'Wifi – 32 Mbps', 'Conditioner', 'HDTV with Apple TV, Amazon Prime Video, Netflix', 'Microonde  oven', 'ANYAH body soap', 'Prima fornitura shampoo', 'Baking sheet', 'Electrolux electric stove', 'Elettrolux stainless steel gas stove', 'Piano a induzione per 2 pentole induction stove', 'Tanti marchi body soap', 'Fast wifi – 68 Mbps', 'Philco refrigerator', 'Portable fans', 'Nobrand body soap', 'ORGANIC  body soap', '40\" HDTV with Netflix, Roku', 'Vitaminica body soap', 'Ignis refrigerator', 'Acqua di Parma shampoo', 'Fornello monopiastra elettrico stainless steel stove', '38\" TV with Apple TV', 'Vario shampoo', 'NEUTRAL SHAMPOO shampoo', 'TV  Bluetooth sound system', 'Marche italiane conditioner', 'Fast wifi – 576 Mbps', 'DEKO refrigerator', '24\" HDTV with Chromecast', 'AMONN by Salvatore Ferragamo conditioner', 'Stainless steel induction stove', 'Comfee refrigerator', 'Esselunga body soap', 'Marchio locale shampoo', 'Fast wifi – 366 Mbps', 'Paid parking garage on premises – 3 spaces', 'Parking', 'Wifi – 45 Mbps', 'ANYAH conditioner', 'SMALVIC stainless steel gas stove', 'Induzione Elettrolux stainless steel stove', 'Mediterraneo body soap', 'Franke refrigerator', 'Havana conditioner', 'Nivea body soap', 'Paid valet parking on premises – 100 spaces', 'Children’s books and toys for ages 0-2 years old, 2-5 years old, 5-10 years old, and 10+ years old', '55\" HDTV with standard cable, Netflix', 'Echo-dot Bluetooth sound system', 'Dove o similari body soap', 'Frigo con freezer separato refrigerator', 'TV with Netflix, Roku', '32\" HDTV with standard cable, Netflix, Amazon Prime Video', 'Winnis conditioner', 'Siemens refrigerator', 'Sapone liquido monouso . body soap', '49\" HDTV with standard cable, Netflix', 'Fast wifi – 150 Mbps', '20\" TV', 'Variabile shampoo', 'Elettrico oven', '52\" HDTV with Apple TV, Netflix, Amazon Prime Video', \"Elvive l' Oreal conditioner\", 'Dove/ Nivea body soap', 'LG sound system', 'Linea vitaminica  body soap', 'HDTV with Chromecast, Netflix, Amazon Prime Video', \"L'erbolario ginepro nero body soap\", 'Sopravento conditioner', '33\" HDTV', 'Paid parking garage on premises – 5 spaces', 'Palmolive  conditioner', 'Shared outdoor pool - available seasonally, infinity, rooftop, saltwater, sun loungers', 'Prodotti Eco Compatibili AmoEssere body soap', 'Fast wifi – 550 Mbps', 'Zoppas refrigerator', 'Mini frigo  refrigerator', 'Occitane body soap', 'No brand  body soap', 'Feel Wellness ECO conditioner', 'Marshall sound system', 'Beachfront', 'Fast wifi – 405 Mbps', 'Fast wifi – 110 Mbps', 'Siemens  refrigerator', 'Foosball table', 'Dov body soap', 'Kit shampoo', 'Amber Spa shampoo', 'Piastra induzione stove', 'BEKO stainless steel oven', 'A incasso, sotto piano lavoro. rex piccolo refrigerator', '39\" HDTV with Netflix', 'Hotel brand shampoo', 'Gaggenau stainless steel oven', 'Fornito dalla struttura refrigerator', '222\" HDTV with standard cable', 'Amber Spa body soap', 'Clamp on table seat high chair - available upon request', 'Importante: disattivare il locker di sicurezza induction stove', '26\" HDTV with standard cable', '21\" HDTV', '40\" TV with Apple TV', '41\" HDTV with standard cable', 'Fragonard  body soap', 'Igni refrigerator', 'ELECTROLUX electric stove', 'DC conditioner', 'Ultradolce conditioner', 'Private outdoor pool - open 24 hours, infinity, pool cover, saltwater, sun loungers', 'Frigo di piccole dimensioni refrigerator', 'LA GERMANIA stainless steel gas stove', 'Diversi marchi conditioner', '42\" HDTV with Amazon Prime Video, Netflix, standard cable', 'Fast wifi – 785 Mbps', 'B&O Lab Bluetooth sound system', 'Viene fornito un primo necessaire in gadget per uso cucina bagno e bidet shampoo', \"Winni's body soap\", 'PANTENE shampoo', 'Beko electric stove', 'Professionale  body soap', 'Thompson sound system', 'Telefunken sound system with Bluetooth and aux', 'Brand may vary - high quality conditioner', '45\" HDTV with Netflix, Amazon Prime Video, standard cable', 'Vari nichel free shampoo', 'Linea cosmetica Prija per corpo e capelli. shampoo', 'SMEG stainless steel stove', 'Fast wifi – 218 Mbps', '50\" HDTV with Amazon Prime Video, Apple TV, Netflix, standard cable', 'Clothing storage: dresser and closet', 'Argan body soap', 'Fast wifi – 419 Mbps', 'Palmolive- vidal body soap', 'No allergic conditioner', 'Anker Bluetooth sound system', 'Brand may vary - high quality body soap', 'Fast wifi – 245 Mbps', 'Aloe vera body soap', 'Varie label body soap', 'Cavallo body soap', '37\" HDTV', 'Buono conditioner', 'Faith  in Nature shampoo', 'Whirpool stainless steel gas stove', 'Gas Hob stove', 'AEG stove', '45\" HDTV with ', 'Iron', '60\" TV', 'Guest Hotel Line shampoo', 'BIO body soap', 'Dyson stainless steel stove', 'Frigorifero con sezione congelatore  refrigerator', '55\" TV with Chromecast', 'Notte shampoo', 'Xxx shampoo', 'Samsung. refrigerator', 'Resorge conditioner', 'Fast wifi – 615 Mbps', 'Qualità elevata shampoo', 'Whirlpool  induction stove', 'Smeg stainless steel stove', '... refrigerator', 'Elettrico stainless steel oven', '60\" HDTV with Netflix, Chromecast, Amazon Prime Video', 'Free driveway parking on premises', 'HDTV with Chromecast, Netflix, standard cable', 'Fast wifi – 56 Mbps', 'Bagnodoccia delle Saline di Cervia BIO shampoo', '55\" HDTV with Amazon Prime Video, Chromecast, Netflix, premium cable, standard cable', 'Franck provost conditioner', 'Karisma Doccia Shampoo shampoo', 'Essentia body soap', 'FORNELLI A INDUZIONE electric stove', 'Fast wifi – 554 Mbps', 'Bompani oven', 'Electrolux a induzione stainless steel stove', 'FRANKE induction stove', 'CIAURUSI shampoo', 'Biologico alla spina shampoo', '42\" HDTV with Amazon Prime Video, standard cable, Chromecast', 'Fast wifi – 300 Mbps', 'Sekom refrigerator', 'NOTTE shampoo', 'Brand Giuseppe Verdi Luxury Apartments body soap', '55\" HDTV with Amazon Prime Video, Chromecast, Netflix, Roku, standard cable', 'Fast wifi – 399 Mbps', 'Wood-burning oven', 'Beko  stainless steel gas stove', 'Pack ’n play/Travel crib', 'Wifi – 35 Mbps', 'Candy  oven', '50\" TV with Amazon Prime Video, Netflix, standard cable', 'Ciarusi conditioner', 'Game console: Nintendo Switch, Nintendo Wii, Nintendo Wii U, and PS2', 'SONY sound system with aux', 'Felce azzurra shampoo', 'Generico anallergico body soap', '100\" HDTV with Amazon Prime Video, Chromecast, Netflix, standard cable', 'Galtex  body soap', '56\" HDTV', 'TV with Chromecast, standard cable', 'Fast wifi – 349 Mbps', 'Paid crib - available upon request', 'Single level home', '23\" HDTV with Chromecast, premium cable, standard cable', 'DIVERSI shampoo', 'John Richmond shampoo', 'Yves rocher shampoo', 'Fast wifi – 64 Mbps', 'Free washer – In unit', 'Whirlpool  oven', 'Winnis shampoo', 'Shared outdoor pool - ', 'HDTV with Apple TV, Amazon Prime Video', 'Acqua di Parma body soap', 'Gas gas stove', 'Neutro Roberts body soap', 'Foster stainless steel gas stove', 'Children’s books and toys for ages 5-10 years old and 10+ years old', '40\" HDTV with Amazon Prime Video, Netflix, Roku, standard cable', 'Ariete oven', '55\" HDTV with Amazon Prime Video, Chromecast', 'IKEA electric stove', 'Rex Electrolux stainless steel oven', '26\" TV', \"Contenitore senza marca, all'interno marchio DOVE body soap\", 'Fornetto De Longhi oven', \"L'oreal conditioner\", 'RAYMOND refrigerator', 'Heating', 'Bosch stainless steel oven', '32\" TV with Amazon Prime Video, Netflix, premium cable, standard cable', 'Fast wifi – 537 Mbps', 'TV with Amazon Prime Video, standard cable', '3\" TV with standard cable', 'Shampoo Dove o altra marca similare shampoo', '26\" HDTV with standard cable, Netflix', '50\" HDTV with Amazon Prime Video, Chromecast, Netflix, standard cable', '43\" TV with Netflix, Amazon Prime Video', 'Inside the room refrigerator', 'Arisma shampoo', 'Microwave', '300\" HDTV with Amazon Prime Video, Netflix, standard cable', '43\" HDTV with Amazon Prime Video, Apple TV, Chromecast, Netflix', 'SALVATORE FERRAGAMO body soap', 'Nn body soap', 'HDTV with Amazon Prime Video, Apple TV, premium cable, standard cable, Netflix', 'Aura Luxury Collection  shampoo', 'Free parking on premises – 6 spaces', 'Fast wifi – 744 Mbps', 'Wifi – 49 Mbps', 'Clothing storage: wardrobe, dresser, and walk-in closet', 'Wirpool  stainless steel gas stove', 'LG conditioner', 'Ariel body soap', 'Bagno schiuma  body soap', 'Garnier  shampoo', 'HDTV with Netflix, standard cable, Amazon Prime Video', 'Clothing storage: closet, walk-in closet, and wardrobe', 'Breeze conditioner', 'Neutro roberts shampoo', 'Green Power body soap', 'Bek gas stove', 'Indoor pool - heated', 'HDTV with Amazon Prime Video, Netflix, Roku', 'Whirpool  stainless steel oven', 'Desk', '60\" HDTV with Netflix, Amazon Prime Video', '40\" HDTV with Netflix, Chromecast, HBO Max, Amazon Prime Video, Apple TV', 'Minifrigo refrigerator', 'Fast wifi – 406 Mbps', 'Fast wifi – 116 Mbps', 'Cooking basics', 'Ignis stainless steel oven', 'DeLonghi  stainless steel oven', \"Bagnoschiuma all'olio di germe di grano body soap\", 'FAS italia body soap', 'Hotpoint Ariston refrigerator', 'Thermomate stainless steel gas stove', 'Mondo stainless steel oven', 'Shared outdoor pool - rooftop, saltwater', '32\" HDTV with Netflix, Amazon Prime Video, Chromecast, standard cable', 'INTESA gel doccia shampoo body soap', '43\" HDTV with Chromecast, Roku, Amazon Prime Video, HBO Max, standard cable, premium cable, Netflix', 'Il balsamo è a disposizione dei nostri ospiti conditioner', 'Ortigia  body soap', 'Sapone per le mani basico body soap', 'Bathroom essentials', 'Multi-jet shower', 'Eco Brand body soap', 'Aki refrigerator', '20\" HDTV', 'Fast wifi – 185 Mbps', 'Kelemata body soap', 'Fratelli Onofri - gas stainless steel stove', 'Nn shampoo', 'Standalone high chair - always at the listing', 'Clothing storage: wardrobe, walk-in closet, and dresser', 'Linea vitaminica shampoo', 'HOTEL body soap', 'Private outdoor pool - open 24 hours, lap pool, sun loungers', 'HDTV with Amazon Prime Video, Netflix, premium cable, standard cable, Apple TV', 'Bosch stainless steel stove', 'Anyah Ecolabel body soap', 'Diversi body soap', 'Beko oven', 'Private outdoor pool - available seasonally, open 24 hours, infinity', '27\" HDTV with standard cable, Netflix', 'Cucina a gas stainless steel stove', 'Selezione Sea Tower body soap', '28\" HDTV with Amazon Prime Video', 'Bed linens', 'Standard conditioner', '2 frigoriferi  refrigerator', 'EV charger', 'Fast wifi – 566 Mbps', '3\" HDTV with standard cable, Apple TV', 'Piano cottura a induzione induction stove', 'Fast wifi – 333 Mbps', 'Free residential garage on premises – 7 spaces', 'Fast wifi – 389 Mbps', 'Dishes and silverware', '22\" TV', 'Prodotti Bio body soap', '46\" HDTV with Chromecast, Netflix', '40\" TV with Amazon Prime Video, Apple TV, Netflix, standard cable', 'Sapone liquido dentro dispenser body soap', 'Shared indoor pool - heated', 'Bilboa shampoo', '45\" TV with Amazon Prime Video', 'Outdoor seating', 'Not specific body soap', 'Shared outdoor pool - open specific hours, infinity, saltwater', 'Frigorifero bosch doppia porta con freezer refrigerator', 'Shower gel body soap', '32\" HDTV with DVD player', 'Vario oven', 'Neutro  shampoo', 'TV with Amazon Prime Video, Chromecast, standard cable', 'Fast wifi – 343 Mbps', '52\" TV with standard cable', 'Felce azzurra - Vidal, ecc. body soap', 'Clothing storage: walk-in closet, dresser, and closet', 'Tellhotel body soap', 'Shared outdoor pool - saltwater', 'Candy stainless steel induction stove', 'Mondo refrigerator', 'PICCOLO KIT DI BENVENUTO body soap', 'Piccolo frigo da 16 litri in camera,a disposizione ospiti refrigerator', 'Paid dryer – In unit', 'Fast wifi – 920 Mbps', 'Acqua di Parma  conditioner', 'DermoMed Shower Gel body soap', 'Fast wifi – 413 Mbps', 'Baby bath', 'TEA NATURA shampoo', 'Fast wifi – 524 Mbps', '43\" HDTV with Chromecast, Netflix', 'IndelB refrigerator', 'Ottima qualità body soap', '49\" HDTV with Amazon Prime Video, Netflix', 'Fast wifi – 678 Mbps', 'Ignis oven', '50\" HDTV with Netflix', '55\" HDTV with Netflix, premium cable, standard cable', '49\" TV with standard cable', '28\" HDTV with premium cable', 'Dave body soap', '19\" HDTV with standard cable', 'Atlantik refrigerator', 'Rex gas stove', '40\" HDTV with Amazon Prime Video, Netflix, premium cable, Apple TV', 'Prodotti locali shampoo', 'HDTV with standard cable, Amazon Prime Video', 'General shampoo', 'Fast wifi – 443 Mbps', 'Cavallo conditioner', 'Di marca nota conditioner', 'Lofra stainless steel oven', '3\" HDTV with ', 'Bang & Olufsen Bluetooth sound system', 'Argan shampoo', 'Outdoor pool - available seasonally, open specific hours, infinity, rooftop', '60\" HDTV with Chromecast, standard cable', 'Neutro Roberts con antibatterico con the’ verde body soap', '31\" HDTV', 'Shared outdoor pool - available all year, open specific hours, heated, rooftop', 'Free carport on premises – 1 space', 'Electric stove', 'Candy stainless steel stove', 'GENERICO gas stove', 'Diversi conditioner', 'VICHY conditioner', 'Fast wifi – 197 Mbps', \"L'oreal shampoo\", 'BOSE Bluetooth sound system', '36\" TV with standard cable', '16\" HDTV with Amazon Prime Video, Netflix', 'DeLonghi oven', 'Fast wifi – 82 Mbps', 'Fast wifi – 266 Mbps', 'Dermomed  body soap', 'N.d. stove', 'Fast wifi – 105 Mbps', 'Outdoor pool - available seasonally, rooftop', 'Badedas conditioner', '50\" HDTV with Amazon Prime Video, standard cable, Netflix', '48\" TV', 'Etro conditioner', '45\" HDTV with Apple TV, Chromecast, Amazon Prime Video, Netflix', 'Hotel  shampoo', 'HDTV with Chromecast, Netflix', 'Ethernet connection', 'Rex electrolux refrigerator', 'INDESIT induction stove', 'Sun bed', 'Private outdoor pool - available seasonally, open 24 hours, heated, pool cover', '48\" HDTV with Netflix', 'Clothing storage: dresser, walk-in closet, wardrobe, and closet', '2\" TV with standard cable', '55\" HDTV with Chromecast, Netflix', 'Ariston Hotpoint stainless steel oven', 'Hot point ariston stainless steel oven', 'Yamaha Bluetooth sound system', 'Amplificatore con casse acustiche con collegamento via filo a TV o smart phone sound system with aux', 'Tutti shampoo', 'Ad induzione stove', 'TV with standard cable, Netflix, Amazon Prime Video, Chromecast', 'Piccolo kit di benvenuto shampoo', '50\" HDTV with standard cable', 'Forniamo sapone per le mani e per la doccia body soap', 'Di cortesia shampoo', 'Garnier Ultra Dolce    body soap', '47\" HDTV with Netflix, Amazon Prime Video, premium cable, standard cable', 'PARKER stainless steel gas stove', '32\" HDTV with Netflix, premium cable, standard cable', '36\" HDTV with Amazon Prime Video', 'Paid parking lot on premises – 100 spaces', 'Paid parking garage on premises – 6 spaces', 'Ping pong table', 'Nuxe shampoo', 'Whirlpol stainless steel gas stove', 'ALEXA Bluetooth sound system', 'Linea cortesia Vitaminica body soap', 'Free parking on premises – 2 spaces', 'Paid parking on premises – 2 spaces', 'Fast wifi – 645 Mbps', 'Central heating', 'Private outdoor pool - ', 'Fast wifi – 653 Mbps', '55\" HDTV with Amazon Prime Video, Apple TV, Chromecast, Netflix, Roku, standard cable', '43\" HDTV with Amazon Prime Video, Netflix', 'Nessuno oven', 'Occitaine body soap', 'Marche italiane shampoo', 'DENON  sound system with aux', '42\" HDTV with Amazon Prime Video, Apple TV, Netflix, premium cable', '50\" HDTV with premium cable, standard cable', 'Provost shampoo', 'Whirlpool - combinato elettrico ventilato e microonde stainless steel oven', 'Fast wifi – 177 Mbps', 'Fast wifi – 426 Mbps', 'Fast wifi – 590 Mbps', 'Fast wifi – 660 Mbps', 'Geneva Green body soap', 'Rex stove', 'Prodotto alberghiero body soap', 'Hotpoint ariston  stainless steel oven', 'Le migliori marche shampoo', '27\" HDTV with Netflix, standard cable', '24\" TV with Amazon Prime Video', 'Badedas body soap', 'Zara home body soap', 'General refrigerator', 'Regular  body soap', 'Provence body soap', 'Wifi – 5 Mbps', 'Conad Essentiae shampoo', 'Fast wifi – 408 Mbps', 'Carbon monoxide alarm', 'Electrolux refrigerator', 'Elettrolux oven', 'Sony home theater sound system with Bluetooth and aux', 'HDTV with Netflix, Apple TV, standard cable', '44\" HDTV with standard cable', 'Wifi – 37 Mbps', 'HERBALOGICA BIO shampoo', 'Hotpoint oven', 'Sapone Multiuso mani corpo e capelli (Hair, hands & body) body soap', 'Energy green tea bio body soap', 'High chair', 'SCAVOLINI stainless steel induction stove', '32\" HDTV with Amazon Prime Video, Netflix, standard cable', 'Fornelli monopiastra elettrico stainless steel electric stove', 'Rex  stainless steel oven', '43\" HDTV with Chromecast, Roku, standard cable, Amazon Prime Video, Apple TV, HBO Max, Netflix', 'Fornetto di piccole dimensioni da utilizzare prevalentemente per scaldare il cibo stainless steel oven', 'Marie danielle shampoo', 'Notte conditioner', '42\" TV with Netflix', 'Generico  refrigerator', 'Paid parking lot on premises – 10 spaces', 'Neutro Roberts conditioner', 'Indest refrigerator', 'Ike gas stove', 'Ciaurusi conditioner', 'Ammon body soap', 'Kit cortesia della nota casa profumatoria veneziana The merchant of Venice body soap', 'Moro body soap', 'Bioessence conditioner', 'Fast wifi – 209 Mbps', 'Commerce refrigerator', 'Paid parking lot on premises – 5 spaces', 'Samsung  refrigerator', 'Hotspot Ariston  stainless steel oven', 'Children’s books and toys for ages 0-2 years old and 2-5 years old', 'Ne shampoo', 'Private outdoor pool - available seasonally, open 24 hours, infinity, lap pool', 'Clothing storage: walk-in closet, closet, dresser, and wardrobe', 'Fast wifi – 796 Mbps', 'Generico  shampoo', 'Natural gas barbeque', 'Di piccole dimensioni  refrigerator', 'Shared hot tub', '55\" HDTV with premium cable, Roku, Apple TV, Chromecast, standard cable, Netflix, Amazon Prime Video', 'Private hot tub - open specific hours', 'Quando body soap', 'Prija shampoo', 'Anofri stainless steel oven', 'INDESIT stove', 'Fornetto Dictrolux oven', 'Bagno schiuma neutro body soap', '82\" HDTV with Amazon Prime Video, standard cable, Netflix, premium cable', 'Electolux refrigerator', 'Prodotti biologici made in Italy body soap', 'HDTV with Amazon Prime Video, Chromecast, Apple TV, Netflix, standard cable', 'Argania shampoo', 'Orchidea  shampoo', 'Aseop  body soap', 'Paid parking garage off premises', 'WHIRLPOOL stainless steel gas stove', 'Cand gas stove', 'Portable heater', '43\" HDTV with standard cable, Netflix', 'Ikea Bluetooth sound system', '36\" HDTV with Netflix, standard cable', 'Osmè shampoo', 'Best brands shampoo', 'Lg refrigerator', 'Rice maker', 'Fast wifi – 102 Mbps', '52\" HDTV with Amazon Prime Video, Netflix, standard cable', 'Color \"su richiesta\" conditioner', 'Vario body soap', 'Luggage storage', 'Ariston  induction stove', 'HDTV with Amazon Prime Video, Chromecast, Netflix', 'Lux shampoo', 'REX refrigerator', '2 piastre a induzione Ferrari stove', 'LoReal shampoo', 'Johnson Roberts sapone mani, sapone intimo doccia schiuma body soap', 'Malin + Goetz shampoo', 'Pioneer  Bluetooth sound system', 'Shared pool - sun loungers', 'Hotpoint - Ariston induction stove', 'TV with standard cable, Netflix', 'Base conditioner', 'Refrigerator', 'Filodiffusione esterna sound system', 'Kit cortesia della nota casa profumatoria Veneziana The Merchant of Venice conditioner', '37\" HDTV with premium cable, standard cable', 'Sapone per il corpo delle Saline di Cervia BIO body soap', 'HDTV with Amazon Prime Video, Chromecast, standard cable', 'SYMFONISK Bluetooth sound system', 'Non marchiato conditioner', 'Fast wifi – 528 Mbps', 'Shared outdoor pool - available seasonally, open specific hours, rooftop, saltwater, sun loungers', 'Ariston refrigerator', 'Bosch gas stove', 'John Richmond conditioner', 'Ariston stainless steel oven', 'Etna viola conditioner', 'Shampo liquido shampoo', 'Classic shampoo', 'Varie Marche  shampoo', 'Children’s books and toys for ages 2-5 years old, 5-10 years old, and 10+ years old', '60\" HDTV with Netflix', 'TV with Amazon Prime Video, standard cable, Netflix', 'Best brands stainless steel oven', 'Ironing board', 'HDTV with Apple TV, Netflix, premium cable, standard cable', 'Bagnoschiuma, sapone per igiene intima, sapone liquido, sapone solido(saponetta mani) body soap', 'Garnier l’Oreal, Sunsilk shampoo', 'Whirlpool  refrigerator', '32\" HDTV with premium cable, Amazon Prime Video, Netflix, standard cable', 'Fast wifi – 491 Mbps', 'Fast wifi – 55 Mbps', '24\" HDTV with Amazon Prime Video, Netflix', 'Elleci gas stove', 'Tv Bluetooth sound system', 'Ferragamo conditioner', '21\" TV with standard cable', 'Fornelli stove', '32\" HDTV with standard cable, premium cable', '45\" HDTV with Amazon Prime Video, Apple TV, Netflix, standard cable', 'AMALFI conditioner', 'ELETTROLUX stainless steel stove', '50\" HDTV with Apple TV, Chromecast, standard cable, Amazon Prime Video', 'Électrolux stainless steel oven', 'La camera ha un balcone Ci sono due sedie, tavoli di servizio, si può cenare refrigerator', 'Emsibeth o altro professionale conditioner', 'Brand Giuseppe Verdi Luxury Apartments conditioner', 'Aquolina  body soap', 'Ceiling fans', 'Fragonard conditioner', 'Non ricordo stainless steel oven', 'ANKER Bluetooth sound system', 'Whirlpool 300lt refrigerator', '43\" HDTV with Netflix, premium cable', 'Linea cortesia shampoo', 'Phone', 'Candy  induction stove', '32\" HDTV with Apple TV, Netflix', '43\" HDTV with Netflix, standard cable, Amazon Prime Video', 'Fast wifi – 592 Mbps', 'Ferrari induction stove', 'Samsung Combinato Capacità 325 litri - Raffreddamento No Frost Premium refrigerator', 'Wood-burning fireplace', 'High chair - available upon request', 'Crisper refrigerator', '55\" HDTV with standard cable, Amazon Prime Video', 'Il frigorifero non è dotato di Freezer; Fridge without freezer refrigerator', 'TV with standard cable', 'HDTV with Amazon Prime Video, Netflix, Roku, standard cable', 'Sapone della casa  body soap', 'Whirlpool oven', 'Cassa acustica collegabile a cellulare o computer sound system with aux', '19\" TV', 'Arc linea stainless steel gas stove', 'Fast wifi – 166 Mbps', 'Fast wifi – 416 Mbps', 'Design Rosso refrigerator', '55\" HDTV with standard cable, Amazon Prime Video, Chromecast, Netflix', 'Hotpoint ariston  gas stove', 'Bagnoschiuma disponibile in dispenser body soap', 'Sapone liquido per le mani body soap', 'Clothing storage: wardrobe', 'HDTV with standard cable, Chromecast, Amazon Prime Video', 'Wifi – 43 Mbps', 'Fast wifi – 432 Mbps', 'Clothing storage: dresser, walk-in closet, and wardrobe', 'Non disponibile stainless steel oven', 'Fast wifi – 87 Mbps', '7RE body soap', 'White shampoo', 'Harman Kardon Bluetooth sound system', 'Indesit  refrigerator', 'Varie marche. body soap', 'Elvive etc shampoo', 'Frigorifero  piccolo (capacità di 100 litri) con congelatore piccolo e temperatura regolabile. refrigerator', 'Shared outdoor pool - available seasonally, open 24 hours, infinity, saltwater', 'Kitchen', 'Private outdoor pool - infinity, saltwater', 'Miele stove', 'Sapone solido e liquido bio body soap', '28\" HDTV with Amazon Prime Video, standard cable', 'Dolby Surround sound system with aux', 'Vari  conditioner', 'Pocket wifi', 'Ins conditioner', 'Fast wifi – 235 Mbps', 'Fast wifi – 737 Mbps', 'Yves Rocher shampoo', 'New dimension shampoo', 'Garden', 'TV with Amazon Prime Video, Netflix, standard cable, DVD player', 'Stainless steel stove', 'Fast wifi – 171 Mbps', 'Mediterranea body soap', 'Espresso machine', 'Neff induction stove', 'Smeg stove', 'BOFFI stainless steel gas stove', 'Shampoo Neutro shampoo', 'Free washer – In building', '37\" HDTV with Netflix, DVD player', 'BEKO refrigerator', 'Winnies body soap', 'Roberts doccia shampoo shampoo', 'Con freezer  refrigerator', 'AMONN by Salvatore Ferragamo body soap', '42\" HDTV with Amazon Prime Video, Apple TV, Chromecast', 'Depending on availability, main brands (eg Pantene) conditioner', 'Air stainless steel oven', 'Kederma  body soap', 'Paid parking garage on premises', 'Piccolo forno elettrico. stainless steel oven', 'Fast wifi – 146 Mbps', '60\" HDTV with Netflix, Amazon Prime Video, Apple TV, standard cable', 'AESOP body soap', 'Fast wifi – 570 Mbps', 'Private outdoor pool - available seasonally, open 24 hours, infinity, rooftop, saltwater', 'Elextrolux  refrigerator', 'Migliori  body soap', '50\" HDTV with Chromecast', '38\" HDTV with standard cable', 'Kit di benvenuto per gli ospiti shampoo', '65\" HDTV with Amazon Prime Video, Netflix', 'Fast wifi – 147 Mbps', '40\" HDTV with Amazon Prime Video, Chromecast, Netflix, premium cable, Roku', 'Loreal shampoo', 'Natural conditioner', 'Framesi  shampoo', 'Long term stays allowed', 'Coop  body soap', 'LG  refrigerator', 'Window guards', 'Salvatore Ferragamo conditioner', 'Culti, Acqua dell’Elba, Co Begelow  body soap', 'Clothing storage: closet', 'Sapone  body soap', 'Vary conditioner', \"L'Oreal conditioner\", 'Ortigia - Sicily body soap', 'Prodotto Locale Biologico ph neutro body soap', 'Bottega verde body soap', 'GLEM stainless steel oven', 'Fast wifi – 183 Mbps', \"Franzy's body soap\", 'Ikea stainless steel oven', 'Wifi – 48 Mbps', 'Artigianale shampoo', 'Fast wifi – 466 Mbps', 'Prodotto alberghiero shampoo', 'Nardi stove', 'MaterNatura Ecobiorganic conditioner', 'Biologico  body soap', 'REX stainless steel oven', 'Made in Italy body soap', 'Selex conditioner', 'Jvc sound system', '52\" HDTV with Netflix, standard cable', 'Neutro body soap', '47\" HDTV with Netflix, Amazon Prime Video, standard cable', 'Samsung  sound system', 'Sansum refrigerator', '45\" TV with standard cable, Netflix', 'Fornito dalla struttura body soap', 'Fast wifi – 369 Mbps', 'Grosser Kühlschrank  refrigerator', '32\" TV with Amazon Prime Video, Netflix', '30\" HDTV with Amazon Prime Video, Netflix', '55\" HDTV with Amazon Prime Video, Apple TV, HBO Max, Chromecast, Netflix', '- body soap', 'Marie danielle body soap', 'Private pool - open 24 hours', 'Fast wifi – 336 Mbps', 'Tiger body soap', '55\" HDTV with ', 'Hotpoint  gas stove', 'HDTV with Netflix, Amazon Prime Video, premium cable', 'Indetti refrigerator', 'Clear, shoulder  shampoo', 'SMEG gas stove', 'Children’s books and toys for ages 0-2 years old, 2-5 years old, and 5-10 years old', 'Cecotec  stainless steel oven', 'Showershampoo Anya shampoo', 'Vittore de Conti body soap', 'HDTV with Amazon Prime Video, Netflix, standard cable, premium cable', 'Fast wifi – 187 Mbps', 'Philips oven', 'Free street parking', 'Technics  sound system with Bluetooth and aux', 'Electrolux  stainless steel electric stove', '50\" HDTV with Amazon Prime Video, Chromecast, Netflix, premium cable', 'Fast wifi – 136 Mbps', '48\" HDTV with Amazon Prime Video, Netflix, standard cable', 'Fast wifi – 569 Mbps', 'Fast wifi – 438 Mbps', 'HEISSEN refrigerator', 'FRIGO refrigerator', 'Wifi – 44 Mbps', 'Frigorifero con freezer  refrigerator', '40\" TV with Amazon Prime Video', 'Bosh  oven', '40\" HDTV with standard cable, premium cable', 'Hot water kettle', '55\" HDTV with Netflix, standard cable', 'Fast wifi – 637 Mbps', 'Apple-Sonos sound system', 'Professionale shampoo', '40\" TV with Netflix', 'Microwave oven', '40\" TV with Netflix, standard cable', 'Ortigia  shampoo', 'Fast wifi – 441 Mbps', 'Lofra stainless steel stove', 'Candy  stainless steel gas stove', 'AEG oven', 'VICHY shampoo', 'Private outdoor pool - available all year, open 24 hours, heated, infinity, saltwater', 'Folding or convertible high chair - always at the listing', '50\" HDTV with premium cable, standard cable, Amazon Prime Video, Netflix, Apple TV', '100\" HDTV with Chromecast, Netflix', 'Smeg  stainless steel stove', 'Phonola refrigerator', 'Culti Milano body soap', 'Fast wifi – 259 Mbps', 'Amana refrigerator', 'ATLANTIC refrigerator', 'Ottima qualità shampoo', 'TESTA NERA shampoo', 'Fast wifi – 585 Mbps', 'Ortigia, Italy body soap', 'Fast wifi – 376 Mbps', 'HDTV with standard cable', '28\" HDTV with Amazon Prime Video, Netflix', 'Sciampo e Balsamo per capelli disponibli in dispenser conditioner', 'ARGANIA conditioner', 'Italiano  body soap', 'Private pool - ', 'Safe', 'Pantene/Garnier conditioner', 'DeLonghi induction stove', 'Simens refrigerator', 'HDTV with Amazon Prime Video, Netflix, Apple TV', 'Shampoo bio shampoo', 'ELECTROLUX induction stove', 'Vitaminica conditioner', 'Lockbox', '42\" HDTV with standard cable, Amazon Prime Video, Apple TV, Netflix', 'PANTEN shampoo', 'DeLonghi stainless steel oven', 'Idea Toscana conditioner', 'Prodotti Bio shampoo', 'Artigianale  shampoo', 'Outlet covers', '49\" HDTV with Netflix, standard cable, Amazon Prime Video', '43\" HDTV with standard cable, Amazon Prime Video, Netflix, premium cable', 'TV with Netflix, Amazon Prime Video, DVD player', '52\" HDTV with Amazon Prime Video, Apple TV, Netflix', '60\" HDTV with standard cable', '24\" HDTV with Amazon Prime Video, Chromecast, Netflix, standard cable', 'Free carport on premises – 3 spaces', '40\" HDTV with premium cable, standard cable', 'Washer –\\xa0In building', 'HDTV with Amazon Prime Video, standard cable, Netflix', 'Shared outdoor pool - available seasonally, open 24 hours, lap pool, rooftop, saltwater', 'Contiene piccolo freezer refrigerator', 'Rex refrigerator', ',  body soap', 'Beko  oven', 'Radiant heating', '42\" HDTV with Amazon Prime Video, Chromecast, Netflix, standard cable', 'Panasonic Bluetooth sound system', '32\" HDTV with Amazon Prime Video, Netflix, Roku', 'Table corner guards', 'Bio point conditioner', '50\" HDTV with Amazon Prime Video', 'Prodotto alberghiero stainless steel oven', '2 PIASTRE ELETTRICHE  stove', 'Soundbar Philips sound system with Bluetooth and aux', 'HDTV with Netflix, Amazon Prime Video, standard cable', 'B&W sound system', 'HOTPOINT refrigerator', 'Jonson shampoo', 'Prjia body soap', 'JBL Box Bluetooth sound system', 'Fresh e Clean body soap', 'Varie marche shampoo', 'TV with Amazon Prime Video, Chromecast, Netflix', 'Commerciale  conditioner', '? refrigerator', 'ELETTRICI A INDUZIONE stove', ' Bosh  oven', 'Miele refrigerator', 'VIDAL 2IN 1 SHAMPOO E SHOWER body soap', '49\" TV with Amazon Prime Video, standard cable', '37\" HDTV with Netflix', 'Biologico  shampoo', '24\" HDTV with Amazon Prime Video, Apple TV', 'De longhi stove', 'Onkyo sound system with aux', '39\" HDTV with Amazon Prime Video, Netflix, Roku', 'Clothing storage: wardrobe, walk-in closet, dresser, and closet', 'Self check-in', 'Esterno a legna oven', 'Outdoor pool - infinity, saltwater', 'Prodotto  di fitocosmesi cura della cooperativa Rio rerà dei Pensieri; carcere femminile di Venezia body soap', 'Saponetta body soap', '46\" HDTV with Chromecast, standard cable', 'LG side by side refrigerator', 'Wifi – 0 Mbps', '. stove', 'Paid street parking off premises', '48\" HDTV with Netflix, standard cable, Amazon Prime Video', 'NEAR body soap', 'Kerastase, Biolis Nature shampoo', 'Sunsilk conditioner', 'Radio Tivoli sound system with aux', 'Booster seat high chair - available upon request', 'AMALFI shampoo', 'Sopravento shampoo', 'HDTV with Amazon Prime Video, Netflix, Chromecast', '40\" HDTV with Apple TV, Amazon Prime Video, Roku, Netflix, Chromecast, standard cable', 'Welcome kit conditioner', \"Officina del Mugello. Balsamo all' olio di oliva biologico veganok no parabeni no sles no sls no formaldeide non testato su animali. Profumo da sogno.. conditioner\", '50\" HDTV with standard cable, Netflix', 'Bagnodoccia body soap', 'Fast wifi – 63 Mbps', 'Monodosi body soap', 'Marchi vari body soap', 'Prodotto alberghiero  shampoo', 'Fast wifi – 879 Mbps', 'KLARSTEIN refrigerator', '50\" HDTV with Apple TV, Netflix, standard cable, premium cable', 'Sapori D oriente body soap', '27\" TV with standard cable', 'HOTEL conditioner', 'Aiwa sound system with aux', '40\" HDTV with Amazon Prime Video, Apple TV, Netflix, standard cable', 'Fast wifi – 61 Mbps', 'Free driveway parking on premises – 3 spaces', 'Franke stainless steel gas stove', 'HDTV with standard cable, Chromecast', 'Kaloderma conditioner', 'Fast wifi – 139 Mbps', 'Ikea oven', 'Malizia e Vidal body soap', 'Private outdoor pool - available seasonally, open 24 hours, rooftop, saltwater', 'Neff  stainless steel oven', 'Mono dose shampoo', 'Jacklon body soap', '66\" HDTV with Netflix, standard cable', 'Game console: Nintendo Wii and Xbox One', 'Klarstein refrigerator', 'Felce azzurra  body soap', 'Harman-kardon Bluetooth sound system', 'Solo brand biologici body soap', 'Bonpani refrigerator', 'Forno a legna  oven', '40\" HDTV with Amazon Prime Video, Chromecast', 'Kit di cortesia body soap', 'Sapone per le mani e shampoo corpo in mono uso body soap', 'Whirlpool stainless steel induction stove', 'Franke  stainless steel oven', 'Paid valet parking on premises – 6 spaces', 'Fast wifi – 451 Mbps', '38\" HDTV', '28\" HDTV with Amazon Prime Video, Chromecast, Netflix', '32\" HDTV with Amazon Prime Video, Netflix', 'Diverse marche body soap', 'Fast wifi – 668 Mbps', 'Ultradolce shampoo', 'TV with Netflix, Chromecast, Amazon Prime Video, Apple TV', 'Fast wifi – 742 Mbps', 'Fast wifi – 912 Mbps', '70\" TV with Amazon Prime Video, Netflix', 'Clothing storage: closet, wardrobe, walk-in closet, and dresser', '32\" HDTV with Netflix, standard cable, Amazon Prime Video', 'Idea Toscana, with olive oil. body soap', 'Allegrini Ecolabel conditioner', 'La Dimora shampoo', 'Fast wifi – 234 Mbps', '24\" HDTV with Amazon Prime Video, premium cable, Netflix', 'Notte body soap', 'Pack ’n play/Travel crib - always at the listing', 'Pantene body soap', 'Piastra elettrica stove', 'Fast wifi – 463 Mbps', 'Ariston  gas stove', 'Kenwood sound system', '32\" HDTV with DVD player, premium cable', 'TV with Amazon Prime Video, Netflix, DVD player', 'Fast wifi – 91 Mbps', 'Ottima qualità conditioner', 'Standalone high chair', 'Aiello Hotels body soap', 'Ekos bio conditioner', 'Candy stainless steel electric stove', 'Body soap', 'HDTV with ', 'Fast wifi – 388 Mbps', '45\" HDTV with Amazon Prime Video', 'Fast wifi – 160 Mbps', 'Piano cottura a induzione con 4 fornelli. stove', 'Bagno doccia body soap', 'B&O sound system', 'Smeg stainless steel induction stove', 'Italian brand refrigerator', '16\" HDTV', '32\" HDTV with standard cable, Netflix, premium cable, Amazon Prime Video, Apple TV, HBO Max', 'Wifi – 10 Mbps', 'Neutrale body soap', 'Portatile IKEA induction stove', 'Free residential garage on premises – 10 spaces', 'Fast wifi – 767 Mbps', 'Naturkosmetik body soap', 'Onkyo sound system', 'Doccia schiuma e sapone per le mani body soap', 'Fornelletto Grill electric stove', 'Natural  body soap', '58\" HDTV with Netflix', 'Litri 250 refrigerator', 'Shared outdoor pool - lap pool, saltwater', 'Paid washer – In unit', 'Ott shampoo', 'Shared outdoor pool - infinity, rooftop, saltwater', 'Fast wifi – 776 Mbps', 'Kit body soap', 'Neutro Robert’s antibatterico   body soap', 'General oven', 'Fast wifi – 673 Mbps', '60\" HDTV with Roku, Amazon Prime Video, Netflix', 'Gfl Italia shampoo', 'Fast wifi – 401 Mbps', 'Stengel  stainless steel oven', 'Ottimi body soap', 'Sony sound system', 'Shared outdoor pool - infinity, rooftop', '28\" HDTV with Netflix', 'Terangasuite  body soap', 'HDTV with Netflix, Amazon Prime Video, Roku, HBO Max', '42\" HDTV with Amazon Prime Video, Apple TV, standard cable', 'Hotpoint Ariston A+ refrigerator', 'Hair dryer', 'Delicato shampoo', 'Samsung induction stove', 'White body soap', '6 fornelli stainless steel gas stove', 'NEUTRO body soap', 'Candy  refrigerator', 'Shared pool - available all year, open 24 hours', 'Fast wifi – 272 Mbps', '47\" HDTV with standard cable', 'Marchio locale conditioner', 'Wifi – 41 Mbps', '55\" HDTV with Amazon Prime Video, Netflix, premium cable, standard cable', 'Shared indoor pool - available seasonally, open specific hours, heated, lap pool, sun loungers', '47\" HDTV with Amazon Prime Video, Netflix, premium cable', 'Aqua shampoo', 'Cleaning products', 'Ikea  stove', 'Karisma  body soap', 'NOTTE-MADE IN ITALY shampoo', '2 refrigerator', 'Free parking garage on premises – 1 space', '55\" HDTV with Amazon Prime Video, Apple TV, Netflix, premium cable, standard cable', 'Wifi – 16 Mbps', 'Grundig induction stove', '42\" HDTV with Amazon Prime Video, Netflix, premium cable, standard cable', 'Fornelli ad induzione stove', 'Clothing storage: closet, wardrobe, and walk-in closet', 'Private outdoor pool - available all year, open 24 hours, infinity, lap pool, saltwater', 'Fast wifi – 356 Mbps', 'Shared outdoor pool - infinity, lap pool, olympic-sized, rooftop', 'Fast wifi – 679 Mbps', 'Shared outdoor pool - available seasonally, open 24 hours, rooftop', 'Kit di benvenuto shampoo', 'Doccia schiuma e shampoo  body soap', 'Johnson & Johnson  body soap', 'Zanussi stainless steel gas stove', 'Fast wifi – 278 Mbps', 'Ekos bio shampoo', 'Amazon Alexa sound system with Bluetooth and aux', 'Pantere sunsil shampoo', '36\" HDTV with Netflix, Amazon Prime Video, standard cable', 'Panthene  shampoo', 'Atlantic oven', 'Pioneer  sound system', 'Aura luxury collection  shampoo', 'Bang & Olufsen sound system with aux', 'Private outdoor pool - open 24 hours, rooftop', 'BOSH stove', ' eco friendly shampoo', '42\" HDTV with Chromecast, Netflix', 'A gas oven', 'Karisma body soap', 'Non s  refrigerator', 'Clothing storage: dresser, wardrobe, and closet', 'ATLANTIK refrigerator', 'Fast wifi – 591 Mbps', 'Mini frigo da camera refrigerator', 'Paid parking garage on premises – 30 spaces', 'Culti Milano shampoo', 'Free residential garage on premises – 1 space', 'Ciaru shampoo', '44\" HDTV with standard cable, Apple TV, Amazon Prime Video', 'TV with Netflix, premium cable', 'Einhell  refrigerator', 'Candid refrigerator', '15\" TV with standard cable', 'Marchi vari shampoo', 'Indesit stainless steel oven', 'Nessuno conditioner', '48\" HDTV with Amazon Prime Video', 'Game console', 'Felca azzura conditioner', 'Bose + Sonos  Bluetooth sound system', 'Brand commerciali body soap', 'TV with premium cable', 'SHARP refrigerator', '55\" HDTV with Netflix, premium cable, standard cable, DVD player', 'Fast wifi – 296 Mbps', 'Ariston  stainless steel oven', 'Echo dot Bluetooth sound system', '55\" HDTV with Amazon Prime Video', 'Vario conditioner', 'Foster stainless steel oven', 'Fast wifi – 501 Mbps', 'Breakfast bar', 'Speick Sapone biologico body soap', '40\" HDTV with Amazon Prime Video, Apple TV, Chromecast, premium cable', 'Gel doccia Officina del Mugello (vegan ok e bio eco cosmesi AIlAB). E anche vi sarà offerto  un piccolo sapone alla lavanda con una schiuma fine e delicata e un profumo meraviglioso! body soap', 'AEG  A+++ refrigerator', 'OMBIA GEL DOCCIA body soap', 'Kayak', '24\" HDTV with standard cable', 'Kepper refrigerator', 'Fast wifi – 293 Mbps', 'Monouso shampoo', 'HDTV with Amazon Prime Video, Netflix, Apple TV, premium cable, DVD player', '46\" HDTV with Netflix, Amazon Prime Video, standard cable', 'ILVE stainless steel oven', '22\" HDTV', 'HDTV with standard cable, Amazon Prime Video, Netflix', 'ZOPPAS refrigerator', 'Private outdoor pool - heated, rooftop', '42\" HDTV with Netflix', 'Kasanova stainless steel oven', 'Near shampoo', 'Karinear induction stove', 'Game console: Xbox Series X', 'Varie shampoo', 'Shared outdoor pool - available seasonally, open specific hours, sun loungers', 'Hoover induction stove', 'Bosch Induzione stove', 'Dolce vita body soap', 'Hiense refrigerator', 'Vari conditioner', 'Wifi – 47 Mbps', 'Non ricordo  gas stove', '65\" HDTV with Netflix', 'Alexa sound system with Bluetooth and aux', '57\" TV with Netflix, standard cable', '50\" TV with Netflix', 'Gabriella Chieffo e’ un brand indipendente che ha nel Made in Italy il suo sigillo identitario e che si indirizza solo alle migliori profumerie artistiche. body soap', 'Fast wifi – 113 Mbps', 'ILVE stainless steel gas stove', 'Elvive conditioner', 'Vittore de Conti conditioner', '55\" HDTV with Amazon Prime Video, Apple TV, Chromecast, HBO Max, Netflix, Roku, standard cable', 'Dispenser generico body soap', 'Fast wifi – 513 Mbps', '1/3 adibito a frezeer refrigerator', 'HDTV with standard cable, Apple TV, Netflix, Amazon Prime Video', '25\" HDTV', '50\" HDTV with Netflix, standard cable, Amazon Prime Video', 'Con Bevande incluse,(acqua,succhi,the) refrigerator', 'HDTV with Amazon Prime Video, Netflix, standard cable', 'Game console: Xbox One', 'Fornetto stainless steel oven', 'HDTV with Amazon Prime Video, Apple TV, Netflix, standard cable', 'HDTV with Amazon Prime Video, Apple TV, Chromecast, Netflix, standard cable, DVD player', 'BOSCH stainless steel gas stove', '55\" HDTV with Amazon Prime Video, Netflix, Apple TV, premium cable', 'Johnson  body soap', 'Essential conditioner', 'Bose, Alexa Bluetooth sound system', 'Free driveway parking on premises – 5 spaces', 'Neff stainless steel gas stove', 'Free carport on premises – 10 spaces', 'CULTI MILANO conditioner', 'HDTV with Netflix, standard cable, Apple TV', 'Fast wifi – 94 Mbps', 'Private pool - rooftop', 'Solidi shampoo', 'Etro body soap', '32\" HDTV with Netflix, HBO Max, premium cable, standard cable', 'Bagno doccia da azienda agricola biologica locale - Villa Rizzi shampoo', 'Generico  body soap', 'Benko oven', 'Inst gas stove', '37\" HDTV with Chromecast, Netflix, premium cable', \"Winni's Natural shampoo\", 'Karisma  conditioner', 'Iar refrigerator', 'Shampoo shampoo', 'Kit di benvenuto  shampoo', 'Piano', 'Fast wifi – 60 Mbps', 'Melchioni refrigerator', '46\" HDTV with Netflix, standard cable', 'Private outdoor pool - available all year, open 24 hours, infinity, rooftop, saltwater', 'Deko oven', '55\" TV with Amazon Prime Video, Netflix', 'Ignis stove', 'Ortigia  conditioner', 'Various body soap', 'Private hot tub - available all year, open specific hours', 'Fast wifi – 285 Mbps', 'Premier Tech refrigerator', 'Our special brand  body soap', '32\" HDTV with Netflix', 'Aveda body soap', '23\" HDTV with Netflix', 'Frigo Ikea  refrigerator', 'Ciaurusi - essenze di Sicilia shampoo', 'Sony  sound system', 'Free driveway parking on premises – 6 spaces', 'Fast wifi – 493 Mbps', 'Fornello elettrico  stove', 'Balsam conditioner', 'Clothing storage: closet and dresser', 'Casa Sbrizza stainless steel oven', 'Gaggenau refrigerator', 'HDTV with Chromecast, standard cable, DVD player', 'Fast wifi – 190 Mbps', 'Fast wifi – 121 Mbps', '44\" HDTV with Netflix, Amazon Prime Video, Apple TV', 'Induction Bosch  induction stove', 'Private outdoor pool - available seasonally, open specific hours, infinity, saltwater', 'Vittore de Conti shampoo', 'LG Touch refrigerator', 'Sapone solido naturale biologico  shampoo', '38\" HDTV with Amazon Prime Video, Chromecast, Netflix, standard cable', '35\" TV', 'Westinghouse stainless steel oven', 'HDTV with Chromecast, premium cable, standard cable', 'Fast wifi – 305 Mbps', '65\" HDTV with Amazon Prime Video, Chromecast, Netflix, premium cable, standard cable', '65\" TV', 'Sansui (Vintage) sound system', 'Biologici o naturali shampoo', 'Fast wifi – 346 Mbps', 'Google Home sound system', '75\" HDTV with Amazon Prime Video, Apple TV, Netflix', '47\" HDTV with Amazon Prime Video, Netflix', 'Pool cover', '47\" TV', 'Fast wifi – 240 Mbps', '42\" TV with Amazon Prime Video, Netflix', 'Neutromed body soap', '42\" HDTV with Netflix, standard cable, Amazon Prime Video', 'SAMSUNG sound system with aux', '43\" HDTV with Chromecast, Roku', 'Vari Marchi in base alla disponibilità body soap', 'Rex induction stove', 'Diverse conditioner', 'Gabriella Chieffo e’ un brand indipendente che ha nel Made in Italy il suo sigillo identitario e che si indirizza solo alle migliori profumerie artistiche. conditioner', '32\" HDTV with standard cable, Netflix', 'Forno elettrico oven', '50\" HDTV with Amazon Prime Video, Netflix, Roku', 'AEG stainless steel stove', 'SMEG  refrigerator', 'Aura shampoo', '2 Zanussi refrigerator', 'VIDAL O MALIZIA body soap', 'Paid washer', 'Fast wifi – 93 Mbps', 'Fast wifi – 130 Mbps', '22\" TV with standard cable', 'Varie conditioner', 'Johnson shampoo', 'Private indoor pool - available all year, open 24 hours, heated, rooftop, saltwater', 'Paid parking garage on premises – 18 spaces', 'DIVERSI body soap', 'Clothing storage: wardrobe and closet', 'Fast wifi – 74 Mbps', 'Amazon Echo sound system', 'Kit di benvenuto per gli ospiti body soap', 'Coop conditioner', 'Fast wifi – 195 Mbps', 'Tutti sono ottimi body soap', 'Piano cottura ad induzione stove', 'Petit marseillais  body soap', 'Best brands stainless steel gas stove', 'Fast wifi – 198 Mbps', 'Prija Milano body soap', '2 Fornelli  induction stove', 'General conditioner', 'Brand may vary - high quality shampoo', '24\" HDTV with Amazon Prime Video, Apple TV, Chromecast, HBO Max, Netflix, premium cable, Roku, standard cable', 'Fast wifi – 180 Mbps', 'HDTV with standard cable, Netflix, Apple TV', 'Record player', 'Shampoo gel shampoo', 'Siemes stainless steel oven', 'Electroline refrigerator', 'Foster gas stove', 'Fast wifi – 246 Mbps', 'Bikes', 'Alpes stainless steel stove', 'ANYAH eco spa treatment  conditioner', '26\" HDTV with premium cable', 'Hi Sense refrigerator', '32\" HDTV with premium cable, Netflix, Chromecast, standard cable', 'Bidet', 'Turkish bath', 'Clothing storage: dresser, closet, walk-in closet, and wardrobe', ' fornita dalla struttura refrigerator', 'Fast wifi – 321 Mbps', 'Mitsubishi conditioner', 'Hoover refrigerator', 'Shared hot tub - available seasonally, open 24 hours', 'B oven', 'Any shampoo', \"L'oreal body soap\", 'Neutro Roberts, Palmolive, marsiglia, dove body soap', 'Private outdoor pool - available seasonally, open 24 hours', 'FAS italia shampoo', 'Sholtes stainless steel gas stove', 'Electrolux  oven', 'Fast wifi – 625 Mbps', 'Biolù body soap', 'TV with DVD player, standard cable, Amazon Prime Video', '23\" TV', 'A gas integrato nella cucina oven', 'Ultra Dolce  conditioner', 'Fast wifi – 354 Mbps', 'CANDY stainless steel stove', 'Electrolux stove', '40\" HDTV with Amazon Prime Video, premium cable, standard cable', 'XXXXX body soap', 'Pantene o similari shampoo', 'Uso del frigo di casa refrigerator', 'Hotpoint - Ariston refrigerator', 'Essentials', 'Yves Rocher  body soap', 'Meg oven', 'Felice azzurra conditioner', 'HOTEL shampoo', 'Akay  oven', 'Karisma conditioner', 'Fast wifi – 238 Mbps', 'Wifi – 20 Mbps', 'Bio shower and shampoo body soap', 'Fast wifi – 687 Mbps', 'HDTV with Amazon Prime Video', 'PANTENE conditioner', 'Fast wifi – 505 Mbps', 'Kaderma body soap', 'TV with Roku, Amazon Prime Video, Apple TV, Netflix', '36\" HDTV with Netflix', 'Paid parking garage on premises – 80 spaces', '46\" HDTV with Amazon Prime Video, Chromecast, premium cable, Netflix', '55\" HDTV with Amazon Prime Video, Chromecast, Netflix, premium cable', 'Alexa Echo Show 5 Bluetooth sound system', 'Italiano stainless steel stove', 'Bosch  refrigerator', 'Free carport on premises – 2 spaces', 'Comfee’ 47L refrigerator', 'PIano cottura a gas gas stove', 'Shared garden or backyard', 'Private outdoor pool - available seasonally, open 24 hours, saltwater, sun loungers', 'Mya Collection body soap', 'Gaberney  conditioner', '32\" HDTV with Amazon Prime Video, premium cable, standard cable', 'Doccia/Shampoo shampoo', 'Clothing storage: closet and walk-in closet', 'Conad body soap', 'Fast wifi – 485 Mbps', 'Fast wifi – 733 Mbps', 'Erbolaio conditioner', 'Fast wifi – 167 Mbps', 'Prima fornitura body soap', \"Alluminio, tipiche dell'età della casa. Alcune (per i più esigenti) in acciaio gas stove\", 'Ariston  oven', 'Fast wifi – 906 Mbps', 'Barbecue utensils', 'Ceiling fan', 'Clamp on table seat high chair', 'Heeley conditioner', '40\" HDTV with Apple TV, Netflix, standard cable', 'Fast wifi – 58 Mbps', '55\" HDTV with premium cable, Amazon Prime Video, Netflix', 'BAGNOMSHIUAMA body soap', 'Present more shampoo', '55\" HDTV with Netflix', 'Clothing storage: dresser, wardrobe, closet, and walk-in closet', 'Prodotti da banco body soap', 'Fast wifi – 372 Mbps', 'Fast wifi – 124 Mbps', 'Frigorifero refrigerator', 'Dryer – In building', 'SHAMPOO shampoo', 'Spuma di Champagna body soap', 'Paioneer sound system', 'Bose Bluetooth sound system', '32\" HDTV with Amazon Prime Video, standard cable', 'Whirlpool  stainless steel oven', 'HDTV with Chromecast, Netflix, Apple TV', '4 fuochi gas stove', 'ECOPURE BOTANICA body soap', '36\" HDTV with Chromecast', 'Beco  refrigerator', 'Beiko stainless steel stove', '21\" TV with Apple TV, Netflix, standard cable', '15\" HDTV', '30\" TV with standard cable', '24\" TV with premium cable, standard cable', 'Aveno palmolive  body soap', 'Wifi – 15 Mbps', 'Hotpoint stainless steel gas stove', '75\" HDTV with Netflix', '34\" HDTV with Netflix', '32\" HDTV with Amazon Prime Video, Apple TV, Chromecast, Netflix', 'Franck provost (silicones free) conditioner', 'Mini frigo IKEA refrigerator', 'Fast wifi – 382 Mbps', '60\" HDTV with Amazon Prime Video, Netflix, standard cable', 'Matrix conditioner', 'Culti Milano conditioner', 'HDTV with Netflix, standard cable, Amazon Prime Video, Apple TV', 'Fire pit', '32\" HDTV with Apple TV, standard cable', 'Heating - split type ductless system', 'Paid pack ’n play/travel crib - available upon request', 'Private outdoor pool - available seasonally, open 24 hours, pool cover, sun loungers', '48\" TV with standard cable', '43\" HDTV with Amazon Prime Video, Netflix, premium cable', 'Game console: PS4', '25\" HDTV with Amazon Prime Video, Apple TV, Netflix, standard cable', 'Mandorla&Karitè  sf Project body soap', '1 Bosch + 1 Smeg stainless steel oven', 'Free driveway parking on premises – 15 spaces', 'Kit cortesia body soap', 'DOVE body soap', '28\" HDTV with Apple TV', 'Dovè body soap', 'Free residential garage on premises – 6 spaces', '42\" HDTV with Amazon Prime Video, Netflix', 'Jbl Extreme sound system with Bluetooth and aux', 'Philips: Radio, lettore CD   sound system with aux', 'Antipodes body soap', 'Generico stainless steel oven', '55\" HDTV with HBO Max, Netflix, premium cable', 'Balsalm conditioner', 'Aeg refrigerator', 'Bio energy shampoo', '55\" HDTV with premium cable, standard cable, Netflix, Amazon Prime Video, Apple TV', 'Ottimi shampoo', 'Comune conditioner', 'I migliori marchi  conditioner', '48\" HDTV with Amazon Prime Video, Chromecast, Apple TV, Netflix', 'Alexa Bluetooth sound system', '50\" HDTV with Roku, Amazon Prime Video, Netflix', 'LG Bluetooth sound system', 'Fragrance free body soap', 'Free driveway parking on premises – 8 spaces', '42\" HDTV with Amazon Prime Video, Apple TV, Chromecast, HBO Max, Netflix, Roku, standard cable', 'AEG stainless steel oven', 'Franke stainless steel stove', 'Shared outdoor pool - available all year', 'De Longhi  oven', 'Ultra Dolce shampoo', 'Pryia body soap', 'Cleaning before checkout', 'Induzione electric stove', '55\" HDTV with Amazon Prime Video, Netflix, Roku, Chromecast, standard cable', 'Fornito dalla struttura conditioner', 'Wifi – 40 Mbps', 'Free driveway parking on premises – 12 spaces', 'Outdoor pool - available seasonally, open 24 hours, infinity, saltwater, sun loungers', 'Fast wifi – 479 Mbps', '40\" TV', 'Fast wifi – 250 Mbps', 'Organic body soap', '30\" TV', 'Diversi marchi body soap', '36\" HDTV with premium cable, Amazon Prime Video, HBO Max, Chromecast, standard cable, Apple TV', 'Game console: Nintendo Wii and PS2', 'Kit di benvenuto  body soap', 'Atlantic stainless steel oven', 'Fast wifi – 741 Mbps', 'Fast wifi – 499 Mbps', 'Private outdoor pool - available all year, open 24 hours, heated, rooftop, sun loungers', 'Fast wifi – 229 Mbps', 'Fast wifi – 289 Mbps', 'Argan conditioner', 'FRANKE stainless steel electric stove', 'Ikea stainless steel gas stove', 'Frigo basso refrigerator', '22\" TV with Netflix', '30\" HDTV', 'Wifi – 13 Mbps', 'Donna e Maschio body soap', 'Deka refrigerator', 'Fast wifi – 308 Mbps', 'HDTV with Netflix, standard cable, Chromecast', 'Combi oven magnetron stainless steel oven', 'Fast wifi – 313 Mbps', '46\" HDTV with Netflix, Amazon Prime Video', 'We provide soap and shampoo body soap', '55\" HDTV with Apple TV, Netflix, Amazon Prime Video', 'Drying rack for clothing', 'ARGAN shampoo', '85\" HDTV with Netflix, Amazon Prime Video', 'Solidi conditioner', 'Fast wifi – 453 Mbps', 'Fast wifi – 764 Mbps', '39\" HDTV with Amazon Prime Video, Chromecast, Netflix, standard cable', 'Bio energy  body soap', '43\" HDTV with Amazon Prime Video, Netflix, premium cable, standard cable', 'Fast wifi – 260 Mbps', 'Washer –\\xa0In unit', 'Lilla Bruket shampoo', 'Panasonic refrigerator', 'Hotpoint stainless steel stove', 'Private hot tub - available all year', 'F.lli Carli - Imperia shampoo', '....... shampoo', 'Whirlpool induction stove', 'Forno a microonde oven', 'Prodotto alberghiero refrigerator', 'HDTV', 'Wifi – 18 Mbps', 'AMZCHEF induction stove', 'Clothing storage: dresser, closet, and wardrobe', 'Apulia shampoo', 'Haier oven', '37\" HDTV with Amazon Prime Video, Netflix', '54\" HDTV with standard cable', '40\" HDTV with Amazon Prime Video, standard cable', 'Fast wifi – 315 Mbps', 'Miele  oven', 'Fast wifi – 248 Mbps', '50\" TV', 'Sapone di Puglia  shampoo', 'MIni-frigo in the room. refrigerator', 'Panasonic oven', 'Professionale alle mandorle conditioner', 'Technics sound system', 'Con vano freezer **** refrigerator', 'Wifi – 19 Mbps', 'Natural soap body soap', 'BAGNOSCHIUMA body soap', 'Fast wifi – 282 Mbps', 'Clothing storage: closet, walk-in closet, and dresser', 'Sopravento body soap', 'Bagno schiuma body soap', 'NOTTE-MADE IN ITALY body soap', 'Fast wifi – 324 Mbps', '28\" TV with Chromecast', 'Multiple brands body soap', 'Nero azzurro  body soap', 'Private outdoor pool - open 24 hours, infinity, sun loungers', 'Neutral  body soap', '37\" HDTV with standard cable', 'Lihos shampoo', 'Fine London Soaps body soap', '33\" HDTV with Amazon Prime Video, Netflix', '60\" HDTV with Amazon Prime Video, Apple TV, Netflix, premium cable, standard cable', 'Wifi – 39 Mbps', '14\" HDTV', 'Franke gas stove', \"L'0ccitane shampoo\", 'Shared outdoor pool - heated', 'ALTHAEA body soap', 'Free parking on premises – 5 spaces', 'HDTV with standard cable, premium cable, Netflix, Apple TV, Amazon Prime Video', 'Fast wifi – 303 Mbps', 'Clothing storage: wardrobe, dresser, closet, and walk-in closet', 'SET CORTESIA body soap', 'Marchi di saponi comuni body soap', 'Coop body soap', 'N refrigerator', 'Guest / karisma  body soap', 'Non ne ho la benchè minima idea ma fa il suo onesto lavoro refrigerator', 'Bosh refrigerator', 'Live oven', 'Sony Bluetooth sound system', 'Children’s dinnerware', 'Samet stove', 'Free residential garage on premises – 2 spaces', 'Pantene conditioner', 'Prija Milano conditioner', '45\" TV with Amazon Prime Video, Netflix, standard cable', 'Prodotti per il corpo /mani Perlier   shampoo', 'Eco shampoo', 'Yamaha A1000 ; Computers connected via graphic cards to FullHD Tvs sound system with Bluetooth and aux', '43\" HDTV with Amazon Prime Video, Netflix, Roku, standard cable', 'Outdoor furniture', '43\" HDTV with Amazon Prime Video, Apple TV, Netflix, standard cable', 'Franck Provost conditioner', '38\" HDTV with Chromecast', 'Kelvinator refrigerator', 'Smeg  refrigerator', 'Doccia shampoo  body soap', 'Dipende body soap', 'Vri conditioner', 'Set cortesia monouso shampoo', 'Selezionati body soap', 'Pool toys', 'Samet gas stove', 'Fast wifi – 231 Mbps', 'Flaminia stainless steel stove', '55\" HDTV with Amazon Prime Video, standard cable, Chromecast, Netflix', 'Atlantis stainless steel oven', 'Piccolo refrigerator', '43\" HDTV with standard cable, Chromecast', 'Lusini hotellerie body soap', '43\" HDTV with standard cable', 'Fast wifi – 96 Mbps', 'Eco Brand conditioner', 'Cheap body soap', 'Hotpoint Ariston stainless steel oven', 'Game console: Nintendo Wii and PS4', 'Italiano  stove', 'Private hot tub - available all year, open 24 hours', 'Fast wifi – 120 Mbps', 'Bosh stove', 'Fast wifi – 691 Mbps', 'Doccia Sciuma shampoo sapone  body soap', 'Paid valet parking on premises', 'CANDY stainless steel gas stove', 'Guess body soap', 'Mantovani body soap', 'Lilla Bruket body soap', '45\" HDTV with Chromecast, premium cable', 'Nessuno body soap', 'Outdoor pool - available seasonally, open specific hours, infinity, lap pool', '41\" TV with standard cable', 'Dimension shampoo', 'Fast wifi – 125 Mbps', 'BEKO oven', 'WhiteWestinghouse stainless steel oven', 'Innohit sound system with aux', '32\" TV with standard cable, DVD player', 'Marche italiane body soap', 'Severin refrigerator', '36\" HDTV', 'Shared outdoor pool - available all year, open 24 hours, rooftop', '48\" HDTV with Apple TV, Amazon Prime Video, premium cable, Netflix', 'Sapone body soap', 'Game console: Nintendo Switch', 'Fast wifi – 489 Mbps', '42\" HDTV with Netflix, Roku', 'Saponette e sapone liquido body soap', 'Shared outdoor pool - available seasonally, open specific hours, rooftop, saltwater', 'Fast wifi – 78 Mbps', '32\" HDTV with standard cable, Amazon Prime Video, Apple TV, Chromecast, HBO Max, Netflix, Roku', 'Piano cottura induzione stove', 'Private outdoor pool - heated, saltwater', 'Sunsilk shampoo', 'HDTV with Amazon Prime Video, Chromecast', 'Smeg oven', 'Fast wifi – 878 Mbps', 'Bioessece shampoo', 'Fast wifi – 553 Mbps', '39\" TV', 'Wine storage', 'WHIRPOOL stainless steel oven', '24\" HDTV with Netflix', 'Thermal conditioner', 'Yamaha sound system with aux', 'Eos body soap', 'Il Moro body soap', 'Bio  body soap', 'Linea Vitaminica body soap', 'ARDO refrigerator', 'General Brand conditioner', 'HDTV with premium cable, standard cable', 'Fast wifi – 292 Mbps', '44\" TV with standard cable', 'Private outdoor pool - rooftop, saltwater', 'Sansilk shampoo', 'Outdoor dining area', 'Monuskin conditioner', 'Fast wifi – 157 Mbps', 'SMEG induction stove', 'Fast wifi – 710 Mbps', 'PremierTech refrigerator', 'Samsung sound system with Bluetooth and aux', 'Teac sound system with aux', 'Korres body soap', 'Hotpoint stove', '35\" HDTV with Netflix, Amazon Prime Video', 'Loreal conditioner', 'Smoke alarm', 'OMNIA Bagno Seta Aloe body soap', '50\" HDTV with Netflix, HBO Max, Chromecast, Apple TV, premium cable, Roku, standard cable, Amazon Prime Video', 'Elextrolux  stainless steel gas stove', '32\" HDTV with Amazon Prime Video, Apple TV, Chromecast', 'Fast wifi – 397 Mbps', '16\" TV with premium cable', 'ARGANIA shampoo', 'Ariston induction stove', 'Fast wifi – 249 Mbps', 'IH Hotels refrigerator', 'Whirlpool refrigerator', 'Private outdoor pool - available seasonally, open specific hours, infinity', 'Bio.. body soap', 'Krk rokit 5 sound system with aux', 'Candy Cinque Fuochi stainless steel stove', 'A pagamento  shampoo', '33\" TV with standard cable', '65\" HDTV with Amazon Prime Video, Apple TV, Netflix, premium cable', 'Oven', 'Shared outdoor pool - lap pool, rooftop', '4 fornelli con valvole di sicurezza stainless steel gas stove', 'Clothing storage: walk-in closet, dresser, closet, and wardrobe', '50\" HDTV with Amazon Prime Video, Netflix, standard cable', 'Bagnoschiuma dermazero ipoallergenico body soap', 'Indesit induction stove', 'Non saprei quale marca metterò a disposizione shampoo', '34\" TV', 'Fast wifi – 138 Mbps', 'Tutti i prodotti forniti sono ecologici,senza parabeni ed esenti da agenti chimici shampoo', 'Prodotto di fitocosmesi cura della cooperativa Rio rerà dei Pensieri; carcere femminile di Venezia shampoo', 'Hammock', 'Fast wifi – 98 Mbps', 'Free driveway parking on premises – 11 spaces', 'Gaberney  shampoo', 'Shared outdoor pool - available seasonally, open 24 hours, sun loungers', 'Fridge and freezer  refrigerator', 'Prodotto alberghiero  body soap', 'Fast wifi – 149 Mbps', 'HDTV with Netflix', 'HDTV with Amazon Prime Video, Roku, Netflix', 'Gym nearby', 'Richmond  body soap', 'Rowenta stainless steel oven', 'Welcome kit  shampoo', 'Single burner, portable induction stove', 'Fast wifi – 66 Mbps', 'Smart body soap', 'Akai sound system with Bluetooth and aux', 'FORNO oven', 'L’ORÉAL  shampoo', 'Essentiae conditioner', 'Qualsiasi body soap', 'Ottima qualità refrigerator', 'Echo dot Alexa sound system', 'Jhonson body soap', 'Fast wifi – 481 Mbps', 'Pool - available seasonally', 'Rizzoli stainless steel oven', 'Fast wifi – 103 Mbps', 'Formal dining area', 'B refrigerator', 'PH BIO body soap', '22\" HDTV with DVD player', 'Body/hand soap body soap', 'FRANKE stainless steel stove', 'Alpes INox stainless steel oven', 'Jknjoè refrigerator', 'Più marchi body soap', 'Shared outdoor pool - rooftop', 'Smeg electric stove', 'PRIJA shampoo', 'Monodose shampoo', 'Officina Naturae Biologico body soap', '55\" HDTV with Amazon Prime Video, Apple TV', '29\" HDTV with Amazon Prime Video, Apple TV, Netflix', 'Hoover stainless steel oven', '45\" HDTV with standard cable, Netflix', 'Tellhotel conditioner', 'Any  conditioner', 'Indoor fireplace', 'AESOP shampoo', 'Wine glasses', '52\" HDTV with standard cable, Netflix', '40\" TV with premium cable, standard cable', 'Fast wifi – 273 Mbps', 'Backyard', 'NEUTRO ROBERTS body soap', 'Wifi – 27 Mbps', 'Ciauriusi conditioner', 'Franche  stove', 'Prodotto da banco shampoo', '42\" HDTV with Amazon Prime Video, Netflix, Roku, standard cable', '43\" HDTV with Netflix, standard cable', '47\" HDTV', 'Mya Collection conditioner', 'AG Group shop body soap', '46\" HDTV with standard cable', 'Frankie stainless steel oven', 'Ikea gas stove', 'SAPONE NEUTRO body soap', 'Alpes Inox stainless steel gas stove', 'Sapone per il corpo Vidal fiori di tiarè o argan  body soap', 'Hotel conditioner', 'Fast wifi – 202 Mbps', 'Shared hot tub - open specific hours', '19\" TV with standard cable', 'Free residential garage on premises', 'Davines conditioner', 'HDTV with Apple TV, premium cable', 'Generico stove', 'Shared outdoor pool - available seasonally, open 24 hours', 'Dove and others body soap', 'Fast wifi – 412 Mbps', 'Erbokario conditioner', 'Shared gym in building', '55\" HDTV with Amazon Prime Video, Apple TV, Netflix', 'Eco friendly body soap', 'Fast wifi – 298 Mbps', '28\" HDTV with Netflix, standard cable', 'Fast wifi – 140 Mbps', 'Fast wifi – 650 Mbps', 'Note marche italiane body soap', 'Smog refrigerator', 'Dispenser a parete con docciaschiuma,mani e intimo body soap', 'Rex Electrolux refrigerator', 'Mini frigorifero, tipo frigobar refrigerator', \"Elvive L' Oreal shampoo\", '46\" HDTV with Amazon Prime Video, standard cable', 'Fast wifi – 251 Mbps', 'Private hot tub - available seasonally, open specific hours', 'S body soap', 'TV with Chromecast, Netflix', 'Sonos sound system with aux', \"Nell'appartamento troverete una piccola cassa JBL bluetooth, ottima per ascoltare la musica direttamente dai vostri dispositivi  Bluetooth sound system\", 'Private outdoor pool - heated', 'Creative conditioner', '75\" HDTV with Amazon Prime Video, Netflix, Roku', '25\" HDTV with Apple TV, Netflix, standard cable', '25\" HDTV with standard cable', 'Dikom refrigerator', 'King oven', 'Fast wifi – 436 Mbps', 'Bose sound system with aux', 'Clothing storage: walk-in closet, dresser, wardrobe, and closet', '55\" TV with Netflix', '40\" HDTV with Amazon Prime Video, HBO Max, Netflix', 'Game console: PS2', '23\" HDTV', 'HDTV with Amazon Prime Video, standard cable, Netflix, Apple TV, premium cable', 'HDTV with Netflix, Amazon Prime Video, DVD player', 'Project-audio Bluetooth sound system', '28\" TV with premium cable', 'Idea toscana  shampoo', 'Wirpool stove', '24\" HDTV with Amazon Prime Video, Netflix, standard cable', \"L'Erbolario shampoo\", '28\" TV with Netflix', 'Clothing storage: closet, walk-in closet, dresser, and wardrobe', 'Elica stove', 'Essentia Puglia body soap', 'HDTV with standard cable, Chromecast, Amazon Prime Video, Netflix', 'Logitech sound system with aux', 'Shampoodoccia shampoo', 'ULTRADOLCE body soap', '42\" HDTV with Amazon Prime Video, Chromecast', '75\" HDTV', 'Shared outdoor pool - available seasonally, open specific hours, infinity, lap pool, rooftop, sun loungers', 'Sunday Suite  shampoo', 'Wi-fi  Bluetooth sound system', 'Karisma doccia shampoo monodosi  body soap', 'Felce Azzurra body soap', '43\" HDTV with Amazon Prime Video, standard cable', 'Smag gas stove', 'Ortigia conditioner', 'Gabriella Chieffo e’ un brand indipendente che ha nel Made in Italy il suo sigillo identitario e che si indirizza solo alle migliori profumerie artistiche. shampoo', 'Fast wifi – 540 Mbps', 'INDESIT refrigerator', 'Non marchiato shampoo', 'Fast wifi – 263 Mbps', '42\" HDTV with standard cable, Netflix, Amazon Prime Video, Apple TV', '43\" HDTV with standard cable, Amazon Prime Video, Netflix', 'MaterNatura Ecobiorganic shampoo', '11\" TV', '52\" HDTV with Netflix', '4\" HDTV', 'Miele stainless steel gas stove', 'Airone body soap', '61\" HDTV with Netflix', 'HDTV with Apple TV, Netflix, Amazon Prime Video', 'Vestfrost - orange refrigerator', 'Ariston - Hotpoint oven', 'Audio Pro Bluetooth sound system', 'Terrace', 'Pets allowed', 'Ariston gas stove', 'Dov shampoo', '42\" HDTV with standard cable, Chromecast', 'Varie fragranze. body soap', 'Beku oven', 'Cucina stainless steel electric stove', 'In area comune oven', 'Shared outdoor pool - open 24 hours, rooftop', 'Di buona qualità shampoo', 'X body soap', 'Gaberney body soap', 'HDTV with Amazon Prime Video, standard cable', 'Pioner sound system with Bluetooth and aux', 'Electroline mini fridge refrigerator', 'Game console: PS2 and Xbox 360', 'Fast wifi – 538 Mbps', 'Rex stainless steel electric stove', 'Kitchen Additional charge CUCINA A PAGAMENTO  stove', '46\" HDTV with Amazon Prime Video, Netflix, standard cable', 'Private outdoor pool - infinity, rooftop', '50\" HDTV with Amazon Prime Video, HBO Max, Netflix, Roku', 'I nostri prodotti per la cura personale  sono scelti con cura, sono biologici della Yeves Rocher  e di una ditta italiana Omia, a base di Aloe Vera coltivata in  Salento shampoo', 'Fornetto  oven', '40\" HDTV with Netflix, Chromecast', '50\" HDTV with Amazon Prime Video, Chromecast, Netflix', 'Ortigia - Sicily conditioner', 'Idea Toscana shampoo', 'Shampoo doccia e cuffie in mono uso shampoo', 'Fast wifi – 174 Mbps', 'Siemens stainless steel oven', 'Shared outdoor pool - available seasonally, open specific hours, infinity, saltwater', 'Foster induction stove', 'Dyson refrigerator', '37\" HDTV with premium cable', '32\" TV with Chromecast', 'Olio Argan body soap', 'Guest Hotel Line body soap', 'Vari su richiesta  body soap', 'Golf cart', '49\" HDTV with Netflix, Amazon Prime Video, standard cable', '24\" HDTV with Apple TV', 'Shared outdoor pool - available seasonally, open specific hours, infinity, sun loungers', 'Shampoo  shampoo', 'Cavalli  body soap', 'Yves rocher  conditioner', 'Whirlpool stainless steel stove', 'Whirpool stainless steel oven', 'Fast wifi – 520 Mbps', 'Shared indoor pool - available all year, open specific hours, heated, saltwater', 'Tivoli audio  sound system with Bluetooth and aux', 'Crib - always at the listing', 'Cassa attiva Gemini Bluetooth sound system', 'Sapone toscano body soap', 'Neff stainless steel oven', 'KARISMA conditioner', 'Sony sound system with Bluetooth and aux', 'Whirlpool stainless steel electric stove', 'NIVEA body soap', 'Sconosciuto refrigerator', 'Airone shampoo', '55\" HDTV with Amazon Prime Video, Apple TV, standard cable, Roku, Netflix', 'Near, altri su richiesta body soap', 'HDTV with Amazon Prime Video, Chromecast, Netflix, premium cable', 'Fast wifi – 417 Mbps', 'Fast wifi – 435 Mbps', 'O-way kit body soap', 'HDTV with Amazon Prime Video, premium cable, standard cable', 'Fast wifi – 503 Mbps', 'Clothing storage: walk-in closet, closet, wardrobe, and dresser', 'Welcome kit body soap', 'Sapone liquido e bagnoschiuma  body soap', 'Yamaha A100 casse studiocraft sound system', 'Fast wifi – 281 Mbps', 'Stark Parrot Speakers sound system with Bluetooth and aux', 'Fast wifi – 381 Mbps', 'Aqua Flor conditioner', 'BE professionale shampoo', 'Wine cellar', 'TV with Netflix, standard cable', 'Stand alone rain shower', 'Mantovani conditioner', '25\" TV', 'Nex refrigerator', 'Malin+Goetz shampoo', 'Sapori D oriente  conditioner', 'Artigianale  body soap', 'Non ricordo refrigerator', 'Fast wifi – 597 Mbps', '43\" HDTV', '42\" HDTV with standard cable, Amazon Prime Video, Netflix', '55\" HDTV with Amazon Prime Video, Netflix, Apple TV', 'Dsamsung refrigerator', 'Fast wifi – 707 Mbps', 'Ecologico  shampoo', 'Marantz Bluetooth sound system', 'Henseen refrigerator', 'TV with Chromecast', ',  conditioner', 'Fast wifi – 319 Mbps', 'Samsung piastra in vetroceramica electric stove', '32\" HDTV with premium cable, standard cable, DVD player', 'Shared outdoor pool - olympic-sized', '30\" TV with Amazon Prime Video, Netflix, standard cable, DVD player', 'Fast wifi – 142 Mbps', '42\" HDTV with Amazon Prime Video, Apple TV, Netflix, premium cable, standard cable', 'Großer Kühlschrank mit großem Gefrierfach refrigerator', 'Paid booster seat high chair - available upon request', 'Smart lock', '25\" HDTV with ', 'Trust sound system with Bluetooth and aux', '29\" TV with standard cable', 'FAS ITALIA MINI FRIGO refrigerator', 'Bose sound system with Bluetooth and aux', 'Prodotti biologici body soap', 'Ultra Dolce  shampoo', 'Misti body soap', 'Candy stainless steel gas stove', 'Jonson&Jonson conditioner', 'Fast wifi – 431 Mbps', 'Comfee  refrigerator', 'Conditioner conditioner', 'Kit cortesia con prodotti biologici conditioner', 'Ultra Dolce conditioner', 'Oxford Bluetooth sound system', 'Set di cortesia \" think about your hair\" shampoo', 'HDTV with Netflix, Chromecast', 'Exercise equipment', 'Sapone di Puglia  body soap', 'Bose  sound system with Bluetooth and aux', 'Dolce vita  body soap', 'N. 2 frigoriferi (uno al piano terra ed un altro al secondo piano) refrigerator', '55\" HDTV with Amazon Prime Video, Netflix, premium cable', 'Bread maker', 'Fast wifi – 301 Mbps', 'Grande frigo e congelatore refrigerator', 'Shared outdoor pool - available seasonally, heated, infinity, lap pool, olympic-sized, rooftop, saltwater', '36\" HDTV with premium cable, standard cable', 'Wifi – 9 Mbps', '39\" HDTV with Amazon Prime Video, Netflix', 'Fast wifi – 627 Mbps', 'Non lo ricordo  oven', 'Aleppo body soap', '55\" HDTV with Netflix, standard cable, Amazon Prime Video', 'Loreal  body soap', 'Piastra Ikea stainless steel induction stove', 'Elettrolux stainless steel induction stove', 'Standard shampoo', 'Aqua conditioner', 'Biolù shampoo', 'Hotel shampoo', '5\" TV with Amazon Prime Video, Netflix', 'Indes  refrigerator', '24\" HDTV', '42\" HDTV with Netflix, Amazon Prime Video, standard cable', 'IKEA induction stove', 'Zarahome body soap', 'Shared outdoor pool - available seasonally, open specific hours, heated, lap pool', 'Fast wifi – 325 Mbps', 'AURA (made in italy) shampoo', 'Fast wifi – 51 Mbps', '35\" HDTV with Amazon Prime Video', 'Primo set cortesia in omaggio body soap', 'Eletrolux refrigerator', 'Fast wifi – 457 Mbps', 'Fornito dalla struttura stainless steel gas stove', 'Clothing storage: closet, walk-in closet, wardrobe, and dresser', 'Grande refrigerator', 'Fast wifi – 429 Mbps', 'Ignis stainless steel induction stove', 'Dermomed body soap', 'Pool - available seasonally, open specific hours', 'CULTI Milano shampoo', 'Idea Toscana, with olive oil. shampoo', '32\" HDTV with Amazon Prime Video, standard cable, Netflix', 'Frigo basso da camera refrigerator', 'PARROT Bluetooth sound system', 'Italian shampoo', 'Bustine shampoo', 'Samsung  stainless steel gas stove', 'HDTV with Netflix, standard cable, DVD player', 'Bagnoschiuma monouso  body soap', 'Scavolini stainless steel oven', '40\" HDTV with Chromecast, standard cable', '55\" HDTV with Amazon Prime Video, standard cable', 'BOSH refrigerator', 'Fragrance free conditioner', 'Fast wifi – 527 Mbps', 'Yamaha  sound system with aux', 'Alpeinox industriale stainless steel oven', 'Misto  conditioner', 'Plusieurs marques possibles. body soap', 'Shared outdoor pool - available seasonally, open 24 hours, infinity', 'Saponificio Veneto  body soap', 'Fast wifi – 464 Mbps', 'Zerowatt  refrigerator', 'Varie  body soap', 'Prija Milano shampoo', '55\" TV with standard cable', '50\" HDTV with Amazon Prime Video, Apple TV, Netflix, premium cable, standard cable', 'Fast wifi – 703 Mbps', 'Fast wifi – 456 Mbps', 'Pioneer sound system', 'Kit benvenuto shampoo', '15\" HDTV with standard cable', 'General  conditioner', 'Samsung no frost, ice cube  refrigerator', 'Private pool - available all year', 'Home made essential kit shampoo', 'Nd stove', 'Odense refrigerator', 'Officina Naturae shampoo', 'F.lli Carli - Imperia body soap', '..  sound system', 'Gas stove', 'HDTV with DVD player', 'Gel douche body soap', 'Ikea  gas stove', '30\" TV with Netflix', 'Fast wifi – 516 Mbps', 'HDTV with standard cable, Netflix, premium cable', 'Samung FoodCenter with Ice refrigerator', 'Fast wifi – 335 Mbps', 'Delonghi  refrigerator', '35\" HDTV with Amazon Prime Video, Apple TV, Netflix, standard cable', 'Clothing storage: closet, dresser, wardrobe, and walk-in closet', '37\" HDTV with Amazon Prime Video, Apple TV, Netflix, standard cable', '44\" HDTV with Netflix, Chromecast, standard cable', 'KARISMA body soap', 'Siemens  stainless steel oven', 'Impianto audio domotico in tutta casa compresi spazi esterni Bluetooth sound system', 'Fast wifi – 689 Mbps', 'Booster seat high chair - always at the listing', '. refrigerator', 'Atlantic stainless steel stove', '17\" TV with standard cable', 'Paid parking lot on premises – 1 space', 'Malin+Goetz body soap', 'A&g oven', 'Shampoo', 'PIANO A INDUZIONE A 2 FUOCHI stove', 'Kit benvenuto body soap', 'SMEG stainless steel induction stove', 'Qualsiasi  oven', 'Bagnoschiuma Cien body soap', 'Shared pool - open 24 hours, sun loungers', 'Elseve, Oreal, Panten conditioner', 'Karisma  shampoo', 'Shared outdoor pool - available seasonally, saltwater', 'Denon sound system with aux', 'Acqua,succhi di frutta,latte  refrigerator', 'Private hot tub - available seasonally', 'Akai  refrigerator', 'Indesit  gas stove', 'Sapone per il corpo neutro body soap', 'GENERICO body soap', '26\" TV with Amazon Prime Video', 'WHIRPOOL electric stove', 'Lavanda  body soap', 'Shared outdoor pool - olympic-sized, pool toys, sun loungers', 'Head and shoulder shampoo', '65\" HDTV with Netflix, standard cable', 'Gasofen oven', '30\" TV with DVD player', 'Prodotti Eco Compatibili Amo Essere shampoo', 'Cliosan dermatologicamente testato body soap', 'Dolce body soap', 'HDTV with Netflix, HBO Max, standard cable', 'Pantene 2 in 1 Conditioning Shampoo conditioner', 'Unisex shampoo', 'Whirlpool - forno combinato elettrico ventilato e microonde stainless steel oven', 'Ariston Hotpoint stainless steel stove', 'General  shampoo', '46\" HDTV with Chromecast', 'Cien  body soap', 'Shared pool - ', 'Dolce vita shampoo', 'Zen body soap', 'WHIRPOOL refrigerator', 'Standard oven', 'Wifi – 1 Mbps', 'HERBALOGICA BIO body soap', 'Clothing storage: walk-in closet, closet, and wardrobe', 'Prodotto alberghiero conditioner', 'CANDY refrigerator', '29\" HDTV', 'Gasofen oder ( elektrische Ofen) oven', 'Clothing storage: walk-in closet, wardrobe, closet, and dresser', 'Home made essential kit body soap', '42\" HDTV with Amazon Prime Video, Chromecast, Netflix, Roku', 'CULTI MILANO body soap', 'Shared outdoor pool - available seasonally, open specific hours, heated, infinity, rooftop', 'HISENSE refrigerator', 'Hotel brand body soap', 'HDTV with standard cable, Chromecast, DVD player', 'BEKO stainless steel gas stove', '43\" TV', \"Yves Rocher, L'OREAL ELVIVE conditioner\", '43\" HDTV with Amazon Prime Video, Netflix, Roku', '50\" HDTV with ', 'Fast wifi – 81 Mbps', '36\" HDTV with Netflix, Amazon Prime Video', '32\" HDTV with Netflix, premium cable', 'Biologico val di fiemme body soap', 'Smeg  gas stove', '27\" HDTV with standard cable', 'Game console: Nintendo Wii and PS3', 'Breeze shampoo', 'Local pharmacy  shampoo', 'Fast wifi – 323 Mbps', 'Atlantic stove', 'Fast wifi – 182 Mbps', 'Fast wifi – 560 Mbps', '50\" HDTV with Roku, Netflix', 'IsEasy induction stove', 'Lilla Bruket conditioner', 'Dove body soap', 'Dove conditioner', 'Fast wifi – 262 Mbps', '29\" TV', 'Wifi – 12 Mbps', 'Amalfi air conditioner conditioner', 'SET CORTESIA  body soap', 'Base body soap', '4\" HDTV with standard cable', 'Standalone high chair - available upon request', 'Infasil body soap', 'Faith in Nature conditioner', 'Fast wifi – 433 Mbps', 'No brand shampoo', 'Fast wifi – 339 Mbps', 'Telefunken refrigerator', 'Mosquito net', '42\" HDTV with Chromecast', '28\" TV', 'Fast wifi – 392 Mbps', 'Biologico conditioner', ',,, stove', 'Wifi – 42 Mbps', 'Paid parking lot on premises – 6 spaces', 'Argan  shampoo', 'Fast wifi – 77 Mbps', 'Wifi – 8 Mbps', 'Varie marche body soap', '80\" HDTV with Netflix', 'Kleiner, separat aufgestellter Backofen mit kleinem Backblech. oven', \"Shampoo doccia all'olio d'oliva shampoo\", 'Paid parking lot off premises', 'Sapone da azienda agricola biologica locale - Villa Rizzi body soap', 'Private outdoor pool - infinity, lap pool, rooftop', 'Vintage sound system with aux', 'First aid kit', 'Fast wifi – 518 Mbps', 'PANASONIC SA-PMX70B Bluetooth sound system', 'Fast wifi – 215 Mbps', 'Clothing storage: closet, dresser, and wardrobe', 'Shared gym', 'Ariston stainless steel stove', 'Rex oven', 'Shared outdoor pool - available seasonally, open specific hours, olympic-sized', 'Fast wifi – 243 Mbps', 'Franche stove', 'Clothing storage: dresser, closet, wardrobe, and walk-in closet', '43\" HDTV with Amazon Prime Video, Chromecast, Netflix, standard cable', 'Ferragamo shampoo', 'IKEA oven', 'Alexa Smart speaker sound system', '40\" HDTV with Amazon Prime Video, Chromecast, standard cable, Netflix', 'Fast wifi – 310 Mbps', '25\" HDTV with Amazon Prime Video, standard cable', '43\" HDTV with premium cable, standard cable', '40\" HDTV with Netflix, standard cable', 'Bosh electric stove', ' Bosch induction stove', 'Fast wifi – 600 Mbps', 'Forno da incasso stainless steel oven', 'Variabile conditioner', 'Kit di benvenuto body soap', 'Fast wifi – 332 Mbps', 'Bustine body soap', 'Fast wifi – 531 Mbps', 'Fast wifi – 486 Mbps', 'Hobo body soap', 'San giorgio refrigerator', 'Shared outdoor pool - open 24 hours, heated', '32\" HDTV with standard cable, Netflix, premium cable, Amazon Prime Video', 'Fornito dalla struttura shampoo', '55\" HDTV with Apple TV, Netflix, standard cable, Amazon Prime Video', '30\" HDTV with standard cable', 'Doccia & Shampoo Natù Cosmesi naturale Biologico body soap', 'Paid parking off premises', '41\" HDTV with Netflix', '50\" HDTV', '40\" HDTV with standard cable, Netflix', 'Cotril shampoo', 'VARIABILE body soap', 'NEUTROMED body soap', 'Yves Rocher body soap', 'Rex stainless steel oven', '55\" HDTV with Netflix, Amazon Prime Video, standard cable', '37\" TV with Netflix', 'L’Oreal shampoo', 'Fast wifi – 445 Mbps', 'Panten shampoo', 'De Longhi stainless steel stove', '49\" HDTV with Amazon Prime Video, premium cable', 'BIO shampoo', 'Forno a Pietra oven', '60\" HDTV with Amazon Prime Video, Apple TV, Netflix, premium cable, Roku', '42\" HDTV with Apple TV, Netflix, Amazon Prime Video', 'Paid parking garage on premises – 35 spaces', 'Varia  shampoo', 'Fast wifi – 291 Mbps', 'Eco conditioner', 'Dove  body soap', 'Indesit electric stove', 'Acque body soap', 'Clothing storage: dresser, walk-in closet, and closet', 'Private outdoor pool - available seasonally, rooftop', '55\" HDTV with premium cable, Amazon Prime Video, HBO Max, Apple TV, standard cable, Chromecast, Roku, Netflix', 'La linea cortesia Autentica interpreta con raffinatezza e personalità le originali fragranze del territorio e della tradizione italiana. Betulla e cedro, salvia e lavanda, vaniglia e mandorla, sono solo alcune delle originali formulazioni disponibili, per una soluzione di benessere dalle inconfondibili note aromatiche, rigorosamente made in Italy. body soap', \"Olio d'oliva body soap\", 'Robert  shampoo', '56\" HDTV with standard cable', 'Fast wifi – 201 Mbps', '48\" HDTV with Apple TV', '43\" HDTV with standard cable, Netflix, Amazon Prime Video, Apple TV', '18\" HDTV with standard cable', 'Tellhotel shampoo', 'Sound system', \"A disposizione del ospite piccola kittchenet a piano terra con microonde e piastra ad induzione. E' richiesta la prenotazione in caso di utilizzo induction stove\", 'Fast wifi – 294 Mbps', 'General stove', 'Alpes stainless steel induction stove', 'Various shampoo', 'Conad  shampoo', '39\" HDTV with Amazon Prime Video, standard cable', 'Children’s books and toys for ages 2-5 years old and 5-10 years old', 'ELETTRICO stainless steel oven', 'Ortigia - Sicily shampoo', 'Private hot tub', 'Althaea  conditioner', 'Standard refrigerator', 'A gas  oven', 'Severin electric stove', 'Security cameras', 'DeLonghi  oven', 'Private outdoor pool - available seasonally, open 24 hours, heated', 'Private gym', 'Argania conditioner', 'Private pool - available seasonally, open 24 hours', '- stove', 'White Aloe Vera body soap', 'Smeh refrigerator', 'Sistema Dolby 5.1 sound system with Bluetooth and aux', 'Fornetto elettrico ariete oven', 'Private indoor pool', 'Pantene shampoo', 'Allegro Nature conditioner', 'Free parking on premises – 20 spaces', 'Fast wifi – 665 Mbps', 'Gorenje refrigerator', 'Sound system with Bluetooth and aux', '42\" HDTV with Apple TV, Netflix', 'Fast wifi – 826 Mbps', 'Vari refrigerator', '60\" HDTV with premium cable, Chromecast, HBO Max, Netflix, Roku, standard cable', 'Private outdoor pool - available all year', 'Dove.  body soap', '50\" HDTV with Amazon Prime Video, Netflix, premium cable, standard cable', 'HDTV with standard cable, Netflix, Amazon Prime Video', 'Go4sea shampoo', 'Fornetto elettrico. oven', 'Vari tipi shampoo', '28\" TV with standard cable', 'Linea bio body soap', 'Lg Bluetooth sound system', '50\" TV with Netflix, Amazon Prime Video', 'Paid valet parking on premises – 3 spaces', 'Free carport on premises', '42\" HDTV', 'Whirpool oven', '32\" HDTV with standard cable, Chromecast, Amazon Prime Video, Netflix', \"Vite'lite conditioner\", 'HDTV with Apple TV, Netflix, Amazon Prime Video, standard cable', 'Sauna', '52\" HDTV with Amazon Prime Video', \"All'olio di oliva body soap\", 'Essentiae shampoo', '55\" HDTV with Netflix, standard cable, premium cable', 'A INDUZZIONE stove', 'Perlier  body soap', 'Pino silvestre body soap', 'Frigo con congelatore refrigerator', 'Aiello Hotels conditioner', 'Diversi shampoo', 'Naturali body soap', '24\" TV', 'Karisma  Doccia Shampoo body soap', 'Qualchiessi bagno e schiuma  body soap', 'Acqua Flor conditioner', 'Samsung stainless steel oven', '32\" HDTV with Amazon Prime Video, premium cable', 'London Fine Soaps body soap', 'HDTV with Amazon Prime Video, Apple TV, HBO Max, Netflix, premium cable, Roku, standard cable', 'Orchidea  body soap', 'Fast wifi – 179 Mbps', '47l refrigerator', 'CON PICCOLO FREEZER INCORPORATO refrigerator', '45\" HDTV with Netflix, standard cable', 'Eco body soap', 'Fast wifi – 69 Mbps', 'Fornetto arite oven', 'Samsung  conditioner', '50\" HDTV with standard cable, Amazon Prime Video, Chromecast', 'Fast wifi – 500 Mbps', '32\" TV with DVD player', 'Prodotti bio by NATU’ per la doccia shampoo', 'Doccia schiuma body soap', 'Fast wifi – 178 Mbps', '75\" HDTV with Chromecast, Netflix, premium cable, standard cable, Amazon Prime Video', 'Nashi conditioner', 'Shared pool - available seasonally', 'Buono body soap', 'L G refrigerator', '52\" HDTV with Amazon Prime Video, Netflix, Roku, standard cable', 'Zanussi stainless steel oven', 'Shared outdoor pool - available seasonally, rooftop, saltwater', 'Italiano  refrigerator', 'Nn conditioner', 'Mediterranea shampoo', 'Bio/green conditioner conditioner', 'Nuxe conditioner', 'Air conditioning', 'Whirpool  oven', '42\" HDTV with standard cable, Netflix, Amazon Prime Video', 'Fast wifi – 357 Mbps', 'Sony  sound system with aux', 'Allegro Nature shampoo', 'Fireplace guards', 'Fast wifi – 367 Mbps', 'INDUZIONE stove', 'Dedicated workspace', 'Shared indoor pool - available all year, open specific hours, heated, lap pool, olympic-sized', '21\" HDTV with standard cable', 'BBQ grill', 'Frigo refrigerator', 'Fast wifi – 299 Mbps', 'Forniamo dei campioncini monouso/saponette monouso body soap', '65\" HDTV with Netflix, Amazon Prime Video, Chromecast', 'Fast wifi – 210 Mbps', '1\" HDTV with Amazon Prime Video, Apple TV, Chromecast, Netflix', \"All'olio di oliva shampoo\", 'N&B - Natural is better shampoo', 'Fast wifi – 476 Mbps', 'Felce Azzurra Paglieri body soap', 'Fast wifi – 686 Mbps', 'Sapone bagnoschiuma per corpo e testa body soap', '36\" HDTV with premium cable, Netflix', 'Fast wifi – 374 Mbps', 'A colonna   refrigerator', 'Aura Luxury Collection  body soap', 'Fast wifi – 175 Mbps', 'HDTV with Amazon Prime Video, Netflix', 'Essentia Puglia shampoo', 'Palmolive  body soap', 'Wifi – 24 Mbps', 'Whirpool per IKEA stainless steel stove', 'Fast wifi – 317 Mbps', 'Officina Naturae body soap', 'Antico in pietra apposito per cucinare la pizza oven', '40\" HDTV with Amazon Prime Video, Netflix, standard cable', 'Fast wifi – 624 Mbps', 'TV with Chromecast, Netflix, Amazon Prime Video', 'Microonde + grill oven', 'SAMSUNG oven', 'Shared outdoor pool - infinity, lap pool, rooftop', 'Kit benvenuto conditioner', 'Fast wifi – 181 Mbps', 'Comfort Zone body soap', '47\" HDTV with premium cable, standard cable', 'Crib - available upon request', '70\" HDTV with standard cable', 'Indesit ad incasso due porte con freezer refrigerator', 'Biologico val di fiemme shampoo', 'Fast wifi – 161 Mbps', 'Fast wifi – 233 Mbps', 'Free parking on premises – 3 spaces', 'Occitane shampoo', 'INDESIT stainless steel gas stove', 'Shared outdoor pool - available all year, open specific hours', 'Fructis  shampoo', 'Induzione induction stove', 'Free washer', 'Candy electric stove', 'Fast wifi – 67 Mbps', 'Private outdoor pool - available seasonally, open 24 hours, infinity, rooftop', 'WHIRLPOOL refrigerator', 'Ecobolle detersivi alla spina (bio95%) body soap', 'In omaggio prima fornitura shampoo', 'Ariston  stainless steel gas stove', 'Private outdoor pool - infinity', 'Bilboa body soap', 'Ikea refrigerator', 'Fast wifi – 50 Mbps', 'Le Labo body soap', 'La Dimora body soap', 'Dove; Omnia shampoo', 'BOMANN refrigerator', 'Fast wifi – 172 Mbps', '50\" HDTV with Amazon Prime Video, Netflix, Apple TV, Chromecast, HBO Max, premium cable, Roku', '48\" HDTV with Roku', 'Conad shampoo', 'Bose sound system', '27\" HDTV with premium cable, standard cable', '66\" HDTV with Chromecast, Netflix', 'Children’s books and toys for ages 0-2 years old', 'Game console: Nintendo Wii, PS3, and Xbox 360', 'Saltwater pool', 'Shared outdoor pool - available all year, open specific hours, sun loungers', 'Paid dryer – In building', 'HDTV with Roku', 'Fast wifi – 287 Mbps', '32\" HDTV with Netflix, premium cable, Amazon Prime Video, Apple TV, Chromecast', 'Non scadente body soap', 'Private outdoor pool - available all year, open 24 hours', 'L Angelica o altro body soap', 'Keypad', 'Selezione Sea Tower shampoo', 'Ferrari stainless steel oven', '55\" HDTV with Chromecast, premium cable, Netflix, standard cable, Apple TV, Amazon Prime Video', 'Amazon body soap', 'ARISTON stainless steel stove', 'Marche commerciali shampoo', 'Arist stainless steel oven', 'Organic high quality shampoo', 'Ignis  refrigerator', 'Organic conditioner', 'Cheap shampoo', 'Linea bio shampoo', '42\" HDTV with standard cable, premium cable', 'HDTV with Netflix, premium cable, DVD player, standard cable', 'Richmond shampoo', 'Samsung electric stove', 'HIGHTEC refrigerator', 'Paid parking garage on premises – 100 spaces', 'Dometic Hotel  refrigerator', 'HDTV with Amazon Prime Video, Chromecast, Netflix, Roku', 'Rex  refrigerator', 'Fast wifi – 422 Mbps', 'Outdoor parking', 'Shared outdoor pool - available all year, open specific hours, olympic-sized', 'Induzione  stove', 'Organic shampoo', 'Felce azzurra body soap', '55\" HDTV with Chromecast', 'HDTV with standard cable, DVD player', 'Candy gas stove', 'Docciaschiuma e sapone body soap', 'VICHY body soap', '39\" HDTV with standard cable', 'Candy  stainless steel stove', 'Private pool - available all year, open 24 hours', 'Fast wifi – 232 Mbps', 'Generico shampoo', 'Free parking on premises – 10 spaces', 'Ciauriusi shampoo', 'Brionvega Bluetooth sound system', 'There is a 3-burner cooker. gas stove', ' - condiviso con gli ospiti delle altre stanze. refrigerator', '50\" HDTV with Netflix, Amazon Prime Video, premium cable', '- shampoo', 'Kederma shampoo', 'I nostri prodotti per la cura personale  sono scelti con cura, sono biologici della Yeves Rocher  e di una ditta italiana Omia, a base di Aloe Vera coltivata in  Salento conditioner', 'Yvesrocher  body soap', 'Wifi – 26 Mbps', \"L'oreal - sunsilk conditioner\", 'Smac  gas stove', 'Monuskin body soap', 'Smeg piano cottura ad induzione 4 fuochi  induction stove', 'B&B CREAM conditioner', 'Shared outdoor pool - available seasonally, open specific hours', 'Marshall Stanmore Bluetooth  Bluetooth sound system', 'HDTV with standard cable, Amazon Prime Video, Chromecast, Netflix', 'REX stainless steel stove', '45\" HDTV with Amazon Prime Video, Chromecast, Netflix, Roku', 'Non fisso shampoo', 'Bose Speakers  Bluetooth sound system', 'Whirphool stainless steel oven', 'CULTI conditioner', 'A pagamento 5€ stainless steel oven', 'Fast wifi – 663 Mbps', 'Clothing storage: wardrobe, walk-in closet, closet, and dresser', \"PROFUMI D'ORIENTE body soap\", 'Professionale fisso a muro shampoo', 'Board games', '38\" HDTV with Amazon Prime Video', 'Wifi – 7 Mbps', 'Buono shampoo', 'Fast wifi – 931 Mbps', 'Electrolux stainless steel electric stove', 'Porzioni monouso body soap', \"Tutti i nostri prodotti sono all'olio d'oliva biologico shampoo\", 'Kit cortesia con prodotti biologici shampoo', 'Shared outdoor pool - available seasonally', 'Beo-Play sound system with Bluetooth and aux', 'Glem elettrico ventilato  oven', 'Philips, radio, lettore di nastri in cassetta, lettore di CD sound system with aux', 'Neutromed shampoo', '55\" HDTV with Netflix, Roku, standard cable', 'SMEG stainless steel oven', 'Shared outdoor pool - available seasonally, open 24 hours, lap pool, pool toys, sun loungers', 'Avon body soap', 'Vidal body soap', '45\" HDTV with Netflix, Amazon Prime Video', 'Fast wifi – 490 Mbps', 'Con freezer refrigerator', 'AMALFI shampoo e balsamo; YVES ROCHER bagnoschiuma, sapone mani, sapone doccia, crema mani, peeling mani body soap', 'Monouso body soap', 'Suitable for events', 'Fast wifi – 320 Mbps', 'TV with standard cable, DVD player', 'Indifferente  body soap', '22\" TV with Netflix, standard cable', '28\" HDTV with Amazon Prime Video, Netflix, standard cable', '42\" HDTV with DVD player', 'Kenwood refrigerator', 'Private indoor pool - heated', '40\" HDTV with Amazon Prime Video, Chromecast, Netflix, standard cable', '40\" HDTV with standard cable, Netflix, Amazon Prime Video', 'Becko refrigerator', 'Infrost refrigerator', 'Atlantic refrigerator', 'Private outdoor pool - infinity, lap pool', 'Franck provost (silicones free) shampoo', 'ATLANTIC gas stove', 'Pino Silvestre shampoo', 'Shared outdoor pool - available seasonally, open specific hours, saltwater', '55\" TV', 'Panten, Clear, Oreal shampoo', 'Single Use shampoo', 'Fast wifi – 439 Mbps', 'Clothing storage: wardrobe, walk-in closet, and closet', 'Fattoria Belcanto shampoo', 'Ocean refrigerator', 'Fattoria Belcanto  body soap', 'Radio Bluetooth sound system', '45\" HDTV with Amazon Prime Video, Netflix', 'Osme body soap', 'Il forno grande non è funzionante. Usare quello piccolo sopra il microonde stainless steel oven', '38\" HDTV with HBO Max, Roku, Amazon Prime Video, Netflix, standard cable, Chromecast', 'J&j body soap', '75\" HDTV with Amazon Prime Video, Netflix', 'Private outdoor pool - available seasonally, open 24 hours, infinity, saltwater', 'Sapone naturale  home made body soap', '52\" HDTV with standard cable', 'Wifi – 29 Mbps', 'Ignis gas stove', 'HDTV with Apple TV, Amazon Prime Video, Netflix, Chromecast', '45\" HDTV with Amazon Prime Video, Apple TV, Chromecast, Netflix', 'Fast wifi – 517 Mbps', 'Zerowatt stainless steel gas stove', 'Sonos sound system with Bluetooth and aux', 'Piccolo frigo refrigerator', 'Eletrolux stainless steel oven', 'Artigianali body soap', '3 fuochi stove', '55\" HDTV with Amazon Prime Video, Netflix, Roku', 'Foster stove', 'Natural body soap', 'Bontà d’Asina body soap', 'Elvive  shampoo', 'White Aloe Vera shampoo', 'HDTV with standard cable, Amazon Prime Video, Netflix, premium cable, DVD player', 'Lorea shampoo', 'Game console: Nintendo Switch, Xbox 360, and Xbox One', '12\" TV', 'Qualsiasi  body soap', 'Bottega Verde body soap', 'Private gym in building', 'Dyson stainless steel gas stove', '43\" HDTV with Apple TV, Netflix, standard cable', 'Non so stove', 'BOSCH stainless steel oven', 'Caleffi stainless steel oven', 'Neutro shampoo', \"Lo è sempre a disposizione dei nostri ospiti all'interno della doccia shampoo\", 'Fast wifi – 729 Mbps', 'Beko stainless steel stove', 'Fast wifi – 522 Mbps', 'Fornito dalla struttura stainless steel oven', 'Xxx body soap', 'L’oreal - kerastase- jld  shampoo', 'Clothing storage: dresser, walk-in closet, closet, and wardrobe', 'Shampoo & Bagno doccia monouso body soap', 'IDRATANTE body soap', 'Isens refrigerator', 'Sovrana gas stove', 'Bio body soap', 'Amplificatore NAD e casse Bb&W sound system', 'Klarstein ( German Brand ) refrigerator', 'Gas  stainless steel oven', 'Stainless steel electric stove', \"La proprietaria lascera' a disposizione dei gentili ospiti piccoli campioncini di bagnoschiuma, shampoo e un piccolo saponcino body soap\", '50\" HDTV with Amazon Prime Video, Apple TV, Chromecast, HBO Max, Netflix, Roku, standard cable', '75\" HDTV with Netflix, Amazon Prime Video', 'Fast wifi – 162 Mbps', 'Tid body soap', 'Shared outdoor pool - available seasonally, sun loungers', '49\" HDTV with standard cable, Amazon Prime Video, Apple TV, Netflix', 'Professional conditioner', '55\" HDTV with Apple TV, Amazon Prime Video, Netflix', 'Fast wifi – 610 Mbps', 'Shared outdoor pool - available seasonally, infinity', 'TILLREDA (IKEA) induction stove', 'Fast wifi – 237 Mbps', 'Radio sound system', '50\" HDTV with Amazon Prime Video, Chromecast, HBO Max, Netflix, premium cable, standard cable', '52\" HDTV with Amazon Prime Video, Netflix', 'Paid valet parking on premises – 1 space', 'Clothing storage: dresser and wardrobe', 'Amo Essere Eco body soap', 'Guess shampoo', 'HDTV with premium cable', 'Wirpool refrigerator', 'Nivea, badedas, etc... body soap', 'CANDY induction stove', 'Nobrand shampoo', 'GAP shampoo', 'Olivabio set cortesia body soap', 'NAZIONALE  refrigerator', 'PICCOLO KIT DI BENVENUTO shampoo', 'Near body soap', 'Barazza stainless steel gas stove', 'Bb body soap', 'HDTV with Netflix, Amazon Prime Video', 'Color shampoo', 'CIEFFEDERMA. Prodotti acquistabili in farmacia presso di noi con sconto del 40% shampoo', 'Vari marchi in base alla disponibilità shampoo', 'Free residential garage on premises – 4 spaces', 'Jonson&Jonson body soap', 'Confezione sigillata di prodotto bagnoschiuma per ogni doccia corpo shampoo', 'Window AC unit', 'Shared hot tub - available seasonally', 'S refrigerator', 'Hotel hair balm pack  conditioner', 'Smoking allowed', 'Loreal body soap', '24\" HDTV with Amazon Prime Video, Netflix, Roku', 'AMONN by Salvatore Ferragamo shampoo', 'Fast wifi – 428 Mbps', 'Non specificato shampoo', 'Fast wifi – 467 Mbps', 'Head and shoulders shampoo', '42\" HDTV with Amazon Prime Video, Netflix, DVD player', 'Professionale alle mandorle shampoo', '22\" HDTV with Chromecast', 'Diptyque body soap', 'Fast wifi – 351 Mbps', 'Nordfrost refrigerator', 'Fast wifi – 496 Mbps', 'Chogan body soap', 'HDTV with Chromecast, Netflix, premium cable, standard cable', 'iPod dock', '24\" HDTV with Amazon Prime Video, Netflix, premium cable, standard cable', 'HDTV with Amazon Prime Video, Apple TV, Chromecast, Netflix, premium cable', 'Gym in building', 'Present more conditioner', '44 Suite body soap', 'Alarm system', '45\" TV with standard cable', 'Fast wifi – 269 Mbps', 'Kemon  shampoo', 'Qualsiasi stainless steel stove', 'Clothing storage: walk-in closet, closet, and dresser', 'Linea bio conditioner', 'Fast wifi – 452 Mbps', 'De Longhi  stainless steel gas stove', 'TV with Apple TV, Amazon Prime Video, Netflix', 'HDTV with Apple TV, Netflix, Roku', 'Liebherr refrigerator', 'Wifi – 34 Mbps', '44\" HDTV with Chromecast, Netflix, standard cable', 'GAP body soap', 'De Longhi  induction stove', 'HDTV with Netflix, premium cable', 'Fast wifi – 384 Mbps', 'Piastra elettrica induction stove', 'Candy oven', 'Google home  Bluetooth sound system', 'Shampo-doccia per corpo e capelli shampoo', 'Hotel shampoo pack shampoo', 'Indesit  oven', '55\" HDTV', 'Fast wifi – 616 Mbps', 'Fructis  conditioner', 'No brand conditioner', 'À gaz stainless steel stove', 'Smeg Vintage refrigerator', 'Prodotti da Farmacia body soap', 'Folding or convertible high chair - available upon request', 'Comune shampoo', 'Linea cortesia Biological body soap', 'Grown Alchemist shampoo', 'Paid parking garage on premises – 9 spaces', '36\" TV', 'Ardo  refrigerator', 'Zanussi stainless steel stove', 'Toscano body soap', \"L'Oréal  conditioner\", ' VÄLBILDAD induction stove', 'Free dryer', 'Privitera saponi body soap', 'Airone conditioner', 'High chair - always at the listing', 'Fast wifi – 284 Mbps', 'Culti, Co Begelow, Acqua dell’Elba shampoo', 'ANYAH eco spa treatment  body soap', 'Neutro  body soap', 'Clothing storage: closet, dresser, walk-in closet, and wardrobe', 'Fast wifi – 279 Mbps', 'Electrolux Rex stainless steel gas stove', 'Private label shampoo', '110\" HDTV with Amazon Prime Video, HBO Max', 'A richiesta body soap', 'HDTV with DVD player, standard cable', 'Vidal conditioner', '60\" HDTV with premium cable', 'Hot point refrigerator', '21\" TV', '47\" HDTV with Netflix', 'Neutro roberts body soap', 'Shared outdoor pool - available seasonally, open 24 hours, heated', '43\" TV with Amazon Prime Video', 'Generico conditioner', 'Natural shampoo', 'Normally  body soap', 'Thermal body soap', 'Electrolux  refrigerator', '42\" HDTV with premium cable, standard cable', 'Private outdoor pool - available all year, open 24 hours, sun loungers', 'Elettrolux stainless steel oven', '32\" TV with ', '23\" HDTV with standard cable', 'Frigo sottopiano SMEG FA120AP refrigerator', '50\" HDTV with Netflix, Amazon Prime Video', 'Lieberer refrigerator', 'ATLANTIC oven', 'ARISTON stove', 'Children safe body soap', 'Fast wifi – 220 Mbps', 'Dining area', 'Private outdoor pool - available all year, open 24 hours, infinity, saltwater', 'Shampoo neutro shampoo', 'Kitchenette', 'Vari marchi di saponi, shampoo e schiuma da bagno di buona qualità italiana e straniera body soap', 'Clothing storage: closet and wardrobe', 'Shampoodoccia body soap', '33\" HDTV with standard cable', 'Meraviglie di Rio Terà (VE) conditioner', 'Di buona qualità conditioner', 'CULTI shampoo', 'Bioessence body soap', 'Paid parking lot on premises – 7 spaces', '55\" HDTV with premium cable, Netflix, Amazon Prime Video', '52\" HDTV', 'Casa cucine oven', 'ELECTROLUX  refrigerator', '30\" HDTV with standard cable, DVD player', 'Sonos  sound system', 'Bosh stainless steel stove', 'Children’s books and toys for ages 5-10 years old', 'Note marche italiane conditioner', 'Private pool - available seasonally', 'Shared outdoor pool - available seasonally, rooftop', 'Karisma doccia shampoo shampoo', 'Fast wifi – 73 Mbps', 'Yves Rocher, Neutro Roberts body soap', '57\" HDTV', 'TV with Amazon Prime Video, Apple TV, Netflix, premium cable, standard cable', 'Shared outdoor pool - lap pool, olympic-sized', 'Fast wifi – 579 Mbps', 'Private outdoor pool - available seasonally, open 24 hours, rooftop, sun loungers', 'Fast wifi – 427 Mbps', 'Fast wifi – 145 Mbps', 'Welcome Kit body soap', '18\" HDTV', 'Tea Natura body soap', 'Miele induction stove', '43\" HDTV with Amazon Prime Video, HBO Max, Netflix, standard cable', 'Wella conditioner', 'Bang & Olafsen sound system with Bluetooth and aux', 'Hightech refrigerator', 'Ih Hotels shampoo', 'Turbo sound 16000watt sound system', 'Scavolini  refrigerator', 'Prodotto alberghiero stainless steel gas stove', 'Private outdoor pool - available seasonally, open 24 hours, sun loungers', 'Shared pool - available seasonally, open 24 hours', 'HDTV with Netflix, Amazon Prime Video, Apple TV', 'Clothing storage: wardrobe, closet, and dresser', 'Samsung stainless steel gas stove', 'Boat slip', '75\" HDTV with standard cable', 'B&B SOAP body soap', 'I nostri prodotti per la cura personale  sono scelti con cura, sono biologici della Yeves Rocher  e di una ditta italiana Omia, a base di Aloe Vera coltivata in  Salento body soap', 'Fast wifi – 359 Mbps', 'Perlier body soap', 'Aiwa sound system', 'ARISTON INDUZIONE stove', '51\" HDTV', 'Le Petit Marseillais body soap', 'Jbc Bluetooth sound system', \"Acqua dell'Elba conditioner\", 'A and R Cambridge/Bose sound system with Bluetooth and aux', 'Meraviglie di Rio Terà (VE) shampoo', 'Bek stainless steel oven', 'Hotpoint stainless steel oven', \"Dr.Bronner's body soap\", 'Fast wifi – 208 Mbps', '32\" HDTV with Chromecast, Netflix, standard cable', 'Gas Gpl gas stove', 'Hot tub', 'Free carport on premises – 6 spaces', 'Fast wifi – 241 Mbps', 'HDTV with Apple TV, Netflix, premium cable', 'HDTV with Amazon Prime Video, premium cable, standard cable, Netflix', '32\" HDTV with Amazon Prime Video, Apple TV, Chromecast, HBO Max, Netflix, Roku', '24\" HDTV with Netflix, standard cable', 'Electrolux  stainless steel oven', 'Bosch stainless steel induction stove', 'Klarstein induction stove', '32\" TV with Apple TV, Netflix, Amazon Prime Video', 'Elevator', 'Fast wifi – 676 Mbps', 'Fast wifi – 170 Mbps', 'Americano refrigerator', 'Impianto bluetooth in camera da letto sound system', '43\" HDTV with standard cable, Amazon Prime Video', 'Lounge area', '43\" HDTV with Chromecast, standard cable', 'Malin + Goetz body soap', 'Franke stainless steel induction stove', 'Sonos  Bluetooth sound system', 'Varie  marche body soap', 'Dishwasher', 'HDTV with standard cable, Chromecast, Netflix', 'Wonderful Italy shampoo', '30\" HDTV with Amazon Prime Video, Chromecast', '3\" HDTV', '42\" HDTV with Amazon Prime Video, Apple TV, Netflix', 'Forno a legna oven', 'Coffee maker', 'Fragonard  shampoo', 'Fast wifi – 475 Mbps', 'Trulli dei Carrubi shampoo', 'Clamp on table seat high chair - always at the listing', 'MAJOLICA NOIR SOAP body soap', 'Shared outdoor pool - open 24 hours', 'Tryptich body soap', 'Biegelow conditioner', 'Sapone di cortesia body soap', 'Dove - palmolive - nidra body soap', 'Relax shampoo', 'Pantene  shampoo', 'HDTV with Netflix, Amazon Prime Video, Chromecast', 'Free carport on premises – 5 spaces', 'Fast wifi – 806 Mbps', 'Monodose Dolce e Vita shampoo', 'Fast wifi – 340 Mbps', 'Fast wifi – 89 Mbps', 'ELECTROLUX stainless steel oven', 'Marantz sound system', 'Fresh and clean body soap', 'Fast wifi – 244 Mbps', '32\" HDTV with Amazon Prime Video, Apple TV, Netflix', '55\" HDTV with premium cable, standard cable', 'Philips sound system with aux', 'FELCE AZZURRA body soap', 'Candy stove', 'Siemens induction stove', 'Da incasso refrigerator', 'HDTV with Netflix, Apple TV', 'Gated property', 'Borsch refrigerator', 'Fast wifi – 265 Mbps', '37\" HDTV with Amazon Prime Video, standard cable', 'Bagnoschiuma neutro body soap', 'Dove shampoo', 'Electrolux  stove', 'Salvatore Ferragamo body soap', 'Alexa Echo Plus sound system with Bluetooth and aux', 'Fast wifi – 151 Mbps', 'Apulia body soap', 'GLEMGAS stainless steel oven', 'Fast wifi – 698 Mbps', 'Private outdoor pool - available seasonally, open specific hours, pool toys, saltwater, sun loungers', '33\" HDTV with Netflix', 'Clear body soap', 'Shampo-doccia per corpo e capelli body soap', '65\" HDTV with Amazon Prime Video, Netflix, premium cable, standard cable', 'Casa Sbrizza refrigerator', 'Omia body soap', 'Mondo gas stove', 'Fast wifi – 155 Mbps', 'Aveda shampoo', 'Majority Bluetooth sound system', '55\" HDTV with premium cable, Netflix', 'Nature shampoo', 'GENERICO shampoo', 'Marantz sound system with aux', 'Leone  conditioner', 'Hotpoint  oven', 'Wifi – 28 Mbps', '36\" HDTV with standard cable', 'Hotpoint Ariston stainless steel stove', 'LG stainless steel oven', 'Indesit refrigerator', 'Viene fornito un primo necessaire in gadget per uso cucina bagno e bidet body soap', 'Shared pool - heated, infinity', 'Kenwood sound system with Bluetooth and aux', 'Trevi Bluetooth sound system', '41\" HDTV', 'Jbl in piscina Bluetooth sound system', 'Shampoo al germe di grano delicato biologico Officina del Mugello (vegan ok e bio eco cosmesi AIAB). Anche il gel doccia è di questa marca, alla lavanda, al basilico o agli agrumi secondo le stagioni. shampoo', 'Olivone shampoo', 'Conad  body soap', 'Aura Luxury collection body soap', 'Our own production body soap', 'Beach essentials', 'Clothing storage: dresser and walk-in closet', 'Flacogini piccoli shampoo', 'Essentiae body soap', 'Single Use Shampoo & Body body soap', 'Free parking on premises – 8 spaces', 'Fast wifi – 577 Mbps', 'Piano cottura ad induzione  induction stove', 'HDTV with Netflix, Chromecast, Amazon Prime Video', '55\" HDTV with Netflix, DVD player, Amazon Prime Video', 'Mantovani shampoo', '22\" HDTV with Chromecast, standard cable', 'Samsung Microwave stainless steel oven', 'Eco friendly no brand body soap', 'Clothing storage: walk-in closet, wardrobe, and closet', 'Fast wifi – 135 Mbps', '32\" HDTV with Amazon Prime Video, Netflix, Chromecast, standard cable', 'Italiano conditioner', 'Buono  body soap', 'Ice machine', 'Fast wifi – 514 Mbps', 'Fast wifi – 403 Mbps', 'AC - split type ductless system', 'JBL  Bluetooth sound system', 'Equilibria body soap', 'Private outdoor pool - infinity, olympic-sized, rooftop', 'Cucina refrigerator', '36\" HDTV with Chromecast, Netflix, Amazon Prime Video, Apple TV', 'Ariel shampoo', 'Fast wifi – 85 Mbps', 'Onkyo sound system with Bluetooth and aux', 'Free driveway parking on premises – 4 spaces', '21\" HDTV with Netflix', 'Korres conditioner', 'Geox stainless steel oven', 'Fast wifi – 143 Mbps', 'Linea cosmetica Prija per corpo e capelli. body soap', '32\" TV with Amazon Prime Video, Netflix, standard cable', 'Biodegradabile body soap', 'Dave  body soap', 'Electrolux induction stove', 'Elettrlux stainless steel oven', 'Kit di cortesia shampoo', 'Pool table', 'Bagno schiuma puro amore sicily body soap', 'HDTV with standard cable, Roku, Apple TV, Amazon Prime Video, Netflix', 'Bosch refrigerator', '70\" HDTV with Amazon Prime Video, Netflix, Apple TV', 'Varie refrigerator', 'Whirlpool  gas stove', 'Electrolux stainless steel oven', '55\" HDTV with Amazon Prime Video, standard cable, Netflix', 'HOTPOINT-ARISTON refrigerator', 'Camay body soap', 'A seconda della disponibilità  conditioner', 'Sapone liquido neutro  body soap', 'Ecologic body soap', 'Bio italiano  shampoo', 'SMEG SMALL FRIDGE refrigerator', 'Fast wifi – 497 Mbps', 'Pergola', 'Metro body soap', 'TV with Amazon Prime Video, Apple TV, Chromecast', 'Secondo disponibilità body soap', 'General  oven', '55\" HDTV with Netflix, Apple TV, Amazon Prime Video', 'Children’s books and toys for ages 2-5 years old and 10+ years old', 'Fast wifi – 283 Mbps', 'Clothing storage: wardrobe, dresser, and closet', 'Shared outdoor pool - available seasonally, open 24 hours, saltwater', '32\" HDTV with Amazon Prime Video, Apple TV, Netflix, standard cable', 'DeLonghi  stainless steel stove', 'Fast wifi – 307 Mbps', 'Whirpool stainless steel stove', 'Fast wifi – 380 Mbps', 'SALVATORE FERRAGAMO shampoo', 'DE LUXE refrigerator', '32\" HDTV with Amazon Prime Video, Netflix, premium cable, standard cable', '56\" HDTV with Netflix, standard cable, DVD player', 'Whirpool electric stove', '40\" HDTV with Amazon Prime Video, Netflix, premium cable, standard cable', 'Amande shampoo', 'Fast wifi – 52 Mbps', 'Indesit  induction stove', 'Fast wifi – 92 Mbps', 'Clothing storage: dresser, wardrobe, and walk-in closet', 'DOVE Original Beauty Cream Bar - Detergente body soap', 'Fast wifi – 598 Mbps', 'Ciarusi body soap', 'Clothing storage: closet, wardrobe, and dresser', 'Alpes stainless steel oven', 'SMEG 90 cm stainless steel gas stove', '- conditioner', 'Head & shoulders shampoo', 'Fast wifi – 393 Mbps', 'Ciaurusi - essenze di Sicilia body soap', 'HDTV with Apple TV, Amazon Prime Video, standard cable, Netflix', 'Bottega verde conditioner', 'Private outdoor pool - available all year, open 24 hours, heated, saltwater', '52\" HDTV with Chromecast', 'Roberts body soap', 'Franke induction stove', 'HDTV with standard cable, premium cable, DVD player', 'Fast wifi – 54 Mbps', 'Shower gel  body soap', 'Linea cortesia Vitaminica shampoo', 'Piccolo forno da sopra piano oven', '41\" HDTV with Amazon Prime Video, Netflix, standard cable', 'Comerciali body soap', 'Forno a gas oven', '65\" HDTV with standard cable, Netflix, Amazon Prime Video', 'Branded body soap', 'ANYAH shampoo', 'HDTV with Amazon Prime Video, Apple TV, Netflix', 'Paid pack ’n play/travel crib', 'Tea natura ecologici body soap', 'Fast wifi – 373 Mbps', 'Clothing storage: walk-in closet and wardrobe', '72\" HDTV', 'Game console: PS5', 'G&H  AMWAY prodotti naturali body soap', '55\" HDTV with standard cable, premium cable, Netflix, Apple TV, Amazon Prime Video, HBO Max, Chromecast, Roku', 'A legna e a gas oven', 'Set di cortesia shampoo', 'Wifi – 38 Mbps', 'LG INSTANT VIEW refrigerator', 'Fast wifi – 328 Mbps', 'Cien shampoo', 'Spazio nel frigo se richiesto anticipatamente :) I can make some space in the fridge for you if requested in advance :) refrigerator', 'Breakfast table', 'Occitaine conditioner', 'No Frost refrigerator', '65\" HDTV with Amazon Prime Video, Chromecast, Netflix', 'Coop  shampoo', 'Fast wifi – 725 Mbps', '55\" HDTV with Amazon Prime Video, Chromecast, Netflix', 'Fast wifi – 350 Mbps', 'Decorative fireplace', 'Monodose body soap', 'Normale Standard Seife body soap', 'Fast wifi – 122 Mbps', 'Shared outdoor pool - available seasonally, open 24 hours, rooftop, saltwater', 'Lorenzo Villoresi  shampoo', '55\" HDTV with Amazon Prime Video, HBO Max, Netflix', 'Fast wifi – 455 Mbps', 'HDTV with Apple TV, Netflix', 'Philips sound system', 'Fast wifi – 144 Mbps', 'Boose sound system', 'Private outdoor pool - available all year, open 24 hours, infinity, rooftop', 'Biologici o naturali conditioner', 'Amande body soap', '39\" TV with standard cable', 'INDESIT stainless steel oven', '5 amazon alexa  Bluetooth sound system', 'Fast wifi – 334 Mbps', '40\" HDTV with DVD player', 'Samsung  oven', \"Winny's conditioner\", 'Electrolux Rex refrigerator', 'Head & shoulders conditioner', 'Linea hotel shampoo', 'Piccolo Forno oven', 'Booster seat high chair', 'Guest/ karisma shampoo', 'Occitane conditioner', 'It is in hall room, sharing with other guests refrigerator', 'Doccia shampo body soap', 'Set di cortesia \" think about your body\" body soap', 'Generic  conditioner', 'Fast wifi – 492 Mbps', 'Prodotto alberghiero  conditioner', 'Malizia body soap', 'Esseluga body soap', 'Philips refrigerator', 'Shampoo e Balsamo per capelli disponibili in dispenser shampoo', 'Hise refrigerator', 'Sapone igienizzante  body soap', 'BEKO stove', 'Indesit oven', '50\" HDTV with Amazon Prime Video, Netflix, premium cable', 'Relax body soap', '58\" HDTV with Amazon Prime Video, Netflix, premium cable', 'Energy sistem Frame Bluetooth sound system', '18\" TV with standard cable', 'Fast wifi – 341 Mbps', 'Homemade with olive oil body soap', 'BOSCH induction stove', 'Classico conditioner', 'Aeg stainless steel oven', '45\" HDTV with Netflix', 'Samsung inverter refrigerator', 'Ciarra induction stove', 'Cucina a gas gas stove', 'Private indoor pool - available all year, open 24 hours, heated, infinity', 'GLISS -SCHWARZKOPF shampoo', 'Provost conditioner', 'N conditioner', 'Smeg refrigerator', 'HDTV with Chromecast, Amazon Prime Video, Netflix, standard cable', '75\" HDTV with Amazon Prime Video, Netflix, standard cable', 'Etna rosso body soap', 'Artigianale body soap', 'Hot water', 'Children’s books and toys for ages 10+ years old', 'Alta fascia conditioner', 'Toaster oven with grill function oven', 'Di marca nota shampoo', 'Fast wifi – 629 Mbps', 'Fast wifi – 290 Mbps', 'Private pool - saltwater', 'SONY Bluetooth sound system', 'Ecologico shampoo', 'Erbolario conditioner', 'Marshall  Bluetooth sound system', 'Esselunga  body soap', '65\" TV with HBO Max, Amazon Prime Video, Netflix', 'Shared outdoor pool - available seasonally, open 24 hours, lap pool, saltwater, sun loungers', '24\" HDTV with premium cable', 'Fast wifi – 114 Mbps', 'Beko stainless steel gas stove', '48\" HDTV with Amazon Prime Video, Netflix', '55\" HDTV with premium cable', 'Shared outdoor pool - available seasonally, open specific hours, lap pool', 'Palmolive, dove body soap', 'Ignis-Ikea stainless steel oven', 'Nnso stove', 'Non ricordo  oven', 'Gas stainless steel stove', 'Fast wifi – 165 Mbps', 'Whirlpool  stainless steel gas stove', 'HDTV with Netflix, Apple TV, Amazon Prime Video', 'ARISTON stainless steel gas stove', 'Fornello stile camping electric stove', 'Fast wifi – 129 Mbps', 'Samsung oven', 'Bottega verde shampoo', 'Balea body soap', 'Fast wifi – 277 Mbps', 'Smeg  oven'}\n"
     ]
    }
   ],
   "source": [
    "categories_list = []\n",
    "\n",
    "def categories_count(row):\n",
    "    categories = eval(row)\n",
    "    categories_list.extend(categories)\n",
    "\n",
    "X_train_prepared[\"amenities\"].apply(categories_count)\n",
    "\n",
    "unique_categories = set(categories_list)\n",
    "\n",
    "print(len(unique_categories))\n",
    "print(unique_categories)"
   ]
  },
  {
   "cell_type": "markdown",
   "metadata": {},
   "source": [
    "#### Exploring minimum_nights"
   ]
  },
  {
   "cell_type": "code",
   "execution_count": null,
   "metadata": {},
   "outputs": [],
   "source": [
    "print(f\"Number of null value: {X_train_prepared['minimum_nights'].isna().sum()}\")\n",
    "# corr = np.corrcoef(X_train_prepared[\"price_usd\"], X_train_prepared[\"host_verifications\"])[0, 1]\n",
    "# print(f\"Corr coef between price_usd and host_listings_count: {corr}\")\n",
    "print(X_train_prepared[\"minimum_nights\"].describe())\n",
    "\n",
    "fig = make_subplots(rows=2, cols=1, subplot_titles=[\"Histogram of Minimum nights\", \"Scatter Plot\"], vertical_spacing=0.3)\n",
    "\n",
    "histogram_trace = px.histogram(X_train_prepared, x=\"minimum_nights\").data[0]\n",
    "fig.add_trace(histogram_trace, row=1, col=1)\n",
    "\n",
    "scatter_trace = px.scatter(X_train_prepared, x=\"minimum_nights\", y=\"price_usd\").data[0]\n",
    "fig.add_trace(scatter_trace, row=2, col=1)\n",
    "\n",
    "fig.update_yaxes(title_text=\"Price USD\", row=2, col=1)\n",
    "fig.update_xaxes(title_text=\"Minimum nights\", row=2, col=1)\n",
    "\n",
    "fig.show()"
   ]
  },
  {
   "cell_type": "markdown",
   "metadata": {},
   "source": [
    "#### Exploring maximum_nights"
   ]
  },
  {
   "cell_type": "code",
   "execution_count": null,
   "metadata": {},
   "outputs": [],
   "source": [
    "print(f\"Number of null value: {X_train_prepared['maximum_nights'].isna().sum()}\")\n",
    "# corr = np.corrcoef(X_train_prepared[\"price_usd\"], X_train_prepared[\"host_verifications\"])[0, 1]\n",
    "# print(f\"Corr coef between price_usd and host_listings_count: {corr}\")\n",
    "print(X_train_prepared[\"maximum_nights\"].describe())\n",
    "\n",
    "fig = make_subplots(rows=2, cols=1, subplot_titles=[\"Histogram of Maximum nights\", \"Scatter Plot\"], vertical_spacing=0.3)\n",
    "\n",
    "histogram_trace = px.histogram(X_train_prepared, x=\"maximum_nights\").data[0]\n",
    "fig.add_trace(histogram_trace, row=1, col=1)\n",
    "\n",
    "scatter_trace = px.scatter(X_train_prepared, x=\"maximum_nights\", y=\"price_usd\").data[0]\n",
    "fig.add_trace(scatter_trace, row=2, col=1)\n",
    "\n",
    "fig.update_yaxes(title_text=\"Price USD\", row=2, col=1)\n",
    "fig.update_xaxes(title_text=\"Maximum nights\", row=2, col=1)\n",
    "\n",
    "fig.show()"
   ]
  },
  {
   "cell_type": "markdown",
   "metadata": {},
   "source": [
    "#### Exploring minimum_minimum_nights"
   ]
  },
  {
   "cell_type": "code",
   "execution_count": null,
   "metadata": {},
   "outputs": [],
   "source": [
    "print(f\"Number of null value: {X_train_prepared['minimum_minimum_nights'].isna().sum()}\")\n",
    "# corr = np.corrcoef(X_train_prepared[\"price_usd\"], X_train_prepared[\"host_verifications\"])[0, 1]\n",
    "# print(f\"Corr coef between price_usd and host_listings_count: {corr}\")\n",
    "print(X_train_prepared[\"minimum_minimum_nights\"].describe())\n",
    "\n",
    "fig = make_subplots(rows=2, cols=1, subplot_titles=[\"Histogram of Minimum minimum nights\", \"Scatter Plot\"], vertical_spacing=0.3)\n",
    "\n",
    "histogram_trace = px.histogram(X_train_prepared, x=\"minimum_minimum_nights\").data[0]\n",
    "fig.add_trace(histogram_trace, row=1, col=1)\n",
    "\n",
    "scatter_trace = px.scatter(X_train_prepared, x=\"minimum_minimum_nights\", y=\"price_usd\").data[0]\n",
    "fig.add_trace(scatter_trace, row=2, col=1)\n",
    "\n",
    "fig.update_yaxes(title_text=\"Price USD\", row=2, col=1)\n",
    "fig.update_xaxes(title_text=\"Minimum minimum nights\", row=2, col=1)\n",
    "\n",
    "fig.show()"
   ]
  },
  {
   "cell_type": "markdown",
   "metadata": {},
   "source": [
    "#### Exploring maximum_minimum_nights"
   ]
  },
  {
   "cell_type": "code",
   "execution_count": null,
   "metadata": {},
   "outputs": [],
   "source": [
    "print(f\"Number of null value: {X_train_prepared['maximum_minimum_nights'].isna().sum()}\")\n",
    "# corr = np.corrcoef(X_train_prepared[\"price_usd\"], X_train_prepared[\"host_verifications\"])[0, 1]\n",
    "# print(f\"Corr coef between price_usd and host_listings_count: {corr}\")\n",
    "print(X_train_prepared[\"maximum_minimum_nights\"].describe())\n",
    "\n",
    "fig = make_subplots(rows=2, cols=1, subplot_titles=[\"Histogram of Maximum minimum nights\", \"Scatter Plot\"], vertical_spacing=0.3)\n",
    "\n",
    "histogram_trace = px.histogram(X_train_prepared, x=\"maximum_minimum_nights\").data[0]\n",
    "fig.add_trace(histogram_trace, row=1, col=1)\n",
    "\n",
    "scatter_trace = px.scatter(X_train_prepared, x=\"maximum_minimum_nights\", y=\"price_usd\").data[0]\n",
    "fig.add_trace(scatter_trace, row=2, col=1)\n",
    "\n",
    "fig.update_yaxes(title_text=\"Price USD\", row=2, col=1)\n",
    "fig.update_xaxes(title_text=\"Maximum minimum nights\", row=2, col=1)\n",
    "\n",
    "fig.show()"
   ]
  },
  {
   "cell_type": "markdown",
   "metadata": {},
   "source": [
    "#### Exploring minimum_maximum_nights"
   ]
  },
  {
   "cell_type": "code",
   "execution_count": null,
   "metadata": {},
   "outputs": [],
   "source": [
    "print(f\"Number of null value: {X_train_prepared['minimum_maximum_nights'].isna().sum()}\")\n",
    "# corr = np.corrcoef(X_train_prepared[\"price_usd\"], X_train_prepared[\"host_verifications\"])[0, 1]\n",
    "# print(f\"Corr coef between price_usd and host_listings_count: {corr}\")\n",
    "print(X_train_prepared[\"minimum_maximum_nights\"].describe())\n",
    "\n",
    "fig = make_subplots(rows=2, cols=1, subplot_titles=[\"Histogram of Minimum maximum nights\", \"Scatter Plot\"], vertical_spacing=0.3)\n",
    "\n",
    "histogram_trace = px.histogram(X_train_prepared, x=\"minimum_maximum_nights\").data[0]\n",
    "fig.add_trace(histogram_trace, row=1, col=1)\n",
    "\n",
    "scatter_trace = px.scatter(X_train_prepared, x=\"minimum_maximum_nights\", y=\"price_usd\").data[0]\n",
    "fig.add_trace(scatter_trace, row=2, col=1)\n",
    "\n",
    "fig.update_yaxes(title_text=\"Price USD\", row=2, col=1)\n",
    "fig.update_xaxes(title_text=\"Minimum maximum nights\", row=2, col=1)\n",
    "\n",
    "fig.show()"
   ]
  },
  {
   "cell_type": "markdown",
   "metadata": {},
   "source": [
    "#### Exploring maximum_maximum_nights"
   ]
  },
  {
   "cell_type": "code",
   "execution_count": null,
   "metadata": {},
   "outputs": [],
   "source": [
    "print(f\"Number of null value: {X_train_prepared['maximum_maximum_nights'].isna().sum()}\")\n",
    "# corr = np.corrcoef(X_train_prepared[\"price_usd\"], X_train_prepared[\"host_verifications\"])[0, 1]\n",
    "# print(f\"Corr coef between price_usd and host_listings_count: {corr}\")\n",
    "print(X_train_prepared[\"maximum_maximum_nights\"].describe())\n",
    "\n",
    "fig = make_subplots(rows=2, cols=1, subplot_titles=[\"Histogram of Maximum maximum nights\", \"Scatter Plot\"], vertical_spacing=0.3)\n",
    "\n",
    "histogram_trace = px.histogram(X_train_prepared, x=\"maximum_maximum_nights\").data[0]\n",
    "fig.add_trace(histogram_trace, row=1, col=1)\n",
    "\n",
    "scatter_trace = px.scatter(X_train_prepared, x=\"maximum_maximum_nights\", y=\"price_usd\").data[0]\n",
    "fig.add_trace(scatter_trace, row=2, col=1)\n",
    "\n",
    "fig.update_yaxes(title_text=\"Price USD\", row=2, col=1)\n",
    "fig.update_xaxes(title_text=\"Maximum maximum nights\", row=2, col=1)\n",
    "\n",
    "fig.show()"
   ]
  },
  {
   "cell_type": "markdown",
   "metadata": {},
   "source": [
    "#### Exploring minimum_nights_avg_ntm"
   ]
  },
  {
   "cell_type": "code",
   "execution_count": null,
   "metadata": {},
   "outputs": [],
   "source": [
    "print(f\"Number of null value: {X_train_prepared['minimum_nights_avg_ntm'].isna().sum()}\")\n",
    "# corr = np.corrcoef(X_train_prepared[\"price_usd\"], X_train_prepared[\"host_verifications\"])[0, 1]\n",
    "# print(f\"Corr coef between price_usd and host_listings_count: {corr}\")\n",
    "print(X_train_prepared[\"minimum_nights_avg_ntm\"].describe())\n",
    "\n",
    "fig = make_subplots(rows=2, cols=1, subplot_titles=[\"Histogram of Minimum nights avg ntm\", \"Scatter Plot\"], vertical_spacing=0.3)\n",
    "\n",
    "histogram_trace = px.histogram(X_train_prepared, x=\"minimum_nights_avg_ntm\").data[0]\n",
    "fig.add_trace(histogram_trace, row=1, col=1)\n",
    "\n",
    "scatter_trace = px.scatter(X_train_prepared, x=\"minimum_nights_avg_ntm\", y=\"price_usd\").data[0]\n",
    "fig.add_trace(scatter_trace, row=2, col=1)\n",
    "\n",
    "fig.update_yaxes(title_text=\"Price USD\", row=2, col=1)\n",
    "fig.update_xaxes(title_text=\"Minimum nights avg ntm\", row=2, col=1)\n",
    "\n",
    "fig.show()"
   ]
  },
  {
   "cell_type": "markdown",
   "metadata": {},
   "source": [
    "#### Exploring maximum_nights_avg_ntm"
   ]
  },
  {
   "cell_type": "code",
   "execution_count": null,
   "metadata": {},
   "outputs": [],
   "source": [
    "print(f\"Number of null value: {X_train_prepared['maximum_nights_avg_ntm'].isna().sum()}\")\n",
    "# corr = np.corrcoef(X_train_prepared[\"price_usd\"], X_train_prepared[\"host_verifications\"])[0, 1]\n",
    "# print(f\"Corr coef between price_usd and host_listings_count: {corr}\")\n",
    "print(X_train_prepared[\"maximum_nights_avg_ntm\"].describe())\n",
    "\n",
    "fig = make_subplots(rows=2, cols=1, subplot_titles=[\"Histogram of Maximum nights avg ntm\", \"Scatter Plot\"], vertical_spacing=0.3)\n",
    "\n",
    "histogram_trace = px.histogram(X_train_prepared, x=\"maximum_nights_avg_ntm\").data[0]\n",
    "fig.add_trace(histogram_trace, row=1, col=1)\n",
    "\n",
    "scatter_trace = px.scatter(X_train_prepared, x=\"maximum_nights_avg_ntm\", y=\"price_usd\").data[0]\n",
    "fig.add_trace(scatter_trace, row=2, col=1)\n",
    "\n",
    "fig.update_yaxes(title_text=\"Price USD\", row=2, col=1)\n",
    "fig.update_xaxes(title_text=\"Maximum nights avg ntm\", row=2, col=1)\n",
    "\n",
    "fig.show()"
   ]
  },
  {
   "cell_type": "markdown",
   "metadata": {},
   "source": [
    "#### Exploring has_availability"
   ]
  },
  {
   "cell_type": "code",
   "execution_count": null,
   "metadata": {},
   "outputs": [],
   "source": [
    "print(f\"Number of null value: {X_train_prepared['has_availability'].isna().sum()}\")\n",
    "# corr = np.corrcoef(X_train_prepared[\"price_usd\"], X_train_prepared[\"host_verifications\"])[0, 1]\n",
    "# print(f\"Corr coef between price_usd and host_listings_count: {corr}\")\n",
    "print(X_train_prepared[\"has_availability\"].describe())\n",
    "\n",
    "fig = make_subplots(rows=2, cols=1, subplot_titles=[\"Histogram of Has availability\", \"Scatter Plot\"], vertical_spacing=0.3)\n",
    "\n",
    "histogram_trace = px.histogram(X_train_prepared, x=\"has_availability\").data[0]\n",
    "fig.add_trace(histogram_trace, row=1, col=1)\n",
    "\n",
    "scatter_trace = px.scatter(X_train_prepared, x=\"has_availability\", y=\"price_usd\").data[0]\n",
    "fig.add_trace(scatter_trace, row=2, col=1)\n",
    "\n",
    "fig.update_yaxes(title_text=\"Price USD\", row=2, col=1)\n",
    "fig.update_xaxes(title_text=\"Has availability\", row=2, col=1)\n",
    "\n",
    "fig.show()"
   ]
  },
  {
   "cell_type": "markdown",
   "metadata": {},
   "source": [
    "#### Exploring availability_30 & availability_60 & availability_90 & availability_365"
   ]
  },
  {
   "cell_type": "code",
   "execution_count": null,
   "metadata": {},
   "outputs": [],
   "source": [
    "print(f\"Number of null value: {X_train_prepared['availability_30'].isna().sum()}\")\n",
    "# corr = np.corrcoef(X_train_prepared[\"price_usd\"], X_train_prepared[\"host_verifications\"])[0, 1]\n",
    "# print(f\"Corr coef between price_usd and host_listings_count: {corr}\")\n",
    "\n",
    "fig = make_subplots(rows=4, cols=2, subplot_titles=[\"Histogram of Availability 30\", \"Scatter Plot\"], vertical_spacing=0.1)\n",
    "\n",
    "histogram_trace_1 = px.histogram(X_train_prepared, x=\"availability_30\").data[0]\n",
    "histogram_trace_2 = px.histogram(X_train_prepared, x=\"availability_60\").data[0]\n",
    "histogram_trace_3 = px.histogram(X_train_prepared, x=\"availability_90\").data[0]\n",
    "histogram_trace_4 = px.histogram(X_train_prepared, x=\"availability_365\").data[0]\n",
    "fig.add_trace(histogram_trace_1, row=1, col=1)\n",
    "fig.add_trace(histogram_trace_2, row=2, col=1)\n",
    "fig.add_trace(histogram_trace_3, row=3, col=1)\n",
    "fig.add_trace(histogram_trace_4, row=4, col=1)\n",
    "\n",
    "scatter_trace_1 = px.scatter(X_train_prepared, x=\"availability_30\", y=\"price_usd\").data[0]\n",
    "scatter_trace_2 = px.scatter(X_train_prepared, x=\"availability_60\", y=\"price_usd\").data[0]\n",
    "scatter_trace_3 = px.scatter(X_train_prepared, x=\"availability_90\", y=\"price_usd\").data[0]\n",
    "scatter_trace_4 = px.scatter(X_train_prepared, x=\"availability_365\", y=\"price_usd\").data[0]\n",
    "fig.add_trace(scatter_trace_1, row=1, col=2)\n",
    "fig.add_trace(scatter_trace_2, row=2, col=2)\n",
    "fig.add_trace(scatter_trace_3, row=3, col=2)\n",
    "fig.add_trace(scatter_trace_4, row=4, col=2)\n",
    "\n",
    "fig.update_yaxes(title_text=\"Price USD\", row=1, col=2)\n",
    "fig.update_yaxes(title_text=\"Price USD\", row=2, col=2)\n",
    "fig.update_yaxes(title_text=\"Price USD\", row=3, col=2)\n",
    "fig.update_yaxes(title_text=\"Price USD\", row=4, col=2)\n",
    "fig.update_xaxes(title_text=\"Availability 30\", row=1, col=2)\n",
    "fig.update_xaxes(title_text=\"Availability 60\", row=2, col=2)\n",
    "fig.update_xaxes(title_text=\"Availability 90\", row=3, col=2)\n",
    "fig.update_xaxes(title_text=\"Availability 365\", row=4, col=2)\n",
    "\n",
    "fig.update_layout(height=1000)\n",
    "\n",
    "fig.show()"
   ]
  },
  {
   "cell_type": "markdown",
   "metadata": {},
   "source": [
    "#### Exploring calendar_last_scraped"
   ]
  },
  {
   "cell_type": "code",
   "execution_count": 4,
   "metadata": {},
   "outputs": [
    {
     "name": "stdout",
     "output_type": "stream",
     "text": [
      "Number of null value: 0\n"
     ]
    },
    {
     "data": {
      "text/plain": [
       "count                            71914\n",
       "mean     2022-09-20 17:19:26.493311232\n",
       "min                2022-09-07 00:00:00\n",
       "25%                2022-09-15 00:00:00\n",
       "50%                2022-09-25 00:00:00\n",
       "75%                2022-09-27 00:00:00\n",
       "max                2022-09-29 00:00:00\n",
       "Name: calendar_last_scraped, dtype: object"
      ]
     },
     "execution_count": 4,
     "metadata": {},
     "output_type": "execute_result"
    }
   ],
   "source": [
    "print(f\"Number of null value: {X_train_prepared['calendar_last_scraped'].isna().sum()}\")\n",
    "X_train_prepared[\"calendar_last_scraped\"].describe()"
   ]
  },
  {
   "cell_type": "markdown",
   "metadata": {},
   "source": [
    "#### Exploring calendar_updated"
   ]
  },
  {
   "cell_type": "code",
   "execution_count": 5,
   "metadata": {},
   "outputs": [
    {
     "name": "stdout",
     "output_type": "stream",
     "text": [
      "Number of null value: 71914\n"
     ]
    },
    {
     "data": {
      "text/plain": [
       "count    0.0\n",
       "mean     NaN\n",
       "std      NaN\n",
       "min      NaN\n",
       "25%      NaN\n",
       "50%      NaN\n",
       "75%      NaN\n",
       "max      NaN\n",
       "Name: calendar_updated, dtype: float64"
      ]
     },
     "execution_count": 5,
     "metadata": {},
     "output_type": "execute_result"
    }
   ],
   "source": [
    "print(f\"Number of null value: {X_train_prepared['calendar_updated'].isna().sum()}\")\n",
    "X_train_prepared[\"calendar_updated\"].describe()"
   ]
  },
  {
   "cell_type": "markdown",
   "metadata": {},
   "source": [
    "#### Exploring number_of_reviews"
   ]
  },
  {
   "cell_type": "code",
   "execution_count": null,
   "metadata": {},
   "outputs": [],
   "source": [
    "print(f\"Number of null value: {X_train_prepared['number_of_reviews'].isna().sum()}\")\n",
    "# corr = np.corrcoef(X_train_prepared[\"price_usd\"], X_train_prepared[\"host_verifications\"])[0, 1]\n",
    "# print(f\"Corr coef between price_usd and host_listings_count: {corr}\")\n",
    "print(X_train_prepared[\"number_of_reviews\"].describe())\n",
    "\n",
    "fig = make_subplots(rows=2, cols=1, subplot_titles=[\"Histogram of Number of reviews\", \"Scatter Plot\"], vertical_spacing=0.3)\n",
    "\n",
    "histogram_trace = px.histogram(X_train_prepared, x=\"number_of_reviews\").data[0]\n",
    "fig.add_trace(histogram_trace, row=1, col=1)\n",
    "\n",
    "scatter_trace = px.scatter(X_train_prepared, x=\"number_of_reviews\", y=\"price_usd\").data[0]\n",
    "fig.add_trace(scatter_trace, row=2, col=1)\n",
    "\n",
    "fig.update_yaxes(title_text=\"Price USD\", row=2, col=1)\n",
    "fig.update_xaxes(title_text=\"Number of reviews\", row=2, col=1)\n",
    "\n",
    "fig.show()"
   ]
  },
  {
   "cell_type": "markdown",
   "metadata": {},
   "source": [
    "#### Exploring number_of_reviews_ltm"
   ]
  },
  {
   "cell_type": "code",
   "execution_count": null,
   "metadata": {},
   "outputs": [],
   "source": [
    "print(f\"Number of null value: {X_train_prepared['number_of_reviews_ltm'].isna().sum()}\")\n",
    "# corr = np.corrcoef(X_train_prepared[\"price_usd\"], X_train_prepared[\"host_verifications\"])[0, 1]\n",
    "# print(f\"Corr coef between price_usd and host_listings_count: {corr}\")\n",
    "print(X_train_prepared[\"number_of_reviews_ltm\"].describe())\n",
    "\n",
    "fig = make_subplots(rows=2, cols=1, subplot_titles=[\"Histogram of Number of reviews ltm\", \"Scatter Plot\"], vertical_spacing=0.3)\n",
    "\n",
    "histogram_trace = px.histogram(X_train_prepared, x=\"number_of_reviews_ltm\").data[0]\n",
    "fig.add_trace(histogram_trace, row=1, col=1)\n",
    "\n",
    "scatter_trace = px.scatter(X_train_prepared, x=\"number_of_reviews_ltm\", y=\"price_usd\").data[0]\n",
    "fig.add_trace(scatter_trace, row=2, col=1)\n",
    "\n",
    "fig.update_yaxes(title_text=\"Price USD\", row=2, col=1)\n",
    "fig.update_xaxes(title_text=\"Number of reviews ltm\", row=2, col=1)\n",
    "\n",
    "fig.show()"
   ]
  },
  {
   "cell_type": "markdown",
   "metadata": {},
   "source": [
    "#### Exploring number_of_reviews_l30d"
   ]
  },
  {
   "cell_type": "code",
   "execution_count": null,
   "metadata": {},
   "outputs": [],
   "source": [
    "print(f\"Number of null value: {X_train_prepared['number_of_reviews_l30d'].isna().sum()}\")\n",
    "# corr = np.corrcoef(X_train_prepared[\"price_usd\"], X_train_prepared[\"host_verifications\"])[0, 1]\n",
    "# print(f\"Corr coef between price_usd and host_listings_count: {corr}\")\n",
    "print(X_train_prepared[\"number_of_reviews_l30d\"].describe())\n",
    "\n",
    "fig = make_subplots(rows=2, cols=1, subplot_titles=[\"Histogram of Number of reviews l30d\", \"Scatter Plot\"], vertical_spacing=0.3)\n",
    "\n",
    "histogram_trace = px.histogram(X_train_prepared, x=\"number_of_reviews_l30d\").data[0]\n",
    "fig.add_trace(histogram_trace, row=1, col=1)\n",
    "\n",
    "scatter_trace = px.scatter(X_train_prepared, x=\"number_of_reviews_l30d\", y=\"price_usd\").data[0]\n",
    "fig.add_trace(scatter_trace, row=2, col=1)\n",
    "\n",
    "fig.update_yaxes(title_text=\"Price USD\", row=2, col=1)\n",
    "fig.update_xaxes(title_text=\"Number of reviews l30d\", row=2, col=1)\n",
    "\n",
    "fig.show()"
   ]
  },
  {
   "cell_type": "markdown",
   "metadata": {},
   "source": [
    "#### Exploring review_scores_rating"
   ]
  },
  {
   "cell_type": "code",
   "execution_count": null,
   "metadata": {},
   "outputs": [],
   "source": [
    "print(f\"Number of null value: {X_train_prepared['review_scores_rating'].isna().sum()}\")\n",
    "# corr = np.corrcoef(X_train_prepared[\"price_usd\"], X_train_prepared[\"host_verifications\"])[0, 1]\n",
    "# print(f\"Corr coef between price_usd and host_listings_count: {corr}\")\n",
    "print(X_train_prepared[\"review_scores_rating\"].describe())\n",
    "\n",
    "fig = make_subplots(rows=2, cols=1, subplot_titles=[\"Histogram of Review scores rating\", \"Scatter Plot\"], vertical_spacing=0.3)\n",
    "\n",
    "histogram_trace = px.histogram(X_train_prepared, x=\"review_scores_rating\").data[0]\n",
    "fig.add_trace(histogram_trace, row=1, col=1)\n",
    "\n",
    "scatter_trace = px.scatter(X_train_prepared, x=\"review_scores_rating\", y=\"price_usd\").data[0]\n",
    "fig.add_trace(scatter_trace, row=2, col=1)\n",
    "\n",
    "fig.update_yaxes(title_text=\"Price USD\", row=2, col=1)\n",
    "fig.update_xaxes(title_text=\"Review scores rating\", row=2, col=1)\n",
    "\n",
    "fig.show()"
   ]
  },
  {
   "cell_type": "markdown",
   "metadata": {},
   "source": [
    "#### Exploring review_scores_accuracy"
   ]
  },
  {
   "cell_type": "code",
   "execution_count": null,
   "metadata": {},
   "outputs": [],
   "source": [
    "print(f\"Number of null value: {X_train_prepared['review_scores_accuracy'].isna().sum()}\")\n",
    "# corr = np.corrcoef(X_train_prepared[\"price_usd\"], X_train_prepared[\"host_verifications\"])[0, 1]\n",
    "# print(f\"Corr coef between price_usd and host_listings_count: {corr}\")\n",
    "print(X_train_prepared[\"review_scores_accuracy\"].describe())\n",
    "\n",
    "fig = make_subplots(rows=2, cols=1, subplot_titles=[\"Histogram of Review scores accuracy\", \"Scatter Plot\"], vertical_spacing=0.3)\n",
    "\n",
    "histogram_trace = px.histogram(X_train_prepared, x=\"review_scores_accuracy\").data[0]\n",
    "fig.add_trace(histogram_trace, row=1, col=1)\n",
    "\n",
    "scatter_trace = px.scatter(X_train_prepared, x=\"review_scores_accuracy\", y=\"price_usd\").data[0]\n",
    "fig.add_trace(scatter_trace, row=2, col=1)\n",
    "\n",
    "fig.update_yaxes(title_text=\"Price USD\", row=2, col=1)\n",
    "fig.update_xaxes(title_text=\"Review scores accuracy\", row=2, col=1)\n",
    "\n",
    "fig.show()"
   ]
  },
  {
   "cell_type": "markdown",
   "metadata": {},
   "source": [
    "#### Exploring review_scores_cleanliness"
   ]
  },
  {
   "cell_type": "code",
   "execution_count": null,
   "metadata": {},
   "outputs": [],
   "source": [
    "print(f\"Number of null value: {X_train_prepared['review_scores_cleanliness'].isna().sum()}\")\n",
    "# corr = np.corrcoef(X_train_prepared[\"price_usd\"], X_train_prepared[\"host_verifications\"])[0, 1]\n",
    "# print(f\"Corr coef between price_usd and host_listings_count: {corr}\")\n",
    "print(X_train_prepared[\"review_scores_cleanliness\"].describe())\n",
    "\n",
    "fig = make_subplots(rows=2, cols=1, subplot_titles=[\"Histogram of Review scores cleanliness\", \"Scatter Plot\"], vertical_spacing=0.3)\n",
    "\n",
    "histogram_trace = px.histogram(X_train_prepared, x=\"review_scores_cleanliness\").data[0]\n",
    "fig.add_trace(histogram_trace, row=1, col=1)\n",
    "\n",
    "scatter_trace = px.scatter(X_train_prepared, x=\"review_scores_cleanliness\", y=\"price_usd\").data[0]\n",
    "fig.add_trace(scatter_trace, row=2, col=1)\n",
    "\n",
    "fig.update_yaxes(title_text=\"Price USD\", row=2, col=1)\n",
    "fig.update_xaxes(title_text=\"Review scores cleanliness\", row=2, col=1)\n",
    "\n",
    "fig.show()"
   ]
  },
  {
   "cell_type": "markdown",
   "metadata": {},
   "source": [
    "#### Exploring review_scores_checkin"
   ]
  },
  {
   "cell_type": "code",
   "execution_count": null,
   "metadata": {},
   "outputs": [],
   "source": [
    "print(f\"Number of null value: {X_train_prepared['review_scores_checkin'].isna().sum()}\")\n",
    "# corr = np.corrcoef(X_train_prepared[\"price_usd\"], X_train_prepared[\"host_verifications\"])[0, 1]\n",
    "# print(f\"Corr coef between price_usd and host_listings_count: {corr}\")\n",
    "print(X_train_prepared[\"review_scores_checkin\"].describe())\n",
    "\n",
    "fig = make_subplots(rows=2, cols=1, subplot_titles=[\"Histogram of Review scores checkin\", \"Scatter Plot\"], vertical_spacing=0.3)\n",
    "\n",
    "histogram_trace = px.histogram(X_train_prepared, x=\"review_scores_checkin\").data[0]\n",
    "fig.add_trace(histogram_trace, row=1, col=1)\n",
    "\n",
    "scatter_trace = px.scatter(X_train_prepared, x=\"review_scores_checkin\", y=\"price_usd\").data[0]\n",
    "fig.add_trace(scatter_trace, row=2, col=1)\n",
    "\n",
    "fig.update_yaxes(title_text=\"Price USD\", row=2, col=1)\n",
    "fig.update_xaxes(title_text=\"Review scores checkin\", row=2, col=1)\n",
    "\n",
    "fig.show()"
   ]
  },
  {
   "cell_type": "markdown",
   "metadata": {},
   "source": [
    "#### Exploring review_scores_communication"
   ]
  },
  {
   "cell_type": "code",
   "execution_count": null,
   "metadata": {},
   "outputs": [],
   "source": [
    "print(f\"Number of null value: {X_train_prepared['review_scores_communication'].isna().sum()}\")\n",
    "# corr = np.corrcoef(X_train_prepared[\"price_usd\"], X_train_prepared[\"host_verifications\"])[0, 1]\n",
    "# print(f\"Corr coef between price_usd and host_listings_count: {corr}\")\n",
    "print(X_train_prepared[\"review_scores_communication\"].describe())\n",
    "\n",
    "fig = make_subplots(rows=2, cols=1, subplot_titles=[\"Histogram of Review scores communication\", \"Scatter Plot\"], vertical_spacing=0.3)\n",
    "\n",
    "histogram_trace = px.histogram(X_train_prepared, x=\"review_scores_communication\").data[0]\n",
    "fig.add_trace(histogram_trace, row=1, col=1)\n",
    "\n",
    "scatter_trace = px.scatter(X_train_prepared, x=\"review_scores_communication\", y=\"price_usd\").data[0]\n",
    "fig.add_trace(scatter_trace, row=2, col=1)\n",
    "\n",
    "fig.update_yaxes(title_text=\"Price USD\", row=2, col=1)\n",
    "fig.update_xaxes(title_text=\"Review scores communication\", row=2, col=1)\n",
    "\n",
    "fig.show()"
   ]
  },
  {
   "cell_type": "markdown",
   "metadata": {},
   "source": [
    "#### Exploring review_scores_location"
   ]
  },
  {
   "cell_type": "code",
   "execution_count": null,
   "metadata": {},
   "outputs": [],
   "source": [
    "print(f\"Number of null value: {X_train_prepared['review_scores_location'].isna().sum()}\")\n",
    "# corr = np.corrcoef(X_train_prepared[\"price_usd\"], X_train_prepared[\"host_verifications\"])[0, 1]\n",
    "# print(f\"Corr coef between price_usd and host_listings_count: {corr}\")\n",
    "print(X_train_prepared[\"review_scores_location\"].describe())\n",
    "\n",
    "fig = make_subplots(rows=2, cols=1, subplot_titles=[\"Histogram of Review scores location\", \"Scatter Plot\"], vertical_spacing=0.3)\n",
    "\n",
    "histogram_trace = px.histogram(X_train_prepared, x=\"review_scores_location\").data[0]\n",
    "fig.add_trace(histogram_trace, row=1, col=1)\n",
    "\n",
    "scatter_trace = px.scatter(X_train_prepared, x=\"review_scores_location\", y=\"price_usd\").data[0]\n",
    "fig.add_trace(scatter_trace, row=2, col=1)\n",
    "\n",
    "fig.update_yaxes(title_text=\"Price USD\", row=2, col=1)\n",
    "fig.update_xaxes(title_text=\"Review scores location\", row=2, col=1)\n",
    "\n",
    "fig.show()"
   ]
  },
  {
   "cell_type": "markdown",
   "metadata": {},
   "source": [
    "#### Exploring review_scores_value"
   ]
  },
  {
   "cell_type": "code",
   "execution_count": null,
   "metadata": {},
   "outputs": [],
   "source": [
    "print(f\"Number of null value: {X_train_prepared['review_scores_value'].isna().sum()}\")\n",
    "# corr = np.corrcoef(X_train_prepared[\"price_usd\"], X_train_prepared[\"host_verifications\"])[0, 1]\n",
    "# print(f\"Corr coef between price_usd and host_listings_count: {corr}\")\n",
    "print(X_train_prepared[\"review_scores_value\"].describe())\n",
    "\n",
    "fig = make_subplots(rows=2, cols=1, subplot_titles=[\"Histogram of Review scores value\", \"Scatter Plot\"], vertical_spacing=0.3)\n",
    "\n",
    "histogram_trace = px.histogram(X_train_prepared, x=\"review_scores_value\").data[0]\n",
    "fig.add_trace(histogram_trace, row=1, col=1)\n",
    "\n",
    "scatter_trace = px.scatter(X_train_prepared, x=\"review_scores_value\", y=\"price_usd\").data[0]\n",
    "fig.add_trace(scatter_trace, row=2, col=1)\n",
    "\n",
    "fig.update_yaxes(title_text=\"Price USD\", row=2, col=1)\n",
    "fig.update_xaxes(title_text=\"Review scores value\", row=2, col=1)\n",
    "\n",
    "fig.show()"
   ]
  },
  {
   "cell_type": "markdown",
   "metadata": {},
   "source": [
    "#### Exploring license"
   ]
  },
  {
   "cell_type": "code",
   "execution_count": null,
   "metadata": {},
   "outputs": [],
   "source": [
    "print(f\"Number of null value: {X_train_prepared['license'].isna().sum()}\")\n",
    "# corr = np.corrcoef(X_train_prepared[\"price_usd\"], X_train_prepared[\"host_verifications\"])[0, 1]\n",
    "# print(f\"Corr coef between price_usd and host_listings_count: {corr}\")\n",
    "print(X_train_prepared[\"license\"].describe())\n",
    "\n",
    "fig = make_subplots(rows=2, cols=1, subplot_titles=[\"Histogram of License\", \"Scatter Plot\"], vertical_spacing=0.3)\n",
    "\n",
    "histogram_trace = px.histogram(X_train_prepared, x=\"license\").data[0]\n",
    "fig.add_trace(histogram_trace, row=1, col=1)\n",
    "\n",
    "scatter_trace = px.scatter(X_train_prepared, x=\"license\", y=\"price_usd\").data[0]\n",
    "fig.add_trace(scatter_trace, row=2, col=1)\n",
    "\n",
    "fig.update_yaxes(title_text=\"Price USD\", row=2, col=1)\n",
    "fig.update_xaxes(title_text=\"License\", row=2, col=1)\n",
    "\n",
    "fig.show()"
   ]
  },
  {
   "cell_type": "markdown",
   "metadata": {},
   "source": [
    "#### Exploring instant_bookable"
   ]
  },
  {
   "cell_type": "code",
   "execution_count": null,
   "metadata": {},
   "outputs": [],
   "source": [
    "print(f\"Number of null value: {X_train_prepared['instant_bookable'].isna().sum()}\")\n",
    "# corr = np.corrcoef(X_train_prepared[\"price_usd\"], X_train_prepared[\"host_verifications\"])[0, 1]\n",
    "# print(f\"Corr coef between price_usd and host_listings_count: {corr}\")\n",
    "print(X_train_prepared[\"instant_bookable\"].describe())\n",
    "\n",
    "fig = make_subplots(rows=2, cols=1, subplot_titles=[\"Histogram of Instant bookable\", \"Scatter Plot\"], vertical_spacing=0.3)\n",
    "\n",
    "histogram_trace = px.histogram(X_train_prepared, x=\"instant_bookable\").data[0]\n",
    "fig.add_trace(histogram_trace, row=1, col=1)\n",
    "\n",
    "scatter_trace = px.scatter(X_train_prepared, x=\"instant_bookable\", y=\"price_usd\").data[0]\n",
    "fig.add_trace(scatter_trace, row=2, col=1)\n",
    "\n",
    "fig.update_yaxes(title_text=\"Price USD\", row=2, col=1)\n",
    "fig.update_xaxes(title_text=\"Instant bookable\", row=2, col=1)\n",
    "\n",
    "fig.show()"
   ]
  },
  {
   "cell_type": "markdown",
   "metadata": {},
   "source": [
    "#### Exploring calculated_host_listings_count"
   ]
  },
  {
   "cell_type": "code",
   "execution_count": null,
   "metadata": {},
   "outputs": [],
   "source": [
    "print(f\"Number of null value: {X_train_prepared['calculated_host_listings_count'].isna().sum()}\")\n",
    "print(X_train_prepared[\"calculated_host_listings_count\"].describe())\n",
    "\n",
    "fig = make_subplots(rows=2, cols=1, subplot_titles=[\"Histogram of Calculated host listings count\", \"Scatter Plot\"], vertical_spacing=0.3)\n",
    "\n",
    "histogram_trace = px.histogram(X_train_prepared, x=\"calculated_host_listings_count\").data[0]\n",
    "fig.add_trace(histogram_trace, row=1, col=1)\n",
    "\n",
    "scatter_trace = px.scatter(X_train_prepared, x=\"calculated_host_listings_count\", y=\"price_usd\").data[0]\n",
    "fig.add_trace(scatter_trace, row=2, col=1)\n",
    "\n",
    "fig.update_yaxes(title_text=\"Price USD\", row=2, col=1)\n",
    "fig.update_xaxes(title_text=\"Calculated host listings count\", row=2, col=1)\n",
    "\n",
    "fig.show()"
   ]
  },
  {
   "cell_type": "markdown",
   "metadata": {},
   "source": [
    "#### Exploring calculated_host_listings_count_entire_homes"
   ]
  },
  {
   "cell_type": "code",
   "execution_count": null,
   "metadata": {},
   "outputs": [],
   "source": [
    "print(f\"Number of null calculated_host_listings_count_entire_homes value: {X_train_prepared['calculated_host_listings_count_entire_homes'].isna().sum()}\")\n",
    "print(f\"Number of null calculated_host_listings_count_private_rooms value: {X_train_prepared['calculated_host_listings_count_private_rooms'].isna().sum()}\")\n",
    "print(f\"Number of null calculated_host_listings_count_shared_rooms value: {X_train_prepared['calculated_host_listings_count_shared_rooms'].isna().sum()}\")\n",
    "print(X_train_prepared[\"calculated_host_listings_count_entire_homes\"].describe())\n",
    "print(X_train_prepared[\"calculated_host_listings_count_private_rooms\"].describe())\n",
    "print(X_train_prepared[\"calculated_host_listings_count_shared_rooms\"].describe())\n",
    "\n",
    "fig = make_subplots(rows=3, cols=2, subplot_titles=[\"Histogram of Calculated host listings count entire homes\", \"Scatter Plot\"], vertical_spacing=0.2)\n",
    "\n",
    "column_names = [\"calculated_host_listings_count_entire_homes\", \"calculated_host_listings_count_private_rooms\", \"calculated_host_listings_count_shared_rooms\"]\n",
    "target_column = \"price_usd\"\n",
    "\n",
    "for i, column_name in enumerate(column_names, start=1):\n",
    "    # Histograms\n",
    "    histogram_trace = px.histogram(X_train_prepared, x=column_name).data[0]\n",
    "    fig.add_trace(histogram_trace, row=i, col=1)\n",
    "    \n",
    "    # Scatter plots\n",
    "    scatter_trace = px.scatter(X_train_prepared, x=column_name, y=target_column).data[0]\n",
    "    fig.add_trace(scatter_trace, row=i, col=2)\n",
    "    \n",
    "    # Update axes\n",
    "    fig.update_yaxes(title_text=\"Price USD\", row=i, col=2)\n",
    "    fig.update_xaxes(title_text=f\"{column_name}\", row=i, col=1)\n",
    "\n",
    "fig.update_layout(height=800)\n",
    "fig.show()"
   ]
  },
  {
   "cell_type": "markdown",
   "metadata": {},
   "source": [
    "#### Exploring reviews_per_month"
   ]
  },
  {
   "cell_type": "code",
   "execution_count": null,
   "metadata": {},
   "outputs": [],
   "source": [
    "print(f\"Number of null value: {X_train_prepared['reviews_per_month'].isna().sum()}\")\n",
    "# corr = np.corrcoef(X_train_prepared[\"price_usd\"], X_train_prepared[\"host_verifications\"])[0, 1]\n",
    "# print(f\"Corr coef between price_usd and host_listings_count: {corr}\")\n",
    "print(X_train_prepared[\"reviews_per_month\"].describe())\n",
    "\n",
    "fig = make_subplots(rows=2, cols=1, subplot_titles=[\"Histogram of Reviews per month\", \"Scatter Plot\"], vertical_spacing=0.3)\n",
    "\n",
    "histogram_trace = px.histogram(X_train_prepared, x=\"reviews_per_month\").data[0]\n",
    "fig.add_trace(histogram_trace, row=1, col=1)\n",
    "\n",
    "scatter_trace = px.scatter(X_train_prepared, x=\"reviews_per_month\", y=\"price_usd\").data[0]\n",
    "fig.add_trace(scatter_trace, row=2, col=1)\n",
    "\n",
    "fig.update_yaxes(title_text=\"Price USD\", row=2, col=1)\n",
    "fig.update_xaxes(title_text=\"Reviews per month\", row=2, col=1)\n",
    "\n",
    "fig.show()"
   ]
  },
  {
   "cell_type": "markdown",
   "metadata": {},
   "source": [
    "#### Exploring city"
   ]
  },
  {
   "cell_type": "code",
   "execution_count": null,
   "metadata": {},
   "outputs": [],
   "source": [
    "print(f\"Number of null value: {X_train_prepared['city'].isna().sum()}\")\n",
    "print(f\"Unique value: {X_train_prepared['city'].unique()}\")\n",
    "# corr = np.corrcoef(X_train_prepared[\"price_usd\"], X_train_prepared[\"host_verifications\"])[0, 1]\n",
    "# print(f\"Corr coef between price_usd and host_listings_count: {corr}\")\n",
    "print(X_train_prepared[\"city\"].describe())\n",
    "\n",
    "fig = make_subplots(rows=2, cols=1, subplot_titles=[\"Histogram of City\", \"Scatter Plot\"], vertical_spacing=0.3)\n",
    "\n",
    "histogram_trace = px.histogram(X_train_prepared, x=\"city\").data[0]\n",
    "fig.add_trace(histogram_trace, row=1, col=1)\n",
    "\n",
    "scatter_trace = px.scatter(X_train_prepared, x=\"city\", y=\"price_usd\").data[0]\n",
    "fig.add_trace(scatter_trace, row=2, col=1)\n",
    "\n",
    "fig.update_yaxes(title_text=\"Price USD\", row=2, col=1)\n",
    "fig.update_xaxes(title_text=\"City\", row=2, col=1)\n",
    "\n",
    "fig.show()"
   ]
  },
  {
   "cell_type": "markdown",
   "metadata": {},
   "source": [
    "#### Exploring type"
   ]
  },
  {
   "cell_type": "code",
   "execution_count": null,
   "metadata": {},
   "outputs": [],
   "source": [
    "print(f\"Number of null value: {X_train_prepared['type'].isna().sum()}\")\n",
    "# print(f\"Unique value: {X_train_prepared['type'].unique()}\")\n",
    "# corr = np.corrcoef(X_train_prepared[\"price_usd\"], X_train_prepared[\"host_verifications\"])[0, 1]\n",
    "# print(f\"Corr coef between price_usd and host_listings_count: {corr}\")\n",
    "print(X_train_prepared[\"type\"].describe())\n",
    "\n",
    "fig = make_subplots(rows=2, cols=1, subplot_titles=[\"Histogram of Type\", \"Scatter Plot\"], vertical_spacing=0.3)\n",
    "\n",
    "histogram_trace = px.histogram(X_train_prepared, x=\"type\").data[0]\n",
    "fig.add_trace(histogram_trace, row=1, col=1)\n",
    "\n",
    "scatter_trace = px.scatter(X_train_prepared, x=\"type\", y=\"price_usd\").data[0]\n",
    "fig.add_trace(scatter_trace, row=2, col=1)\n",
    "\n",
    "fig.update_yaxes(title_text=\"Price USD\", row=2, col=1)\n",
    "fig.update_xaxes(title_text=\"Type\", row=2, col=1)\n",
    "\n",
    "fig.show()"
   ]
  },
  {
   "cell_type": "markdown",
   "metadata": {},
   "source": [
    "#### Exploring Region & City"
   ]
  },
  {
   "cell_type": "code",
   "execution_count": null,
   "metadata": {},
   "outputs": [],
   "source": [
    "print(f\"Number of null region value: {X_train_prepared['region'].isna().sum()}\")\n",
    "print(f\"Number of null city value: {X_train_prepared['city'].isna().sum()}\")\n",
    "print(f\"Number of unique region value: {len(X_train_prepared['region'].unique())}\")\n",
    "print(f\"Number of unique city value: {len(X_train_prepared['city'].unique())}\")\n",
    "\n",
    "fig = make_subplots(rows=2, cols=2, subplot_titles=[\"Histogram of Region & City\", \"Scatter Plot\"], vertical_spacing=0.3)\n",
    "\n",
    "histogram_trace_1 = px.histogram(X_train_prepared, x=\"region\").data[0]\n",
    "histogram_trace_2 = px.histogram(X_train_prepared, x=\"city\").data[0]\n",
    "fig.add_trace(histogram_trace_1, row=1, col=1)\n",
    "fig.add_trace(histogram_trace_2, row=2, col=1)\n",
    "\n",
    "scatter_trace_1 = px.scatter(X_train_prepared, x=\"region\", y=\"price_usd\").data[0]\n",
    "scatter_trace_2 = px.scatter(X_train_prepared, x=\"city\", y=\"price_usd\").data[0]\n",
    "fig.add_trace(scatter_trace_1, row=1, col=2)\n",
    "fig.add_trace(scatter_trace_2, row=2, col=2)\n",
    "\n",
    "fig.update_yaxes(title_text=\"Price USD\", row=1, col=2)\n",
    "fig.update_yaxes(title_text=\"Price USD\", row=2, col=2)\n",
    "fig.update_xaxes(title_text=\"region\", row=1, col=2)\n",
    "fig.update_xaxes(title_text=\"city\", row=2, col=2)\n",
    "fig.update_xaxes(title_text=\"region\", row=1, col=1)\n",
    "fig.update_xaxes(title_text=\"city\", row=2, col=1)\n",
    "\n",
    "fig.update_layout(height=700)\n",
    "\n",
    "fig.show()"
   ]
  },
  {
   "cell_type": "markdown",
   "metadata": {},
   "source": [
    "#### Restore values in columns host_response_time & host_response_rate & host_acceptance_rate"
   ]
  },
  {
   "cell_type": "code",
   "execution_count": 2,
   "metadata": {},
   "outputs": [
    {
     "name": "stdout",
     "output_type": "stream",
     "text": [
      "Number of null host_response_time value: 14360\n",
      "Number of null host_response_rate value: 14360\n",
      "Number of null host_acceptance_rate value: 12006\n"
     ]
    }
   ],
   "source": [
    "print(f\"Number of null host_response_time value: {X_public_prepared['host_response_time'].isna().sum()}\")\n",
    "print(f\"Number of null host_response_rate value: {X_public_prepared['host_response_rate'].isna().sum()}\")\n",
    "print(f\"Number of null host_acceptance_rate value: {X_public_prepared['host_acceptance_rate'].isna().sum()}\")"
   ]
  },
  {
   "cell_type": "code",
   "execution_count": 3,
   "metadata": {},
   "outputs": [
    {
     "name": "stdout",
     "output_type": "stream",
     "text": [
      "(72590, 6)\n"
     ]
    },
    {
     "data": {
      "text/html": [
       "<div>\n",
       "<style scoped>\n",
       "    .dataframe tbody tr th:only-of-type {\n",
       "        vertical-align: middle;\n",
       "    }\n",
       "\n",
       "    .dataframe tbody tr th {\n",
       "        vertical-align: top;\n",
       "    }\n",
       "\n",
       "    .dataframe thead th {\n",
       "        text-align: right;\n",
       "    }\n",
       "</style>\n",
       "<table border=\"1\" class=\"dataframe\">\n",
       "  <thead>\n",
       "    <tr style=\"text-align: right;\">\n",
       "      <th></th>\n",
       "      <th>t</th>\n",
       "      <th>host_response_time</th>\n",
       "      <th>host_response_rate</th>\n",
       "      <th>host_acceptance_rate</th>\n",
       "      <th>host_listings_count</th>\n",
       "      <th>number_of_reviews</th>\n",
       "    </tr>\n",
       "  </thead>\n",
       "  <tbody>\n",
       "    <tr>\n",
       "      <th>0</th>\n",
       "      <td>False</td>\n",
       "      <td>3</td>\n",
       "      <td>100.0</td>\n",
       "      <td>100.0</td>\n",
       "      <td>5.0</td>\n",
       "      <td>43</td>\n",
       "    </tr>\n",
       "    <tr>\n",
       "      <th>1</th>\n",
       "      <td>False</td>\n",
       "      <td>3</td>\n",
       "      <td>96.0</td>\n",
       "      <td>99.0</td>\n",
       "      <td>12.0</td>\n",
       "      <td>93</td>\n",
       "    </tr>\n",
       "    <tr>\n",
       "      <th>2</th>\n",
       "      <td>True</td>\n",
       "      <td>3</td>\n",
       "      <td>100.0</td>\n",
       "      <td>100.0</td>\n",
       "      <td>3.0</td>\n",
       "      <td>14</td>\n",
       "    </tr>\n",
       "    <tr>\n",
       "      <th>3</th>\n",
       "      <td>True</td>\n",
       "      <td>3</td>\n",
       "      <td>100.0</td>\n",
       "      <td>90.0</td>\n",
       "      <td>14.0</td>\n",
       "      <td>39</td>\n",
       "    </tr>\n",
       "    <tr>\n",
       "      <th>4</th>\n",
       "      <td>True</td>\n",
       "      <td>3</td>\n",
       "      <td>100.0</td>\n",
       "      <td>90.0</td>\n",
       "      <td>14.0</td>\n",
       "      <td>160</td>\n",
       "    </tr>\n",
       "  </tbody>\n",
       "</table>\n",
       "</div>"
      ],
      "text/plain": [
       "       t  host_response_time  host_response_rate  host_acceptance_rate  \\\n",
       "0  False                   3               100.0                 100.0   \n",
       "1  False                   3                96.0                  99.0   \n",
       "2   True                   3               100.0                 100.0   \n",
       "3   True                   3               100.0                  90.0   \n",
       "4   True                   3               100.0                  90.0   \n",
       "\n",
       "   host_listings_count  number_of_reviews  \n",
       "0                  5.0                 43  \n",
       "1                 12.0                 93  \n",
       "2                  3.0                 14  \n",
       "3                 14.0                 39  \n",
       "4                 14.0                160  "
      ]
     },
     "execution_count": 3,
     "metadata": {},
     "output_type": "execute_result"
    }
   ],
   "source": [
    "selected_columns = [\"host_response_time\", \"host_response_rate\", \"host_acceptance_rate\", \"host_is_superhost\", \"host_listings_count\", \"number_of_reviews\"]\n",
    "df_result = X_public_prepared[selected_columns]\n",
    "\n",
    "filtered_rows = df_result.notna().all(axis=1)\n",
    "df_result = df_result[filtered_rows]\n",
    "\n",
    "# df_host_response_rate = pd.get_dummies(df_result[\"host_response_time\"], drop_first=True)\n",
    "df_host_is_superhost = pd.get_dummies(df_result[\"host_is_superhost\"], drop_first=True)\n",
    "\n",
    "# df_result = df_result.drop([\"host_response_time\"], axis=1)\n",
    "df_result = df_result.drop([\"host_is_superhost\"], axis=1)\n",
    "df_result = df_result.drop([\"host_response_time\", \"host_is_superhost\"], axis=1)\n",
    "df_result = pd.concat([df_host_is_superhost, df_result], axis=1)\n",
    "\n",
    "# df_result[\"host_is_superhost\"].replace({\"f\":False, \"t\":True}, inplace=True)\n",
    "df_result[\"host_response_time\"].replace({\"within a day\":1, \"within a few hours\":2, \"within an hour\":3, \"a few days or more\":4}, inplace=True)\n",
    "\n",
    "print(df_result.shape)\n",
    "df_result.head()"
   ]
  },
  {
   "cell_type": "code",
   "execution_count": 80,
   "metadata": {},
   "outputs": [],
   "source": [
    "def corr_for_num(df, x, y):\n",
    "    print(f\"Нулевая гипотеза (H0): Нет линейной связи между двумя переменными {x} & {y}\")\n",
    "    print(f\"Альтернативная гипотеза (H1): Существует линейная связь между двумя переменными {x} & {y}\")\n",
    "\n",
    "    correlation_coefficient, p_value = scipy.stats.pearsonr(df[x], df[y])\n",
    "    alpha = 0.05\n",
    "\n",
    "    print(f\"Коэффициент корреляции: {correlation_coefficient}\")\n",
    "    print(f\"P-value: {p_value}\")\n",
    "\n",
    "    if p_value < alpha:\n",
    "        print(\"Отклоняем нулевую гипотезу: Есть статистически значимая линейная связь.\")\n",
    "    else:\n",
    "        print(\"Не отклоняем нулевую гипотезу: Нет статистически значимой линейной связи.\")\n",
    "    \n",
    "    fig = px.scatter(df, x=x, y=y)\n",
    "    fig.update_layout(height=400, width=700)\n",
    "    fig.show()\n",
    "    \n",
    "\n",
    "def corr_for_cat(df, x, y, y_0, y_1, y_2, y_3):\n",
    "    print(f\"Нулевая гипотеза (H0): Нет линейной связи между двумя переменными {x} & {y}\")\n",
    "    print(f\"Альтернативная гипотеза (H1): Существует линейная связь между двумя переменными {x} & {y}\")\n",
    "\n",
    "    f_statistic, p_value = scipy.stats.f_oneway(df[f\"{x}\"][df[f\"{y}\"] == y_0],\n",
    "                                                df[f\"{x}\"][df[f\"{y}\"] == y_1],\n",
    "                                                df[f\"{x}\"][df[f\"{y}\"] == y_2],\n",
    "                                                df[f\"{x}\"][df[f\"{y}\"] == y_3])\n",
    "\n",
    "    alpha = 0.05\n",
    "\n",
    "    print(f\"Статистика теста: {f_statistic}\")\n",
    "    print(f\"P-value: {p_value}\")\n",
    "\n",
    "    if p_value < alpha:\n",
    "        print(\"Отклоняем нулевую гипотезу: Есть статистически значимая линейная связь.\")\n",
    "    else:\n",
    "        print(\"Не отклоняем нулевую гипотезу: Нет статистически значимой линейной связи.\")\n",
    "    "
   ]
  },
  {
   "cell_type": "code",
   "execution_count": null,
   "metadata": {},
   "outputs": [],
   "source": [
    "corr_for_num(df_result, x=\"host_response_rate\", y=\"host_acceptance_rate\")"
   ]
  },
  {
   "cell_type": "code",
   "execution_count": null,
   "metadata": {},
   "outputs": [],
   "source": [
    "corr_for_num(df_result, x=\"host_response_rate\", y=\"host_listings_count\")"
   ]
  },
  {
   "cell_type": "code",
   "execution_count": null,
   "metadata": {},
   "outputs": [],
   "source": [
    "corr_for_num(df_result, x=\"host_response_rate\", y=\"number_of_reviews\")"
   ]
  },
  {
   "cell_type": "code",
   "execution_count": 81,
   "metadata": {},
   "outputs": [
    {
     "name": "stdout",
     "output_type": "stream",
     "text": [
      "Нулевая гипотеза (H0): Нет линейной связи между двумя переменными host_response_rate & host_response_time\n",
      "Альтернативная гипотеза (H1): Существует линейная связь между двумя переменными host_response_rate & host_response_time\n",
      "Статистика теста: 73308.88366811286\n",
      "P-value: 0.0\n",
      "Отклоняем нулевую гипотезу: Есть статистически значимая линейная связь.\n"
     ]
    }
   ],
   "source": [
    "y_list = [\"within an hour\", \"a few days or more\", \"within a few hours\", \"within a day\"]\n",
    "corr_for_cat(df_result, x=\"host_response_rate\", y=\"host_response_time\", y_0=\"within an hour\", y_1=\"a few days or more\", y_2=\"within a few hours\", y_3=\"within a day\")"
   ]
  },
  {
   "cell_type": "code",
   "execution_count": 82,
   "metadata": {},
   "outputs": [
    {
     "name": "stdout",
     "output_type": "stream",
     "text": [
      "Нулевая гипотеза (H0): Нет линейной связи между двумя переменными host_acceptance_rate & host_response_time\n",
      "Альтернативная гипотеза (H1): Существует линейная связь между двумя переменными host_acceptance_rate & host_response_time\n",
      "Статистика теста: 8694.813615098745\n",
      "P-value: 0.0\n",
      "Отклоняем нулевую гипотезу: Есть статистически значимая линейная связь.\n"
     ]
    }
   ],
   "source": [
    "y_list = [\"within an hour\", \"a few days or more\", \"within a few hours\", \"within a day\"]\n",
    "corr_for_cat(df_result, x=\"host_acceptance_rate\", y=\"host_response_time\", y_0=\"within an hour\", y_1=\"a few days or more\", y_2=\"within a few hours\", y_3=\"within a day\")"
   ]
  },
  {
   "cell_type": "code",
   "execution_count": 151,
   "metadata": {},
   "outputs": [],
   "source": [
    "def restore_num_var(df, target):\n",
    "    models = [LinearRegression(), Ridge(), Lasso()]\n",
    "    models_name = [\"LinearReg\", \"Ridge\", \"Lasse\"]\n",
    "        \n",
    "    best_mae = float('inf')\n",
    "    best_y_pred = None\n",
    "    X_train, X_test, y_train, y_test = train_test_split(df.drop(target, axis=1), df[target],test_size=0.2, random_state=20)\n",
    "    for model, model_name in zip(models, models_name):\n",
    "        model.fit(X_train, y_train)\n",
    "        y_pred_train = model.predict(X_train)\n",
    "        y_pred_test = model.predict(X_test)\n",
    "        mae_train = mean_absolute_error(y_train, y_pred_train)\n",
    "        mae_test = mean_absolute_error(y_test, y_pred_test)\n",
    "        if best_mae > mae_test:\n",
    "            best_mae = mae_test\n",
    "            best_y_pred = y_pred_test\n",
    "        \n",
    "        print(model_name)\n",
    "        print(f\"mae_train = {mae_train}\")\n",
    "        print(f\"mae_test = {mae_test}\")\n",
    "    \n",
    "    n = 150\n",
    "    a = pd.DataFrame({'x': range(len(y_test[:n])), 'y_test': y_test[:n], 'best_y_pred': best_y_pred[:n]})\n",
    "    fig = px.line(a, x='x', y=['y_test', 'best_y_pred'], color_discrete_map={'y_test': 'blue', 'best_y_pred': 'red'})\n",
    "    fig.update_layout(margin=dict(l=15, r=15, t=15, b=15))\n",
    "    fig.show()\n",
    "        \n",
    "    return best_mae, y_test, best_y_pred\n",
    "\n",
    "\n",
    "def restore_cat_var(df, target, binary=True):\n",
    "    models = [LogisticRegression()]\n",
    "    models_name = [\"LogisticReg\"]\n",
    "        \n",
    "    best_y_pred = None\n",
    "    X_train, X_test, y_train, y_test = train_test_split(df.drop(target, axis=1), df[target],test_size=0.2, random_state=20)\n",
    "    for model, model_name in zip(models, models_name):\n",
    "        model.fit(X_train, y_train)\n",
    "        y_pred_train = model.predict(X_train)\n",
    "        y_pred_test = model.predict(X_test)\n",
    "        accuracy_train = accuracy_score(y_train, y_pred_train)\n",
    "        accuracy_test = accuracy_score(y_test, y_pred_test)\n",
    "        \n",
    "        if binary:\n",
    "            f1_score_train = f1_score(y_train, y_pred_train)\n",
    "            f1_score_test = f1_score(y_test, y_pred_test)\n",
    "        else:\n",
    "            f1_score_train = f1_score(y_train, y_pred_train, average='weighted')\n",
    "            f1_score_test = f1_score(y_test, y_pred_test, average='weighted')\n",
    "            \n",
    "        best_y_pred = y_pred_test\n",
    "        \n",
    "        print(model_name)\n",
    "        print(f\"accuracy_score = {accuracy_train}\")\n",
    "        print(f\"accuracy_test = {accuracy_test}\")\n",
    "        print(f\"f1_score_train = {f1_score_train}\")\n",
    "        print(f\"f1_score_test = {f1_score_test}\")\n",
    "        \n",
    "    return best_y_pred"
   ]
  },
  {
   "cell_type": "code",
   "execution_count": null,
   "metadata": {},
   "outputs": [],
   "source": [
    "best_mae, y_test, best_y_pred = restore_num_var(df_result, target=\"host_response_rate\")"
   ]
  },
  {
   "cell_type": "code",
   "execution_count": 152,
   "metadata": {},
   "outputs": [
    {
     "name": "stdout",
     "output_type": "stream",
     "text": [
      "LogisticReg\n",
      "accuracy_score = 0.7558203609312577\n",
      "accuracy_test = 0.7558892409422785\n",
      "f1_score_train = 0.6908075638240082\n",
      "f1_score_test = 0.6910031343805625\n"
     ]
    }
   ],
   "source": [
    "best_y_pred = restore_cat_var(df_result, target=\"host_response_time\", binary=False)"
   ]
  },
  {
   "cell_type": "markdown",
   "metadata": {},
   "source": [
    "### Feature Engeenering"
   ]
  },
  {
   "cell_type": "markdown",
   "metadata": {},
   "source": [
    "#### Exploring distance_to_centre_city & cat_distance"
   ]
  },
  {
   "cell_type": "code",
   "execution_count": null,
   "metadata": {},
   "outputs": [],
   "source": [
    "print(X_train_prepared[\"distance_to_centre_city\"].describe())\n",
    "\n",
    "fig = make_subplots(rows=2, cols=2, subplot_titles=[\"Histogram of Distance to centre city\", \"Scatter Plot\"], vertical_spacing=0.3)\n",
    "\n",
    "histogram_trace_1 = px.histogram(X_train_prepared, x=\"distance_to_centre_city\").data[0]\n",
    "histogram_trace_2 = px.histogram(X_train_prepared, x=\"cat_distance\").data[0]\n",
    "fig.add_trace(histogram_trace_1, row=1, col=1)\n",
    "fig.add_trace(histogram_trace_2, row=2, col=1)\n",
    "\n",
    "scatter_trace_1 = px.scatter(X_train_prepared, x=\"distance_to_centre_city\", y=\"price_usd\").data[0]\n",
    "bax_trace_2 = px.box(X_train_prepared, x=\"cat_distance\", y=\"price_usd\", points=\"all\").data[0]\n",
    "fig.add_trace(scatter_trace_1, row=1, col=2)\n",
    "fig.add_trace(bax_trace_2, row=2, col=2)\n",
    "\n",
    "fig.update_yaxes(title_text=\"Price USD\", row=1, col=2)\n",
    "fig.update_yaxes(title_text=\"Price USD\", row=2, col=2)\n",
    "fig.update_xaxes(title_text=\"Distance to centre city\", row=1, col=1)\n",
    "fig.update_xaxes(title_text=\"Cat distance\", row=2, col=1)\n",
    "\n",
    "fig.update_layout(height=700)\n",
    "\n",
    "fig.show()"
   ]
  },
  {
   "cell_type": "markdown",
   "metadata": {},
   "source": [
    "### Data Preparation"
   ]
  },
  {
   "cell_type": "code",
   "execution_count": 2,
   "metadata": {},
   "outputs": [],
   "source": [
    "X_train, X_test, y_train, y_test = train_test_split(X_public_encoded.drop(\"price_cat\", axis=1), X_public_encoded[\"price_cat\"], test_size=0.2, random_state=20)"
   ]
  },
  {
   "cell_type": "code",
   "execution_count": null,
   "metadata": {},
   "outputs": [],
   "source": [
    "a = X_public_encoded[\"price_cat\"].value_counts()\n",
    "unique_values = [0, 1]\n",
    "class_frequencies = [a.loc[0], a.loc[1]]\n",
    "class_weights = [sum(class_frequencies) / (len(unique_values) * freq) for freq in class_frequencies]\n",
    "class_weights"
   ]
  },
  {
   "cell_type": "code",
   "execution_count": 4,
   "metadata": {},
   "outputs": [],
   "source": [
    "cat_features = [0, 6, 21, 25, 26, 27, 28, 29, 30, 31, 32, 33, 34, 37, 40, 42, 44]\n",
    "text_features = [47, 48]"
   ]
  },
  {
   "cell_type": "code",
   "execution_count": null,
   "metadata": {},
   "outputs": [],
   "source": [
    "def cat_eval(iterations, depth, learning_rate, l2_leaf_reg, min_data_in_leaf, class_weights):\n",
    "    params = {\n",
    "        'iterations': int(iterations),\n",
    "        'depth': int(depth),\n",
    "        'learning_rate': learning_rate,\n",
    "        'l2_leaf_reg': l2_leaf_reg,\n",
    "        'min_data_in_leaf': int(min_data_in_leaf),\n",
    "        'cat_features': cat_features,\n",
    "        'text_features': text_features,\n",
    "        \"class_weights\": class_weights,\n",
    "        'verbose': False\n",
    "    }\n",
    "    \n",
    "    cv_scores = cross_val_score(catboost.CatBoostClassifier(**params), \n",
    "                                X_train, \n",
    "                                y_train, \n",
    "                                cv=3)\n",
    "    return cv_scores.mean()\n",
    "\n",
    "pbounds = {\n",
    "    'iterations': (100, 5000),\n",
    "    'depth': (4, 12),\n",
    "    'learning_rate': (0.001, 0.2),\n",
    "    'l2_leaf_reg': (1, 10),\n",
    "    'min_data_in_leaf': (1, 40),\n",
    "    \"class_weights\": class_weights\n",
    "}\n",
    "\n",
    "cat_opt = BayesianOptimization(\n",
    "    f=cat_eval,\n",
    "    pbounds=pbounds\n",
    ")\n",
    "\n",
    "cat_opt.maximize(n_iter=4, init_points=3)"
   ]
  },
  {
   "cell_type": "code",
   "execution_count": null,
   "metadata": {},
   "outputs": [],
   "source": [
    "iterations = int(692.6)\n",
    "depth = int(4.604)\n",
    "learning_rate = 0.1865\n",
    "l2_leaf_reg = 2.65\n",
    "min_data_in_leaf = 19.76\n",
    "\n",
    "clf = catboost.CatBoostClassifier(cat_features=cat_features, \n",
    "                                  text_features=text_features,\n",
    "                                  iterations=iterations,\n",
    "                                  depth=depth,\n",
    "                                  learning_rate=learning_rate,\n",
    "                                  l2_leaf_reg=l2_leaf_reg,\n",
    "                                  min_data_in_leaf=min_data_in_leaf,\n",
    "                                  class_weights=class_weights,\n",
    "                                  verbose=100)\n",
    "clf.fit(X_train, y_train)"
   ]
  },
  {
   "cell_type": "code",
   "execution_count": null,
   "metadata": {},
   "outputs": [],
   "source": [
    "feature_importance = clf.feature_importances_\n",
    "feature_names = clf.feature_names_\n",
    "importance_df = pd.DataFrame({\n",
    "    \"Feature\": feature_names,\n",
    "    \"Importance\": feature_importance\n",
    "})\n",
    "importance_df = importance_df.sort_values(by='Importance', ascending=False)\n",
    "fig = px.bar(\n",
    "    importance_df,\n",
    "    x='Importance',\n",
    "    y='Feature',\n",
    "    title='Feature Importance',\n",
    "    labels={'Importance': 'SHAP Values'},\n",
    "    height=1000\n",
    ")\n",
    "fig.show()"
   ]
  },
  {
   "cell_type": "code",
   "execution_count": 5,
   "metadata": {},
   "outputs": [],
   "source": [
    "y_probs = clf.predict_proba(X_test)[:, 1]"
   ]
  },
  {
   "cell_type": "code",
   "execution_count": 6,
   "metadata": {},
   "outputs": [
    {
     "data": {
      "application/vnd.plotly.v1+json": {
       "config": {
        "plotlyServerURL": "https://plot.ly"
       },
       "data": [
        {
         "mode": "lines",
         "name": "ROC Curve (AUC=0.93)",
         "type": "scatter",
         "x": [
          0,
          0,
          0,
          0.00011103092211180813,
          0.00011103092211180813,
          0.00022206184422361627,
          0.00022206184422361627,
          0.00027757730527952035,
          0.00027757730527952035,
          0.00033309276633542443,
          0.00033309276633542443,
          0.0003886082273913285,
          0.0003886082273913285,
          0.00044412368844723253,
          0.00044412368844723253,
          0.0004996391495031366,
          0.0004996391495031366,
          0.0009992782990062732,
          0.0009992782990062732,
          0.0010547937600621773,
          0.0010547937600621773,
          0.0012768556042857936,
          0.0012768556042857936,
          0.00149891744850941,
          0.00149891744850941,
          0.002165102981180259,
          0.002165102981180259,
          0.0028312885138511074,
          0.0028312885138511074,
          0.0029423194359629156,
          0.0029423194359629156,
          0.003164381280186532,
          0.003164381280186532,
          0.003441958585466052,
          0.003441958585466052,
          0.0038860822739132848,
          0.0038860822739132848,
          0.0042746905013046135,
          0.0042746905013046135,
          0.0044412368844723256,
          0.0044412368844723256,
          0.004607783267640038,
          0.004607783267640038,
          0.004829845111863654,
          0.004829845111863654,
          0.005662577027702215,
          0.005662577027702215,
          0.006217731638261256,
          0.006217731638261256,
          0.0067728862488202965,
          0.0067728862488202965,
          0.0071059790151557205,
          0.0071059790151557205,
          0.007161494476211625,
          0.007550102703602953,
          0.007827680008882473,
          0.007827680008882473,
          0.00804974185310609,
          0.00804974185310609,
          0.008105257314161994,
          0.00832731915838561,
          0.008771442846832843,
          0.008771442846832843,
          0.008826958307888747,
          0.008826958307888747,
          0.00916005107422417,
          0.00916005107422417,
          0.010714483983789486,
          0.010714483983789486,
          0.011269638594348525,
          0.011269638594348525,
          0.011602731360683951,
          0.011602731360683951,
          0.011658246821739854,
          0.011658246821739854,
          0.012324432354410704,
          0.012324432354410704,
          0.012713040581802032,
          0.012713040581802032,
          0.013323710653416976,
          0.013323710653416976,
          0.013989896186087826,
          0.013989896186087826,
          0.014378504413479154,
          0.014378504413479154,
          0.01665463831677122,
          0.01676566923888303,
          0.02359407094875923,
          0.02359407094875923,
          0.025537112085715873,
          0.025537112085715873,
          0.05146283239882307,
          0.05146283239882307,
          0.05351690445789152,
          0.05362793538000333,
          0.054738244601121415,
          0.054738244601121415,
          0.05984566701826459,
          0.05984566701826459,
          0.06606339865652584,
          0.06606339865652584,
          0.06872814078720924,
          0.06872814078720924,
          0.0695608727030478,
          0.0695608727030478,
          0.07855437739410426,
          0.07855437739410426,
          0.09098984067062676,
          0.09098984067062676,
          0.10825514905901293,
          0.10836617998112474,
          0.19563648476100595,
          0.19574751568311774,
          0.23671792594237495,
          0.23671792594237495,
          0.26297673902181756,
          0.26297673902181756,
          0.2824626658524399,
          0.2824626658524399,
          0.282962305001943,
          0.28307333592405487,
          0.29528673735635375,
          0.29539776827846553,
          0.344306889468717,
          0.344306889468717,
          0.37001054793760063,
          0.37001054793760063,
          0.4005440515183479,
          0.4005440515183479,
          0.4042635874090934,
          0.4042635874090934,
          0.44551157497363014,
          0.44551157497363014,
          0.5055793038361184,
          0.5055793038361184,
          0.5145728085271748,
          0.5146838394492866,
          0.5770832176761228,
          0.5770832176761228,
          0.6009548659301616,
          0.6009548659301616,
          0.6924998612113473,
          0.6924998612113473,
          1
         ],
         "y": [
          0,
          0.012195121951219513,
          0.06097560975609756,
          0.06097560975609756,
          0.10975609756097561,
          0.10975609756097561,
          0.14634146341463414,
          0.14634146341463414,
          0.2073170731707317,
          0.2073170731707317,
          0.21951219512195122,
          0.21951219512195122,
          0.2682926829268293,
          0.2682926829268293,
          0.2804878048780488,
          0.2804878048780488,
          0.2926829268292683,
          0.2926829268292683,
          0.3048780487804878,
          0.3048780487804878,
          0.35365853658536583,
          0.35365853658536583,
          0.3780487804878049,
          0.3780487804878049,
          0.3902439024390244,
          0.3902439024390244,
          0.4024390243902439,
          0.4024390243902439,
          0.4146341463414634,
          0.4146341463414634,
          0.4268292682926829,
          0.4268292682926829,
          0.43902439024390244,
          0.43902439024390244,
          0.45121951219512196,
          0.45121951219512196,
          0.4634146341463415,
          0.4634146341463415,
          0.47560975609756095,
          0.47560975609756095,
          0.4878048780487805,
          0.4878048780487805,
          0.5,
          0.5,
          0.5121951219512195,
          0.5121951219512195,
          0.524390243902439,
          0.524390243902439,
          0.5365853658536586,
          0.5365853658536586,
          0.5487804878048781,
          0.5487804878048781,
          0.5609756097560976,
          0.5609756097560976,
          0.5609756097560976,
          0.5609756097560976,
          0.573170731707317,
          0.573170731707317,
          0.5853658536585366,
          0.5853658536585366,
          0.5853658536585366,
          0.5853658536585366,
          0.5975609756097561,
          0.5975609756097561,
          0.6097560975609756,
          0.6097560975609756,
          0.6219512195121951,
          0.6219512195121951,
          0.6341463414634146,
          0.6341463414634146,
          0.6463414634146342,
          0.6463414634146342,
          0.6585365853658537,
          0.6585365853658537,
          0.6707317073170732,
          0.6707317073170732,
          0.6829268292682927,
          0.6829268292682927,
          0.6951219512195121,
          0.6951219512195121,
          0.7073170731707317,
          0.7073170731707317,
          0.7195121951219512,
          0.7195121951219512,
          0.7317073170731707,
          0.7317073170731707,
          0.7317073170731707,
          0.7317073170731707,
          0.7439024390243902,
          0.7439024390243902,
          0.7560975609756098,
          0.7560975609756098,
          0.7682926829268293,
          0.7682926829268293,
          0.7682926829268293,
          0.7682926829268293,
          0.7804878048780488,
          0.7804878048780488,
          0.7926829268292683,
          0.7926829268292683,
          0.8048780487804879,
          0.8048780487804879,
          0.8170731707317073,
          0.8170731707317073,
          0.8292682926829268,
          0.8292682926829268,
          0.8414634146341463,
          0.8414634146341463,
          0.8536585365853658,
          0.8536585365853658,
          0.8536585365853658,
          0.8536585365853658,
          0.8536585365853658,
          0.8536585365853658,
          0.8658536585365854,
          0.8658536585365854,
          0.8780487804878049,
          0.8780487804878049,
          0.8902439024390244,
          0.8902439024390244,
          0.8902439024390244,
          0.8902439024390244,
          0.8902439024390244,
          0.8902439024390244,
          0.9024390243902439,
          0.9024390243902439,
          0.9146341463414634,
          0.9146341463414634,
          0.926829268292683,
          0.926829268292683,
          0.9390243902439024,
          0.9390243902439024,
          0.9512195121951219,
          0.9512195121951219,
          0.9634146341463414,
          0.9634146341463414,
          0.9634146341463414,
          0.9634146341463414,
          0.975609756097561,
          0.975609756097561,
          0.9878048780487805,
          0.9878048780487805,
          1,
          1
         ]
        },
        {
         "line": {
          "dash": "dash"
         },
         "mode": "lines",
         "name": "Random",
         "type": "scatter",
         "x": [
          0,
          1
         ],
         "y": [
          0,
          1
         ]
        }
       ],
       "layout": {
        "height": 500,
        "showlegend": true,
        "template": {
         "data": {
          "bar": [
           {
            "error_x": {
             "color": "#2a3f5f"
            },
            "error_y": {
             "color": "#2a3f5f"
            },
            "marker": {
             "line": {
              "color": "#E5ECF6",
              "width": 0.5
             },
             "pattern": {
              "fillmode": "overlay",
              "size": 10,
              "solidity": 0.2
             }
            },
            "type": "bar"
           }
          ],
          "barpolar": [
           {
            "marker": {
             "line": {
              "color": "#E5ECF6",
              "width": 0.5
             },
             "pattern": {
              "fillmode": "overlay",
              "size": 10,
              "solidity": 0.2
             }
            },
            "type": "barpolar"
           }
          ],
          "carpet": [
           {
            "aaxis": {
             "endlinecolor": "#2a3f5f",
             "gridcolor": "white",
             "linecolor": "white",
             "minorgridcolor": "white",
             "startlinecolor": "#2a3f5f"
            },
            "baxis": {
             "endlinecolor": "#2a3f5f",
             "gridcolor": "white",
             "linecolor": "white",
             "minorgridcolor": "white",
             "startlinecolor": "#2a3f5f"
            },
            "type": "carpet"
           }
          ],
          "choropleth": [
           {
            "colorbar": {
             "outlinewidth": 0,
             "ticks": ""
            },
            "type": "choropleth"
           }
          ],
          "contour": [
           {
            "colorbar": {
             "outlinewidth": 0,
             "ticks": ""
            },
            "colorscale": [
             [
              0,
              "#0d0887"
             ],
             [
              0.1111111111111111,
              "#46039f"
             ],
             [
              0.2222222222222222,
              "#7201a8"
             ],
             [
              0.3333333333333333,
              "#9c179e"
             ],
             [
              0.4444444444444444,
              "#bd3786"
             ],
             [
              0.5555555555555556,
              "#d8576b"
             ],
             [
              0.6666666666666666,
              "#ed7953"
             ],
             [
              0.7777777777777778,
              "#fb9f3a"
             ],
             [
              0.8888888888888888,
              "#fdca26"
             ],
             [
              1,
              "#f0f921"
             ]
            ],
            "type": "contour"
           }
          ],
          "contourcarpet": [
           {
            "colorbar": {
             "outlinewidth": 0,
             "ticks": ""
            },
            "type": "contourcarpet"
           }
          ],
          "heatmap": [
           {
            "colorbar": {
             "outlinewidth": 0,
             "ticks": ""
            },
            "colorscale": [
             [
              0,
              "#0d0887"
             ],
             [
              0.1111111111111111,
              "#46039f"
             ],
             [
              0.2222222222222222,
              "#7201a8"
             ],
             [
              0.3333333333333333,
              "#9c179e"
             ],
             [
              0.4444444444444444,
              "#bd3786"
             ],
             [
              0.5555555555555556,
              "#d8576b"
             ],
             [
              0.6666666666666666,
              "#ed7953"
             ],
             [
              0.7777777777777778,
              "#fb9f3a"
             ],
             [
              0.8888888888888888,
              "#fdca26"
             ],
             [
              1,
              "#f0f921"
             ]
            ],
            "type": "heatmap"
           }
          ],
          "heatmapgl": [
           {
            "colorbar": {
             "outlinewidth": 0,
             "ticks": ""
            },
            "colorscale": [
             [
              0,
              "#0d0887"
             ],
             [
              0.1111111111111111,
              "#46039f"
             ],
             [
              0.2222222222222222,
              "#7201a8"
             ],
             [
              0.3333333333333333,
              "#9c179e"
             ],
             [
              0.4444444444444444,
              "#bd3786"
             ],
             [
              0.5555555555555556,
              "#d8576b"
             ],
             [
              0.6666666666666666,
              "#ed7953"
             ],
             [
              0.7777777777777778,
              "#fb9f3a"
             ],
             [
              0.8888888888888888,
              "#fdca26"
             ],
             [
              1,
              "#f0f921"
             ]
            ],
            "type": "heatmapgl"
           }
          ],
          "histogram": [
           {
            "marker": {
             "pattern": {
              "fillmode": "overlay",
              "size": 10,
              "solidity": 0.2
             }
            },
            "type": "histogram"
           }
          ],
          "histogram2d": [
           {
            "colorbar": {
             "outlinewidth": 0,
             "ticks": ""
            },
            "colorscale": [
             [
              0,
              "#0d0887"
             ],
             [
              0.1111111111111111,
              "#46039f"
             ],
             [
              0.2222222222222222,
              "#7201a8"
             ],
             [
              0.3333333333333333,
              "#9c179e"
             ],
             [
              0.4444444444444444,
              "#bd3786"
             ],
             [
              0.5555555555555556,
              "#d8576b"
             ],
             [
              0.6666666666666666,
              "#ed7953"
             ],
             [
              0.7777777777777778,
              "#fb9f3a"
             ],
             [
              0.8888888888888888,
              "#fdca26"
             ],
             [
              1,
              "#f0f921"
             ]
            ],
            "type": "histogram2d"
           }
          ],
          "histogram2dcontour": [
           {
            "colorbar": {
             "outlinewidth": 0,
             "ticks": ""
            },
            "colorscale": [
             [
              0,
              "#0d0887"
             ],
             [
              0.1111111111111111,
              "#46039f"
             ],
             [
              0.2222222222222222,
              "#7201a8"
             ],
             [
              0.3333333333333333,
              "#9c179e"
             ],
             [
              0.4444444444444444,
              "#bd3786"
             ],
             [
              0.5555555555555556,
              "#d8576b"
             ],
             [
              0.6666666666666666,
              "#ed7953"
             ],
             [
              0.7777777777777778,
              "#fb9f3a"
             ],
             [
              0.8888888888888888,
              "#fdca26"
             ],
             [
              1,
              "#f0f921"
             ]
            ],
            "type": "histogram2dcontour"
           }
          ],
          "mesh3d": [
           {
            "colorbar": {
             "outlinewidth": 0,
             "ticks": ""
            },
            "type": "mesh3d"
           }
          ],
          "parcoords": [
           {
            "line": {
             "colorbar": {
              "outlinewidth": 0,
              "ticks": ""
             }
            },
            "type": "parcoords"
           }
          ],
          "pie": [
           {
            "automargin": true,
            "type": "pie"
           }
          ],
          "scatter": [
           {
            "fillpattern": {
             "fillmode": "overlay",
             "size": 10,
             "solidity": 0.2
            },
            "type": "scatter"
           }
          ],
          "scatter3d": [
           {
            "line": {
             "colorbar": {
              "outlinewidth": 0,
              "ticks": ""
             }
            },
            "marker": {
             "colorbar": {
              "outlinewidth": 0,
              "ticks": ""
             }
            },
            "type": "scatter3d"
           }
          ],
          "scattercarpet": [
           {
            "marker": {
             "colorbar": {
              "outlinewidth": 0,
              "ticks": ""
             }
            },
            "type": "scattercarpet"
           }
          ],
          "scattergeo": [
           {
            "marker": {
             "colorbar": {
              "outlinewidth": 0,
              "ticks": ""
             }
            },
            "type": "scattergeo"
           }
          ],
          "scattergl": [
           {
            "marker": {
             "colorbar": {
              "outlinewidth": 0,
              "ticks": ""
             }
            },
            "type": "scattergl"
           }
          ],
          "scattermapbox": [
           {
            "marker": {
             "colorbar": {
              "outlinewidth": 0,
              "ticks": ""
             }
            },
            "type": "scattermapbox"
           }
          ],
          "scatterpolar": [
           {
            "marker": {
             "colorbar": {
              "outlinewidth": 0,
              "ticks": ""
             }
            },
            "type": "scatterpolar"
           }
          ],
          "scatterpolargl": [
           {
            "marker": {
             "colorbar": {
              "outlinewidth": 0,
              "ticks": ""
             }
            },
            "type": "scatterpolargl"
           }
          ],
          "scatterternary": [
           {
            "marker": {
             "colorbar": {
              "outlinewidth": 0,
              "ticks": ""
             }
            },
            "type": "scatterternary"
           }
          ],
          "surface": [
           {
            "colorbar": {
             "outlinewidth": 0,
             "ticks": ""
            },
            "colorscale": [
             [
              0,
              "#0d0887"
             ],
             [
              0.1111111111111111,
              "#46039f"
             ],
             [
              0.2222222222222222,
              "#7201a8"
             ],
             [
              0.3333333333333333,
              "#9c179e"
             ],
             [
              0.4444444444444444,
              "#bd3786"
             ],
             [
              0.5555555555555556,
              "#d8576b"
             ],
             [
              0.6666666666666666,
              "#ed7953"
             ],
             [
              0.7777777777777778,
              "#fb9f3a"
             ],
             [
              0.8888888888888888,
              "#fdca26"
             ],
             [
              1,
              "#f0f921"
             ]
            ],
            "type": "surface"
           }
          ],
          "table": [
           {
            "cells": {
             "fill": {
              "color": "#EBF0F8"
             },
             "line": {
              "color": "white"
             }
            },
            "header": {
             "fill": {
              "color": "#C8D4E3"
             },
             "line": {
              "color": "white"
             }
            },
            "type": "table"
           }
          ]
         },
         "layout": {
          "annotationdefaults": {
           "arrowcolor": "#2a3f5f",
           "arrowhead": 0,
           "arrowwidth": 1
          },
          "autotypenumbers": "strict",
          "coloraxis": {
           "colorbar": {
            "outlinewidth": 0,
            "ticks": ""
           }
          },
          "colorscale": {
           "diverging": [
            [
             0,
             "#8e0152"
            ],
            [
             0.1,
             "#c51b7d"
            ],
            [
             0.2,
             "#de77ae"
            ],
            [
             0.3,
             "#f1b6da"
            ],
            [
             0.4,
             "#fde0ef"
            ],
            [
             0.5,
             "#f7f7f7"
            ],
            [
             0.6,
             "#e6f5d0"
            ],
            [
             0.7,
             "#b8e186"
            ],
            [
             0.8,
             "#7fbc41"
            ],
            [
             0.9,
             "#4d9221"
            ],
            [
             1,
             "#276419"
            ]
           ],
           "sequential": [
            [
             0,
             "#0d0887"
            ],
            [
             0.1111111111111111,
             "#46039f"
            ],
            [
             0.2222222222222222,
             "#7201a8"
            ],
            [
             0.3333333333333333,
             "#9c179e"
            ],
            [
             0.4444444444444444,
             "#bd3786"
            ],
            [
             0.5555555555555556,
             "#d8576b"
            ],
            [
             0.6666666666666666,
             "#ed7953"
            ],
            [
             0.7777777777777778,
             "#fb9f3a"
            ],
            [
             0.8888888888888888,
             "#fdca26"
            ],
            [
             1,
             "#f0f921"
            ]
           ],
           "sequentialminus": [
            [
             0,
             "#0d0887"
            ],
            [
             0.1111111111111111,
             "#46039f"
            ],
            [
             0.2222222222222222,
             "#7201a8"
            ],
            [
             0.3333333333333333,
             "#9c179e"
            ],
            [
             0.4444444444444444,
             "#bd3786"
            ],
            [
             0.5555555555555556,
             "#d8576b"
            ],
            [
             0.6666666666666666,
             "#ed7953"
            ],
            [
             0.7777777777777778,
             "#fb9f3a"
            ],
            [
             0.8888888888888888,
             "#fdca26"
            ],
            [
             1,
             "#f0f921"
            ]
           ]
          },
          "colorway": [
           "#636efa",
           "#EF553B",
           "#00cc96",
           "#ab63fa",
           "#FFA15A",
           "#19d3f3",
           "#FF6692",
           "#B6E880",
           "#FF97FF",
           "#FECB52"
          ],
          "font": {
           "color": "#2a3f5f"
          },
          "geo": {
           "bgcolor": "white",
           "lakecolor": "white",
           "landcolor": "#E5ECF6",
           "showlakes": true,
           "showland": true,
           "subunitcolor": "white"
          },
          "hoverlabel": {
           "align": "left"
          },
          "hovermode": "closest",
          "mapbox": {
           "style": "light"
          },
          "paper_bgcolor": "white",
          "plot_bgcolor": "#E5ECF6",
          "polar": {
           "angularaxis": {
            "gridcolor": "white",
            "linecolor": "white",
            "ticks": ""
           },
           "bgcolor": "#E5ECF6",
           "radialaxis": {
            "gridcolor": "white",
            "linecolor": "white",
            "ticks": ""
           }
          },
          "scene": {
           "xaxis": {
            "backgroundcolor": "#E5ECF6",
            "gridcolor": "white",
            "gridwidth": 2,
            "linecolor": "white",
            "showbackground": true,
            "ticks": "",
            "zerolinecolor": "white"
           },
           "yaxis": {
            "backgroundcolor": "#E5ECF6",
            "gridcolor": "white",
            "gridwidth": 2,
            "linecolor": "white",
            "showbackground": true,
            "ticks": "",
            "zerolinecolor": "white"
           },
           "zaxis": {
            "backgroundcolor": "#E5ECF6",
            "gridcolor": "white",
            "gridwidth": 2,
            "linecolor": "white",
            "showbackground": true,
            "ticks": "",
            "zerolinecolor": "white"
           }
          },
          "shapedefaults": {
           "line": {
            "color": "#2a3f5f"
           }
          },
          "ternary": {
           "aaxis": {
            "gridcolor": "white",
            "linecolor": "white",
            "ticks": ""
           },
           "baxis": {
            "gridcolor": "white",
            "linecolor": "white",
            "ticks": ""
           },
           "bgcolor": "#E5ECF6",
           "caxis": {
            "gridcolor": "white",
            "linecolor": "white",
            "ticks": ""
           }
          },
          "title": {
           "x": 0.05
          },
          "xaxis": {
           "automargin": true,
           "gridcolor": "white",
           "linecolor": "white",
           "ticks": "",
           "title": {
            "standoff": 15
           },
           "zerolinecolor": "white",
           "zerolinewidth": 2
          },
          "yaxis": {
           "automargin": true,
           "gridcolor": "white",
           "linecolor": "white",
           "ticks": "",
           "title": {
            "standoff": 15
           },
           "zerolinecolor": "white",
           "zerolinewidth": 2
          }
         }
        },
        "title": {
         "text": "Receiver Operating Characteristic (ROC) Curve"
        },
        "width": 700,
        "xaxis": {
         "title": {
          "text": "False Positive Rate"
         }
        },
        "yaxis": {
         "title": {
          "text": "True Positive Rate"
         }
        }
       }
      }
     },
     "metadata": {},
     "output_type": "display_data"
    }
   ],
   "source": [
    "fpr, tpr, _ = roc_curve(y_test, y_probs)\n",
    "roc_auc = auc(fpr, tpr)\n",
    "\n",
    "fig = go.Figure()\n",
    "\n",
    "fig.add_trace(go.Scatter(x=fpr, y=tpr, mode='lines', name=f'ROC Curve (AUC={roc_auc:.2f})'))\n",
    "fig.add_trace(go.Scatter(x=[0, 1], y=[0, 1], mode='lines', name='Random', line={'dash': 'dash'}))\n",
    "\n",
    "fig.update_layout(\n",
    "    title='Receiver Operating Characteristic (ROC) Curve',\n",
    "    xaxis=dict(title='False Positive Rate'),\n",
    "    yaxis=dict(title='True Positive Rate'),\n",
    "    showlegend=True\n",
    ")\n",
    "\n",
    "fig.update_layout(height=500, width=700)\n",
    "\n",
    "fig.show()"
   ]
  },
  {
   "cell_type": "markdown",
   "metadata": {},
   "source": [
    "AUC = 0.92"
   ]
  },
  {
   "cell_type": "code",
   "execution_count": null,
   "metadata": {},
   "outputs": [],
   "source": [
    "iterations = int(692.6)\n",
    "depth = int(4.604)\n",
    "learning_rate = 0.1865\n",
    "l2_leaf_reg = 2.65\n",
    "min_data_in_leaf = 19.76\n",
    "clf = catboost.CatBoostClassifier(cat_features=cat_features, \n",
    "                                  text_features=text_features,\n",
    "                                  iterations=iterations,\n",
    "                                  depth=depth,\n",
    "                                  learning_rate=learning_rate,\n",
    "                                  l2_leaf_reg=l2_leaf_reg,\n",
    "                                  min_data_in_leaf=min_data_in_leaf,\n",
    "                                  class_weights=class_weights,\n",
    "                                  verbose=100)\n",
    "train_pool = catboost.Pool(data=X_public_encoded.drop(\"price_cat\", axis=1), label=X_public_encoded[\"price_cat\"], cat_features=cat_features, text_features=text_features)\n",
    "clf.fit(train_pool)"
   ]
  },
  {
   "cell_type": "code",
   "execution_count": 7,
   "metadata": {},
   "outputs": [],
   "source": [
    "y_pred = clf.predict(X_privat_encoded)\n",
    "X_privat_encoded[\"price_cat\"] = y_pred"
   ]
  },
  {
   "cell_type": "code",
   "execution_count": 8,
   "metadata": {},
   "outputs": [],
   "source": [
    "X_public_encoded[\"price_usd\"] = X_public_prepared[\"price_usd\"]"
   ]
  },
  {
   "cell_type": "code",
   "execution_count": 9,
   "metadata": {},
   "outputs": [],
   "source": [
    "X_public_encoded_null = X_public_encoded[X_public_encoded[\"price_cat\"] == 0]\n",
    "X_public_encoded_one = X_public_encoded[X_public_encoded[\"price_cat\"] == 1]\n",
    "X_privat_encoded_null = X_privat_encoded[X_privat_encoded[\"price_cat\"] == 0]\n",
    "X_privat_encoded_one = X_privat_encoded[X_privat_encoded[\"price_cat\"] == 1]\n",
    "\n",
    "X_public_encoded_null = X_public_encoded_null.drop(\"price_cat\", axis=1)\n",
    "X_public_encoded_one = X_public_encoded_one.drop(\"price_cat\", axis=1)\n",
    "X_privat_encoded_null = X_privat_encoded_null.drop(\"price_cat\", axis=1)\n",
    "X_privat_encoded_one = X_privat_encoded_one.drop(\"price_cat\", axis=1)\n",
    "\n",
    "y_public_null = np.log(X_public_encoded_null[\"price_usd\"])\n",
    "y_public_one = np.log(X_public_encoded_one[\"price_usd\"])"
   ]
  },
  {
   "cell_type": "code",
   "execution_count": null,
   "metadata": {},
   "outputs": [],
   "source": [
    "def cat_eval(iterations, depth, learning_rate, l2_leaf_reg, min_data_in_leaf, cat_features, text_features):\n",
    "    params = {\n",
    "        'iterations': int(iterations),\n",
    "        'depth': int(depth),\n",
    "        'learning_rate': learning_rate,\n",
    "        'l2_leaf_reg': l2_leaf_reg,\n",
    "        'min_data_in_leaf': int(min_data_in_leaf),\n",
    "        'loss_function': 'RMSE',\n",
    "        'eval_metric': 'MAE',\n",
    "        'cat_features': cat_features,\n",
    "        'text_features': text_features,\n",
    "        'verbose': False\n",
    "    }\n",
    "    \n",
    "    cv_scores = cross_val_score(catboost.CatBoostRegressor(**params), X_public_encoded_null.drop(\"price_usd\", axis=1), y_public_null, cv=4, scoring='neg_mean_squared_error')\n",
    "    return cv_scores.mean()\n",
    "\n",
    "pbounds = {\n",
    "    'iterations': (100, 2000),\n",
    "    'depth': (4, 10),\n",
    "    'learning_rate': (0.001, 0.1),\n",
    "    'l2_leaf_reg': (1, 10),\n",
    "    'min_data_in_leaf': (1, 40),\n",
    "    \"cat_features\": cat_features,\n",
    "    \"text_features\": text_features\n",
    "}\n",
    "\n",
    "cat_opt = BayesianOptimization(\n",
    "    f=cat_eval,\n",
    "    pbounds=pbounds\n",
    ")\n",
    "\n",
    "cat_opt.maximize(n_iter=4, init_points=3)"
   ]
  },
  {
   "cell_type": "code",
   "execution_count": null,
   "metadata": {},
   "outputs": [],
   "source": [
    "def cat_eval(iterations, depth, learning_rate, l2_leaf_reg, min_data_in_leaf, cat_features, text_features):\n",
    "    params = {\n",
    "        'iterations': int(iterations),\n",
    "        'depth': int(depth),\n",
    "        'learning_rate': learning_rate,\n",
    "        'l2_leaf_reg': l2_leaf_reg,\n",
    "        'min_data_in_leaf': int(min_data_in_leaf),\n",
    "        'loss_function': 'RMSE',\n",
    "        'eval_metric': 'MAE',\n",
    "        'cat_features': cat_features,\n",
    "        'text_features': text_features,\n",
    "        'verbose': False\n",
    "    }\n",
    "    \n",
    "    cv_scores = cross_val_score(catboost.CatBoostRegressor(**params), X_public_encoded_one.drop(\"price_usd\", axis=1), y_public_one, cv=2, scoring='neg_mean_squared_error')\n",
    "    return cv_scores.mean()\n",
    "\n",
    "pbounds = {\n",
    "    'iterations': (100, 2000),\n",
    "    'depth': (4, 10),\n",
    "    'learning_rate': (0.001, 0.1),\n",
    "    'l2_leaf_reg': (1, 10),\n",
    "    'min_data_in_leaf': (1, 40),\n",
    "    \"cat_features\": cat_features,\n",
    "    \"text_features\": text_features\n",
    "}\n",
    "\n",
    "cat_opt = BayesianOptimization(\n",
    "    f=cat_eval,\n",
    "    pbounds=pbounds\n",
    ")\n",
    "\n",
    "cat_opt.maximize(n_iter=4, init_points=3) "
   ]
  },
  {
   "cell_type": "code",
   "execution_count": null,
   "metadata": {},
   "outputs": [],
   "source": [
    "depth = 6.806\n",
    "iter = 321.4\n",
    "l2 = 6.973\n",
    "lr = 0.08957\n",
    "md = 31.98 \n",
    "cgb_null = catboost.CatBoostRegressor(\n",
    "    cat_features=cat_features, \n",
    "    text_features=text_features,\n",
    "    depth=round(depth),\n",
    "    iterations=round(iter),\n",
    "    l2_leaf_reg=l2,\n",
    "    learning_rate=lr,\n",
    "    min_data_in_leaf=md,\n",
    "    random_state=20,\n",
    "    verbose=100\n",
    ")\n",
    "train_pool = catboost.Pool(data=X_public_encoded_null.drop(\"price_usd\", axis=1), label=y_public_null, cat_features=cat_features, text_features=text_features)\n",
    "cgb_null.fit(train_pool)\n",
    "\n",
    "depth = 6.599 \n",
    "iter = 310.5\n",
    "l2 = 4.699\n",
    "lr = 0.04998\n",
    "md = 18.5\n",
    "cgb_one = catboost.CatBoostRegressor(\n",
    "    cat_features=cat_features, \n",
    "    text_features=text_features,\n",
    "    depth=round(depth),\n",
    "    iterations=round(iter),\n",
    "    l2_leaf_reg=l2,\n",
    "    learning_rate=lr,\n",
    "    min_data_in_leaf=md,\n",
    "    random_state=20,\n",
    "    verbose=100\n",
    ")\n",
    "train_pool = catboost.Pool(data=X_public_encoded_one.drop(\"price_usd\", axis=1), label=y_public_one, cat_features=cat_features, text_features=text_features)\n",
    "cgb_one.fit(train_pool)"
   ]
  },
  {
   "cell_type": "code",
   "execution_count": 16,
   "metadata": {},
   "outputs": [],
   "source": [
    "y_pred_null = np.exp(cgb_null.predict(X_privat_encoded_null))\n",
    "y_pred_one = np.exp(cgb_one.predict(X_privat_encoded_one))"
   ]
  },
  {
   "cell_type": "code",
   "execution_count": 17,
   "metadata": {},
   "outputs": [
    {
     "data": {
      "text/plain": [
       "2410    826134279509\n",
       "3333     48656919301\n",
       "3472    187540898068\n",
       "3517    176879173440\n",
       "5319    891949567697\n",
       "Name: id, dtype: object"
      ]
     },
     "execution_count": 17,
     "metadata": {},
     "output_type": "execute_result"
    }
   ],
   "source": [
    "id_privat = X_privat_prepared[\"id\"]\n",
    "X_privat_encoded[\"id\"] = id_privat\n",
    "X_privat_encoded.head()\n",
    "\n",
    "id_privat_null = X_privat_encoded[X_privat_encoded[\"price_cat\"] == 0][\"id\"]\n",
    "id_privat_one = X_privat_encoded[X_privat_encoded[\"price_cat\"] == 1][\"id\"]\n",
    "id_privat_one.head()"
   ]
  },
  {
   "cell_type": "code",
   "execution_count": 18,
   "metadata": {},
   "outputs": [],
   "source": [
    "df_privat_preds_one = pd.DataFrame({\n",
    "    \"id\": id_privat_one,\n",
    "    \"price\": y_pred_one\n",
    "})\n",
    "df_privat_preds_null = pd.DataFrame({\n",
    "    \"id\": id_privat_null,\n",
    "    \"price\": y_pred_null\n",
    "})\n",
    "df_sub = pd.DataFrame({\n",
    "    \"id\": X_privat_encoded[\"id\"]\n",
    "})"
   ]
  },
  {
   "cell_type": "code",
   "execution_count": 20,
   "metadata": {},
   "outputs": [],
   "source": [
    "merged_df = pd.merge(df_privat_preds_one, df_privat_preds_null, on='id', how='outer')\n",
    "final_df = pd.merge(merged_df, df_sub, on='id', how='outer')\n",
    "final_df['price_x'].fillna(final_df['price_y'], inplace=True)"
   ]
  },
  {
   "cell_type": "code",
   "execution_count": 24,
   "metadata": {},
   "outputs": [],
   "source": [
    "final_df = final_df.drop(\"price_y\", axis=1)\n",
    "result_df_df = pd.merge(df_sub, final_df, on='id')\n",
    "result_df_df = result_df_df.sort_values(by='id')\n",
    "result_df_df = result_df_df.sort_index()"
   ]
  },
  {
   "cell_type": "code",
   "execution_count": 26,
   "metadata": {},
   "outputs": [
    {
     "name": "stdout",
     "output_type": "stream",
     "text": [
      "(91199, 2)\n"
     ]
    },
    {
     "data": {
      "text/html": [
       "<div>\n",
       "<style scoped>\n",
       "    .dataframe tbody tr th:only-of-type {\n",
       "        vertical-align: middle;\n",
       "    }\n",
       "\n",
       "    .dataframe tbody tr th {\n",
       "        vertical-align: top;\n",
       "    }\n",
       "\n",
       "    .dataframe thead th {\n",
       "        text-align: right;\n",
       "    }\n",
       "</style>\n",
       "<table border=\"1\" class=\"dataframe\">\n",
       "  <thead>\n",
       "    <tr style=\"text-align: right;\">\n",
       "      <th></th>\n",
       "      <th>id</th>\n",
       "      <th>price</th>\n",
       "    </tr>\n",
       "  </thead>\n",
       "  <tbody>\n",
       "    <tr>\n",
       "      <th>0</th>\n",
       "      <td>390928174037</td>\n",
       "      <td>124.693935</td>\n",
       "    </tr>\n",
       "    <tr>\n",
       "      <th>1</th>\n",
       "      <td>588144551007</td>\n",
       "      <td>68.548676</td>\n",
       "    </tr>\n",
       "    <tr>\n",
       "      <th>2</th>\n",
       "      <td>922917834874</td>\n",
       "      <td>85.732756</td>\n",
       "    </tr>\n",
       "    <tr>\n",
       "      <th>3</th>\n",
       "      <td>126940038965</td>\n",
       "      <td>78.419018</td>\n",
       "    </tr>\n",
       "    <tr>\n",
       "      <th>4</th>\n",
       "      <td>440821704407</td>\n",
       "      <td>66.411448</td>\n",
       "    </tr>\n",
       "  </tbody>\n",
       "</table>\n",
       "</div>"
      ],
      "text/plain": [
       "             id       price\n",
       "0  390928174037  124.693935\n",
       "1  588144551007   68.548676\n",
       "2  922917834874   85.732756\n",
       "3  126940038965   78.419018\n",
       "4  440821704407   66.411448"
      ]
     },
     "execution_count": 26,
     "metadata": {},
     "output_type": "execute_result"
    }
   ],
   "source": [
    "result_df_df = result_df_df.rename(columns={\"price_x\": \"price\"})\n",
    "result_df_df.head()"
   ]
  },
  {
   "cell_type": "code",
   "execution_count": 27,
   "metadata": {},
   "outputs": [],
   "source": [
    "result_df_df.to_csv(\"sub.csv\", index=False)"
   ]
  }
 ],
 "metadata": {
  "celltoolbar": "Slideshow",
  "kernelspec": {
   "display_name": "Python 3 (ipykernel)",
   "language": "python",
   "name": "python3"
  },
  "language_info": {
   "codemirror_mode": {
    "name": "ipython",
    "version": 3
   },
   "file_extension": ".py",
   "mimetype": "text/x-python",
   "name": "python",
   "nbconvert_exporter": "python",
   "pygments_lexer": "ipython3",
   "version": "3.10.12"
  }
 },
 "nbformat": 4,
 "nbformat_minor": 2
}
